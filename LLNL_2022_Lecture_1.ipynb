{
 "cells": [
  {
   "cell_type": "code",
   "execution_count": 1,
   "id": "bb7cb1c6",
   "metadata": {
    "hide_input": true,
    "slideshow": {
     "slide_type": "skip"
    }
   },
   "outputs": [],
   "source": [
    "#hidden cell to be executed BEFORE the presentation\n",
    "import warnings\n",
    "warnings.filterwarnings('ignore')\n",
    "import sys\n",
    "path = './dftpy/src' # If DFTpy is not in PYTHONPATH, change it to the path of where dftpy/src is located.\n",
    "if path not in sys.path:\n",
    "    sys.path.insert(0, path)\n",
    "from dftpy.ions import Ions\n",
    "from dftpy.field import DirectField\n",
    "from dftpy.grid import DirectGrid\n",
    "from dftpy.functional import LocalPseudo, Functional, TotalFunctional\n",
    "from dftpy.formats import io\n",
    "from dftpy.math_utils import ecut2nr\n",
    "from dftpy.time_data import TimeData\n",
    "from dftpy.optimization import Optimization\n",
    "from dftpy.mpi import sprint\n",
    "from IPython.lib.display import YouTubeVideo\n",
    "file1='Al_lda.oe01.recpot'\n",
    "PP_list = {'Al': './dftpy/examples/DATA/'+file1}"
   ]
  },
  {
   "cell_type": "code",
   "execution_count": 2,
   "id": "919b52a8",
   "metadata": {
    "hide_input": true,
    "slideshow": {
     "slide_type": "skip"
    }
   },
   "outputs": [
    {
     "name": "stdout",
     "output_type": "stream",
     "text": [
      "Done with preambles\n"
     ]
    }
   ],
   "source": [
    "#hidden cell to be executed BEFORE the presentation\n",
    "from ase_notebook import AseView, ViewConfig\n",
    "config = ViewConfig()\n",
    "ase_view = AseView(config)\n",
    "ase_view = AseView(\n",
    "    rotations=\"45x,45y,45z\",\n",
    "    atom_font_size=16,\n",
    "    axes_length=30,\n",
    "    canvas_size=(700, 300),\n",
    "    zoom=1.2,\n",
    "    show_bonds=True\n",
    ")\n",
    "ase_view.config.uc_dash_pattern=(.6,.4)\n",
    "#ase_view.add_miller_plane(\n",
    "#    1, 0, 0, color=\"green\")\n",
    "ase_view.config\n",
    "ase_view.config.canvas_color_background = \"blue\"\n",
    "ase_view.config.canvas_background_opacity = 0.2\n",
    "\n",
    "def view (ions):\n",
    "    gui = ase_view.make_render(\n",
    "    ions, center_in_uc=True)\n",
    "    return gui\n",
    "from ase.build import bulk\n",
    "atoms = bulk('Al', 'fcc', a=4.05, cubic=True)\n",
    "ions = Ions.from_ase(atoms)\n",
    "gui=view(ions)\n",
    "gui\n",
    "print('Done with preambles')"
   ]
  },
  {
   "cell_type": "markdown",
   "id": "7d9a999c",
   "metadata": {
    "slideshow": {
     "slide_type": "slide"
    }
   },
   "source": [
    "<center>\n",
    "    <h1>DFT and DFT embedding</h1>\n",
    "    <h3> Ways to approach the mesoscopic world with ab-initio methods (without cutting corners)</h3>\n",
    "<center>\n",
    "<br>\n",
    "<table>\n",
    "  <tr>\n",
    "      <td><p><h1>Michele Pavanello</h1></p><p><h2>Rutgers University-Newark</h2></p></td>\n",
    "      <td><img src=\"figures/logos/run.png\" width=200 height=200 /></td>\n",
    "  </tr>\n",
    "  <tr>\n",
    "    <td></td>\n",
    "    <td> http://prg.rutgers.edu</td>\n",
    "  </tr>\n",
    "</table>\n",
    "\n",
    "#### LLNL Computational Chemistry & Materials Science Summer Institute -- July 25, 2022\n"
   ]
  },
  {
   "cell_type": "markdown",
   "id": "c3bc2196",
   "metadata": {
    "slideshow": {
     "slide_type": "slide"
    }
   },
   "source": [
    "# Acknowledgements\n",
    "\n",
    "<table>\n",
    "  <tr>\n",
    "      <td><p><h3>Students</h3></p><p>Dr Xuecheng Shao</p><p>Dr Kaili Jiang</p><p>Dr Musa Khan</p><p>Jessica Martinez</p><p>Andres Cifuentes</p><p>Valeria Rios (incoming)</p><p>Jared Balski</p><p>2 HS students</p></td>\n",
    "      <td><img src=\"figures/prg_pics/prg_2021.png\" width=800 /></td>\n",
    "  </tr>\n",
    "</table>\n",
    "\n",
    "Funding: NSF, DOE, MolSSI, ACS-PRF, Rutgers"
   ]
  },
  {
   "cell_type": "markdown",
   "id": "52e3a2f0",
   "metadata": {
    "slideshow": {
     "slide_type": "slide"
    }
   },
   "source": [
    "# The Real World\n",
    "<table>\n",
    "    <tr>\n",
    "      <td><h3>Photocatalyst</h3></td>\n",
    "        <td><h3>Catalytic nanoparticles</h3></td>\n",
    "  </tr>\n",
    "  <tr>\n",
    "      <td><img src=\"figures/science/photocatalyst.png\" height=500 /></td>\n",
    "      <td><img src=\"figures/science/catalyst.png\" height=500 /></td>\n",
    "  </tr>\n",
    "    <tr>\n",
    "        <td>Chem. Comm., 43, 6551 (2009)</td>\n",
    "        <td>PCCP, 21, 15080 (2019)</td>\n",
    "    </tr>\n",
    "</table>   "
   ]
  },
  {
   "cell_type": "markdown",
   "id": "408a1497",
   "metadata": {
    "slideshow": {
     "slide_type": "slide"
    }
   },
   "source": [
    "# Available electronic structure methods\n",
    "<br>\n",
    "<center>\n",
    "    <img src=\"figures/science/electronic_structure.png\" width=1600 />\n",
    "</center>"
   ]
  },
  {
   "cell_type": "markdown",
   "id": "0b46c4be",
   "metadata": {
    "slideshow": {
     "slide_type": "slide"
    }
   },
   "source": [
    "# Poll time\n",
    "\n",
    "Let's check your DFT knowledge. \n",
    "\n",
    "- What is Kohn-Sham DFT's energy density functional?\n",
    "- Please write your answer somewhere. \n",
    "- Be ready to discuss it with others or with the class."
   ]
  },
  {
   "cell_type": "markdown",
   "id": "a8739aad",
   "metadata": {
    "slideshow": {
     "slide_type": "slide"
    }
   },
   "source": [
    "# An option: Orbital-free DFT (OF-DFT)\n",
    "<br>\n",
    "\n",
    "<center>\n",
    "<ul>\n",
    "    <li><p>The variational function is the electron density <u>only</u></p> \n",
    "        <p>$$n(\\mathbf{r})=N \\Psi(\\mathbf{r})$$</p></li>\n",
    "    <li><p>The energy functional is a pure functional of $n(\\mathbf{r})$</p>\n",
    "        <p>$$E[n]=T_s[n]+\\int n(\\mathbf{r}) v_{ext}(\\mathbf{r}) d \\mathbf{r} + E_{Hxc}[n]$$</p></li>\n",
    "    <li><p>Ground state is found by direct minimization</p>\n",
    "        <p>$$n_0(\\mathbf{r})=\\text{argmin}_n\\left[ E[n]-\\mu \\left(\\int n(\\mathbf{r})d\\mathbf{r}-N\\right)\\right]$$</p></li>\n",
    "</ul>\n",
    "</center>\n",
    "<table>\n",
    "    <tr>\n",
    "        <td><div class=\"alert alert-block alert-success\"><center><b>Opportunity:</b> No need to diagonalize any matrix!</center></div></td>\n",
    "        <td><div class=\"alert alert-block alert-danger\"><center><b>Problem:</b> $T_s[n]$ exists, but it is not known...</center></div></td>\n",
    "    </tr>\n",
    "</table>\n",
    "\n",
    "\n"
   ]
  },
  {
   "cell_type": "markdown",
   "id": "74a24adf",
   "metadata": {
    "slideshow": {
     "slide_type": "slide"
    }
   },
   "source": [
    "# How hard is it to run OF-DFT simulations?"
   ]
  },
  {
   "cell_type": "markdown",
   "id": "e2fe9d3b",
   "metadata": {
    "slideshow": {
     "slide_type": "fragment"
    }
   },
   "source": [
    "### First generate a model system: bulk Al (cubic cell)"
   ]
  },
  {
   "cell_type": "code",
   "execution_count": 3,
   "id": "c96b8edc",
   "metadata": {
    "scrolled": true,
    "slideshow": {
     "slide_type": "fragment"
    }
   },
   "outputs": [
    {
     "data": {
      "application/vnd.jupyter.widget-view+json": {
       "model_id": "57a52809335e4f00ade5bc048c005db3",
       "version_major": 2,
       "version_minor": 0
      },
      "text/plain": [
       "GridspecLayout(children=(Renderer(camera=PerspectiveCamera(aspect=2.3333333333333335, fov=10.0, position=(0.0,…"
      ]
     },
     "metadata": {},
     "output_type": "display_data"
    }
   ],
   "source": [
    "from ase.build import bulk\n",
    "atoms = bulk('Al', 'fcc', a=4.05, cubic=True)\n",
    "ions = Ions.from_ase(atoms)\n",
    "view(ions)"
   ]
  },
  {
   "cell_type": "markdown",
   "id": "5e41b563",
   "metadata": {
    "slideshow": {
     "slide_type": "subslide"
    }
   },
   "source": [
    "### Then run a OF-DFT simulation with `DFTpy`"
   ]
  },
  {
   "cell_type": "code",
   "execution_count": 4,
   "id": "c5558268",
   "metadata": {
    "slideshow": {
     "slide_type": "fragment"
    }
   },
   "outputs": [
    {
     "name": "stdout",
     "output_type": "stream",
     "text": [
      "setting key: Al -> ./dftpy/examples/DATA/Al_lda.oe01.recpot\n"
     ]
    }
   ],
   "source": [
    "nr = ecut2nr(ecut=35, lattice=ions.cell)\n",
    "grid = DirectGrid(lattice=ions.cell, nr=nr)\n",
    "PSEUDO = LocalPseudo(grid = grid, ions=ions, PP_list=PP_list)\n",
    "rho_ini = DirectField(grid=grid)\n",
    "rho_ini[:] = ions.get_ncharges()/ions.cell.volume\n",
    "HARTREE = Functional(type='HARTREE')\n",
    "XC = Functional(type='XC',name='LDA')"
   ]
  },
  {
   "cell_type": "markdown",
   "id": "6a6baab3",
   "metadata": {
    "slideshow": {
     "slide_type": "fragment"
    }
   },
   "source": [
    "- $T_s[n]$ also called KEDF. In this example we use Thomas Fermi + von Weizsacker:\n",
    "$$T_s[n] = \\int C_{TF} n^{5/3}(\\mathbf{r}) + \\frac{\\nabla n^{1/2}(\\mathbf{r})\\cdot \\nabla n^{1/2}(\\mathbf{r})}{2} d\\mathbf{r}$$"
   ]
  },
  {
   "cell_type": "code",
   "execution_count": 5,
   "id": "7ddf262a",
   "metadata": {
    "slideshow": {
     "slide_type": "fragment"
    }
   },
   "outputs": [],
   "source": [
    "KE = Functional(type='KEDF',name='x_TF_y_vW') "
   ]
  },
  {
   "cell_type": "markdown",
   "id": "415500a6",
   "metadata": {
    "slideshow": {
     "slide_type": "slide"
    }
   },
   "source": [
    "### Define \"total energy\" and minimize $E[n]$"
   ]
  },
  {
   "cell_type": "code",
   "execution_count": 6,
   "id": "f144c0f8",
   "metadata": {
    "slideshow": {
     "slide_type": "fragment"
    }
   },
   "outputs": [
    {
     "name": "stdout",
     "output_type": "stream",
     "text": [
      "Step    Energy(a.u.)            dE              dP              Nd      Nls     Time(s)         \n",
      "0       2.692153511701E+00      2.692154E+00    7.877088E-01    1       1       4.027605E-03    \n",
      "1       2.509905170128E+00      -1.822483E-01   7.033209E-02    2       1       9.629726E-03    \n",
      "2       2.502273081619E+00      -7.632089E-03   4.803550E-03    7       1       1.962924E-02    \n",
      "3       2.502030159462E+00      -2.429222E-04   3.640551E-04    5       1       2.735496E-02    \n",
      "4       2.501995243587E+00      -3.491588E-05   3.590733E-05    6       1       3.616929E-02    \n",
      "#### Density Optimization Converged ####\n",
      "Chemical potential (a.u.): 0.30114593945068535\n",
      "Chemical potential (eV)  : 8.194597626151099\n",
      "Step    Energy(a.u.)            dE              dP              Nd      Nls     Time(s)         \n",
      "0       2.692153511701E+00      2.692154E+00    7.877088E-01    1       1       1.482248E-03    \n",
      "1       2.509905170128E+00      -1.822483E-01   7.033209E-02    2       1       5.736589E-03    \n",
      "2       2.502273081619E+00      -7.632089E-03   4.803550E-03    7       1       1.471663E-02    \n",
      "3       2.502030159462E+00      -2.429222E-04   3.640551E-04    5       1       2.168941E-02    \n",
      "4       2.501995243587E+00      -3.491588E-05   3.590733E-05    6       1       2.964830E-02    \n",
      "#### Density Optimization Converged ####\n",
      "Chemical potential (a.u.): 0.30114593945068535\n",
      "Chemical potential (eV)  : 8.194597626151099\n",
      "34.5 ms ± 3.53 ms per loop (mean ± std. dev. of 2 runs, 1 loop each)\n"
     ]
    }
   ],
   "source": [
    "evaluator = TotalFunctional(KE=KE, XC=XC, HARTREE=HARTREE, PSEUDO=PSEUDO)\n",
    "optimization_options = {'econv' : 1e-3*ions.nat}\n",
    "opt = Optimization(EnergyEvaluator=evaluator, optimization_options = optimization_options,\n",
    "        optimization_method = 'TN')\n",
    "%timeit -n1 -r2 rho = opt.optimize_rho(guess_rho=rho_ini)"
   ]
  },
  {
   "cell_type": "markdown",
   "id": "63b3b5dc",
   "metadata": {
    "slideshow": {
     "slide_type": "fragment"
    }
   },
   "source": [
    "...let's try to re-run it with a different $T_s[n]$."
   ]
  },
  {
   "cell_type": "markdown",
   "id": "758f54fc",
   "metadata": {
    "slideshow": {
     "slide_type": "slide"
    }
   },
   "source": [
    "### Re-run of OF-DFT with nonlocal $T_s[n]$"
   ]
  },
  {
   "cell_type": "code",
   "execution_count": 7,
   "id": "77621e64",
   "metadata": {
    "slideshow": {
     "slide_type": "fragment"
    }
   },
   "outputs": [
    {
     "name": "stdout",
     "output_type": "stream",
     "text": [
      "Step    Energy(a.u.)            dE              dP              Nd      Nls     Time(s)         \n",
      "0       2.692153511701E+00      2.692154E+00    7.877088E-01    1       1       2.970146E+00    \n",
      "1       2.463032297815E+00      -2.291212E-01   1.146670E-01    2       2       2.995292E+00    \n",
      "2       2.442251262505E+00      -2.078104E-02   1.111830E-02    8       1       3.127903E+00    \n",
      "3       2.440940642139E+00      -1.310620E-03   7.871782E-04    8       1       3.263182E+00    \n",
      "4       2.440753707588E+00      -1.869346E-04   4.651637E-05    10      1       3.428499E+00    \n",
      "#### Density Optimization Converged ####\n",
      "Chemical potential (a.u.): 0.29296043119271786\n",
      "Chemical potential (eV)  : 7.971858622391213\n",
      "Step    Energy(a.u.)            dE              dP              Nd      Nls     Time(s)         \n",
      "0       2.692153511701E+00      2.692154E+00    7.877088E-01    1       1       2.356768E-03    \n",
      "1       2.463029269220E+00      -2.291242E-01   1.151135E-01    2       2       3.774285E-02    \n",
      "2       2.442256730880E+00      -2.077254E-02   1.117506E-02    8       1       1.698632E-01    \n",
      "3       2.440940551001E+00      -1.316180E-03   7.947461E-04    8       1       3.029985E-01    \n",
      "4       2.440753902405E+00      -1.866486E-04   4.686380E-05    10      1       4.652929E-01    \n",
      "#### Density Optimization Converged ####\n",
      "Chemical potential (a.u.): 0.29296053088555496\n",
      "Chemical potential (eV)  : 7.971861335171229\n",
      "The slowest run took 7.36 times longer than the fastest. This could mean that an intermediate result is being cached.\n",
      "1.95 s ± 1.48 s per loop (mean ± std. dev. of 2 runs, 1 loop each)\n"
     ]
    }
   ],
   "source": [
    "KE = Functional(type='KEDF',name='LMGP')\n",
    "evaluator = TotalFunctional(KE=KE, XC=XC, HARTREE=HARTREE, PSEUDO=PSEUDO)\n",
    "optimization_options = {'econv' : 1e-3*ions.nat}\n",
    "opt = Optimization(EnergyEvaluator=evaluator, optimization_options = optimization_options,\n",
    "        optimization_method = 'TN')\n",
    "%timeit -n1 -r2 rho = opt.optimize_rho(guess_rho=rho_ini)"
   ]
  },
  {
   "cell_type": "markdown",
   "id": "519153dd",
   "metadata": {
    "slideshow": {
     "slide_type": "fragment"
    }
   },
   "source": [
    "<center><div class=\"alert alert-block alert-danger\">\n",
    "    Nonlocal $T_s[n]$ are one order of magnitude slower than semilocal functionals\n",
    "</div> \n",
    "    </center>"
   ]
  },
  {
   "cell_type": "markdown",
   "id": "f323cdc7",
   "metadata": {
    "slideshow": {
     "slide_type": "slide"
    }
   },
   "source": [
    "# How does OF-DFT compare with KS-DFT?\n",
    "\n",
    "<h4 style=\"text-align: center;\">We will run a Quantum ESPRESSO calculation of the same system using QEpy</h4>"
   ]
  },
  {
   "cell_type": "code",
   "execution_count": 8,
   "id": "e9b4a061",
   "metadata": {
    "slideshow": {
     "slide_type": "fragment"
    }
   },
   "outputs": [],
   "source": [
    "from qepy.driver import Driver"
   ]
  },
  {
   "cell_type": "code",
   "execution_count": 9,
   "id": "17a58986",
   "metadata": {
    "slideshow": {
     "slide_type": "fragment"
    }
   },
   "outputs": [
    {
     "name": "stdout",
     "output_type": "stream",
     "text": [
      "54.7 s ± 0 ns per loop (mean ± std. dev. of 1 run, 1 loop each)\n"
     ]
    }
   ],
   "source": [
    "driver=Driver('qe_in.in', comm=None, logfile='qepy.out')\n",
    "%timeit -n1 -r1 driver.scf()"
   ]
  },
  {
   "cell_type": "code",
   "execution_count": 10,
   "id": "20e4aee4",
   "metadata": {
    "slideshow": {
     "slide_type": "fragment"
    }
   },
   "outputs": [
    {
     "data": {
      "text/plain": [
       "8.313111632513005e-07"
      ]
     },
     "execution_count": 10,
     "metadata": {},
     "output_type": "execute_result"
    }
   ],
   "source": [
    "driver.get_scf_error()"
   ]
  },
  {
   "cell_type": "code",
   "execution_count": 11,
   "id": "f7497f3d",
   "metadata": {
    "slideshow": {
     "slide_type": "fragment"
    }
   },
   "outputs": [],
   "source": [
    "driver.stop()"
   ]
  },
  {
   "cell_type": "markdown",
   "id": "edc6584e",
   "metadata": {
    "slideshow": {
     "slide_type": "fragment"
    }
   },
   "source": [
    "<center><div class=\"alert alert-block alert-danger\">\n",
    "    sDFT is one$+$ order of magnitude slower than nonlocal OF-DFT!\n",
    "</div></center>"
   ]
  },
  {
   "cell_type": "markdown",
   "id": "9a7d43c0",
   "metadata": {
    "slideshow": {
     "slide_type": "slide"
    }
   },
   "source": [
    "### $T_s[n]$: (semi)local and nonlocal functionals\n",
    "<br>\n",
    "<center>\n",
    "    <img src=\"figures/science/local_nonlocal.png\" width=1600 />\n",
    "<p>Wenhui Mi, MP JCP (2018) • Wenhui Mi, MP PRB (2019) • Xuecheng Shao, WM, MP PRB (2021)\n",
    "Xuecheng Shao, WM, MP JPCL (2021) • Xuecheng Shao, WM, MP JCTC (2021) • Wenhui Mi, MP JPCL (2020)</p>\n",
    "    </center>"
   ]
  },
  {
   "cell_type": "markdown",
   "id": "162bcfff",
   "metadata": {
    "slideshow": {
     "slide_type": "slide"
    }
   },
   "source": [
    "# Poll time\n",
    "- People say OF-DFT is a \"linear-scaling method\". Do you agree?\n",
    "\n",
    "<div class=\"alert alert-block alert-success\">\n",
    "<b>A:</b> Yep! I do!</div>\n",
    "\n",
    "<div class=\"alert alert-block alert-danger\">\n",
    "<b>B:</b> Nah. Not really.</div>\n"
   ]
  },
  {
   "cell_type": "markdown",
   "id": "e2adcd6c",
   "metadata": {
    "slideshow": {
     "slide_type": "slide"
    }
   },
   "source": [
    "# Can OF-DFT approach surfaces?\n",
    "\n",
    "<center>\n",
    "    <p style=\"font-size:100%; text-align:center;\">Shao, Mi & Pavanello, Phys. Rev. B <b>104</b>, 045118 (2021)</p>\n",
    "    <br>\n",
    "    <img src=\"figures/science/ofdft_surfaces.png\" width=1800 />\n",
    "    <div class=\"alert alert-block alert-success\">Excellent results for difficult semiconductors and metals!</div>\n",
    "</center>"
   ]
  },
  {
   "cell_type": "markdown",
   "id": "d992e5c2",
   "metadata": {
    "slideshow": {
     "slide_type": "slide"
    }
   },
   "source": [
    "# What else can OF-DFT do?\n",
    "<br>\n",
    "<center>\n",
    "    <p style=\"font-size:100%; text-align:center;\"> J. Phys. Chem. Lett. <b>12</b>, 4134 (2021) &#x25C6; WIREs: Comp. Mol. Sci. <b>11</b>, e1482 (2021)</p>\n",
    "    <br>\n",
    "    <img src=\"figures/science/ofdft_showoff.png\" width=1600 />\n",
    "    <div class=\"alert alert-block alert-danger\">How about optical spectra and dynamics?</div>\n",
    "</center>"
   ]
  },
  {
   "cell_type": "markdown",
   "id": "39a0928a",
   "metadata": {
    "slideshow": {
     "slide_type": "slide"
    }
   },
   "source": [
    "# OF-DFT is limited...\n",
    "<br>\n",
    "<center>\n",
    "<img src=\"figures/science/periodic_all.png\" width=1100 />\n",
    "</center>"
   ]
  },
  {
   "cell_type": "markdown",
   "id": "7a5435be",
   "metadata": {
    "slideshow": {
     "slide_type": "slide"
    }
   },
   "source": [
    "# OF-DFT is limited...\n",
    "<br>\n",
    "<center>\n",
    "<img src=\"figures/science/periodic_ofdft.png\" width=1100 />\n",
    "</center>"
   ]
  },
  {
   "cell_type": "markdown",
   "id": "536e70ea",
   "metadata": {
    "slideshow": {
     "slide_type": "slide"
    }
   },
   "source": [
    "# Poll time\n",
    "- How would you fix this problem?\n",
    "\n",
    "<div class=\"alert alert-block alert-warning\">\n",
    "<b>A:</b> Use KS-DFT for atoms only, or smaller fragments of the system</div>\n",
    "\n",
    "<div class=\"alert alert-block alert-warning\">\n",
    "<b>B:</b> Throw OF-DFT away!</div>\n",
    "\n",
    "<div class=\"alert alert-block alert-warning\">\n",
    "<b>C:</b> Introduce nonlocal pseudopotentials in OF-DFT</div>\n"
   ]
  },
  {
   "cell_type": "markdown",
   "id": "b9b41a81",
   "metadata": {
    "slideshow": {
     "slide_type": "slide"
    }
   },
   "source": [
    "# Subsystem DFT (sDFT) - Theory\n",
    "\n",
    "<div class=\"alert alert-block alert-warning\">\n",
    "    <p><b>Idea:</b></p>\n",
    "    <ul>\n",
    "        <li>Split system into (smaller) subsystems: $n(\\mathbf{r})=\\sum_I n_I(\\mathbf{r})$</li>\n",
    "        <li>Use KS-DFT <b>or</b> OF-DFT for the subsystems</li>\n",
    "        <li><p>Energy is split in <i>additive</i> and <i>non-additive</i> terms:</p><p>$$E[n]\\equiv E[\\{n_I\\}]=\\sum_I E[n_I] + E^{nadd}[\\{n_I\\}]$$</p></li>\n",
    "        <li><p>The nonadditive energy given by:</p><p>$$E^{nadd}[\\{n_I\\}] = E[n] - \\sum_IE[n_I] \\to \\tilde T_s^{nadd}[\\{n_I\\}]+E_{Hxc}^{nadd}[\\{n_I\\}]$$</p></li>\n",
    "    </ul>\n",
    "</div>\n",
    "<div class=\"alert alert-block alert-danger\">\n",
    "<b>Problem:</b> The non-additive energy contains the non-additive kinetic energy, $T_s^{nadd}[\\{n_I\\}]$, which not known.\n",
    "</div>\n",
    "<div class=\"alert alert-block alert-success\">\n",
    "    <b>Opportunity:</b> We can use <i>fancy non-local</i> $T_s^{nadd}[\\{n_I\\}]$, previously developed for OF-DFT.\n",
    "</div>"
   ]
  },
  {
   "cell_type": "markdown",
   "id": "368d6470",
   "metadata": {
    "slideshow": {
     "slide_type": "slide"
    }
   },
   "source": [
    "# Subsystem DFT (sDFT) - Claim to fame!\n",
    "<center>\n",
    "<img src=\"figures/science/eqe_cover.png\" width=600 />\n",
    "</center>"
   ]
  },
  {
   "cell_type": "markdown",
   "id": "17464dfa",
   "metadata": {
    "slideshow": {
     "slide_type": "slide"
    }
   },
   "source": [
    "# Subsystem DFT (sDFT) - Timings\n",
    "<br>\n",
    "<center>\n",
    "<img src=\"figures/science/sdft_timings.png\" width=1300 />\n",
    "</center>\n",
    "<ul>\n",
    "    <li> Comp. Phys. Comm. <b>269</b>, 108122 (2021)</li>\n",
    "    <li> Int. J. Quantum Chem. <b>117</b> e25401 (2017)</li>\n",
    "    <li> J. Phys. Chem. Lett. <b>10</b> 7554 (2019)</li>\n",
    "</ul>\n"
   ]
  },
  {
   "cell_type": "markdown",
   "id": "33cd2da0",
   "metadata": {
    "slideshow": {
     "slide_type": "slide"
    }
   },
   "source": [
    "# How accurate is sDFT?\n",
    "<br>\n",
    "\n",
    "<p style=\"font-size:100%; text-align:center;\">Deviation against CCSD(T) for the S66 test set</p>\n",
    "\n",
    "<table>\n",
    "    <tr>\n",
    "        <td>\n",
    "            <center>\n",
    "                <img src=\"figures/science/sdft_s66.png\" width=700 />\n",
    "            </center>\n",
    "        </td>\n",
    "        <td>&nbsp;&nbsp;&nbsp;&nbsp;</td>\n",
    "        <td>\n",
    "            <center>\n",
    "                <img src=\"figures/science/s66_other_methods.jpeg\" width=700 />\n",
    "            </center>\n",
    "        </td>\n",
    "    </tr>\n",
    "    <tr>\n",
    "        <td>\n",
    "            <ul>\n",
    "                <li> Comp. Phys. Comm. <b>269</b>, 108122 (2021)</li>\n",
    "                <li> J. Chem. Theory Comput. <b>17</b> 3455 (2021)</li>\n",
    "                <li> J. Phys. Chem. Lett. <b>11</b> 272 (2020)</li>\n",
    "            </ul>\n",
    "        </td>\n",
    "        <td>\n",
    "        </td>\n",
    "        <td>\n",
    "            <ul>\n",
    "                <li> J. Chem. Theory Comput. <b>7</b> 2427 (2011)</li>\n",
    "            </ul>\n",
    "        </td>\n",
    "    </tr>\n",
    "    </tr>\n",
    "</table>\n"
   ]
  },
  {
   "cell_type": "markdown",
   "id": "7964d877",
   "metadata": {
    "slideshow": {
     "slide_type": "slide"
    }
   },
   "source": [
    "# sDFT is not perfect either...\n",
    "<p>The nonadditive kinetic energy, $T_s^{nadd}[n]$, is not accurate enough when...</p>\n",
    "<br>\n",
    "<table>\n",
    "    <tr>\n",
    "    <td> &#x25C6; ...there are covalent bonds between subsystems</td>\n",
    "        <td>&nbsp;&nbsp;&nbsp;&nbsp;</td>\n",
    "    <td> &#x25C6; ...subsystems are too close</td>\n",
    "    </tr>\n",
    "</table>\n",
    "<br>\n",
    "<center>\n",
    "    <img src=\"figures/science/sdft_adaptive.png\" width=950 />\n",
    "    <p style=\"color: red; font-size:90%; text-align:center;\">We need an \"adaptive\" sDFT method!</p>\n",
    "</center>\n"
   ]
  },
  {
   "cell_type": "markdown",
   "id": "a2a10686",
   "metadata": {
    "slideshow": {
     "slide_type": "slide"
    }
   },
   "source": [
    "# Adaptive sDFT\n",
    "\n",
    "<br>\n",
    "\n",
    "#### To do:\n",
    "\n",
    "<ul style=\"text-align: left; font-size: 70%; line-height:90%;margin-top: 0; margin-bottom: 0;\">\n",
    "    <li>Must be able to \"split\" and \"merge\" subsystems along a dynamics</li>\n",
    "    <li>Do so <i>automatically</i></li>\n",
    "</ul>\n",
    "\n",
    "<br>\n",
    "<br>\n",
    "\n",
    "<h4 style=\"margin-top: 0.5em;\"> We did it... but it was challenging</h4>\n",
    "<table>\n",
    "    <tr>\n",
    "        <td>\n",
    "            <center>\n",
    "            <ul style=\"border:2px solid red; text-align: left; font-size: 135%; line-height:150%; margin-right: 1em;\">\n",
    "                <li>Adaptive computational settings</li>\n",
    "                <li>Adaptive MPI communicators</li>\n",
    "                <li>Adaptive data allocation</li>\n",
    "            </ul>\n",
    "            </center>\n",
    "        </td>\n",
    "        <td style=\"width:55%\">\n",
    "            <img src=\"figures/science/sdft_merging_cells.png\" width=100% />\n",
    "        </td>\n",
    "    </tr>\n",
    "</table>"
   ]
  },
  {
   "cell_type": "markdown",
   "id": "035537fc",
   "metadata": {
    "slideshow": {
     "slide_type": "slide"
    }
   },
   "source": [
    "# Adaptive sDFT\n",
    "\n",
    "https://www.youtube.com/watch?v=-lmdPHzJfeU"
   ]
  },
  {
   "cell_type": "code",
   "execution_count": 15,
   "id": "ed179a83",
   "metadata": {
    "hide_input": true,
    "scrolled": true,
    "slideshow": {
     "slide_type": "fragment"
    }
   },
   "outputs": [
    {
     "data": {
      "image/jpeg": "[encoded data removed]",
      "text/html": [
       "\n",
       "        <iframe\n",
       "            width=\"600\"\n",
       "            height=\"450\"\n",
       "            src=\"https://www.youtube.com/embed/-lmdPHzJfeU\"\n",
       "            frameborder=\"0\"\n",
       "            allowfullscreen\n",
       "            \n",
       "        ></iframe>\n",
       "        "
      ],
      "text/plain": [
       "<IPython.lib.display.YouTubeVideo at 0x7f1a5cedfcd0>"
      ]
     },
     "execution_count": 15,
     "metadata": {},
     "output_type": "execute_result"
    }
   ],
   "source": [
    "YouTubeVideo('-lmdPHzJfeU', width=600, height=450)"
   ]
  },
  {
   "cell_type": "markdown",
   "id": "24a58901",
   "metadata": {
    "slideshow": {
     "slide_type": "slide"
    }
   },
   "source": [
    "# What did you (hopefully) learn?\n",
    "\n",
    "<hr>\n",
    "<div class=\"alert alert-block alert-success\">\n",
    "    <b>Good things:</b><br>\n",
    "    <ul>\n",
    "        <li> OF-DFT is very fast and linear scaling with system size</li>\n",
    "        <li> OF-DFT is useful for metals and semiconductors of any shape and size</li>\n",
    "        <li> Where OF-DFT fails we can use Subsystem DFT. Still linear scaling!</li>\n",
    "        <li> Therefore, KS-DFT can be completely avoided</li>\n",
    "    </ul>\n",
    "</div>\n",
    "\n",
    "<hr>\n",
    "\n",
    "<div class=\"alert alert-block alert-danger\">\n",
    "<b>Bad things:</b><br>\n",
    "    <ul>\n",
    "        <li> OF-DFT has limited applicability because of the \"nonlocal pseudopotential problem\"</li>\n",
    "        <li> Subsystem DFT is fast but only if subsystems are small</li>\n",
    "    </ul>\n",
    "</div>\n",
    "<hr>"
   ]
  },
  {
   "cell_type": "markdown",
   "id": "ceb95b4b",
   "metadata": {
    "slideshow": {
     "slide_type": "fragment"
    }
   },
   "source": [
    "# Thank you!"
   ]
  },
  {
   "cell_type": "markdown",
   "id": "4110f61e",
   "metadata": {
    "slideshow": {
     "slide_type": "skip"
    }
   },
   "source": [
    "## Cheat Sheet\n",
    "\n",
    "- https://www.ibm.com/docs/en/db2-event-store/2.0.0?topic=notebooks-markdown-jupyter-cheatsheet"
   ]
  }
 ],
 "metadata": {
  "celltoolbar": "Slideshow",
  "hide_input": true,
  "kernelspec": {
   "display_name": "Python 3 (ipykernel)",
   "language": "python",
   "name": "python3"
  },
  "language_info": {
   "codemirror_mode": {
    "name": "ipython",
    "version": 3
   },
   "file_extension": ".py",
   "mimetype": "text/x-python",
   "name": "python",
   "nbconvert_exporter": "python",
   "pygments_lexer": "ipython3",
   "version": "3.10.4"
  },
  "rise": {
   "enable_chalkboard": true,
   "theme": "sky"
  }
 },
 "nbformat": 4,
 "nbformat_minor": 5
}
