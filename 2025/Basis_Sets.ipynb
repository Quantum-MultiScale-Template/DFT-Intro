{
 "cells": [
  {
   "cell_type": "markdown",
   "id": "a6655933-51e6-4296-b8b3-a2e4bd6a232c",
   "metadata": {
    "slideshow": {
     "slide_type": "slide"
    },
    "tags": []
   },
   "source": [
    "<center>\n",
    "    <h1>Basis Sets</h1>\n",
    "<center>\n",
    "<br>\n",
    "<table>\n",
    "  <tr>\n",
    "      <td><p><h1>Team Rutgers</h1></p><p><h2>(Michele, Ezekiel & Valeria)</h2></p><p><h2>Rutgers University-Newark</h2></p></td> \n",
    "      <td><img src=\"./figures/logos/run.png\" width=300 height=300 /></td>\n",
    "  </tr>\n",
    "  <tr>\n",
    "    <td></td>\n",
    "    <td> https://prg.rutgers.edu</td>\n",
    "  </tr>\n",
    "</table>\n",
    "<br>\n",
    "<h3>Retrieve this presentation at:</h3>\n",
    "<br>\n",
    "<center>https://github.com/Quantum-MultiScale-Template/DFT-Intro/2025</center>\n",
    "\n",
    "<br>\n",
    "\n",
    "#### ASESMA 2025 -- Accra, Ghana -- June 10, 2025\n"
   ]
  },
  {
   "cell_type": "markdown",
   "id": "e16bbe49",
   "metadata": {
    "slideshow": {
     "slide_type": "slide"
    }
   },
   "source": [
    "# Split into groups\n",
    "\n",
    " - Assign number to each student\n",
    " - group based on `mod(N,5)`"
   ]
  },
  {
   "cell_type": "code",
   "execution_count": null,
   "id": "d6c6c873",
   "metadata": {
    "hide_input": false,
    "slideshow": {
     "slide_type": "skip"
    }
   },
   "outputs": [],
   "source": [
    "from IPython.display import IFrame\n",
    "import numpy as np\n",
    "import matplotlib.pyplot as plt"
   ]
  },
  {
   "cell_type": "code",
   "execution_count": null,
   "id": "e0b45520",
   "metadata": {
    "slideshow": {
     "slide_type": "fragment"
    }
   },
   "outputs": [],
   "source": [
    "np.mod(7,5)"
   ]
  },
  {
   "cell_type": "markdown",
   "id": "9fc725ad",
   "metadata": {
    "slideshow": {
     "slide_type": "slide"
    }
   },
   "source": [
    "# My assumptions\n",
    "\n",
    " - Basic linear algebra (vectors, matrices, operators, wavefunctions)\n",
    " - Undergraduate QM\n",
    " - Dirac notation (i.e., i-th vector $\\to |i\\rangle$ or $|\\psi_i\\rangle$, scalar product between <i>i</i> and <i>j</i> $\\to \\langle \\psi_i | \\psi_j\\rangle$)\n",
    " - Kohn-Sham equations"
   ]
  },
  {
   "cell_type": "markdown",
   "id": "0e8f2c9b",
   "metadata": {
    "slideshow": {
     "slide_type": "fragment"
    }
   },
   "source": [
    "# Why are basis sets needed?"
   ]
  },
  {
   "cell_type": "markdown",
   "id": "fa6b5b90",
   "metadata": {
    "slideshow": {
     "slide_type": "fragment"
    }
   },
   "source": [
    " - They provide a representation\n",
    " - Allow us to discretize the problem"
   ]
  },
  {
   "cell_type": "markdown",
   "id": "cd84ce9f",
   "metadata": {
    "slideshow": {
     "slide_type": "slide"
    }
   },
   "source": [
    "# Let's expand a function in a basis\n",
    "\n",
    "$$\n",
    "\\psi_k(r) = \\sum_i C_{ik} \\chi_i(r)\n",
    "$$"
   ]
  },
  {
   "cell_type": "markdown",
   "id": "d2df1b37",
   "metadata": {
    "slideshow": {
     "slide_type": "fragment"
    }
   },
   "source": [
    " - $\\{\\chi_i(r)\\}$ are basis functions forming a <b>basis set</b>\n",
    " - $\\{C_{ik}\\}$ are expansion coefficients, $C_{ik}\\in \\mathbb{C}$"
   ]
  },
  {
   "cell_type": "markdown",
   "id": "2012c66e",
   "metadata": {
    "slideshow": {
     "slide_type": "slide"
    }
   },
   "source": [
    "# Challenge 1\n",
    "- Provide one example of basis functions and explain why they are useful"
   ]
  },
  {
   "cell_type": "markdown",
   "id": "6c2a48f3",
   "metadata": {
    "slideshow": {
     "slide_type": "slide"
    }
   },
   "source": [
    "# Examples of basis sets"
   ]
  },
  {
   "cell_type": "markdown",
   "id": "94e300df",
   "metadata": {
    "slideshow": {
     "slide_type": "fragment"
    }
   },
   "source": [
    " - Plane waves (PW)\n",
    "$$\n",
    " \\chi_{G}(r) = \\frac{1}{\\sqrt{\\Omega}} e^{iGr}\n",
    "$$"
   ]
  },
  {
   "cell_type": "markdown",
   "id": "e528e902",
   "metadata": {
    "slideshow": {
     "slide_type": "fragment"
    }
   },
   "source": [
    " - Gaussian-Type Orbitals (GTOs)\n",
    " $$\n",
    " \\chi_{\\mu,\\alpha}(r) = \\left(\\frac{2\\alpha}{\\pi}\\right)^{d/2} e^{-\\alpha |r-\\mu|^2}\n",
    " $$"
   ]
  },
  {
   "cell_type": "markdown",
   "id": "3cfac1f2",
   "metadata": {
    "slideshow": {
     "slide_type": "fragment"
    }
   },
   "source": [
    " - Numerical Orbitals\n",
    " - ..."
   ]
  },
  {
   "cell_type": "markdown",
   "id": "8a458b61",
   "metadata": {
    "slideshow": {
     "slide_type": "slide"
    }
   },
   "source": [
    "# What do they look like? Let's use `Python`"
   ]
  },
  {
   "cell_type": "code",
   "execution_count": null,
   "id": "a9ee2104",
   "metadata": {
    "slideshow": {
     "slide_type": "fragment"
    }
   },
   "outputs": [],
   "source": [
    "L=10; X = np.linspace(start=0,stop=L,num=1000,endpoint=False)\n",
    "def pw(x,G):\n",
    "    return 1.0/np.sqrt(L)*np.exp(1j*G*X)\n",
    "def gto(x,center,alpha):\n",
    "    return np.sqrt(alpha/np.pi)*np.exp(-alpha*(x-center)**2)"
   ]
  },
  {
   "cell_type": "code",
   "execution_count": null,
   "id": "9dc7d8b7",
   "metadata": {
    "scrolled": true,
    "slideshow": {
     "slide_type": "fragment"
    }
   },
   "outputs": [],
   "source": [
    "fig = plt.figure(figsize=(10,6))\n",
    "#plt.plot(X,np.real(pw(X,G=1)), label=r\"Re of PW with $G=1$\")\n",
    "#plt.plot(X,np.imag(pw(X,G=1)), label=r\"Im of PW with $G=1$\")\n",
    "plt.plot(X,gto(X,center=5,alpha=1),label=r\"GTO centered in $x=5$, with $\\alpha=1$\")\n",
    "plt.ylim([-.5,1]); plt.legend(); plt.plot(5, 0, 'ko', markersize=20);"
   ]
  },
  {
   "cell_type": "markdown",
   "id": "abfd1e68",
   "metadata": {
    "slideshow": {
     "slide_type": "slide"
    }
   },
   "source": [
    "# Challenge 2\n",
    " - Discretize the KS equations using a basis set $\\{\\chi_i(r)\\}$ knowing you can write the KS orbitals as $\\psi_k(r) = \\sum_i C_{ik} \\chi_i(r)$ and the KS Hamiltonian matrix elements are $H_{ij}=\\langle \\chi_i | \\hat H | \\chi_j \\rangle$ and the overlap elements among the basis functions are $S_{ij}=\\langle \\chi_i|\\chi_j\\rangle$.\n",
    " - The final result should be \n",
    " $$\\sum_i H_{ji}C_{ik} = \\varepsilon_k \\sum_i C_{ik}S_{ji} ~\\text{ or in matrix form }~ \\mathbb{HC}=\\mathbb{SC\\varepsilon}$$ "
   ]
  },
  {
   "cell_type": "markdown",
   "id": "6a1bd199",
   "metadata": {
    "slideshow": {
     "slide_type": "slide"
    }
   },
   "source": [
    "# Challenge 3\n",
    " - Are GTOs an orthonormal basis set? Justify.\n",
    " - Are PWs an orthonormal basis set? Justify.\n",
    " \n",
    " The condition for orthonormality $S_{ij}=\\delta_{ij}$."
   ]
  },
  {
   "cell_type": "markdown",
   "id": "c6c62aa6",
   "metadata": {
    "slideshow": {
     "slide_type": "slide"
    }
   },
   "source": [
    "# Size of basis sets"
   ]
  },
  {
   "cell_type": "markdown",
   "id": "101323b2",
   "metadata": {
    "slideshow": {
     "slide_type": "fragment"
    }
   },
   "source": [
    " - To be useful, basis sets should have reduced size,\n",
    "    $$ \\psi_k(r) = \\sum_{i=1}^{M} C_{ik} \\chi_i(r), ~ \\text{where}~M<+\\infty$$"
   ]
  },
  {
   "cell_type": "markdown",
   "id": "7512b88e",
   "metadata": {
    "slideshow": {
     "slide_type": "fragment"
    }
   },
   "source": [
    " - For PW basis, this usually means imposing a cutoff on the maximum value of $G$\n",
    " "
   ]
  },
  {
   "cell_type": "markdown",
   "id": "cbf338c1",
   "metadata": {
    "slideshow": {
     "slide_type": "fragment"
    }
   },
   "source": [
    " - For GTO basis, the size is determined by the basis set developer. Several basis set sizes are available.\n",
    " "
   ]
  },
  {
   "cell_type": "markdown",
   "id": "5b3a347a",
   "metadata": {
    "slideshow": {
     "slide_type": "slide"
    }
   },
   "source": [
    "# Challenge 4\n",
    "This is to help you breeze through what we will do next.\n",
    " - Find the wavefunctions that solve the time-independent Schrödinger equation of a single particle of mass $m=1$ in a periodic 1D box of size $L$. Use atomic units ($\\hbar = 1$) throughout."
   ]
  },
  {
   "cell_type": "markdown",
   "id": "9916aba6",
   "metadata": {
    "slideshow": {
     "slide_type": "slide"
    }
   },
   "source": [
    "# PW cutoff in 1D - let's use FFT"
   ]
  },
  {
   "cell_type": "markdown",
   "id": "078176ae",
   "metadata": {
    "slideshow": {
     "slide_type": "fragment"
    }
   },
   "source": [
    " - First, let's discretize a 1D box of length $L=10$ au into $N$ points, $\\{x_k=\\frac{k}{N}L\\}$\n",
    "<center><img src=\"./figures/science/line.png\" width=400 /></center>"
   ]
  },
  {
   "cell_type": "code",
   "execution_count": null,
   "id": "004534ca",
   "metadata": {
    "slideshow": {
     "slide_type": "fragment"
    }
   },
   "outputs": [],
   "source": [
    "N=7; L=10; x = np.linspace(start=0,stop=L,num=N, endpoint=False); x"
   ]
  },
  {
   "cell_type": "markdown",
   "id": "934fb66a",
   "metadata": {
    "slideshow": {
     "slide_type": "fragment"
    }
   },
   "source": [
    " - Second, we generate all the available $G$ points according to <a href=\"https://numpy.org/doc/stable/reference/routines.fft.html\">FFT</a>: $~e^{iG_j x_k}=e^{i\\left(\\frac{2\\pi j}{L}\\right) \\left(\\frac{k}{N}L\\right)}=e^{i2\\pi \\frac{jk}{N}}$"
   ]
  },
  {
   "cell_type": "markdown",
   "id": "4e676118",
   "metadata": {
    "slideshow": {
     "slide_type": "fragment"
    }
   },
   "source": [
    " - Thus: as $x_k=\\frac{k}{N}L$, it must be that $G_j = \\frac{2\\pi j}{L}$ with $j=0,\\pm 1, \\pm 2,\\ldots \\pm \\frac{N}{2}$\n",
    "<center><img src=\"./figures/science/lineg.png\" width=400 /></center>"
   ]
  },
  {
   "cell_type": "code",
   "execution_count": null,
   "id": "b486011a",
   "metadata": {
    "slideshow": {
     "slide_type": "fragment"
    }
   },
   "outputs": [],
   "source": [
    "G = (2*np.pi)*np.fft.fftfreq(N,d=L/N); G"
   ]
  },
  {
   "cell_type": "markdown",
   "id": "a10193ad",
   "metadata": {
    "slideshow": {
     "slide_type": "fragment"
    }
   },
   "source": [
    "<center>\n",
    "    <div class=\"alert alert-success\">\n",
    "        Note: higher $N$ &rarr; higher maximum value of $G$\n",
    "    </div>\n",
    "</center>"
   ]
  },
  {
   "cell_type": "markdown",
   "id": "4ed6839c",
   "metadata": {
    "slideshow": {
     "slide_type": "slide"
    }
   },
   "source": [
    "# Effect of a PW cutoff"
   ]
  },
  {
   "cell_type": "markdown",
   "id": "581f9e74",
   "metadata": {
    "slideshow": {
     "slide_type": "fragment"
    }
   },
   "source": [
    "Now compute the Fourier transform of $f(x)$, $\\tilde f(G)$\n",
    "$$\n",
    "\\tilde f(G) = \\int dx f(x) e^{-iG x} \\simeq \\frac{L}{N}\\sum_{i=0}^{N-1} f_i e^{-i G x_i}\n",
    "$$"
   ]
  },
  {
   "cell_type": "code",
   "execution_count": null,
   "id": "429ec380",
   "metadata": {
    "slideshow": {
     "slide_type": "fragment"
    }
   },
   "outputs": [],
   "source": [
    "f = gto(x,center=5,alpha=1)\n",
    "\n",
    "tilde_f = np.fft.fft(f)*L/N"
   ]
  },
  {
   "cell_type": "markdown",
   "id": "840ee969",
   "metadata": {
    "slideshow": {
     "slide_type": "fragment"
    }
   },
   "source": [
    "Now compute the inverseFourier transform\n",
    "$$\n",
    "f(x) = \\frac{1}{\\Omega}\\int dG \\tilde f(G) e^{i G x} \\sim \\frac{1}{L}\\sum_{i=0}^{N-1} \\tilde f_i e^{i G_i\n",
    "x}\n",
    "$$"
   ]
  },
  {
   "cell_type": "code",
   "execution_count": null,
   "id": "03bfb918",
   "metadata": {
    "slideshow": {
     "slide_type": "fragment"
    }
   },
   "outputs": [],
   "source": [
    "def gto_in_pw(fft,G,X):\n",
    "    N=len(G); f_X = np.zeros_like(X,dtype=np.complex128)\n",
    "    for i in range(N):\n",
    "        f_X += fft[i]*np.exp(1j*G[i]*X)  \n",
    "    return np.real(f_X)/L"
   ]
  },
  {
   "cell_type": "markdown",
   "id": "6d7bae77",
   "metadata": {
    "slideshow": {
     "slide_type": "slide"
    }
   },
   "source": [
    "# Plot of the effect of a PW cutoff"
   ]
  },
  {
   "cell_type": "code",
   "execution_count": null,
   "id": "efeda1c8",
   "metadata": {
    "scrolled": true,
    "slideshow": {
     "slide_type": "fragment"
    }
   },
   "outputs": [],
   "source": [
    "plt.plot(X,gto(X,center=5,alpha=1),label=r\"Exact $f(x)$\")\n",
    "plt.plot(X,gto_in_pw(tilde_f,G,X),label=r\"Approximate $f(x)$\")\n",
    "plt.legend()"
   ]
  },
  {
   "cell_type": "markdown",
   "id": "aead9609",
   "metadata": {
    "slideshow": {
     "slide_type": "slide"
    }
   },
   "source": [
    "# Challenge 5\n",
    " - What is an appropriate number of PWs for representing $f(x)$? Discuss within the group and provide a quantitative justification."
   ]
  },
  {
   "cell_type": "markdown",
   "id": "a007d107",
   "metadata": {
    "slideshow": {
     "slide_type": "slide"
    }
   },
   "source": [
    "# The major drawback of PWs\n",
    "- Need many PWs to represent \"spiky\" or highly oscillatory features\n",
    "- Thus, **pseudopotentials** are typically employed to\n",
    "    1) avoid the *Coulomb singularity* of the electron-nuclear interaction potential\n",
    "    2) avoid *core of atoms* (spiky/oscillatory density and orbitals, more from Javier tomorrow!)"
   ]
  },
  {
   "cell_type": "markdown",
   "id": "29e2ce8c",
   "metadata": {
    "slideshow": {
     "slide_type": "slide"
    }
   },
   "source": [
    "# Why are PW basis so useful?"
   ]
  },
  {
   "cell_type": "markdown",
   "id": "286c5b7b",
   "metadata": {
    "slideshow": {
     "slide_type": "fragment"
    }
   },
   "source": [
    " - Orthonormal! "
   ]
  },
  {
   "cell_type": "markdown",
   "id": "d3c3679c",
   "metadata": {
    "slideshow": {
     "slide_type": "fragment"
    }
   },
   "source": [
    " - Systematically improvable: higher $N$ (or equivalently $\\max\\left[ G \\right]$) leads to better results. "
   ]
  },
  {
   "cell_type": "markdown",
   "id": "3d9a257b",
   "metadata": {
    "slideshow": {
     "slide_type": "fragment"
    }
   },
   "source": [
    " - Evaluation of the kinetic energy operator and solution of the Poisson equation are <b>easy</b>"
   ]
  },
  {
   "cell_type": "markdown",
   "id": "a62d73ef",
   "metadata": {
    "slideshow": {
     "slide_type": "slide"
    }
   },
   "source": [
    "# Matrix elements of the kinetic energy operator, needed to solve $\\mathbb{HC=C\\varepsilon}$"
   ]
  },
  {
   "cell_type": "markdown",
   "id": "d953ea7d",
   "metadata": {
    "slideshow": {
     "slide_type": "fragment"
    }
   },
   "source": [
    "$$\n",
    "\\langle \\chi_i | \\hat T | \\chi_j \\rangle = -\\frac{1}{2\\Omega} \\int dx  (-G_j^2)  e^{i(G_j-G_i)}x = \\mathbf{\\color{red}{\\frac{G_j^2}{2}\\delta_{ij}}}\n",
    "$$"
   ]
  },
  {
   "cell_type": "markdown",
   "id": "09d79771",
   "metadata": {
    "slideshow": {
     "slide_type": "fragment"
    }
   },
   "source": [
    "<center> It's diagonal!</center>"
   ]
  },
  {
   "cell_type": "markdown",
   "id": "96027421",
   "metadata": {
    "slideshow": {
     "slide_type": "slide"
    }
   },
   "source": [
    "# Classical Coulomb (Hartree) interaction energy and potential"
   ]
  },
  {
   "cell_type": "markdown",
   "id": "eaca0d9e",
   "metadata": {
    "slideshow": {
     "slide_type": "fragment"
    }
   },
   "source": [
    "$$\n",
    "v_H(r) = \\int dr' \\frac{n(r')}{|r-r'|} \\equiv n \\star \\frac{1}{|r|}\n",
    "$$"
   ]
  },
  {
   "cell_type": "markdown",
   "id": "3dc1441f",
   "metadata": {
    "slideshow": {
     "slide_type": "fragment"
    }
   },
   "source": [
    "<center>\n",
    "    <div class=\"alert alert-success\">\n",
    "        Let's use convolution theorem: $f = h \\star g \\to \\tilde f = \\tilde h \\cdot \\tilde g$\n",
    "    </div>\n",
    "</center>"
   ]
  },
  {
   "cell_type": "markdown",
   "id": "2a1b72e3",
   "metadata": {
    "slideshow": {
     "slide_type": "fragment"
    }
   },
   "source": [
    "$$\n",
    "\\tilde v_H(G) = \\tilde n(G) \\frac{4\\pi}{G^2} \\to v_H(r) = \\frac{1}{\\Omega}\\int \\tilde v_H(G) e^{iGr}dG = \\frac{1}{\\Omega}\\int \\tilde n(G) \\frac{4\\pi}{G^2} e^{iGr}dG\n",
    "$$"
   ]
  },
  {
   "cell_type": "markdown",
   "id": "bd0253da",
   "metadata": {
    "slideshow": {
     "slide_type": "fragment"
    }
   },
   "source": [
    "<center>\n",
    "    <div class=\"alert alert-success\">\n",
    "        <b>Thanks to FFT, the potential is computed with a $\\mathcal{O}(N\\ln N)$ number of operations!\n",
    "    </div>\n",
    "</center>"
   ]
  },
  {
   "cell_type": "markdown",
   "id": "3d41acb1",
   "metadata": {
    "slideshow": {
     "slide_type": "slide"
    }
   },
   "source": [
    "# Matrix elements of $v_s(r)$, needed to solve $\\mathbb{HC=C\\varepsilon}$"
   ]
  },
  {
   "cell_type": "markdown",
   "id": "51fd1af7",
   "metadata": {
    "slideshow": {
     "slide_type": "fragment"
    }
   },
   "source": [
    "$$\n",
    "\\langle \\chi_i | v_s | \\chi_j\\rangle = \\frac{1}{\\Omega}\\int dr v_s(r) e^{i(G_j-G_i)r} \n",
    "$$"
   ]
  },
  {
   "cell_type": "markdown",
   "id": "b00e83e7",
   "metadata": {
    "slideshow": {
     "slide_type": "fragment"
    }
   },
   "source": [
    "<center>\n",
    "    <div class=\"alert alert-danger\">\n",
    "        <b>Not a diagonal matrix</b>\n",
    "    </div>\n",
    "</center>"
   ]
  },
  {
   "cell_type": "markdown",
   "id": "569d66af",
   "metadata": {
    "slideshow": {
     "slide_type": "fragment"
    }
   },
   "source": [
    "But... we can use the $G$ components of $\\tilde v_s(G)$:\n",
    "$$\n",
    "\\langle \\chi_i | v_s | \\chi_j\\rangle = \\frac{1}{\\Omega}\\tilde v_s(G_i-G_j)\n",
    "$$\n",
    "which gives the matrix elements of $v_s$ <b>almost</b> directly."
   ]
  },
  {
   "cell_type": "markdown",
   "id": "88c359ed",
   "metadata": {
    "slideshow": {
     "slide_type": "slide"
    }
   },
   "source": [
    "# Summary of PW basis sets"
   ]
  },
  {
   "cell_type": "markdown",
   "id": "295e5716",
   "metadata": {
    "slideshow": {
     "slide_type": "fragment"
    }
   },
   "source": [
    "- PWs are orthonormal and systematically improvable basis sets\n",
    "- PWs are handled computationally with Fast Fourier Transforms which scale like $\\mathcal{O}(N\\ln N)$ rather than quadratically\n",
    "- Coulomb problem approached with convolution theorem and FFTs\n",
    "- Matrix elements of the KS Hamiltonian are easily found"
   ]
  },
  {
   "cell_type": "markdown",
   "id": "ebdfc2ed",
   "metadata": {
    "slideshow": {
     "slide_type": "slide"
    }
   },
   "source": [
    "# A short overview of GTO basis sets"
   ]
  },
  {
   "cell_type": "markdown",
   "id": "b26010ff",
   "metadata": {
    "slideshow": {
     "slide_type": "fragment"
    }
   },
   "source": [
    "- GTOs are not orthogonal"
   ]
  },
  {
   "cell_type": "markdown",
   "id": "e5881a32",
   "metadata": {
    "slideshow": {
     "slide_type": "fragment"
    }
   },
   "source": [
    "- GTOs are atom-centered. When atoms *move*, the basis set *changes*"
   ]
  },
  {
   "cell_type": "markdown",
   "id": "20099855",
   "metadata": {
    "slideshow": {
     "slide_type": "fragment"
    }
   },
   "source": [
    " - $N_{GTO}<<N_{PW}$"
   ]
  },
  {
   "cell_type": "markdown",
   "id": "ba89c58b",
   "metadata": {
    "slideshow": {
     "slide_type": "fragment"
    }
   },
   "source": [
    " - The Coulomb problem scales like $N^2$ for small to medium sizes systems"
   ]
  },
  {
   "cell_type": "markdown",
   "id": "36ab7be3",
   "metadata": {
    "slideshow": {
     "slide_type": "slide"
    }
   },
   "source": [
    "# Densities and potentials in GTOs"
   ]
  },
  {
   "cell_type": "markdown",
   "id": "811779ea",
   "metadata": {
    "slideshow": {
     "slide_type": "fragment"
    }
   },
   "source": [
    "The electron density is represented as:\n",
    "$$\n",
    "n(r) = \\sum_{\\mu\\nu} P_{\\mu\\nu} \\chi_\\mu(r)\\chi_\\nu(r)\n",
    "$$"
   ]
  },
  {
   "cell_type": "markdown",
   "id": "d3dafb33",
   "metadata": {
    "slideshow": {
     "slide_type": "fragment"
    }
   },
   "source": [
    "The Hartree energy is given by\n",
    "$$\n",
    "E_H[n] = \\frac{1}{2}\\int \\frac{n(r)n(r')}{|r-r'|}drdr' = \\frac{1}{2} \\sum_{\\mu\\nu\\sigma\\tau} P_{\\mu\\nu} P_{\\sigma\\tau} \\int \\chi_\\mu(r)\\chi_\\nu(r) \\frac{1}{|r-r'|}\\chi_\\mu(r')\\chi_\\nu(r')drdr'\n",
    "$$"
   ]
  },
  {
   "cell_type": "markdown",
   "id": "58608200",
   "metadata": {
    "slideshow": {
     "slide_type": "fragment"
    }
   },
   "source": [
    "The 4-index matrix elements \n",
    "$$\n",
    "\\int \\chi_\\mu(r)\\chi_\\nu(r) \\frac{1}{|r-r'|}\\chi_\\mu(r')\\chi_\\nu(r')drdr' = \\left(\\mu\\nu|\\sigma\\tau\\right) \\to E_H = \\frac{1}{2}\\sum_{\\mu\\nu\\sigma\\tau} P_{\\mu\\nu} P_{\\sigma\\tau}\\left(\\mu\\nu|\\sigma\\tau\\right)\n",
    "$$\n",
    "are called **electron repulsion integrals** or **ERI**."
   ]
  },
  {
   "cell_type": "markdown",
   "id": "48ad9643",
   "metadata": {
    "slideshow": {
     "slide_type": "slide"
    }
   },
   "source": [
    "# Challenge 6\n",
    " - Derive the matrix elements of the Hartree potential, $\\langle \\mu | v_H | \\nu \\rangle$ and show that they require an $N^2$ number of operations."
   ]
  },
  {
   "cell_type": "markdown",
   "id": "0c2ca2e1",
   "metadata": {
    "slideshow": {
     "slide_type": "slide"
    }
   },
   "source": [
    "# A glance at existing basis sets"
   ]
  },
  {
   "cell_type": "code",
   "execution_count": null,
   "id": "39985ff9",
   "metadata": {
    "slideshow": {
     "slide_type": "fragment"
    }
   },
   "outputs": [],
   "source": [
    "IFrame(src=\"https://www.basissetexchange.org/\", width=\"100%\", height=\"600\")"
   ]
  }
 ],
 "metadata": {
  "celltoolbar": "Slideshow",
  "hide_input": false,
  "kernelspec": {
   "display_name": "Python 3 (ipykernel)",
   "language": "python",
   "name": "python3"
  },
  "language_info": {
   "codemirror_mode": {
    "name": "ipython",
    "version": 3
   },
   "file_extension": ".py",
   "mimetype": "text/x-python",
   "name": "python",
   "nbconvert_exporter": "python",
   "pygments_lexer": "ipython3",
   "version": "3.10.15"
  }
 },
 "nbformat": 4,
 "nbformat_minor": 5
}
