{
 "cells": [
  {
   "cell_type": "markdown",
   "id": "3fece55d",
   "metadata": {
    "slideshow": {
     "slide_type": "slide"
    }
   },
   "source": [
    "<center>\n",
    "    <h3> Real-Time Time Dependent Orbital Free Density Functional Theory with DFTpy</h3>\n",
    "    <h3>Tutorial</h3>\n",
    "</center>\n",
    "<table>\n",
    "  <tr>\n",
    "      <td><p><h4>Rutgers University-Newark</h4></p><p>Dr Xuecheng Shao</p><p>Dr Kaili Jiang (Microsoft)</p><p>Dr. Bhaskar Rana</p><p>Jessica Martinez</p><p>Valeria Rios </p><p>Alina Umerbekova</p></td>\n",
    "          <td><img src=\"../../2024/figures/logos/logo.jpg\" width=800 /></td>\n",
    "  </tr>\n",
    "</table>\n",
    "\n",
    "ASESMA 2025"
   ]
  },
  {
   "cell_type": "markdown",
   "id": "34dd5615",
   "metadata": {
    "slideshow": {
     "slide_type": "slide"
    }
   },
   "source": [
    "## Goal: COmpute optical spectra with DFTpy\n",
    "#### 1) Obtain a good initial density with LMGP (OESCF)\n",
    "#### 2) Compute the Optical Spectra (plasmons) of a Mg<sub>8</sub> from a good initial density  \n",
    "#### Challenge: Obtain the spectrum of your own cluster"
   ]
  },
  {
   "cell_type": "code",
   "execution_count": 1,
   "id": "2a4414f0",
   "metadata": {
    "slideshow": {
     "slide_type": "slide"
    }
   },
   "outputs": [],
   "source": [
    "import numpy as np\n",
    "import matplotlib.pyplot as plt"
   ]
  },
  {
   "cell_type": "code",
   "execution_count": 11,
   "id": "cc9b0b75",
   "metadata": {},
   "outputs": [],
   "source": [
    "from dftpy.grid import DirectGrid\n",
    "from dftpy.field import DirectField\n",
    "from dftpy.functional import Functional, TotalFunctional\n",
    "from dftpy.optimization import Optimization\n",
    "from dftpy.td.propagator import Propagator\n",
    "from dftpy.td.hamiltonian import Hamiltonian\n",
    "from dftpy.utils.utils import calc_rho, calc_j\n",
    "from dftpy.td.utils import initial_kick\n",
    "from dftpy.ions import Ions\n",
    "from dftpy.formats import io\n",
    "from dftpy.constants import Units\n",
    "from dftpy.td.utils import calc_spectra_mu"
   ]
  },
  {
   "cell_type": "code",
   "execution_count": null,
   "id": "3d0a7206-95c8-4133-a0b1-98cabd70c3ef",
   "metadata": {},
   "outputs": [],
   "source": [
    "!wget https://gitlab.com/pavanello-research-group/dftpy/-/raw/master/examples/DATA/Mg8.vasp\n",
    "!wget https://gitlab.com/pavanello-research-group/dftpy/-/raw/master/examples/DATA/Mg_OEPP_PZ.UPF"
   ]
  },
  {
   "cell_type": "markdown",
   "id": "fe019cf0",
   "metadata": {
    "slideshow": {
     "slide_type": "slide"
    }
   },
   "source": [
    "### Read the vasp file with DFTpy"
   ]
  },
  {
   "cell_type": "code",
   "execution_count": 12,
   "id": "1cc0e6f4",
   "metadata": {
    "slideshow": {
     "slide_type": "-"
    }
   },
   "outputs": [],
   "source": [
    "ions = io.read('Mg8.vasp', format='vasp', names=['Mg'])"
   ]
  },
  {
   "cell_type": "markdown",
   "id": "1b37141d",
   "metadata": {},
   "source": [
    "### Create the PP list and the Grid\n",
    "DirectGrid is a class object that represents a grid (Cell plus discretization)"
   ]
  },
  {
   "cell_type": "code",
   "execution_count": 13,
   "id": "9bfd4f19",
   "metadata": {},
   "outputs": [],
   "source": [
    "PP_list = ['./Mg_OEPP_PZ.UPF']\n",
    "grid = DirectGrid(ions.cell, spacing = 1.1)"
   ]
  },
  {
   "cell_type": "code",
   "execution_count": 14,
   "id": "5522f442",
   "metadata": {},
   "outputs": [
    {
     "data": {
      "text/plain": [
       "array([36, 36, 32], dtype=int32)"
      ]
     },
     "execution_count": 14,
     "metadata": {},
     "output_type": "execute_result"
    }
   ],
   "source": [
    "grid.nr"
   ]
  },
  {
   "cell_type": "markdown",
   "id": "a70560ea",
   "metadata": {
    "slideshow": {
     "slide_type": "slide"
    }
   },
   "source": [
    "### Define the functionals for OF-DFT"
   ]
  },
  {
   "cell_type": "code",
   "execution_count": 15,
   "id": "bd1b5f48",
   "metadata": {},
   "outputs": [
    {
     "name": "stdout",
     "output_type": "stream",
     "text": [
      "setting key: Mg -> ./Mg_OEPP_PZ.UPF\n"
     ]
    }
   ],
   "source": [
    "xc = Functional(type='XC',name='LDA')\n",
    "hartree = Functional(type='HARTREE')\n",
    "pseudo = Functional(type='PSEUDO', grid=grid, ions=ions, PP_list=PP_list)"
   ]
  },
  {
   "cell_type": "markdown",
   "id": "c5c08f82",
   "metadata": {
    "slideshow": {
     "slide_type": "slide"
    }
   },
   "source": [
    "### Represented a field on a grid\n",
    "Write on the grid the initial electronic density"
   ]
  },
  {
   "cell_type": "code",
   "execution_count": 16,
   "id": "b3f26af8-699f-4cad-ba63-9f7d04bb68b9",
   "metadata": {},
   "outputs": [],
   "source": [
    "rho_ini = DirectField(grid=grid)\n",
    "rho_ini[:] = ions.get_ncharges()/ions.cell.volume"
   ]
  },
  {
   "cell_type": "markdown",
   "id": "ee9555af",
   "metadata": {
    "slideshow": {
     "slide_type": "slide"
    }
   },
   "source": [
    "### Write the optimization options and build the class that handles the electron density optimization"
   ]
  },
  {
   "cell_type": "code",
   "execution_count": 18,
   "id": "f0bc84f2",
   "metadata": {},
   "outputs": [],
   "source": [
    "optimization_options = {'econv' : 1e-11,'maxiter' : 100}"
   ]
  },
  {
   "cell_type": "markdown",
   "id": "c72f3065",
   "metadata": {},
   "source": [
    "#### Run the optimization of the electronic density with TF0.2vW"
   ]
  },
  {
   "cell_type": "code",
   "execution_count": 19,
   "id": "f7c5470f",
   "metadata": {
    "scrolled": true
   },
   "outputs": [
    {
     "name": "stdout",
     "output_type": "stream",
     "text": [
      "Step    Energy(a.u.)            dE              dP              Nd      Nls     Time(s)         \n",
      "0       8.951916882520E+00      8.951917E+00    2.343046E+00    1       1       6.814027E-02    \n",
      "!WARN: Change to steepest decent\n",
      "1       -5.391241844465E+00     -1.434316E+01   1.315224E+00    1       3       2.070432E-01    \n",
      "2       -6.787012622638E+00     -1.395771E+00   1.519794E-01    2       2       3.315430E-01    \n",
      "3       -7.028248165620E+00     -2.412355E-01   1.639105E-02    5       3       5.766327E-01    \n",
      "4       -7.058369899401E+00     -3.012173E-02   1.701950E-03    5       2       7.870882E-01    \n",
      "5       -7.059908538050E+00     -1.538639E-03   1.781698E-04    3       2       9.444754E-01    \n",
      "6       -7.060408858840E+00     -5.003208E-04   1.085883E-05    6       3       1.227783E+00    \n",
      "7       -7.060419731612E+00     -1.087277E-05   1.330579E-06    4       3       1.437867E+00    \n",
      "8       -7.060420451079E+00     -7.194673E-07   6.550505E-07    3       3       1.622600E+00    \n",
      "9       -7.060420769144E+00     -3.180649E-07   4.178282E-07    5       5       1.778391E+00    \n",
      "10      -7.060420814028E+00     -4.488456E-08   3.944317E-07    4       4       1.967524E+00    \n",
      "11      -7.060420837787E+00     -2.375853E-08   3.772117E-07    4       5       2.192868E+00    \n",
      "12      -7.060420843515E+00     -5.727752E-09   3.709386E-07    2       5       2.344263E+00    \n",
      "13      -7.060420849103E+00     -5.588387E-09   3.645142E-07    2       5       2.562662E+00    \n",
      "14      -7.060420851808E+00     -2.704876E-09   3.637608E-07    4       5       2.713096E+00    \n",
      "15      -7.060420854205E+00     -2.397424E-09   3.609590E-07    2       6       2.848938E+00    \n",
      "16      -7.060420855257E+00     -1.052072E-09   3.597616E-07    2       6       2.991594E+00    \n",
      "17      -7.060420855990E+00     -7.325553E-10   3.594170E-07    4       6       3.186496E+00    \n",
      "18      -7.060420856340E+00     -3.497931E-10   3.590607E-07    2       6       3.329138E+00    \n",
      "19      -7.060420856793E+00     -4.536815E-10   3.588059E-07    4       7       3.542761E+00    \n",
      "20      -7.060420856981E+00     -1.873630E-10   3.586060E-07    2       7       3.722432E+00    \n",
      "21      -7.060420857197E+00     -2.160192E-10   3.583539E-07    2       7       3.871097E+00    \n",
      "22      -7.060420857254E+00     -5.717382E-11   3.582972E-07    2       7       4.041965E+00    \n",
      "23      -7.060420857344E+00     -8.975931E-11   3.581930E-07    2       9       4.258411E+00    \n",
      "24      -7.060420857373E+00     -2.890488E-11   3.581617E-07    2       8       4.438829E+00    \n",
      "25      -7.060420857413E+00     -4.023448E-11   3.581144E-07    2       8       4.616460E+00    \n",
      "26      -7.060420857427E+00     -1.374545E-11   3.581088E-07    4       9       4.839233E+00    \n",
      "27      -7.060420857439E+00     -1.283595E-11   3.581018E-07    4       9       5.066997E+00    \n",
      "28      -7.060420857444E+00     -4.753531E-12   3.580966E-07    2       9       5.297507E+00    \n",
      "29      -7.060420857450E+00     -5.762502E-12   3.580899E-07    2       9       5.479034E+00    \n",
      "30      -7.060420857452E+00     -1.975309E-12   3.580877E-07    2       10      5.808019E+00    \n",
      "#### Density Optimization Converged ####\n",
      "Chemical potential (a.u.): -0.10246696825918508\n",
      "Chemical potential (eV)  : -2.788268228047271\n"
     ]
    }
   ],
   "source": [
    "ke = Functional(type='KEDF',name='TFvw', y=0.2)\n",
    "totalfunctional = TotalFunctional(KEDF=ke, XC=xc, HARTREE=hartree, PSEUDO=pseudo)\n",
    "opt = Optimization(EnergyEvaluator=totalfunctional, optimization_options = optimization_options,\n",
    "        optimization_method = 'TN')\n",
    "rho = opt.optimize_rho(guess_rho=rho_ini)"
   ]
  },
  {
   "cell_type": "code",
   "execution_count": 20,
   "id": "8be1a8a7-6f0e-4301-982f-507c024e0bae",
   "metadata": {},
   "outputs": [],
   "source": [
    "kfmax=( np.max(rho) * 3 * np.pi )**(1.0/3.0)"
   ]
  },
  {
   "cell_type": "code",
   "execution_count": 21,
   "id": "24a8a90d-dca4-4fcb-ab94-e500e186efb6",
   "metadata": {},
   "outputs": [],
   "source": [
    "from dftpy.mixer.pulay import PulayMixer\n",
    "pulay=PulayMixer(mp=None)"
   ]
  },
  {
   "cell_type": "code",
   "execution_count": 25,
   "id": "264893e0-2ad4-4205-9ab0-ef848cae9633",
   "metadata": {},
   "outputs": [],
   "source": [
    "from dftpy.optimization import OESCF"
   ]
  },
  {
   "cell_type": "code",
   "execution_count": 26,
   "id": "b8dabae5-fe69-4132-baa2-2505c95a34c3",
   "metadata": {},
   "outputs": [],
   "source": [
    "vw = Functional(type='KEDF', name='vW')\n",
    "evaluator = TotalFunctional(KE=vw, XC=xc, HARTREE=hartree, PSEUDO=pseudo)\n",
    "\n",
    "kedf_emb = Functional(type='KEDF',name='LMGP', kfmax=kfmax, kfmin=1e-10, ratio=1.02)\n",
    "kedf_emb.options.update({'y':0})\n",
    "evaluator_emb = TotalFunctional(KEDF_EMB = kedf_emb)\n",
    "\n",
    "opt = Optimization(EnergyEvaluator=evaluator, optimization_options = optimization_options, optimization_method = 'CG')\n",
    "opt = OESCF(optimization=opt, evaluator_emb=evaluator_emb, guess_rho=rho,mixer=pulay)"
   ]
  },
  {
   "cell_type": "code",
   "execution_count": 28,
   "id": "4bb929c0-d779-4f8c-8e03-acbacf47f74c",
   "metadata": {
    "scrolled": true
   },
   "outputs": [
    {
     "name": "stdout",
     "output_type": "stream",
     "text": [
      "Step    Energy(a.u.)            dE              dP              Nd      Nls     Time(s)         \n",
      "0       -7.204193641031E+00     -7.204194E+00   9.995992E-01    1       1       2.990341E-02    \n",
      "1       -7.529011922738E+00     -3.248183E-01   2.821872E-01    1       2       1.088724E-01    \n",
      "2       -7.613763382982E+00     -8.475146E-02   1.327598E-01    1       2       1.588972E-01    \n",
      "3       -7.668002809349E+00     -5.423943E-02   8.002918E-02    1       2       2.350304E-01    \n",
      "4       -7.685169186495E+00     -1.716638E-02   4.265207E-02    1       2       2.924607E-01    \n",
      "5       -7.693641678342E+00     -8.472492E-03   1.840613E-02    1       3       3.852708E-01    \n",
      "6       -7.697651030751E+00     -4.009352E-03   1.091548E-02    1       3       4.814196E-01    \n",
      "7       -7.700602902087E+00     -2.951871E-03   8.468518E-03    1       2       5.245492E-01    \n",
      "8       -7.701732211061E+00     -1.129309E-03   2.725775E-03    1       2       5.996442E-01    \n",
      "9       -7.702427754555E+00     -6.955435E-04   3.368199E-03    1       2       6.639757E-01    \n",
      "10      -7.702952022189E+00     -5.242676E-04   1.220461E-03    1       2       6.981843E-01    \n",
      "11      -7.703135170359E+00     -1.831482E-04   5.340468E-04    1       3       8.126323E-01    \n",
      "12      -7.703282562165E+00     -1.473918E-04   3.622109E-04    1       2       8.632355E-01    \n",
      "13      -7.703371117075E+00     -8.855491E-05   2.751744E-04    1       2       9.104228E-01    \n",
      "14      -7.703422113913E+00     -5.099684E-05   1.704093E-04    1       3       1.018200E+00    \n",
      "15      -7.703463147537E+00     -4.103362E-05   1.513876E-04    1       2       1.061062E+00    \n",
      "16      -7.703489477703E+00     -2.633017E-05   8.881624E-05    1       2       1.129614E+00    \n",
      "17      -7.703508196179E+00     -1.871848E-05   4.337309E-05    1       2       1.194432E+00    \n",
      "18      -7.703519422197E+00     -1.122602E-05   4.360205E-05    1       2       1.244872E+00    \n",
      "19      -7.703527630508E+00     -8.208311E-06   2.132526E-05    1       2       1.304755E+00    \n",
      "20      -7.703532898527E+00     -5.268019E-06   1.418837E-05    1       2       1.369203E+00    \n",
      "21      -7.703535998447E+00     -3.099920E-06   9.655716E-06    1       2       1.426250E+00    \n",
      "22      -7.703537917597E+00     -1.919150E-06   6.117479E-06    1       2       1.468686E+00    \n",
      "23      -7.703539717718E+00     -1.800121E-06   3.911023E-06    1       2       1.543364E+00    \n",
      "24      -7.703540694944E+00     -9.772266E-07   2.158485E-06    1       2       1.608047E+00    \n",
      "25      -7.703541418688E+00     -7.237435E-07   2.373845E-06    1       2       1.640593E+00    \n",
      "26      -7.703542020242E+00     -6.015545E-07   1.345016E-06    1       2       1.717635E+00    \n",
      "#### Density Optimization Converged ####\n",
      "Chemical potential (a.u.): -0.15160657412569478\n",
      "Chemical potential (eV)  : -4.125425012366128\n",
      " OESCF--> iter=40    conv=1.600E-06 de=8.423E+00 energy=-8.423225E+00 time=3.093945E+01\n",
      "Step    Energy(a.u.)            dE              dP              Nd      Nls     Time(s)         \n",
      "0       -7.836948754649E+00     -7.836949E+00   3.784736E-06    1       1       2.262139E-02    \n",
      "1       -7.836949287318E+00     -5.326692E-07   2.170847E-06    1       3       1.268828E-01    \n",
      "2       -7.836950472926E+00     -1.185608E-06   4.641536E-06    1       2       1.923616E-01    \n",
      "3       -7.836952433461E+00     -1.960535E-06   4.125644E-06    1       2       2.722175E-01    \n",
      "4       -7.836953044213E+00     -6.107522E-07   9.806509E-07    1       3       3.851130E-01    \n",
      "5       -7.836953295322E+00     -2.511091E-07   7.770549E-07    1       2       4.516623E-01    \n",
      "#### Density Optimization Converged ####\n",
      "Chemical potential (a.u.): -0.13571014938770332\n",
      "Chemical potential (eV)  : -3.692861262413341\n",
      " OESCF--> iter=41    conv=1.600E-06 de=1.105E-01 energy=-8.533744E+00 time=4.624643E+01\n",
      "Step    Energy(a.u.)            dE              dP              Nd      Nls     Time(s)         \n",
      "0       -7.836954574237E+00     -7.836955E+00   3.062214E-06    1       1       2.866888E-02    \n",
      "1       -7.836955088803E+00     -5.145661E-07   2.363338E-06    1       3       1.282070E-01    \n",
      "2       -7.836956008629E+00     -9.198257E-07   5.147929E-06    1       2       1.924045E-01    \n",
      "#### Density Optimization Converged ####\n",
      "Chemical potential (a.u.): -0.13566627683341775\n",
      "Chemical potential (eV)  : -3.6916674294028016\n",
      " OESCF--> iter=42    conv=1.600E-06 de=4.586E-06 energy=-8.533740E+00 time=6.124232E+01\n",
      "Step    Energy(a.u.)            dE              dP              Nd      Nls     Time(s)         \n",
      "0       -7.836954260270E+00     -7.836954E+00   2.412739E-06    1       1       2.245641E-02    \n",
      "1       -7.836954633510E+00     -3.732406E-07   2.090895E-06    1       3       1.273489E-01    \n",
      "2       -7.836957194696E+00     -2.561186E-06   3.868385E-06    1       2       1.984913E-01    \n",
      "3       -7.836958168475E+00     -9.737791E-07   9.593598E-07    1       3       3.008053E-01    \n",
      "4       -7.836958333437E+00     -1.649616E-07   5.278779E-07    1       3       4.057682E-01    \n",
      "#### Density Optimization Converged ####\n",
      "Chemical potential (a.u.): -0.13570914544153556\n",
      "Chemical potential (eV)  : -3.6928339436466224\n",
      " OESCF--> iter=43    conv=1.600E-06 de=2.965E-06 energy=-8.533743E+00 time=7.628285E+01\n",
      "Step    Energy(a.u.)            dE              dP              Nd      Nls     Time(s)         \n",
      "0       -7.836946584697E+00     -7.836947E+00   5.253826E-06    1       1       2.278686E-02    \n",
      "1       -7.836947400174E+00     -8.154771E-07   2.592040E-06    1       3       1.355934E-01    \n",
      "2       -7.836948059272E+00     -6.590980E-07   2.622339E-06    1       3       2.426178E-01    \n",
      "#### Density Optimization Converged ####\n",
      "Chemical potential (a.u.): -0.13565467364364742\n",
      "Chemical potential (eV)  : -3.691351690526847\n",
      " OESCF--> iter=44    conv=1.600E-06 de=7.019E-07 energy=-8.533742E+00 time=9.143454E+01\n",
      "##### OESCF Density Optimization Converged #####\n"
     ]
    }
   ],
   "source": [
    "rho0 = opt.optimize_rho(guess_rho=rho, econv=1e-6)"
   ]
  },
  {
   "cell_type": "markdown",
   "id": "b4916d14",
   "metadata": {
    "slideshow": {
     "slide_type": "slide"
    }
   },
   "source": [
    "# Time dependent part\n",
    "### Remove the von Wäzecker KEDF\n",
    "Change the KE functional in the total functional to Pauli functional, the laplacian is handled by the hamiltonian\n",
    "$$\n",
    "v_p(\\mathbf{r},t) = v_{Ts}(\\mathbf{r},t) - v_{vW}(\\mathbf{r},t)\n",
    "$$\n",
    "\n",
    "##### Initialize the Time propagation from $n_{LMGP}(\\mathbf{r})$\n",
    "$$H(t) = H(t_0) + [\\tilde{H}(t)-\\tilde{H}(t_0)]$$\n",
    "$$v_B(\\mathbf{r},t) = v_B(\\mathbf{r},t_0) + [\\tilde{v}_B(\\mathbf{r},t)-\\tilde{v}_B(\\mathbf{r},t_0)]$$\n",
    "$$\n",
    "[-\\frac{1}{2}\\nabla ^2 + v_B(\\mathbf{r},t_0)]\\phi_B(\\mathbf{r},t_0) = \\mu \\phi_B(\\mathbf{r},t_0) \\rightarrow v_B(\\mathbf{r},t_0) = \\underbrace{\\frac{1}{2}\\frac{\\nabla ^2 \\phi_B(\\mathbf{r},t_0)}{\\phi_B(\\mathbf{r},t_0)}}_{-v_{vW}[n(\\mathbf{r},t_0)]} + \\mu \n",
    "$$\n",
    "$$\n",
    "v_B(\\mathbf{r},t) = -v_{vW}(\\mathbf{r},t_0) + [\\tilde{v}_s(\\mathbf{r},t)+\\tilde{v}_p(\\mathbf{r},t)-\\tilde{v}_s(\\mathbf{r},t_0)-\\tilde{v}_p(\\mathbf{r},t_0)]\n",
    "$$\n",
    "$$\n",
    "\\therefore v_B(\\mathbf{r},t) = -v_{vW}[n(\\mathbf{r},t_0)] + [\\tilde{v}_s(\\mathbf{r},t)+\\tilde{v}_p(\\mathbf{r},t)-\\tilde{v}_s[n(\\mathbf{r},t_0)]-\\tilde{v}_p[n(\\mathbf{r},t_0)]]\n",
    "$$"
   ]
  },
  {
   "cell_type": "code",
   "execution_count": 100,
   "id": "376c41d7",
   "metadata": {},
   "outputs": [],
   "source": [
    "ke = Functional(type='KEDF',name='LMGP', kfmax=kfmax, kfmin=1e-10, ratio=1.02)\n",
    "totalfunctional = TotalFunctional(KEDF=ke, XC=xc, HARTREE=hartree, PSEUDO=pseudo)\n",
    "\n",
    "ke.options.update({'y':0})\n",
    "v_vw = vw(rho0).potential \n",
    "v_s = pseudo(rho0).potential + hartree(rho0).potential + xc(rho0).potential\n",
    "v_p = ke(rho0).potential\n",
    "v_ext = -(v_vw + v_s + v_p)"
   ]
  },
  {
   "cell_type": "code",
   "execution_count": 101,
   "id": "997fbbf6-c876-4efa-859d-3f7b5802c099",
   "metadata": {},
   "outputs": [],
   "source": [
    "from dftpy.functional.external_potential import ExternalPotential"
   ]
  },
  {
   "cell_type": "code",
   "execution_count": 103,
   "id": "8aa45bfd-ae3c-4a13-93d3-4af18a7dd34d",
   "metadata": {},
   "outputs": [],
   "source": [
    "ext = ExternalPotential(v=v_ext)\n",
    "totalfunctional.UpdateFunctional(newFuncDict={'EXT': ext})"
   ]
  },
  {
   "cell_type": "markdown",
   "id": "99beedb6-8825-4c35-b69b-3eb2b07c4038",
   "metadata": {},
   "source": [
    "### Verify Ground state\n",
    "BUild the hamiltonian and diagonalize it to verify that the propagation starts with the correct initial density "
   ]
  },
  {
   "cell_type": "code",
   "execution_count": 104,
   "id": "cc6b4247-f836-4d5b-916d-c4bcb477eae6",
   "metadata": {},
   "outputs": [],
   "source": [
    "potential = totalfunctional(rho0).potential\n",
    "H = Hamiltonian(v=potential)\n",
    "eigval, psi_list = H.diagonalize(numeig=1)"
   ]
  },
  {
   "cell_type": "code",
   "execution_count": 105,
   "id": "f5bf18e5-4491-4b2a-b2eb-5d8c6a1c9448",
   "metadata": {},
   "outputs": [],
   "source": [
    "psi_lmgp = np.sqrt(rho0)"
   ]
  },
  {
   "cell_type": "code",
   "execution_count": 106,
   "id": "6d4eb6b4-8e4d-49de-a5e9-4417ca5e2808",
   "metadata": {},
   "outputs": [],
   "source": [
    "N = (psi_lmgp*psi_lmgp).integral()"
   ]
  },
  {
   "cell_type": "code",
   "execution_count": 107,
   "id": "9d3bd7cf-81ab-4635-be38-c1c3864afa97",
   "metadata": {},
   "outputs": [],
   "source": [
    "rho_h = N * (psi_list[0]*psi_list[0])"
   ]
  },
  {
   "cell_type": "code",
   "execution_count": 114,
   "id": "d8fa3324-632d-44a9-98f5-072d4b3c314d",
   "metadata": {},
   "outputs": [
    {
     "data": {
      "text/plain": [
       "<matplotlib.image.AxesImage at 0x7fbd6465c910>"
      ]
     },
     "execution_count": 114,
     "metadata": {},
     "output_type": "execute_result"
    },
    {
     "data": {
      "image/png": "[encoded data removed]",
      "text/plain": [
       "<Figure size 1000x300 with 2 Axes>"
      ]
     },
     "metadata": {},
     "output_type": "display_data"
    }
   ],
   "source": [
    "fig, axs = plt.subplots(1, 2, figsize=(10, 3))\n",
    "r = np.linspace(0,ions.cell[2][2],len(rho_h[16,16,:].ravel()))\n",
    "axs[0].plot(r, rho_h[15,15,:].ravel())\n",
    "axs[0].plot(r, rho0[15,15,:].ravel())\n",
    "axs[0].set_ylabel('n(r)')\n",
    "axs[0].set_xlabel('r (au)')\n",
    "\n",
    "axs[1].matshow(rho_h[:,:,15])"
   ]
  },
  {
   "cell_type": "markdown",
   "id": "c2f2e190-b292-457a-b651-cace08886d44",
   "metadata": {},
   "source": [
    "## Time propagation"
   ]
  },
  {
   "cell_type": "code",
   "execution_count": 77,
   "id": "3703cb88-2f59-4997-9258-b8461aadf6a7",
   "metadata": {},
   "outputs": [],
   "source": [
    "from qepy.qepy_modules import constants\n",
    "au_sec = constants.get_au_sec()\n",
    "as2au = 1.0E-18 / au_sec\n",
    "bohr = constants.get_angstrom_au()\n",
    "k = 0.01*bohr\n",
    "interval = 1.0 * as2au\n",
    "ha = constants.get_autoev()"
   ]
  },
  {
   "cell_type": "code",
   "execution_count": 78,
   "id": "6bc75243",
   "metadata": {},
   "outputs": [],
   "source": [
    "direction = 0 # 0, 1, 2 means x, y, z-direction, respectively"
   ]
  },
  {
   "cell_type": "markdown",
   "id": "6084d710-0166-4df8-95cd-24a4146e1389",
   "metadata": {},
   "source": [
    "## Run with Crank Nicholson propagator"
   ]
  },
  {
   "cell_type": "code",
   "execution_count": 79,
   "id": "82a47b3d",
   "metadata": {
    "slideshow": {
     "slide_type": "slide"
    }
   },
   "outputs": [],
   "source": [
    "from dftpy.optimize import Dynamics\n",
    "\n",
    "\n",
    "class Runner(Dynamics):\n",
    "\n",
    "    def __init__(self, rho0, totalfunctional, k, direction, interval, max_steps):\n",
    "        super(Runner, self).__init__()\n",
    "        self.max_steps = max_steps\n",
    "        self.totalfunctional = totalfunctional\n",
    "        self.rho0 = rho0\n",
    "        self.rho = rho0\n",
    "        self.psi = initial_kick(k, direction, np.sqrt(self.rho0))\n",
    "        self.j = calc_j(self.psi)\n",
    "        potential = self.totalfunctional(self.rho0, current=self.j, calcType=['V']).potential\n",
    "        hamiltonian = Hamiltonian(v=potential)\n",
    "        self.prop = Propagator(hamiltonian, interval, name='crank-nicholson')\n",
    "        self.dipole = []\n",
    "        self.attach(self.calc_dipole) # this attaches the calc_dipole function to the observers list which runs after each time step.\n",
    "\n",
    "    def step(self):\n",
    "        self.psi, info = self.prop(self.psi)\n",
    "        self.rho = calc_rho(self.psi)\n",
    "        self.j = calc_j(self.psi)\n",
    "        potential = self.totalfunctional(self.rho, current=self.j, calcType=['V']).potential\n",
    "        self.prop.hamiltonian.v = potential\n",
    "        print(\"\\r\", end=\"\")\n",
    "        print(f\"Progress: [{self.nsteps+1}/{self.max_steps}]\", \"|\" * (self.nsteps*50 // self.max_steps), end=\"\", flush=True)\n",
    "\n",
    "    def calc_dipole(self):\n",
    "        delta_rho = self.rho - self.rho0\n",
    "        delta_mu = (delta_rho * delta_rho.grid.r).integral()\n",
    "        self.dipole.append(delta_mu)"
   ]
  },
  {
   "cell_type": "code",
   "execution_count": 86,
   "id": "6eb46c73",
   "metadata": {
    "slideshow": {
     "slide_type": "slide"
    }
   },
   "outputs": [
    {
     "name": "stdout",
     "output_type": "stream",
     "text": [
      "Progress: [1000/1000] |||||||||||||||||||||||||||||||||||||||||||||||||"
     ]
    },
    {
     "data": {
      "text/plain": [
       "False"
      ]
     },
     "execution_count": 86,
     "metadata": {},
     "output_type": "execute_result"
    }
   ],
   "source": [
    "max_steps = 1000\n",
    "runner = Runner(rho0, totalfunctional, k, direction, interval, max_steps)\n",
    "runner()"
   ]
  },
  {
   "cell_type": "code",
   "execution_count": 87,
   "id": "d9694650-2e43-425b-a0e9-6789d0ae7b1f",
   "metadata": {},
   "outputs": [],
   "source": [
    "t = np.linspace(0, interval * max_steps, max_steps + 1)\n",
    "mu = np.asarray(runner.dipole)"
   ]
  },
  {
   "cell_type": "markdown",
   "id": "fe87eea8",
   "metadata": {},
   "source": [
    "## Plot the dipole moment"
   ]
  },
  {
   "cell_type": "code",
   "execution_count": 88,
   "id": "d0652174-c8bd-4a99-8bfd-829bde91dcfd",
   "metadata": {},
   "outputs": [
    {
     "data": {
      "text/plain": [
       "Text(0, 0.5, 'Dipole Moment (au)')"
      ]
     },
     "execution_count": 88,
     "metadata": {},
     "output_type": "execute_result"
    },
    {
     "data": {
      "image/png": "[encoded data removed]",
      "text/plain": [
       "<Figure size 640x480 with 1 Axes>"
      ]
     },
     "metadata": {},
     "output_type": "display_data"
    }
   ],
   "source": [
    "delta_mu = mu[:,0] - mu[0,0]\n",
    "plt.plot(t, delta_mu)\n",
    "plt.xlabel('Time (au)')\n",
    "plt.ylabel('Dipole Moment (au)')"
   ]
  },
  {
   "cell_type": "markdown",
   "id": "a9bb2926",
   "metadata": {
    "slideshow": {
     "slide_type": "slide"
    }
   },
   "source": [
    "## Plot the optical spectra"
   ]
  },
  {
   "cell_type": "code",
   "execution_count": 89,
   "id": "47bcdc31-0d8a-4f02-88b0-8d5a5dfc9c48",
   "metadata": {
    "slideshow": {
     "slide_type": "fragment"
    }
   },
   "outputs": [
    {
     "data": {
      "text/plain": [
       "(0.0, 20.0)"
      ]
     },
     "execution_count": 89,
     "metadata": {},
     "output_type": "execute_result"
    },
    {
     "data": {
      "image/png": "[encoded data removed]",
      "text/plain": [
       "<Figure size 640x480 with 1 Axes>"
      ]
     },
     "metadata": {},
     "output_type": "display_data"
    }
   ],
   "source": [
    "sigma = 0.2*(as2au**2)\n",
    "omega, spectra = calc_spectra_mu(delta_mu, interval, sigma=sigma, kick=k)\n",
    "plt.plot(omega*Units.Ha, spectra, '-')\n",
    "plt.xlabel('Frequency (eV)')\n",
    "plt.ylabel('Intensity (au)')\n",
    "plt.xlim(0, 20)"
   ]
  },
  {
   "cell_type": "markdown",
   "id": "7bcf3841",
   "metadata": {
    "slideshow": {
     "slide_type": "slide"
    }
   },
   "source": [
    "## Challenge \n",
    "\n",
    "Calculate the optical spectra of your own cluster"
   ]
  },
  {
   "cell_type": "markdown",
   "id": "3381e13b",
   "metadata": {},
   "source": [
    "### Build a cluster with ASE\n"
   ]
  },
  {
   "cell_type": "code",
   "execution_count": 93,
   "id": "e4be1946",
   "metadata": {},
   "outputs": [],
   "source": [
    "from ase.cluster.cubic import FaceCenteredCubic\n",
    "\n",
    "surfaces = [(1, 0, 0), (1, 1, 0), (1, 1, 1)]\n",
    "layers = [2, 2, 2]\n",
    "lc = 3.61000\n",
    "atoms = FaceCenteredCubic('Cu', surfaces, layers, latticeconstant=lc)\n",
    "atoms.set_cell([10,10,10])\n",
    "atoms.wrap()\n",
    "atoms.center(vacuum=10.0)"
   ]
  },
  {
   "cell_type": "code",
   "execution_count": 94,
   "id": "eb400e2e",
   "metadata": {},
   "outputs": [
    {
     "data": {
      "text/plain": [
       "19"
      ]
     },
     "execution_count": 94,
     "metadata": {},
     "output_type": "execute_result"
    }
   ],
   "source": [
    "atoms.get_global_number_of_atoms()"
   ]
  },
  {
   "cell_type": "code",
   "execution_count": 95,
   "id": "c1beacc7",
   "metadata": {
    "slideshow": {
     "slide_type": "subslide"
    }
   },
   "outputs": [
    {
     "data": {
      "application/3dmoljs_load.v0": "<div id=\"3dmolviewer_17467255441565216\"  style=\"position: relative; width: 640px; height: 480px;\">\n        <p id=\"3dmolwarning_17467255441565216\" style=\"background-color:#ffcccc;color:black\">3Dmol.js failed to load for some reason.  Please check your browser console for error messages.<br></p>\n        </div>\n<script>\n\nvar loadScriptAsync = function(uri){\n  return new Promise((resolve, reject) => {\n    //this is to ignore the existence of requirejs amd\n    var savedexports, savedmodule;\n    if (typeof exports !== 'undefined') savedexports = exports;\n    else exports = {}\n    if (typeof module !== 'undefined') savedmodule = module;\n    else module = {}\n\n    var tag = document.createElement('script');\n    tag.src = uri;\n    tag.async = true;\n    tag.onload = () => {\n        exports = savedexports;\n        module = savedmodule;\n        resolve();\n    };\n  var firstScriptTag = document.getElementsByTagName('script')[0];\n  firstScriptTag.parentNode.insertBefore(tag, firstScriptTag);\n});\n};\n\nif(typeof $3Dmolpromise === 'undefined') {\n$3Dmolpromise = null;\n  $3Dmolpromise = loadScriptAsync('https://cdnjs.cloudflare.com/ajax/libs/3Dmol/2.4.2/3Dmol-min.js');\n}\n\nvar viewer_17467255441565216 = null;\nvar warn = document.getElementById(\"3dmolwarning_17467255441565216\");\nif(warn) {\n    warn.parentNode.removeChild(warn);\n}\n$3Dmolpromise.then(function() {\nviewer_17467255441565216 = $3Dmol.createViewer(document.getElementById(\"3dmolviewer_17467255441565216\"),{backgroundColor:\"white\"});\nviewer_17467255441565216.addModel(\"19\\nLattice=\\\"27.22 0.0 0.0 0.0 27.22 0.0 0.0 0.0 27.22\\\" Properties=species:S:1:pos:R:3 pbc=\\\"F F F\\\"\\nCu      11.80500000      11.80500000      13.61000000\\nCu      11.80500000      13.61000000      11.80500000\\nCu      10.00000000      13.61000000      13.61000000\\nCu      11.80500000      13.61000000      15.41500000\\nCu      11.80500000      15.41500000      13.61000000\\nCu      13.61000000      11.80500000      11.80500000\\nCu      13.61000000      10.00000000      13.61000000\\nCu      13.61000000      11.80500000      15.41500000\\nCu      15.41500000      11.80500000      13.61000000\\nCu      13.61000000      13.61000000      10.00000000\\nCu      13.61000000      15.41500000      11.80500000\\nCu      15.41500000      13.61000000      11.80500000\\nCu      13.61000000      13.61000000      13.61000000\\nCu      13.61000000      15.41500000      15.41500000\\nCu      15.41500000      13.61000000      15.41500000\\nCu      15.41500000      15.41500000      13.61000000\\nCu      13.61000000      13.61000000      17.22000000\\nCu      13.61000000      17.22000000      13.61000000\\nCu      17.22000000      13.61000000      13.61000000\\n\");\nviewer_17467255441565216.setStyle(\"sphere\");\nviewer_17467255441565216.zoomTo();\n\tviewer_17467255441565216.addUnitCell();\n\tviewer_17467255441565216.zoomTo();\nviewer_17467255441565216.render();\n});\n</script>",
      "text/html": [
       "<div id=\"3dmolviewer_17467255441565216\"  style=\"position: relative; width: 640px; height: 480px;\">\n",
       "        <p id=\"3dmolwarning_17467255441565216\" style=\"background-color:#ffcccc;color:black\">3Dmol.js failed to load for some reason.  Please check your browser console for error messages.<br></p>\n",
       "        </div>\n",
       "<script>\n",
       "\n",
       "var loadScriptAsync = function(uri){\n",
       "  return new Promise((resolve, reject) => {\n",
       "    //this is to ignore the existence of requirejs amd\n",
       "    var savedexports, savedmodule;\n",
       "    if (typeof exports !== 'undefined') savedexports = exports;\n",
       "    else exports = {}\n",
       "    if (typeof module !== 'undefined') savedmodule = module;\n",
       "    else module = {}\n",
       "\n",
       "    var tag = document.createElement('script');\n",
       "    tag.src = uri;\n",
       "    tag.async = true;\n",
       "    tag.onload = () => {\n",
       "        exports = savedexports;\n",
       "        module = savedmodule;\n",
       "        resolve();\n",
       "    };\n",
       "  var firstScriptTag = document.getElementsByTagName('script')[0];\n",
       "  firstScriptTag.parentNode.insertBefore(tag, firstScriptTag);\n",
       "});\n",
       "};\n",
       "\n",
       "if(typeof $3Dmolpromise === 'undefined') {\n",
       "$3Dmolpromise = null;\n",
       "  $3Dmolpromise = loadScriptAsync('https://cdnjs.cloudflare.com/ajax/libs/3Dmol/2.4.2/3Dmol-min.js');\n",
       "}\n",
       "\n",
       "var viewer_17467255441565216 = null;\n",
       "var warn = document.getElementById(\"3dmolwarning_17467255441565216\");\n",
       "if(warn) {\n",
       "    warn.parentNode.removeChild(warn);\n",
       "}\n",
       "$3Dmolpromise.then(function() {\n",
       "viewer_17467255441565216 = $3Dmol.createViewer(document.getElementById(\"3dmolviewer_17467255441565216\"),{backgroundColor:\"white\"});\n",
       "viewer_17467255441565216.addModel(\"19\\nLattice=\\\"27.22 0.0 0.0 0.0 27.22 0.0 0.0 0.0 27.22\\\" Properties=species:S:1:pos:R:3 pbc=\\\"F F F\\\"\\nCu      11.80500000      11.80500000      13.61000000\\nCu      11.80500000      13.61000000      11.80500000\\nCu      10.00000000      13.61000000      13.61000000\\nCu      11.80500000      13.61000000      15.41500000\\nCu      11.80500000      15.41500000      13.61000000\\nCu      13.61000000      11.80500000      11.80500000\\nCu      13.61000000      10.00000000      13.61000000\\nCu      13.61000000      11.80500000      15.41500000\\nCu      15.41500000      11.80500000      13.61000000\\nCu      13.61000000      13.61000000      10.00000000\\nCu      13.61000000      15.41500000      11.80500000\\nCu      15.41500000      13.61000000      11.80500000\\nCu      13.61000000      13.61000000      13.61000000\\nCu      13.61000000      15.41500000      15.41500000\\nCu      15.41500000      13.61000000      15.41500000\\nCu      15.41500000      15.41500000      13.61000000\\nCu      13.61000000      13.61000000      17.22000000\\nCu      13.61000000      17.22000000      13.61000000\\nCu      17.22000000      13.61000000      13.61000000\\n\");\n",
       "viewer_17467255441565216.setStyle(\"sphere\");\n",
       "viewer_17467255441565216.zoomTo();\n",
       "\tviewer_17467255441565216.addUnitCell();\n",
       "\tviewer_17467255441565216.zoomTo();\n",
       "viewer_17467255441565216.render();\n",
       "});\n",
       "</script>"
      ]
     },
     "metadata": {},
     "output_type": "display_data"
    }
   ],
   "source": [
    "import py3Dmol\n",
    "from ase.build import bulk\n",
    "from ase.io import write\n",
    "from ase.constraints import FixBondLength\n",
    "write('cluster.xyz',atoms)\n",
    "v = py3Dmol.view(data=open('./cluster.xyz','r').read(), style='sphere',linked=False)\n",
    "\n",
    "v.addUnitCell()\n",
    "v.zoomTo()\n",
    "v.show()"
   ]
  }
 ],
 "metadata": {
  "celltoolbar": "Slideshow",
  "kernelspec": {
   "display_name": "pyenv_tddft",
   "language": "python",
   "name": "pyenv_tddft"
  },
  "language_info": {
   "codemirror_mode": {
    "name": "ipython",
    "version": 3
   },
   "file_extension": ".py",
   "mimetype": "text/x-python",
   "name": "python",
   "nbconvert_exporter": "python",
   "pygments_lexer": "ipython3",
   "version": "3.10.8"
  }
 },
 "nbformat": 4,
 "nbformat_minor": 5
}
