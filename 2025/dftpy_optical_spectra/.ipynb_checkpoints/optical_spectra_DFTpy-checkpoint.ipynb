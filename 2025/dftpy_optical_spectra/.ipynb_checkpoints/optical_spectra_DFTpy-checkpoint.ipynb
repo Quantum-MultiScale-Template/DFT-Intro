{
 "cells": [
  {
   "cell_type": "markdown",
   "id": "3fece55d",
   "metadata": {
    "slideshow": {
     "slide_type": "slide"
    }
   },
   "source": [
    "<center>\n",
    "    <h3> Real-Time Time Dependent Orbital Free Density Functional Theory with DFTpy</h3>\n",
    "    <h3>Tutorial</h3>\n",
    "</center>\n",
    "<table>\n",
    "  <tr>\n",
    "      <td><p><h4>Rutgers University-Newark</h4></p><p>Dr Xuecheng Shao</p><p>Dr Kaili Jiang (Microsoft)</p><p>Dr. Xin Chen</p><p>Jessica Martinez</p><p>Valeria Rios </p><p>Alina Umerbekova</p><p>Nicholas Viot</p></td>\n",
    "          <td><img src=\"../figures/logos/logo.jpg\" width=800 /></td>\n",
    "  </tr>\n",
    "</table>\n",
    "\n",
    "Quantum Multiscale School June 2024"
   ]
  },
  {
   "cell_type": "markdown",
   "id": "34dd5615",
   "metadata": {
    "slideshow": {
     "slide_type": "slide"
    }
   },
   "source": [
    "## Goal\n",
    "#### 1) Obtain the Optical Spectra (plasmons) of a Mg<sub>8</sub> cluster using DFTpy\n",
    "#### 2) Obtain the spectrum of your own cluster"
   ]
  },
  {
   "cell_type": "code",
   "execution_count": 3,
   "id": "2a4414f0",
   "metadata": {
    "slideshow": {
     "slide_type": "slide"
    }
   },
   "outputs": [],
   "source": [
    "import numpy as np\n",
    "import matplotlib.pyplot as plt"
   ]
  },
  {
   "cell_type": "code",
   "execution_count": 4,
   "id": "cc9b0b75",
   "metadata": {},
   "outputs": [],
   "source": [
    "from dftpy.grid import DirectGrid\n",
    "from dftpy.field import DirectField\n",
    "from dftpy.functional import Functional, TotalFunctional\n",
    "from dftpy.optimization import Optimization\n",
    "from dftpy.td.propagator import Propagator\n",
    "from dftpy.td.hamiltonian import Hamiltonian\n",
    "from dftpy.utils.utils import calc_rho, calc_j\n",
    "from dftpy.td.utils import initial_kick\n",
    "from dftpy.ions import Ions\n",
    "from dftpy.formats import io\n",
    "from dftpy.constants import Units\n",
    "from dftpy.td.utils import calc_spectra_mu"
   ]
  },
  {
   "cell_type": "code",
   "execution_count": 5,
   "id": "378370cd-be7a-4f9a-90a8-aae9d5954de5",
   "metadata": {},
   "outputs": [],
   "source": [
    "import urllib.request\n",
    "additional_files = [\n",
    "    'https://gitlab.com/pavanello-research-group/dftpy/-/raw/master/examples/DATA/Mg8.vasp',\n",
    "    'https://gitlab.com/pavanello-research-group/dftpy/-/raw/master/examples/DATA/Mg_OEPP_PZ.UPF',\n",
    "]\n",
    "from dftpy.formats import download_files\n",
    "download_files(additional_files)"
   ]
  },
  {
   "cell_type": "markdown",
   "id": "fe019cf0",
   "metadata": {
    "slideshow": {
     "slide_type": "slide"
    }
   },
   "source": [
    "### Read the vasp file with DFTpy"
   ]
  },
  {
   "cell_type": "code",
   "execution_count": 6,
   "id": "1cc0e6f4",
   "metadata": {
    "slideshow": {
     "slide_type": "-"
    }
   },
   "outputs": [],
   "source": [
    "ions = io.read('Mg8.vasp', format='vasp', names=['Mg'])"
   ]
  },
  {
   "cell_type": "markdown",
   "id": "1b37141d",
   "metadata": {},
   "source": [
    "### Create the PP list and the Grid\n",
    "DirectGrid is a class object that represents a grid (Cell plus discretization)"
   ]
  },
  {
   "cell_type": "code",
   "execution_count": 7,
   "id": "9bfd4f19",
   "metadata": {},
   "outputs": [],
   "source": [
    "PP_list = ['./Mg_OEPP_PZ.UPF']\n",
    "grid = DirectGrid(ions.cell, spacing = 1.1)"
   ]
  },
  {
   "cell_type": "code",
   "execution_count": 8,
   "id": "5522f442",
   "metadata": {},
   "outputs": [
    {
     "data": {
      "text/plain": [
       "array([36, 36, 32], dtype=int32)"
      ]
     },
     "execution_count": 8,
     "metadata": {},
     "output_type": "execute_result"
    }
   ],
   "source": [
    "grid.nr"
   ]
  },
  {
   "cell_type": "markdown",
   "id": "a70560ea",
   "metadata": {
    "slideshow": {
     "slide_type": "slide"
    }
   },
   "source": [
    "### Define the functionals for OF-DFT"
   ]
  },
  {
   "cell_type": "code",
   "execution_count": 9,
   "id": "bd1b5f48",
   "metadata": {},
   "outputs": [
    {
     "name": "stdout",
     "output_type": "stream",
     "text": [
      "setting key: Mg -> ./Mg_OEPP_PZ.UPF\n"
     ]
    }
   ],
   "source": [
    "ke = Functional(type='KEDF',name='TFvW')\n",
    "xc = Functional(type='XC',name='LDA')\n",
    "hartree = Functional(type='HARTREE')\n",
    "pseudo = Functional(type='PSEUDO', grid=grid, ions=ions, PP_list=PP_list)\n",
    "totalfunctional = TotalFunctional(KEDF=ke, XC=xc, HARTREE=hartree, PSEUDO=pseudo)"
   ]
  },
  {
   "cell_type": "markdown",
   "id": "c5c08f82",
   "metadata": {
    "slideshow": {
     "slide_type": "slide"
    }
   },
   "source": [
    "### Represented a field on a grid\n",
    "Write on the grid the initial electronic density"
   ]
  },
  {
   "cell_type": "code",
   "execution_count": 10,
   "id": "b3f26af8-699f-4cad-ba63-9f7d04bb68b9",
   "metadata": {},
   "outputs": [],
   "source": [
    "rho_ini = DirectField(grid=grid)\n",
    "rho_ini[:] = ions.get_ncharges()/ions.cell.volume"
   ]
  },
  {
   "cell_type": "code",
   "execution_count": 11,
   "id": "070ae581",
   "metadata": {},
   "outputs": [
    {
     "data": {
      "text/plain": [
       "(36, 36, 32)"
      ]
     },
     "execution_count": 11,
     "metadata": {},
     "output_type": "execute_result"
    }
   ],
   "source": [
    "rho_ini.shape"
   ]
  },
  {
   "cell_type": "markdown",
   "id": "ee9555af",
   "metadata": {
    "slideshow": {
     "slide_type": "slide"
    }
   },
   "source": [
    "### Write the optimization options and build the class that handles the electron density optimization"
   ]
  },
  {
   "cell_type": "code",
   "execution_count": 12,
   "id": "f0bc84f2",
   "metadata": {},
   "outputs": [],
   "source": [
    "optimization_options = {'econv' : 1e-9,'maxiter' : 100}\n",
    "\n",
    "opt = Optimization(EnergyEvaluator=totalfunctional, optimization_options = optimization_options,\n",
    "        optimization_method = 'TN')"
   ]
  },
  {
   "cell_type": "markdown",
   "id": "c72f3065",
   "metadata": {},
   "source": [
    "#### Run the optimization of the electronic density"
   ]
  },
  {
   "cell_type": "code",
   "execution_count": 13,
   "id": "f7c5470f",
   "metadata": {
    "scrolled": true
   },
   "outputs": [
    {
     "name": "stdout",
     "output_type": "stream",
     "text": [
      "Step    Energy(a.u.)            dE              dP              Nd      Nls     Time(s)         \n",
      "0       8.951916882520E+00      8.951917E+00    2.343046E+00    1       1       7.121627E-01    \n",
      "!WARN: Change to steepest decent\n",
      "1       -4.969090300003E+00     -1.392101E+01   1.122103E+00    1       4       7.867765E-01    \n",
      "2       -5.991150585657E+00     -1.022060E+00   1.518278E-01    4       2       8.575375E-01    \n",
      "3       -6.136119775971E+00     -1.449692E-01   1.739022E-02    9       1       9.734447E-01    \n",
      "4       -6.144712261211E+00     -8.592485E-03   1.159534E-03    5       1       1.042399E+00    \n",
      "5       -6.146210665394E+00     -1.498404E-03   1.868764E-04    9       2       1.167321E+00    \n",
      "6       -6.146462117982E+00     -2.514526E-04   3.070827E-05    10      2       1.302922E+00    \n",
      "7       -6.146493981948E+00     -3.186397E-05   5.229754E-06    8       2       1.417955E+00    \n",
      "8       -6.146501135266E+00     -7.153318E-06   8.491797E-07    10      2       1.555267E+00    \n",
      "9       -6.146502111464E+00     -9.761980E-07   1.528235E-07    8       2       1.671103E+00    \n",
      "10      -6.146502324673E+00     -2.132097E-07   2.679106E-08    10      2       1.808626E+00    \n",
      "11      -6.146502354745E+00     -3.007176E-08   4.486518E-09    8       2       1.924387E+00    \n",
      "12      -6.146502361130E+00     -6.384797E-09   7.557564E-10    10      2       2.062166E+00    \n",
      "13      -6.146502361994E+00     -8.638708E-10   1.380149E-10    9       2       2.189421E+00    \n",
      "14      -6.146502362150E+00     -1.559375E-10   5.555332E-11    11      2       2.337639E+00    \n",
      "15      -6.146502362171E+00     -2.178169E-11   2.383770E-11    8       2       2.453024E+00    \n",
      "#### Density Optimization Converged ####\n",
      "Chemical potential (a.u.): -0.12885091979876634\n",
      "Chemical potential (eV)  : -3.5062121182390147\n"
     ]
    }
   ],
   "source": [
    " rho0 = opt.optimize_rho(guess_rho=rho_ini)"
   ]
  },
  {
   "cell_type": "markdown",
   "id": "b4916d14",
   "metadata": {
    "slideshow": {
     "slide_type": "slide"
    }
   },
   "source": [
    "# Time dependent part\n",
    "### Remove the von Wäzecker KEDF\n",
    "Change the KE functional in the total functional to Pauli functional, the laplacian is handled by the hamiltonian"
   ]
  },
  {
   "cell_type": "code",
   "execution_count": 14,
   "id": "376c41d7",
   "metadata": {},
   "outputs": [],
   "source": [
    " ke.options.update({'y':0})"
   ]
  },
  {
   "cell_type": "code",
   "execution_count": 15,
   "id": "6bc75243",
   "metadata": {},
   "outputs": [],
   "source": [
    "direction = 0 # 0, 1, 2 means x, y, z-direction, respectively\n",
    "k = 1.0e-3 # kick_strength in a.u.\n",
    "interval = 0.04 "
   ]
  },
  {
   "cell_type": "code",
   "execution_count": 16,
   "id": "82a47b3d",
   "metadata": {
    "slideshow": {
     "slide_type": "slide"
    }
   },
   "outputs": [],
   "source": [
    "from dftpy.optimize import Dynamics\n",
    "\n",
    "\n",
    "class Runner(Dynamics):\n",
    "\n",
    "    def __init__(self, rho0, totalfunctional, k, direction, interval, max_steps):\n",
    "        super(Runner, self).__init__()\n",
    "        self.max_steps = max_steps\n",
    "        self.totalfunctional = totalfunctional\n",
    "        self.rho0 = rho0\n",
    "        self.rho = rho0\n",
    "        self.psi = initial_kick(k, direction, np.sqrt(self.rho0))\n",
    "        self.j = calc_j(self.psi)\n",
    "        potential = self.totalfunctional(self.rho0, current=self.j, calcType=['V']).potential\n",
    "        hamiltonian = Hamiltonian(v=potential)\n",
    "        self.prop = Propagator(hamiltonian, interval, name='crank-nicholson')\n",
    "        self.dipole = []\n",
    "        self.attach(self.calc_dipole) # this attaches the calc_dipole function to the observers list which runs after each time step.\n",
    "\n",
    "    def step(self):\n",
    "        self.psi, info = self.prop(self.psi)\n",
    "        self.rho = calc_rho(self.psi)\n",
    "        self.j = calc_j(self.psi)\n",
    "        potential = self.totalfunctional(self.rho, current=self.j, calcType=['V']).potential\n",
    "        self.prop.hamiltonian.v = potential\n",
    "        print(\"\\r\", end=\"\")\n",
    "        print(f\"Progress: [{self.nsteps+1}/{self.max_steps}]\", \"|\" * (self.nsteps*50 // self.max_steps), end=\"\", flush=True)\n",
    "\n",
    "    def calc_dipole(self):\n",
    "        delta_rho = self.rho - self.rho0\n",
    "        delta_mu = (delta_rho * delta_rho.grid.r).integral()\n",
    "        self.dipole.append(delta_mu)"
   ]
  },
  {
   "cell_type": "code",
   "execution_count": 17,
   "id": "6eb46c73",
   "metadata": {
    "slideshow": {
     "slide_type": "slide"
    }
   },
   "outputs": [
    {
     "name": "stdout",
     "output_type": "stream",
     "text": [
      "Progress: [500/500] |||||||||||||||||||||||||||||||||||||||||||||||||"
     ]
    },
    {
     "data": {
      "text/plain": [
       "False"
      ]
     },
     "execution_count": 17,
     "metadata": {},
     "output_type": "execute_result"
    }
   ],
   "source": [
    "max_steps = 500\n",
    "runner = Runner(rho0, totalfunctional, k, direction, interval, max_steps)\n",
    "runner()"
   ]
  },
  {
   "cell_type": "code",
   "execution_count": 18,
   "id": "d9694650-2e43-425b-a0e9-6789d0ae7b1f",
   "metadata": {},
   "outputs": [],
   "source": [
    "t = np.linspace(0, interval * max_steps, max_steps + 1)\n",
    "mu = np.asarray(runner.dipole)"
   ]
  },
  {
   "cell_type": "markdown",
   "id": "fe87eea8",
   "metadata": {},
   "source": [
    "## Plot the dipole moment"
   ]
  },
  {
   "cell_type": "code",
   "execution_count": 19,
   "id": "d0652174-c8bd-4a99-8bfd-829bde91dcfd",
   "metadata": {},
   "outputs": [
    {
     "data": {
      "text/plain": [
       "Text(0, 0.5, 'Dipole Moment (au)')"
      ]
     },
     "execution_count": 19,
     "metadata": {},
     "output_type": "execute_result"
    },
    {
     "data": {
      "image/png": "[encoded data removed]",
      "text/plain": [
       "<Figure size 640x480 with 1 Axes>"
      ]
     },
     "metadata": {},
     "output_type": "display_data"
    }
   ],
   "source": [
    "delta_mu = mu[:,0] - mu[0,0]\n",
    "plt.plot(t, delta_mu)\n",
    "plt.xlabel('Time (au)')\n",
    "plt.ylabel('Dipole Moment (au)')"
   ]
  },
  {
   "cell_type": "markdown",
   "id": "a9bb2926",
   "metadata": {
    "slideshow": {
     "slide_type": "slide"
    }
   },
   "source": [
    "## Plot the optical spectra"
   ]
  },
  {
   "cell_type": "code",
   "execution_count": 20,
   "id": "47bcdc31-0d8a-4f02-88b0-8d5a5dfc9c48",
   "metadata": {
    "slideshow": {
     "slide_type": "fragment"
    }
   },
   "outputs": [
    {
     "data": {
      "text/plain": [
       "(0.0, 20.0)"
      ]
     },
     "execution_count": 20,
     "metadata": {},
     "output_type": "execute_result"
    },
    {
     "data": {
      "image/png": "[encoded data removed]",
      "text/plain": [
       "<Figure size 640x480 with 1 Axes>"
      ]
     },
     "metadata": {},
     "output_type": "display_data"
    }
   ],
   "source": [
    "omega, spectra = calc_spectra_mu(delta_mu, interval, kick=k)\n",
    "plt.plot(omega*Units.Ha, spectra, '-')\n",
    "plt.xlabel('Frequency (eV)')\n",
    "plt.ylabel('Intensity (au)')\n",
    "plt.xlim(0, 20)"
   ]
  },
  {
   "cell_type": "markdown",
   "id": "7bcf3841",
   "metadata": {
    "slideshow": {
     "slide_type": "slide"
    }
   },
   "source": [
    "## Challenge \n",
    "\n",
    "Calculate the optical spectra of your own cluster"
   ]
  },
  {
   "cell_type": "markdown",
   "id": "3381e13b",
   "metadata": {},
   "source": [
    "### Build a cluster with ASE\n"
   ]
  },
  {
   "cell_type": "code",
   "execution_count": 7,
   "id": "e4be1946",
   "metadata": {},
   "outputs": [],
   "source": [
    "from ase.cluster.cubic import FaceCenteredCubic\n",
    "\n",
    "surfaces = [(1, 0, 0), (1, 1, 0), (1, 1, 1)]\n",
    "layers = [2, 2, 2]\n",
    "lc = 3.61000\n",
    "atoms = FaceCenteredCubic('Cu', surfaces, layers, latticeconstant=lc)"
   ]
  },
  {
   "cell_type": "code",
   "execution_count": 8,
   "id": "eb400e2e",
   "metadata": {},
   "outputs": [
    {
     "data": {
      "text/plain": [
       "19"
      ]
     },
     "execution_count": 8,
     "metadata": {},
     "output_type": "execute_result"
    }
   ],
   "source": [
    "atoms.get_global_number_of_atoms()"
   ]
  },
  {
   "cell_type": "code",
   "execution_count": 9,
   "id": "c1beacc7",
   "metadata": {
    "scrolled": true,
    "slideshow": {
     "slide_type": "subslide"
    }
   },
   "outputs": [
    {
     "data": {
      "application/3dmoljs_load.v0": "<div id=\"3dmolviewer_17190050700407941\"  style=\"position: relative; width: 640px; height: 480px;\">\n        <p id=\"3dmolwarning_17190050700407941\" style=\"background-color:#ffcccc;color:black\">3Dmol.js failed to load for some reason.  Please check your browser console for error messages.<br></p>\n        </div>\n<script>\n\nvar loadScriptAsync = function(uri){\n  return new Promise((resolve, reject) => {\n    //this is to ignore the existence of requirejs amd\n    var savedexports, savedmodule;\n    if (typeof exports !== 'undefined') savedexports = exports;\n    else exports = {}\n    if (typeof module !== 'undefined') savedmodule = module;\n    else module = {}\n\n    var tag = document.createElement('script');\n    tag.src = uri;\n    tag.async = true;\n    tag.onload = () => {\n        exports = savedexports;\n        module = savedmodule;\n        resolve();\n    };\n  var firstScriptTag = document.getElementsByTagName('script')[0];\n  firstScriptTag.parentNode.insertBefore(tag, firstScriptTag);\n});\n};\n\nif(typeof $3Dmolpromise === 'undefined') {\n$3Dmolpromise = null;\n  $3Dmolpromise = loadScriptAsync('https://cdnjs.cloudflare.com/ajax/libs/3Dmol/2.1.0/3Dmol-min.js');\n}\n\nvar viewer_17190050700407941 = null;\nvar warn = document.getElementById(\"3dmolwarning_17190050700407941\");\nif(warn) {\n    warn.parentNode.removeChild(warn);\n}\n$3Dmolpromise.then(function() {\nviewer_17190050700407941 = $3Dmol.createViewer(document.getElementById(\"3dmolviewer_17190050700407941\"),{backgroundColor:\"white\"});\nviewer_17190050700407941.addModel(\"19\\nProperties=species:S:1:pos:R:3 pbc=\\\"F F F\\\"\\nCu      -1.80500000      -1.80500000       0.00000000\\nCu      -1.80500000       0.00000000      -1.80500000\\nCu      -3.61000000       0.00000000       0.00000000\\nCu      -1.80500000       0.00000000       1.80500000\\nCu      -1.80500000       1.80500000       0.00000000\\nCu       0.00000000      -1.80500000      -1.80500000\\nCu       0.00000000      -3.61000000       0.00000000\\nCu       0.00000000      -1.80500000       1.80500000\\nCu       1.80500000      -1.80500000       0.00000000\\nCu       0.00000000       0.00000000      -3.61000000\\nCu       0.00000000       1.80500000      -1.80500000\\nCu       1.80500000       0.00000000      -1.80500000\\nCu       0.00000000       0.00000000       0.00000000\\nCu       0.00000000       1.80500000       1.80500000\\nCu       1.80500000       0.00000000       1.80500000\\nCu       1.80500000       1.80500000       0.00000000\\nCu       0.00000000       0.00000000       3.61000000\\nCu       0.00000000       3.61000000       0.00000000\\nCu       3.61000000       0.00000000       0.00000000\\n\");\nviewer_17190050700407941.setStyle(\"sphere\");\nviewer_17190050700407941.zoomTo();\n\tviewer_17190050700407941.addUnitCell();\n\tviewer_17190050700407941.zoomTo();\nviewer_17190050700407941.render();\n});\n</script>",
      "text/html": [
       "<div id=\"3dmolviewer_17190050700407941\"  style=\"position: relative; width: 640px; height: 480px;\">\n",
       "        <p id=\"3dmolwarning_17190050700407941\" style=\"background-color:#ffcccc;color:black\">3Dmol.js failed to load for some reason.  Please check your browser console for error messages.<br></p>\n",
       "        </div>\n",
       "<script>\n",
       "\n",
       "var loadScriptAsync = function(uri){\n",
       "  return new Promise((resolve, reject) => {\n",
       "    //this is to ignore the existence of requirejs amd\n",
       "    var savedexports, savedmodule;\n",
       "    if (typeof exports !== 'undefined') savedexports = exports;\n",
       "    else exports = {}\n",
       "    if (typeof module !== 'undefined') savedmodule = module;\n",
       "    else module = {}\n",
       "\n",
       "    var tag = document.createElement('script');\n",
       "    tag.src = uri;\n",
       "    tag.async = true;\n",
       "    tag.onload = () => {\n",
       "        exports = savedexports;\n",
       "        module = savedmodule;\n",
       "        resolve();\n",
       "    };\n",
       "  var firstScriptTag = document.getElementsByTagName('script')[0];\n",
       "  firstScriptTag.parentNode.insertBefore(tag, firstScriptTag);\n",
       "});\n",
       "};\n",
       "\n",
       "if(typeof $3Dmolpromise === 'undefined') {\n",
       "$3Dmolpromise = null;\n",
       "  $3Dmolpromise = loadScriptAsync('https://cdnjs.cloudflare.com/ajax/libs/3Dmol/2.1.0/3Dmol-min.js');\n",
       "}\n",
       "\n",
       "var viewer_17190050700407941 = null;\n",
       "var warn = document.getElementById(\"3dmolwarning_17190050700407941\");\n",
       "if(warn) {\n",
       "    warn.parentNode.removeChild(warn);\n",
       "}\n",
       "$3Dmolpromise.then(function() {\n",
       "viewer_17190050700407941 = $3Dmol.createViewer(document.getElementById(\"3dmolviewer_17190050700407941\"),{backgroundColor:\"white\"});\n",
       "viewer_17190050700407941.addModel(\"19\\nProperties=species:S:1:pos:R:3 pbc=\\\"F F F\\\"\\nCu      -1.80500000      -1.80500000       0.00000000\\nCu      -1.80500000       0.00000000      -1.80500000\\nCu      -3.61000000       0.00000000       0.00000000\\nCu      -1.80500000       0.00000000       1.80500000\\nCu      -1.80500000       1.80500000       0.00000000\\nCu       0.00000000      -1.80500000      -1.80500000\\nCu       0.00000000      -3.61000000       0.00000000\\nCu       0.00000000      -1.80500000       1.80500000\\nCu       1.80500000      -1.80500000       0.00000000\\nCu       0.00000000       0.00000000      -3.61000000\\nCu       0.00000000       1.80500000      -1.80500000\\nCu       1.80500000       0.00000000      -1.80500000\\nCu       0.00000000       0.00000000       0.00000000\\nCu       0.00000000       1.80500000       1.80500000\\nCu       1.80500000       0.00000000       1.80500000\\nCu       1.80500000       1.80500000       0.00000000\\nCu       0.00000000       0.00000000       3.61000000\\nCu       0.00000000       3.61000000       0.00000000\\nCu       3.61000000       0.00000000       0.00000000\\n\");\n",
       "viewer_17190050700407941.setStyle(\"sphere\");\n",
       "viewer_17190050700407941.zoomTo();\n",
       "\tviewer_17190050700407941.addUnitCell();\n",
       "\tviewer_17190050700407941.zoomTo();\n",
       "viewer_17190050700407941.render();\n",
       "});\n",
       "</script>"
      ]
     },
     "metadata": {},
     "output_type": "display_data"
    }
   ],
   "source": [
    "import py3Dmol\n",
    "from ase.build import bulk\n",
    "from ase.io import write\n",
    "from ase.constraints import FixBondLength\n",
    "write('cluster.xyz',atoms)\n",
    "v = py3Dmol.view(data=open('./cluster.xyz','r').read(), style='sphere',linked=False)\n",
    "v.addUnitCell()\n",
    "v.zoomTo()\n",
    "v.show()"
   ]
  },
  {
   "cell_type": "code",
   "execution_count": 10,
   "id": "def40756",
   "metadata": {},
   "outputs": [],
   "source": [
    "atoms.set_cell([10,10,10])\n",
    "atoms.wrap()\n",
    "atoms.center(vacuum=10.0)"
   ]
  },
  {
   "cell_type": "code",
   "execution_count": 11,
   "id": "b5e47223",
   "metadata": {},
   "outputs": [
    {
     "data": {
      "application/3dmoljs_load.v0": "<div id=\"3dmolviewer_1719005072434717\"  style=\"position: relative; width: 640px; height: 480px;\">\n        <p id=\"3dmolwarning_1719005072434717\" style=\"background-color:#ffcccc;color:black\">3Dmol.js failed to load for some reason.  Please check your browser console for error messages.<br></p>\n        </div>\n<script>\n\nvar loadScriptAsync = function(uri){\n  return new Promise((resolve, reject) => {\n    //this is to ignore the existence of requirejs amd\n    var savedexports, savedmodule;\n    if (typeof exports !== 'undefined') savedexports = exports;\n    else exports = {}\n    if (typeof module !== 'undefined') savedmodule = module;\n    else module = {}\n\n    var tag = document.createElement('script');\n    tag.src = uri;\n    tag.async = true;\n    tag.onload = () => {\n        exports = savedexports;\n        module = savedmodule;\n        resolve();\n    };\n  var firstScriptTag = document.getElementsByTagName('script')[0];\n  firstScriptTag.parentNode.insertBefore(tag, firstScriptTag);\n});\n};\n\nif(typeof $3Dmolpromise === 'undefined') {\n$3Dmolpromise = null;\n  $3Dmolpromise = loadScriptAsync('https://cdnjs.cloudflare.com/ajax/libs/3Dmol/2.1.0/3Dmol-min.js');\n}\n\nvar viewer_1719005072434717 = null;\nvar warn = document.getElementById(\"3dmolwarning_1719005072434717\");\nif(warn) {\n    warn.parentNode.removeChild(warn);\n}\n$3Dmolpromise.then(function() {\nviewer_1719005072434717 = $3Dmol.createViewer(document.getElementById(\"3dmolviewer_1719005072434717\"),{backgroundColor:\"white\"});\nviewer_1719005072434717.addModel(\"19\\nLattice=\\\"27.22 0.0 0.0 0.0 27.22 0.0 0.0 0.0 27.22\\\" Properties=species:S:1:pos:R:3 pbc=\\\"F F F\\\"\\nCu      11.80500000      11.80500000      13.61000000\\nCu      11.80500000      13.61000000      11.80500000\\nCu      10.00000000      13.61000000      13.61000000\\nCu      11.80500000      13.61000000      15.41500000\\nCu      11.80500000      15.41500000      13.61000000\\nCu      13.61000000      11.80500000      11.80500000\\nCu      13.61000000      10.00000000      13.61000000\\nCu      13.61000000      11.80500000      15.41500000\\nCu      15.41500000      11.80500000      13.61000000\\nCu      13.61000000      13.61000000      10.00000000\\nCu      13.61000000      15.41500000      11.80500000\\nCu      15.41500000      13.61000000      11.80500000\\nCu      13.61000000      13.61000000      13.61000000\\nCu      13.61000000      15.41500000      15.41500000\\nCu      15.41500000      13.61000000      15.41500000\\nCu      15.41500000      15.41500000      13.61000000\\nCu      13.61000000      13.61000000      17.22000000\\nCu      13.61000000      17.22000000      13.61000000\\nCu      17.22000000      13.61000000      13.61000000\\n\");\nviewer_1719005072434717.setStyle(\"sphere\");\nviewer_1719005072434717.zoomTo();\n\tviewer_1719005072434717.addUnitCell();\n\tviewer_1719005072434717.zoomTo();\nviewer_1719005072434717.render();\n});\n</script>",
      "text/html": [
       "<div id=\"3dmolviewer_1719005072434717\"  style=\"position: relative; width: 640px; height: 480px;\">\n",
       "        <p id=\"3dmolwarning_1719005072434717\" style=\"background-color:#ffcccc;color:black\">3Dmol.js failed to load for some reason.  Please check your browser console for error messages.<br></p>\n",
       "        </div>\n",
       "<script>\n",
       "\n",
       "var loadScriptAsync = function(uri){\n",
       "  return new Promise((resolve, reject) => {\n",
       "    //this is to ignore the existence of requirejs amd\n",
       "    var savedexports, savedmodule;\n",
       "    if (typeof exports !== 'undefined') savedexports = exports;\n",
       "    else exports = {}\n",
       "    if (typeof module !== 'undefined') savedmodule = module;\n",
       "    else module = {}\n",
       "\n",
       "    var tag = document.createElement('script');\n",
       "    tag.src = uri;\n",
       "    tag.async = true;\n",
       "    tag.onload = () => {\n",
       "        exports = savedexports;\n",
       "        module = savedmodule;\n",
       "        resolve();\n",
       "    };\n",
       "  var firstScriptTag = document.getElementsByTagName('script')[0];\n",
       "  firstScriptTag.parentNode.insertBefore(tag, firstScriptTag);\n",
       "});\n",
       "};\n",
       "\n",
       "if(typeof $3Dmolpromise === 'undefined') {\n",
       "$3Dmolpromise = null;\n",
       "  $3Dmolpromise = loadScriptAsync('https://cdnjs.cloudflare.com/ajax/libs/3Dmol/2.1.0/3Dmol-min.js');\n",
       "}\n",
       "\n",
       "var viewer_1719005072434717 = null;\n",
       "var warn = document.getElementById(\"3dmolwarning_1719005072434717\");\n",
       "if(warn) {\n",
       "    warn.parentNode.removeChild(warn);\n",
       "}\n",
       "$3Dmolpromise.then(function() {\n",
       "viewer_1719005072434717 = $3Dmol.createViewer(document.getElementById(\"3dmolviewer_1719005072434717\"),{backgroundColor:\"white\"});\n",
       "viewer_1719005072434717.addModel(\"19\\nLattice=\\\"27.22 0.0 0.0 0.0 27.22 0.0 0.0 0.0 27.22\\\" Properties=species:S:1:pos:R:3 pbc=\\\"F F F\\\"\\nCu      11.80500000      11.80500000      13.61000000\\nCu      11.80500000      13.61000000      11.80500000\\nCu      10.00000000      13.61000000      13.61000000\\nCu      11.80500000      13.61000000      15.41500000\\nCu      11.80500000      15.41500000      13.61000000\\nCu      13.61000000      11.80500000      11.80500000\\nCu      13.61000000      10.00000000      13.61000000\\nCu      13.61000000      11.80500000      15.41500000\\nCu      15.41500000      11.80500000      13.61000000\\nCu      13.61000000      13.61000000      10.00000000\\nCu      13.61000000      15.41500000      11.80500000\\nCu      15.41500000      13.61000000      11.80500000\\nCu      13.61000000      13.61000000      13.61000000\\nCu      13.61000000      15.41500000      15.41500000\\nCu      15.41500000      13.61000000      15.41500000\\nCu      15.41500000      15.41500000      13.61000000\\nCu      13.61000000      13.61000000      17.22000000\\nCu      13.61000000      17.22000000      13.61000000\\nCu      17.22000000      13.61000000      13.61000000\\n\");\n",
       "viewer_1719005072434717.setStyle(\"sphere\");\n",
       "viewer_1719005072434717.zoomTo();\n",
       "\tviewer_1719005072434717.addUnitCell();\n",
       "\tviewer_1719005072434717.zoomTo();\n",
       "viewer_1719005072434717.render();\n",
       "});\n",
       "</script>"
      ]
     },
     "metadata": {},
     "output_type": "display_data"
    }
   ],
   "source": [
    "write('cluster_center.xyz',atoms)\n",
    "v = py3Dmol.view(data=open('./cluster_center.xyz','r').read(), style='sphere',linked=False)\n",
    "v.addUnitCell()\n",
    "v.zoomTo()\n",
    "v.show()"
   ]
  },
  {
   "cell_type": "code",
   "execution_count": 15,
   "id": "008172e3",
   "metadata": {},
   "outputs": [],
   "source": [
    "from dftpy.formats.io import Ions\n",
    "ions = Ions.from_ase(atoms)"
   ]
  }
 ],
 "metadata": {
  "celltoolbar": "Slideshow",
  "kernelspec": {
   "display_name": "qms2024",
   "language": "python",
   "name": "qms2024"
  },
  "language_info": {
   "codemirror_mode": {
    "name": "ipython",
    "version": 3
   },
   "file_extension": ".py",
   "mimetype": "text/x-python",
   "name": "python",
   "nbconvert_exporter": "python",
   "pygments_lexer": "ipython3",
   "version": "3.8.6"
  }
 },
 "nbformat": 4,
 "nbformat_minor": 5
}
