{
 "cells": [
  {
   "cell_type": "code",
   "execution_count": null,
   "id": "2a4414f0",
   "metadata": {},
   "outputs": [],
   "source": [
    "import numpy as np\n",
    "import matplotlib.pyplot as plt"
   ]
  },
  {
   "cell_type": "code",
   "execution_count": null,
   "id": "af2acedc",
   "metadata": {},
   "outputs": [],
   "source": [
    "pwd"
   ]
  },
  {
   "cell_type": "code",
   "execution_count": null,
   "id": "cc9b0b75",
   "metadata": {},
   "outputs": [],
   "source": [
    "from dftpy.constants import Units\n",
    "from dftpy.td.utils import calc_spectra_mu"
   ]
  },
  {
   "cell_type": "code",
   "execution_count": null,
   "id": "6bc75243",
   "metadata": {},
   "outputs": [],
   "source": [
    "direction = 0 # 0, 1, 2 means x, y, z-direction, respectively\n",
    "k = 1.0e-3 # kick_strength in a.u."
   ]
  },
  {
   "cell_type": "code",
   "execution_count": null,
   "id": "220b056c-3ba2-4497-a7c9-17b0fe39f9e7",
   "metadata": {},
   "outputs": [],
   "source": [
    "# data = np.loadtxt('tmp.dipole.txt', skiprows=1)\n",
    "# data = np.loadtxt('ref.dipole.txt', skiprows=1)"
   ]
  },
  {
   "cell_type": "code",
   "execution_count": null,
   "id": "2ea271b7-bfcd-4736-acc7-628891653fd4",
   "metadata": {},
   "outputs": [],
   "source": [
    "interval = data[1,0] - data[0,0]\n",
    "mu = data[:,2:5]\n",
    "max_steps = len(mu)-1"
   ]
  },
  {
   "cell_type": "code",
   "execution_count": null,
   "id": "d435b93c",
   "metadata": {},
   "outputs": [],
   "source": [
    "t = np.linspace(0, interval * max_steps, max_steps + 1)\n",
    "delta_mu = mu[:,0] - mu[0,0]\n",
    "plt.plot(t, delta_mu)\n",
    "plt.xlabel('Time (au)')\n",
    "plt.ylabel('Dipole Moment (au)')"
   ]
  },
  {
   "cell_type": "code",
   "execution_count": null,
   "id": "47bcdc31-0d8a-4f02-88b0-8d5a5dfc9c48",
   "metadata": {},
   "outputs": [],
   "source": [
    "omega, spectra = calc_spectra_mu(delta_mu, interval, kick=k)\n",
    "plt.plot(omega*Units.Ha, spectra, '-')\n",
    "plt.xlabel('Frequency (eV)')\n",
    "plt.ylabel('Intensity (au)')\n",
    "plt.xlim(2, 11)"
   ]
  },
  {
   "cell_type": "code",
   "execution_count": null,
   "id": "ed339c6b-f2b3-42c1-952c-4b21b0aaf201",
   "metadata": {},
   "outputs": [],
   "source": []
  }
 ],
 "metadata": {
  "kernelspec": {
   "display_name": "qms2024",
   "language": "python",
   "name": "qms2024"
  },
  "language_info": {
   "codemirror_mode": {
    "name": "ipython",
    "version": 3
   },
   "file_extension": ".py",
   "mimetype": "text/x-python",
   "name": "python",
   "nbconvert_exporter": "python",
   "pygments_lexer": "ipython3",
   "version": "3.8.6"
  }
 },
 "nbformat": 4,
 "nbformat_minor": 5
}
