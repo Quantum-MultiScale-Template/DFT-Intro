{
 "cells": [
  {
   "cell_type": "markdown",
   "id": "3fece55d",
   "metadata": {
    "slideshow": {
     "slide_type": "slide"
    }
   },
   "source": [
    "<center>\n",
    "    <h3> Real-Time Time Dependent Orbital Free Density Functional Theory with DFTpy</h3>\n",
    "    <h3>Tutorial</h3>\n",
    "</center>\n",
    "<table>\n",
    "  <tr>\n",
    "      <td><p><h4>Rutgers University-Newark</h4></p><p>Dr Xuecheng Shao</p><p>Dr Kaili Jiang (Microsoft)</p><p>Dr. Bhaskar Rana</p><p>Jessica Martinez</p><p>Valeria Rios </p><p>Alina Umerbekova</p></td>\n",
    "          <td><img src=\"../figures/logos/logo.jpg\" width=800 /></td>\n",
    "  </tr>\n",
    "</table>\n",
    "\n",
    "ASESMA"
   ]
  },
  {
   "cell_type": "markdown",
   "id": "34dd5615",
   "metadata": {
    "slideshow": {
     "slide_type": "slide"
    }
   },
   "source": [
    "## Goal\n",
    "#### 1) Obtain the Optical Spectra (plasmons) of a Mg<sub>8</sub> cluster using DFTpy\n",
    "#### 2) Obtain the spectrum of your own cluster"
   ]
  },
  {
   "cell_type": "code",
   "execution_count": 1,
   "id": "2a4414f0",
   "metadata": {
    "slideshow": {
     "slide_type": "slide"
    }
   },
   "outputs": [],
   "source": [
    "import numpy as np\n",
    "import matplotlib.pyplot as plt"
   ]
  },
  {
   "cell_type": "code",
   "execution_count": 2,
   "id": "cc9b0b75",
   "metadata": {},
   "outputs": [],
   "source": [
    "from dftpy.grid import DirectGrid\n",
    "from dftpy.field import DirectField\n",
    "from dftpy.functional import Functional, TotalFunctional\n",
    "from dftpy.optimization import Optimization\n",
    "from dftpy.td.propagator import Propagator\n",
    "from dftpy.td.hamiltonian import Hamiltonian\n",
    "from dftpy.utils.utils import calc_rho, calc_j\n",
    "from dftpy.td.utils import initial_kick\n",
    "from dftpy.ions import Ions\n",
    "from dftpy.formats import io\n",
    "from dftpy.constants import Units\n",
    "from dftpy.td.utils import calc_spectra_mu"
   ]
  },
  {
   "cell_type": "code",
   "execution_count": 3,
   "id": "78141d40-0f93-4c4c-86f8-8ef7ff551a19",
   "metadata": {},
   "outputs": [
    {
     "name": "stdout",
     "output_type": "stream",
     "text": [
      "--2025-06-03 21:27:09--  https://gitlab.com/pavanello-research-group/dftpy/-/raw/master/examples/DATA/Mg8.vasp\n",
      "Resolving gitlab.com (gitlab.com)... 172.65.251.78\n",
      "Connecting to gitlab.com (gitlab.com)|172.65.251.78|:443... connected.\n",
      "HTTP request sent, awaiting response... 200 OK\n",
      "Length: 839 [text/plain]\n",
      "Saving to: ‘Mg8.vasp.1’\n",
      "\n",
      "Mg8.vasp.1          100%[===================>]     839  --.-KB/s    in 0s      \n",
      "\n",
      "2025-06-03 21:27:09 (53.3 MB/s) - ‘Mg8.vasp.1’ saved [839/839]\n",
      "\n",
      "--2025-06-03 21:27:09--  https://gitlab.com/pavanello-research-group/dftpy/-/raw/master/examples/DATA/Mg_OEPP_PZ.UPF\n",
      "Resolving gitlab.com (gitlab.com)... 172.65.251.78\n",
      "Connecting to gitlab.com (gitlab.com)|172.65.251.78|:443... connected.\n",
      "HTTP request sent, awaiting response... 200 OK\n",
      "Length: 98081 (96K) [text/plain]\n",
      "Saving to: ‘Mg_OEPP_PZ.UPF.1’\n",
      "\n",
      "Mg_OEPP_PZ.UPF.1    100%[===================>]  95.78K  --.-KB/s    in 0.09s   \n",
      "\n",
      "2025-06-03 21:27:10 (1.00 MB/s) - ‘Mg_OEPP_PZ.UPF.1’ saved [98081/98081]\n",
      "\n"
     ]
    }
   ],
   "source": [
    "!wget https://gitlab.com/pavanello-research-group/dftpy/-/raw/master/examples/DATA/Mg8.vasp\n",
    "!wget https://gitlab.com/pavanello-research-group/dftpy/-/raw/master/examples/DATA/Mg_OEPP_PZ.UPF"
   ]
  },
  {
   "cell_type": "markdown",
   "id": "fe019cf0",
   "metadata": {
    "slideshow": {
     "slide_type": "slide"
    }
   },
   "source": [
    "### Read the vasp file with DFTpy"
   ]
  },
  {
   "cell_type": "code",
   "execution_count": 4,
   "id": "1cc0e6f4",
   "metadata": {
    "slideshow": {
     "slide_type": "-"
    }
   },
   "outputs": [],
   "source": [
    "ions = io.read('Mg8.vasp', format='vasp', names=['Mg'])"
   ]
  },
  {
   "cell_type": "markdown",
   "id": "1b37141d",
   "metadata": {},
   "source": [
    "### Create the PP list and the Grid\n",
    "DirectGrid is a class object that represents a grid (Cell plus discretization)"
   ]
  },
  {
   "cell_type": "code",
   "execution_count": 5,
   "id": "9bfd4f19",
   "metadata": {},
   "outputs": [],
   "source": [
    "PP_list = ['./Mg_OEPP_PZ.UPF']\n",
    "grid = DirectGrid(ions.cell, spacing = 1.1)"
   ]
  },
  {
   "cell_type": "code",
   "execution_count": 6,
   "id": "5522f442",
   "metadata": {},
   "outputs": [
    {
     "data": {
      "text/plain": [
       "array([36, 36, 32], dtype=int32)"
      ]
     },
     "execution_count": 6,
     "metadata": {},
     "output_type": "execute_result"
    }
   ],
   "source": [
    "grid.nr"
   ]
  },
  {
   "cell_type": "markdown",
   "id": "a70560ea",
   "metadata": {
    "slideshow": {
     "slide_type": "slide"
    }
   },
   "source": [
    "### Define the functionals for OF-DFT"
   ]
  },
  {
   "cell_type": "code",
   "execution_count": 7,
   "id": "bd1b5f48",
   "metadata": {},
   "outputs": [
    {
     "name": "stdout",
     "output_type": "stream",
     "text": [
      "setting key: Mg -> ./Mg_OEPP_PZ.UPF\n"
     ]
    }
   ],
   "source": [
    "ke = Functional(type='KEDF',name='TFvW')\n",
    "xc = Functional(type='XC',name='LDA')\n",
    "hartree = Functional(type='HARTREE')\n",
    "pseudo = Functional(type='PSEUDO', grid=grid, ions=ions, PP_list=PP_list)\n",
    "totalfunctional = TotalFunctional(KEDF=ke, XC=xc, HARTREE=hartree, PSEUDO=pseudo)"
   ]
  },
  {
   "cell_type": "markdown",
   "id": "c5c08f82",
   "metadata": {
    "slideshow": {
     "slide_type": "slide"
    }
   },
   "source": [
    "### Represented a field on a grid\n",
    "Write on the grid the initial electronic density"
   ]
  },
  {
   "cell_type": "code",
   "execution_count": 8,
   "id": "b3f26af8-699f-4cad-ba63-9f7d04bb68b9",
   "metadata": {},
   "outputs": [],
   "source": [
    "rho_ini = DirectField(grid=grid)\n",
    "rho_ini[:] = ions.get_ncharges()/ions.cell.volume"
   ]
  },
  {
   "cell_type": "markdown",
   "id": "ee9555af",
   "metadata": {
    "slideshow": {
     "slide_type": "slide"
    }
   },
   "source": [
    "### Write the optimization options and build the class that handles the electron density optimization"
   ]
  },
  {
   "cell_type": "code",
   "execution_count": 9,
   "id": "f0bc84f2",
   "metadata": {},
   "outputs": [],
   "source": [
    "optimization_options = {'econv' : 1e-9,'maxiter' : 100}\n",
    "\n",
    "opt = Optimization(EnergyEvaluator=totalfunctional, optimization_options = optimization_options,\n",
    "        optimization_method = 'TN')"
   ]
  },
  {
   "cell_type": "markdown",
   "id": "c72f3065",
   "metadata": {},
   "source": [
    "#### Run the optimization of the electronic density"
   ]
  },
  {
   "cell_type": "code",
   "execution_count": 10,
   "id": "f7c5470f",
   "metadata": {
    "scrolled": true
   },
   "outputs": [
    {
     "name": "stdout",
     "output_type": "stream",
     "text": [
      "Step    Energy(a.u.)            dE              dP              Nd      Nls     Time(s)         \n",
      "0       8.951916882520E+00      8.951917E+00    2.343046E+00    1       1       2.931881E-02    \n",
      "!WARN: Change to steepest decent\n",
      "1       -4.970850195117E+00     -1.392277E+01   1.121758E+00    1       3       5.821085E-02    \n",
      "2       -5.991894359401E+00     -1.021044E+00   1.516348E-01    4       2       9.523201E-02    \n",
      "3       -6.128065564511E+00     -1.361712E-01   1.802914E-02    8       3       1.752219E-01    \n",
      "4       -6.143827132639E+00     -1.576157E-02   3.111799E-03    10      3       2.470579E-01    \n",
      "5       -6.146022420271E+00     -2.195288E-03   3.902282E-04    7       3       3.016038E-01    \n",
      "6       -6.146449722646E+00     -4.273024E-04   4.586762E-05    10      3       3.698828E-01    \n",
      "7       -6.146493565256E+00     -4.384261E-05   6.805996E-06    7       3       4.211619E-01    \n",
      "8       -6.146501642729E+00     -8.077473E-06   7.757266E-07    10      2       4.819310E-01    \n",
      "9       -6.146502269914E+00     -6.271851E-07   1.061169E-07    7       3       5.353589E-01    \n",
      "10      -6.146502350835E+00     -8.092112E-08   1.165902E-08    9       2       5.926180E-01    \n",
      "11      -6.146502360026E+00     -9.190886E-09   1.752040E-09    8       3       6.519208E-01    \n",
      "12      -6.146502361823E+00     -1.796787E-09   2.723567E-10    9       3       7.129560E-01    \n",
      "13      -6.146502362098E+00     -2.745395E-10   7.092527E-11    8       3       7.688930E-01    \n",
      "14      -6.146502362163E+00     -6.521717E-11   3.755448E-11    11      3       8.401968E-01    \n",
      "#### Density Optimization Converged ####\n",
      "Chemical potential (a.u.): -0.1288503224073627\n",
      "Chemical potential (eV)  : -3.5061958623909226\n"
     ]
    }
   ],
   "source": [
    " rho0 = opt.optimize_rho(guess_rho=rho_ini)"
   ]
  },
  {
   "cell_type": "code",
   "execution_count": 32,
   "id": "c42010a0-4384-49e8-b0bd-8d14cf61ab2c",
   "metadata": {},
   "outputs": [],
   "source": [
    "rho0.write(filename=\"rho_tfvw.xsf\", ions=ions)"
   ]
  },
  {
   "cell_type": "markdown",
   "id": "b4916d14",
   "metadata": {
    "slideshow": {
     "slide_type": "slide"
    }
   },
   "source": [
    "# Time dependent part\n",
    "### Remove the von Wäzecker KEDF\n",
    "Change the KE functional in the total functional to Pauli functional, the laplacian is handled by the hamiltonian\n",
    "$$\n",
    "[-\\frac{1}{2}\\nabla ^2 + v_B(\\mathbf{r},t)]\\phi_B(\\mathbf{r},t) = \\mu \\phi_B(\\mathbf{r},t)\n",
    "$$\n",
    "$$\n",
    "v_B(\\mathbf{r},t)= v_s(\\mathbf{r})+v_p(\\mathbf{r},t)+v_{appl}(\\mathbf{r},t)\n",
    "$$\n",
    "$$\n",
    "v_p(\\mathbf{r},t) = v_{Ts}(\\mathbf{r},t) - v_{vW}(\\mathbf{r},t)\n",
    "$$"
   ]
  },
  {
   "cell_type": "code",
   "execution_count": 11,
   "id": "376c41d7",
   "metadata": {},
   "outputs": [],
   "source": [
    "ke.options.update({'y':0})"
   ]
  },
  {
   "cell_type": "code",
   "execution_count": 12,
   "id": "3ca3e8ae-5a11-4636-a36e-7081529fb131",
   "metadata": {},
   "outputs": [],
   "source": [
    "from dftpy.constants import TIME_CONV, LEN_CONV, ENERGY_CONV\n",
    "as2au = TIME_CONV['s']['au']*1e-18\n",
    "bohr = LEN_CONV['Angstrom']['Bohr']\n",
    "k = 0.01*bohr\n",
    "interval = 1.0 * as2au\n",
    "ha = ENERGY_CONV['Hartree']['eV']"
   ]
  },
  {
   "cell_type": "code",
   "execution_count": 13,
   "id": "6bc75243",
   "metadata": {},
   "outputs": [],
   "source": [
    "direction = 0 # 0, 1, 2 means x, y, z-direction, respectively"
   ]
  },
  {
   "cell_type": "markdown",
   "id": "6084d710-0166-4df8-95cd-24a4146e1389",
   "metadata": {},
   "source": [
    "## Run with Crank Nicholson propagator"
   ]
  },
  {
   "cell_type": "code",
   "execution_count": 14,
   "id": "82a47b3d",
   "metadata": {
    "slideshow": {
     "slide_type": "slide"
    }
   },
   "outputs": [],
   "source": [
    "from dftpy.optimize import Dynamics\n",
    "\n",
    "\n",
    "class Runner(Dynamics):\n",
    "\n",
    "    def __init__(self, rho0, totalfunctional, k, direction, interval, max_steps):\n",
    "        super(Runner, self).__init__()\n",
    "        self.max_steps = max_steps\n",
    "        self.totalfunctional = totalfunctional\n",
    "        self.rho0 = rho0\n",
    "        self.rho = rho0\n",
    "        self.psi = initial_kick(k, direction, np.sqrt(self.rho0))\n",
    "        self.j = calc_j(self.psi)\n",
    "        potential = self.totalfunctional(self.rho0, current=self.j, calcType=['V']).potential\n",
    "        hamiltonian = Hamiltonian(v=potential)\n",
    "        self.prop = Propagator(hamiltonian, interval, name='crank-nicholson')\n",
    "        self.dipole = []\n",
    "        self.attach(self.calc_dipole) # this attaches the calc_dipole function to the observers list which runs after each time step.\n",
    "\n",
    "    def step(self):\n",
    "        self.psi, info = self.prop(self.psi)\n",
    "        self.rho = calc_rho(self.psi)\n",
    "        self.j = calc_j(self.psi)\n",
    "        potential = self.totalfunctional(self.rho, current=self.j, calcType=['V']).potential\n",
    "        self.prop.hamiltonian.v = potential\n",
    "        print(\"\\r\", end=\"\")\n",
    "        print(f\"Progress: [{self.nsteps+1}/{self.max_steps}]\", \"|\" * (self.nsteps*50 // self.max_steps), end=\"\", flush=True)\n",
    "\n",
    "    def calc_dipole(self):\n",
    "        delta_rho = self.rho - self.rho0\n",
    "        delta_mu = (delta_rho * delta_rho.grid.r).integral()\n",
    "        self.dipole.append(delta_mu)"
   ]
  },
  {
   "cell_type": "code",
   "execution_count": 23,
   "id": "6eb46c73",
   "metadata": {
    "slideshow": {
     "slide_type": "slide"
    }
   },
   "outputs": [
    {
     "name": "stdout",
     "output_type": "stream",
     "text": [
      "Progress: [5000/5000] |||||||||||||||||||||||||||||||||||||||||||||||||"
     ]
    },
    {
     "data": {
      "text/plain": [
       "False"
      ]
     },
     "execution_count": 23,
     "metadata": {},
     "output_type": "execute_result"
    }
   ],
   "source": [
    "max_steps = 5000\n",
    "runner = Runner(rho0, totalfunctional, k, direction, interval, max_steps)\n",
    "runner()"
   ]
  },
  {
   "cell_type": "code",
   "execution_count": 24,
   "id": "d9694650-2e43-425b-a0e9-6789d0ae7b1f",
   "metadata": {},
   "outputs": [],
   "source": [
    "t = np.linspace(0, interval * max_steps, max_steps + 1)\n",
    "mu = np.asarray(runner.dipole)"
   ]
  },
  {
   "cell_type": "markdown",
   "id": "fe87eea8",
   "metadata": {},
   "source": [
    "## Plot the dipole moment"
   ]
  },
  {
   "cell_type": "code",
   "execution_count": 25,
   "id": "d0652174-c8bd-4a99-8bfd-829bde91dcfd",
   "metadata": {},
   "outputs": [
    {
     "data": {
      "text/plain": [
       "Text(0, 0.5, 'Dipole Moment (au)')"
      ]
     },
     "execution_count": 25,
     "metadata": {},
     "output_type": "execute_result"
    },
    {
     "data": {
      "image/png": "[encoded data removed]",
      "text/plain": [
       "<Figure size 640x480 with 1 Axes>"
      ]
     },
     "metadata": {},
     "output_type": "display_data"
    }
   ],
   "source": [
    "delta_mu = mu[:,0] - mu[0,0]\n",
    "plt.plot(t, delta_mu)\n",
    "plt.xlabel('Time (au)')\n",
    "plt.ylabel('Dipole Moment (au)')"
   ]
  },
  {
   "cell_type": "markdown",
   "id": "a9bb2926",
   "metadata": {
    "slideshow": {
     "slide_type": "slide"
    }
   },
   "source": [
    "## Plot the optical spectra"
   ]
  },
  {
   "cell_type": "code",
   "execution_count": 27,
   "id": "47bcdc31-0d8a-4f02-88b0-8d5a5dfc9c48",
   "metadata": {
    "slideshow": {
     "slide_type": "fragment"
    }
   },
   "outputs": [
    {
     "data": {
      "text/plain": [
       "(0.0, 20.0)"
      ]
     },
     "execution_count": 27,
     "metadata": {},
     "output_type": "execute_result"
    },
    {
     "data": {
      "image/png": "[encoded data removed]",
      "text/plain": [
       "<Figure size 640x480 with 1 Axes>"
      ]
     },
     "metadata": {},
     "output_type": "display_data"
    }
   ],
   "source": [
    "sigma = 0.1*(as2au**2)\n",
    "omega, spectra = calc_spectra_mu(delta_mu, interval, sigma=sigma, kick=k)\n",
    "plt.plot(omega*Units.Ha, spectra, '-')\n",
    "plt.xlabel('Frequency (eV)')\n",
    "plt.ylabel('Intensity (au)')\n",
    "plt.xlim(0, 20)"
   ]
  },
  {
   "cell_type": "markdown",
   "id": "7bcf3841",
   "metadata": {
    "slideshow": {
     "slide_type": "slide"
    }
   },
   "source": [
    "## Challenge \n",
    "\n",
    "Calculate the optical spectra of your own cluster"
   ]
  },
  {
   "cell_type": "markdown",
   "id": "3381e13b",
   "metadata": {},
   "source": [
    "### Build a cluster with ASE\n"
   ]
  },
  {
   "cell_type": "code",
   "execution_count": 28,
   "id": "e4be1946",
   "metadata": {},
   "outputs": [],
   "source": [
    "from ase.cluster.cubic import FaceCenteredCubic\n",
    "\n",
    "surfaces = [(1, 0, 0), (1, 1, 0), (1, 1, 1)]\n",
    "layers = [2, 2, 2]\n",
    "lc = 3.61000\n",
    "atoms = FaceCenteredCubic('Mg', surfaces, layers, latticeconstant=lc)\n",
    "atoms.set_cell([10,10,10])\n",
    "atoms.wrap()\n",
    "atoms.center(vacuum=10.0)"
   ]
  },
  {
   "cell_type": "code",
   "execution_count": 29,
   "id": "eb400e2e",
   "metadata": {},
   "outputs": [
    {
     "data": {
      "text/plain": [
       "19"
      ]
     },
     "execution_count": 29,
     "metadata": {},
     "output_type": "execute_result"
    }
   ],
   "source": [
    "atoms.get_global_number_of_atoms()"
   ]
  },
  {
   "cell_type": "code",
   "execution_count": 30,
   "id": "c1beacc7",
   "metadata": {
    "slideshow": {
     "slide_type": "subslide"
    }
   },
   "outputs": [
    {
     "data": {
      "application/3dmoljs_load.v0": "<div id=\"3dmolviewer_1749000724352253\"  style=\"position: relative; width: 640px; height: 480px;\">\n        <p id=\"3dmolwarning_1749000724352253\" style=\"background-color:#ffcccc;color:black\">3Dmol.js failed to load for some reason.  Please check your browser console for error messages.<br></p>\n        </div>\n<script>\n\nvar loadScriptAsync = function(uri){\n  return new Promise((resolve, reject) => {\n    //this is to ignore the existence of requirejs amd\n    var savedexports, savedmodule;\n    if (typeof exports !== 'undefined') savedexports = exports;\n    else exports = {}\n    if (typeof module !== 'undefined') savedmodule = module;\n    else module = {}\n\n    var tag = document.createElement('script');\n    tag.src = uri;\n    tag.async = true;\n    tag.onload = () => {\n        exports = savedexports;\n        module = savedmodule;\n        resolve();\n    };\n  var firstScriptTag = document.getElementsByTagName('script')[0];\n  firstScriptTag.parentNode.insertBefore(tag, firstScriptTag);\n});\n};\n\nif(typeof $3Dmolpromise === 'undefined') {\n$3Dmolpromise = null;\n  $3Dmolpromise = loadScriptAsync('https://cdnjs.cloudflare.com/ajax/libs/3Dmol/2.1.0/3Dmol-min.js');\n}\n\nvar viewer_1749000724352253 = null;\nvar warn = document.getElementById(\"3dmolwarning_1749000724352253\");\nif(warn) {\n    warn.parentNode.removeChild(warn);\n}\n$3Dmolpromise.then(function() {\nviewer_1749000724352253 = $3Dmol.createViewer(document.getElementById(\"3dmolviewer_1749000724352253\"),{backgroundColor:\"white\"});\nviewer_1749000724352253.addModel(\"19\\nLattice=\\\"27.22 0.0 0.0 0.0 27.22 0.0 0.0 0.0 27.22\\\" Properties=species:S:1:pos:R:3 pbc=\\\"F F F\\\"\\nMg      11.80500000      11.80500000      13.61000000\\nMg      11.80500000      13.61000000      11.80500000\\nMg      10.00000000      13.61000000      13.61000000\\nMg      11.80500000      13.61000000      15.41500000\\nMg      11.80500000      15.41500000      13.61000000\\nMg      13.61000000      11.80500000      11.80500000\\nMg      13.61000000      10.00000000      13.61000000\\nMg      13.61000000      11.80500000      15.41500000\\nMg      15.41500000      11.80500000      13.61000000\\nMg      13.61000000      13.61000000      10.00000000\\nMg      13.61000000      15.41500000      11.80500000\\nMg      15.41500000      13.61000000      11.80500000\\nMg      13.61000000      13.61000000      13.61000000\\nMg      13.61000000      15.41500000      15.41500000\\nMg      15.41500000      13.61000000      15.41500000\\nMg      15.41500000      15.41500000      13.61000000\\nMg      13.61000000      13.61000000      17.22000000\\nMg      13.61000000      17.22000000      13.61000000\\nMg      17.22000000      13.61000000      13.61000000\\n\");\nviewer_1749000724352253.setStyle(\"sphere\");\nviewer_1749000724352253.zoomTo();\n\tviewer_1749000724352253.addUnitCell();\n\tviewer_1749000724352253.zoomTo();\nviewer_1749000724352253.render();\n});\n</script>",
      "text/html": [
       "<div id=\"3dmolviewer_1749000724352253\"  style=\"position: relative; width: 640px; height: 480px;\">\n",
       "        <p id=\"3dmolwarning_1749000724352253\" style=\"background-color:#ffcccc;color:black\">3Dmol.js failed to load for some reason.  Please check your browser console for error messages.<br></p>\n",
       "        </div>\n",
       "<script>\n",
       "\n",
       "var loadScriptAsync = function(uri){\n",
       "  return new Promise((resolve, reject) => {\n",
       "    //this is to ignore the existence of requirejs amd\n",
       "    var savedexports, savedmodule;\n",
       "    if (typeof exports !== 'undefined') savedexports = exports;\n",
       "    else exports = {}\n",
       "    if (typeof module !== 'undefined') savedmodule = module;\n",
       "    else module = {}\n",
       "\n",
       "    var tag = document.createElement('script');\n",
       "    tag.src = uri;\n",
       "    tag.async = true;\n",
       "    tag.onload = () => {\n",
       "        exports = savedexports;\n",
       "        module = savedmodule;\n",
       "        resolve();\n",
       "    };\n",
       "  var firstScriptTag = document.getElementsByTagName('script')[0];\n",
       "  firstScriptTag.parentNode.insertBefore(tag, firstScriptTag);\n",
       "});\n",
       "};\n",
       "\n",
       "if(typeof $3Dmolpromise === 'undefined') {\n",
       "$3Dmolpromise = null;\n",
       "  $3Dmolpromise = loadScriptAsync('https://cdnjs.cloudflare.com/ajax/libs/3Dmol/2.1.0/3Dmol-min.js');\n",
       "}\n",
       "\n",
       "var viewer_1749000724352253 = null;\n",
       "var warn = document.getElementById(\"3dmolwarning_1749000724352253\");\n",
       "if(warn) {\n",
       "    warn.parentNode.removeChild(warn);\n",
       "}\n",
       "$3Dmolpromise.then(function() {\n",
       "viewer_1749000724352253 = $3Dmol.createViewer(document.getElementById(\"3dmolviewer_1749000724352253\"),{backgroundColor:\"white\"});\n",
       "viewer_1749000724352253.addModel(\"19\\nLattice=\\\"27.22 0.0 0.0 0.0 27.22 0.0 0.0 0.0 27.22\\\" Properties=species:S:1:pos:R:3 pbc=\\\"F F F\\\"\\nMg      11.80500000      11.80500000      13.61000000\\nMg      11.80500000      13.61000000      11.80500000\\nMg      10.00000000      13.61000000      13.61000000\\nMg      11.80500000      13.61000000      15.41500000\\nMg      11.80500000      15.41500000      13.61000000\\nMg      13.61000000      11.80500000      11.80500000\\nMg      13.61000000      10.00000000      13.61000000\\nMg      13.61000000      11.80500000      15.41500000\\nMg      15.41500000      11.80500000      13.61000000\\nMg      13.61000000      13.61000000      10.00000000\\nMg      13.61000000      15.41500000      11.80500000\\nMg      15.41500000      13.61000000      11.80500000\\nMg      13.61000000      13.61000000      13.61000000\\nMg      13.61000000      15.41500000      15.41500000\\nMg      15.41500000      13.61000000      15.41500000\\nMg      15.41500000      15.41500000      13.61000000\\nMg      13.61000000      13.61000000      17.22000000\\nMg      13.61000000      17.22000000      13.61000000\\nMg      17.22000000      13.61000000      13.61000000\\n\");\n",
       "viewer_1749000724352253.setStyle(\"sphere\");\n",
       "viewer_1749000724352253.zoomTo();\n",
       "\tviewer_1749000724352253.addUnitCell();\n",
       "\tviewer_1749000724352253.zoomTo();\n",
       "viewer_1749000724352253.render();\n",
       "});\n",
       "</script>"
      ]
     },
     "metadata": {},
     "output_type": "display_data"
    }
   ],
   "source": [
    "import py3Dmol\n",
    "from ase.build import bulk\n",
    "from ase.io import write\n",
    "from ase.constraints import FixBondLength\n",
    "write('cluster.xyz',atoms)\n",
    "v = py3Dmol.view(data=open('./cluster.xyz','r').read(), style='sphere',linked=False)\n",
    "v.addUnitCell()\n",
    "v.zoomTo()\n",
    "v.show()"
   ]
  },
  {
   "cell_type": "code",
   "execution_count": 22,
   "id": "008172e3",
   "metadata": {},
   "outputs": [],
   "source": [
    "from dftpy.formats.io import Ions\n",
    "ions = Ions.from_ase(atoms)"
   ]
  }
 ],
 "metadata": {
  "celltoolbar": "Slideshow",
  "kernelspec": {
   "display_name": "Python 3 (ipykernel)",
   "language": "python",
   "name": "python3"
  },
  "language_info": {
   "codemirror_mode": {
    "name": "ipython",
    "version": 3
   },
   "file_extension": ".py",
   "mimetype": "text/x-python",
   "name": "python",
   "nbconvert_exporter": "python",
   "pygments_lexer": "ipython3",
   "version": "3.10.15"
  }
 },
 "nbformat": 4,
 "nbformat_minor": 5
}
