{
 "cells": [
  {
   "cell_type": "code",
   "execution_count": 1,
   "id": "28049855",
   "metadata": {},
   "outputs": [],
   "source": [
    "import numpy as np\n",
    "import matplotlib.pyplot as plt"
   ]
  },
  {
   "cell_type": "code",
   "execution_count": 2,
   "id": "366c3cd1",
   "metadata": {},
   "outputs": [],
   "source": [
    "from dftpy.grid import DirectGrid\n",
    "from dftpy.field import DirectField\n",
    "from dftpy.functional import Functional, TotalFunctional\n",
    "from dftpy.optimization import Optimization\n",
    "from dftpy.td.propagator import Propagator\n",
    "from dftpy.td.hamiltonian import Hamiltonian\n",
    "from dftpy.utils.utils import calc_rho, calc_j\n",
    "from dftpy.td.utils import initial_kick\n",
    "from dftpy.ions import Ions\n",
    "from dftpy.formats import io\n",
    "from dftpy.constants import Units\n",
    "from dftpy.td.utils import calc_spectra_mu"
   ]
  },
  {
   "cell_type": "code",
   "execution_count": 14,
   "id": "ff0480fa",
   "metadata": {},
   "outputs": [],
   "source": [
    "from ase.cluster.cubic import FaceCenteredCubic\n",
    "\n",
    "surfaces = [(1, 0, 0), (1, 1, 0), (1, 1, 1)]\n",
    "layers = [1, 2, 1]\n",
    "atoms = FaceCenteredCubic('Ag', surfaces, layers)"
   ]
  },
  {
   "cell_type": "code",
   "execution_count": 15,
   "id": "3231e449",
   "metadata": {},
   "outputs": [],
   "source": [
    "atoms.set_cell([10,10,10])"
   ]
  },
  {
   "cell_type": "code",
   "execution_count": 16,
   "id": "849a9aea",
   "metadata": {},
   "outputs": [
    {
     "data": {
      "text/plain": [
       "Cell([10.0, 10.0, 10.0])"
      ]
     },
     "execution_count": 16,
     "metadata": {},
     "output_type": "execute_result"
    }
   ],
   "source": [
    "atoms.cell"
   ]
  },
  {
   "cell_type": "code",
   "execution_count": 42,
   "id": "3014a663",
   "metadata": {},
   "outputs": [],
   "source": [
    "atoms.wrap()\n",
    "atoms.center(vacuum=10.0)"
   ]
  },
  {
   "cell_type": "code",
   "execution_count": 57,
   "id": "670c2621",
   "metadata": {},
   "outputs": [
    {
     "data": {
      "text/plain": [
       "Cell([24.089999999999996, 24.089999999999996, 24.089999999999996])"
      ]
     },
     "execution_count": 57,
     "metadata": {},
     "output_type": "execute_result"
    }
   ],
   "source": [
    "atoms.cell"
   ]
  },
  {
   "cell_type": "code",
   "execution_count": 43,
   "id": "73e4190c",
   "metadata": {},
   "outputs": [
    {
     "data": {
      "application/3dmoljs_load.v0": "<div id=\"3dmolviewer_17190046887381744\"  style=\"position: relative; width: 640px; height: 480px;\">\n        <p id=\"3dmolwarning_17190046887381744\" style=\"background-color:#ffcccc;color:black\">3Dmol.js failed to load for some reason.  Please check your browser console for error messages.<br></p>\n        </div>\n<script>\n\nvar loadScriptAsync = function(uri){\n  return new Promise((resolve, reject) => {\n    //this is to ignore the existence of requirejs amd\n    var savedexports, savedmodule;\n    if (typeof exports !== 'undefined') savedexports = exports;\n    else exports = {}\n    if (typeof module !== 'undefined') savedmodule = module;\n    else module = {}\n\n    var tag = document.createElement('script');\n    tag.src = uri;\n    tag.async = true;\n    tag.onload = () => {\n        exports = savedexports;\n        module = savedmodule;\n        resolve();\n    };\n  var firstScriptTag = document.getElementsByTagName('script')[0];\n  firstScriptTag.parentNode.insertBefore(tag, firstScriptTag);\n});\n};\n\nif(typeof $3Dmolpromise === 'undefined') {\n$3Dmolpromise = null;\n  $3Dmolpromise = loadScriptAsync('https://cdnjs.cloudflare.com/ajax/libs/3Dmol/2.1.0/3Dmol-min.js');\n}\n\nvar viewer_17190046887381744 = null;\nvar warn = document.getElementById(\"3dmolwarning_17190046887381744\");\nif(warn) {\n    warn.parentNode.removeChild(warn);\n}\n$3Dmolpromise.then(function() {\nviewer_17190046887381744 = $3Dmol.createViewer(document.getElementById(\"3dmolviewer_17190046887381744\"),{backgroundColor:\"white\"});\nviewer_17190046887381744.addModel(\"13\\nLattice=\\\"24.089999999999996 0.0 0.0 0.0 24.089999999999996 0.0 0.0 0.0 24.089999999999996\\\" Properties=species:S:1:pos:R:3 pbc=\\\"F F F\\\"\\nAg      10.00000000      10.00000000      12.04500000\\nAg      10.00000000      12.04500000      10.00000000\\nAg      10.00000000      12.04500000      14.09000000\\nAg      10.00000000      14.09000000      12.04500000\\nAg      12.04500000      10.00000000      10.00000000\\nAg      12.04500000      10.00000000      14.09000000\\nAg      14.09000000      10.00000000      12.04500000\\nAg      12.04500000      14.09000000      10.00000000\\nAg      14.09000000      12.04500000      10.00000000\\nAg      12.04500000      12.04500000      12.04500000\\nAg      12.04500000      14.09000000      14.09000000\\nAg      14.09000000      12.04500000      14.09000000\\nAg      14.09000000      14.09000000      12.04500000\\n\");\nviewer_17190046887381744.setStyle(\"sphere\");\nviewer_17190046887381744.zoomTo();\n\tviewer_17190046887381744.addUnitCell();\n\tviewer_17190046887381744.zoomTo();\nviewer_17190046887381744.render();\n});\n</script>",
      "text/html": [
       "<div id=\"3dmolviewer_17190046887381744\"  style=\"position: relative; width: 640px; height: 480px;\">\n",
       "        <p id=\"3dmolwarning_17190046887381744\" style=\"background-color:#ffcccc;color:black\">3Dmol.js failed to load for some reason.  Please check your browser console for error messages.<br></p>\n",
       "        </div>\n",
       "<script>\n",
       "\n",
       "var loadScriptAsync = function(uri){\n",
       "  return new Promise((resolve, reject) => {\n",
       "    //this is to ignore the existence of requirejs amd\n",
       "    var savedexports, savedmodule;\n",
       "    if (typeof exports !== 'undefined') savedexports = exports;\n",
       "    else exports = {}\n",
       "    if (typeof module !== 'undefined') savedmodule = module;\n",
       "    else module = {}\n",
       "\n",
       "    var tag = document.createElement('script');\n",
       "    tag.src = uri;\n",
       "    tag.async = true;\n",
       "    tag.onload = () => {\n",
       "        exports = savedexports;\n",
       "        module = savedmodule;\n",
       "        resolve();\n",
       "    };\n",
       "  var firstScriptTag = document.getElementsByTagName('script')[0];\n",
       "  firstScriptTag.parentNode.insertBefore(tag, firstScriptTag);\n",
       "});\n",
       "};\n",
       "\n",
       "if(typeof $3Dmolpromise === 'undefined') {\n",
       "$3Dmolpromise = null;\n",
       "  $3Dmolpromise = loadScriptAsync('https://cdnjs.cloudflare.com/ajax/libs/3Dmol/2.1.0/3Dmol-min.js');\n",
       "}\n",
       "\n",
       "var viewer_17190046887381744 = null;\n",
       "var warn = document.getElementById(\"3dmolwarning_17190046887381744\");\n",
       "if(warn) {\n",
       "    warn.parentNode.removeChild(warn);\n",
       "}\n",
       "$3Dmolpromise.then(function() {\n",
       "viewer_17190046887381744 = $3Dmol.createViewer(document.getElementById(\"3dmolviewer_17190046887381744\"),{backgroundColor:\"white\"});\n",
       "viewer_17190046887381744.addModel(\"13\\nLattice=\\\"24.089999999999996 0.0 0.0 0.0 24.089999999999996 0.0 0.0 0.0 24.089999999999996\\\" Properties=species:S:1:pos:R:3 pbc=\\\"F F F\\\"\\nAg      10.00000000      10.00000000      12.04500000\\nAg      10.00000000      12.04500000      10.00000000\\nAg      10.00000000      12.04500000      14.09000000\\nAg      10.00000000      14.09000000      12.04500000\\nAg      12.04500000      10.00000000      10.00000000\\nAg      12.04500000      10.00000000      14.09000000\\nAg      14.09000000      10.00000000      12.04500000\\nAg      12.04500000      14.09000000      10.00000000\\nAg      14.09000000      12.04500000      10.00000000\\nAg      12.04500000      12.04500000      12.04500000\\nAg      12.04500000      14.09000000      14.09000000\\nAg      14.09000000      12.04500000      14.09000000\\nAg      14.09000000      14.09000000      12.04500000\\n\");\n",
       "viewer_17190046887381744.setStyle(\"sphere\");\n",
       "viewer_17190046887381744.zoomTo();\n",
       "\tviewer_17190046887381744.addUnitCell();\n",
       "\tviewer_17190046887381744.zoomTo();\n",
       "viewer_17190046887381744.render();\n",
       "});\n",
       "</script>"
      ]
     },
     "metadata": {},
     "output_type": "display_data"
    }
   ],
   "source": [
    "import py3Dmol\n",
    "from ase.build import bulk\n",
    "from ase.io import write\n",
    "from ase.constraints import FixBondLength\n",
    "c = FixBondLength(0, 10)\n",
    "atoms.set_constraint(c)\n",
    "write('cluster.xyz',atoms)\n",
    "v = py3Dmol.view(data=open('./cluster.xyz','r').read(), style='sphere',linked=False)\n",
    "v.addUnitCell()\n",
    "v.zoomTo()\n",
    "v.show()"
   ]
  },
  {
   "cell_type": "code",
   "execution_count": 44,
   "id": "6508b05e",
   "metadata": {},
   "outputs": [],
   "source": [
    "ions = Ions.from_ase(atoms)"
   ]
  },
  {
   "cell_type": "code",
   "execution_count": 45,
   "id": "f39035d4",
   "metadata": {},
   "outputs": [],
   "source": [
    "PP_list = ['./OEPP/OEPP/UPF/Ag_OEPP_PZ.UPF']\n",
    "grid = DirectGrid(ions.cell, spacing = 1.1)"
   ]
  },
  {
   "cell_type": "code",
   "execution_count": 46,
   "id": "7c8d9145",
   "metadata": {},
   "outputs": [
    {
     "name": "stdout",
     "output_type": "stream",
     "text": [
      "setting key: Ag -> ./OEPP/OEPP/UPF/Ag_OEPP_PZ.UPF\n"
     ]
    }
   ],
   "source": [
    "ke = Functional(type='KEDF',name='TFvW')\n",
    "xc = Functional(type='XC',name='LDA')\n",
    "hartree = Functional(type='HARTREE')\n",
    "pseudo = Functional(type='PSEUDO', grid=grid, ions=ions, PP_list=PP_list)\n",
    "totalfunctional = TotalFunctional(KEDF=ke, XC=xc, HARTREE=hartree, PSEUDO=pseudo)"
   ]
  },
  {
   "cell_type": "code",
   "execution_count": 47,
   "id": "040d432f",
   "metadata": {},
   "outputs": [],
   "source": [
    "rho_ini = DirectField(grid=grid)\n",
    "rho_ini[:] = ions.get_ncharges()/ions.cell.volume"
   ]
  },
  {
   "cell_type": "code",
   "execution_count": 48,
   "id": "c4e8776c",
   "metadata": {},
   "outputs": [],
   "source": [
    "optimization_options = {'econv' : 1e-9,'maxiter' : 100}\n",
    "\n",
    "opt = Optimization(EnergyEvaluator=totalfunctional, optimization_options = optimization_options,\n",
    "        optimization_method = 'TN')"
   ]
  },
  {
   "cell_type": "code",
   "execution_count": 49,
   "id": "1d9c27ae",
   "metadata": {},
   "outputs": [
    {
     "name": "stdout",
     "output_type": "stream",
     "text": [
      "Step    Energy(a.u.)            dE              dP              Nd      Nls     Time(s)         \n",
      "0       5.491892512135E+00      5.491893E+00    8.282699E-01    1       1       6.154013E-02    \n",
      "!WARN: Change to steepest decent\n",
      "1       -1.771792280812E+00     -7.263685E+00   8.279394E-01    1       4       1.699202E-01    \n",
      "2       -2.431713896451E+00     -6.599216E-01   1.390363E-01    6       2       3.210745E-01    \n",
      "3       -2.510891474623E+00     -7.917758E-02   1.626424E-02    5       1       4.378014E-01    \n",
      "4       -2.533807311693E+00     -2.291584E-02   3.405001E-03    10      1       6.385415E-01    \n",
      "5       -2.537861926341E+00     -4.054615E-03   4.825607E-04    9       2       8.432808E-01    \n",
      "6       -2.538484118133E+00     -6.221918E-04   6.024819E-05    10      2       1.066237E+00    \n",
      "7       -2.538544335327E+00     -6.021719E-05   8.430590E-06    9       2       1.270681E+00    \n",
      "8       -2.538551190213E+00     -6.854886E-06   1.023050E-06    10      1       1.473479E+00    \n",
      "9       -2.538552288492E+00     -1.098279E-06   8.996138E-08    9       2       1.680492E+00    \n",
      "10      -2.538552317588E+00     -2.909658E-08   8.707718E-09    3       1       1.758357E+00    \n",
      "11      -2.538552329289E+00     -1.170091E-08   1.309402E-09    10      2       1.982521E+00    \n",
      "12      -2.538552330503E+00     -1.214145E-09   1.743580E-10    9       2       2.190754E+00    \n",
      "13      -2.538552330679E+00     -1.759162E-10   6.199681E-11    11      2       2.452447E+00    \n",
      "14      -2.538552330704E+00     -2.511058E-11   1.965255E-11    8       2       2.642934E+00    \n",
      "#### Density Optimization Converged ####\n",
      "Chemical potential (a.u.): -0.10402988286184685\n",
      "Chemical potential (eV)  : -2.830797300623421\n"
     ]
    }
   ],
   "source": [
    " rho0 = opt.optimize_rho(guess_rho=rho_ini)"
   ]
  },
  {
   "cell_type": "code",
   "execution_count": 50,
   "id": "1e957abb",
   "metadata": {},
   "outputs": [],
   "source": [
    " ke.options.update({'y':0})"
   ]
  },
  {
   "cell_type": "code",
   "execution_count": 51,
   "id": "f9bc05c8",
   "metadata": {},
   "outputs": [],
   "source": [
    "direction = 0 # 0, 1, 2 means x, y, z-direction, respectively\n",
    "k = 1.0e-3 # kick_strength in a.u.\n",
    "interval = 0.04 "
   ]
  },
  {
   "cell_type": "code",
   "execution_count": 52,
   "id": "ac5072db",
   "metadata": {},
   "outputs": [],
   "source": [
    "from dftpy.optimize import Dynamics\n",
    "\n",
    "\n",
    "class Runner(Dynamics):\n",
    "\n",
    "    def __init__(self, rho0, totalfunctional, k, direction, interval, max_steps):\n",
    "        super(Runner, self).__init__()\n",
    "        self.max_steps = max_steps\n",
    "        self.totalfunctional = totalfunctional\n",
    "        self.rho0 = rho0\n",
    "        self.rho = rho0\n",
    "        self.psi = initial_kick(k, direction, np.sqrt(self.rho0))\n",
    "        self.j = calc_j(self.psi)\n",
    "        potential = self.totalfunctional(self.rho0, current=self.j, calcType=['V']).potential\n",
    "        hamiltonian = Hamiltonian(v=potential)\n",
    "        self.prop = Propagator(hamiltonian, interval, name='crank-nicholson')\n",
    "        self.dipole = []\n",
    "        self.attach(self.calc_dipole) # this attaches the calc_dipole function to the observers list which runs after each time step.\n",
    "\n",
    "    def step(self):\n",
    "        self.psi, info = self.prop(self.psi)\n",
    "        self.rho = calc_rho(self.psi)\n",
    "        self.j = calc_j(self.psi)\n",
    "        potential = self.totalfunctional(self.rho, current=self.j, calcType=['V']).potential\n",
    "        self.prop.hamiltonian.v = potential\n",
    "        print(\"\\r\", end=\"\")\n",
    "        print(f\"Progress: [{self.nsteps+1}/{self.max_steps}]\", \"|\" * (self.nsteps*50 // self.max_steps), end=\"\", flush=True)\n",
    "\n",
    "    def calc_dipole(self):\n",
    "        delta_rho = self.rho - self.rho0\n",
    "        delta_mu = (delta_rho * delta_rho.grid.r).integral()\n",
    "        self.dipole.append(delta_mu)"
   ]
  },
  {
   "cell_type": "code",
   "execution_count": 58,
   "id": "5790871f",
   "metadata": {},
   "outputs": [
    {
     "name": "stdout",
     "output_type": "stream",
     "text": [
      "Progress: [1000/1000] |||||||||||||||||||||||||||||||||||||||||||||||||"
     ]
    },
    {
     "data": {
      "text/plain": [
       "False"
      ]
     },
     "execution_count": 58,
     "metadata": {},
     "output_type": "execute_result"
    }
   ],
   "source": [
    "max_steps = 1000\n",
    "runner = Runner(rho0, totalfunctional, k, direction, interval, max_steps)\n",
    "runner()"
   ]
  },
  {
   "cell_type": "code",
   "execution_count": 59,
   "id": "33d9e9e4",
   "metadata": {},
   "outputs": [],
   "source": [
    "t = np.linspace(0, interval * max_steps, max_steps + 1)\n",
    "mu = np.asarray(runner.dipole)"
   ]
  },
  {
   "cell_type": "code",
   "execution_count": 60,
   "id": "297aa2c8",
   "metadata": {},
   "outputs": [
    {
     "data": {
      "text/plain": [
       "Text(0, 0.5, 'Dipole Moment (au)')"
      ]
     },
     "execution_count": 60,
     "metadata": {},
     "output_type": "execute_result"
    },
    {
     "data": {
      "image/png": "[encoded data removed]",
      "text/plain": [
       "<Figure size 640x480 with 1 Axes>"
      ]
     },
     "metadata": {},
     "output_type": "display_data"
    }
   ],
   "source": [
    "delta_mu = mu[:,0] - mu[0,0]\n",
    "plt.plot(t, delta_mu)\n",
    "plt.xlabel('Time (au)')\n",
    "plt.ylabel('Dipole Moment (au)')"
   ]
  },
  {
   "cell_type": "code",
   "execution_count": 62,
   "id": "6d61accc",
   "metadata": {},
   "outputs": [
    {
     "data": {
      "text/plain": [
       "(0.0, 40.0)"
      ]
     },
     "execution_count": 62,
     "metadata": {},
     "output_type": "execute_result"
    },
    {
     "data": {
      "image/png": "[encoded data removed]",
      "text/plain": [
       "<Figure size 640x480 with 1 Axes>"
      ]
     },
     "metadata": {},
     "output_type": "display_data"
    }
   ],
   "source": [
    "omega, spectra = calc_spectra_mu(delta_mu, interval, kick=k, sigma=0.01)\n",
    "plt.plot(omega*Units.Ha, spectra, '-')\n",
    "plt.xlabel('Frequency (eV)')\n",
    "plt.ylabel('Intensity (au)')\n",
    "plt.xlim(0, 40)"
   ]
  }
 ],
 "metadata": {
  "kernelspec": {
   "display_name": "Python 3 (ipykernel)",
   "language": "python",
   "name": "python3"
  },
  "language_info": {
   "codemirror_mode": {
    "name": "ipython",
    "version": 3
   },
   "file_extension": ".py",
   "mimetype": "text/x-python",
   "name": "python",
   "nbconvert_exporter": "python",
   "pygments_lexer": "ipython3",
   "version": "3.8.5"
  }
 },
 "nbformat": 4,
 "nbformat_minor": 5
}
