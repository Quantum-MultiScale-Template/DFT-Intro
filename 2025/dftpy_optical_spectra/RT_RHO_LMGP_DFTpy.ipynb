{
 "cells": [
  {
   "cell_type": "markdown",
   "id": "3fece55d",
   "metadata": {
    "slideshow": {
     "slide_type": "slide"
    }
   },
   "source": [
    "<center>\n",
    "    <h3> Real-Time Time Dependent Orbital Free Density Functional Theory with DFTpy</h3>\n",
    "    <h3>Tutorial</h3>\n",
    "</center>\n",
    "<table>\n",
    "  <tr>\n",
    "      <td><p><h4>Rutgers University-Newark</h4></p><p>Dr Xuecheng Shao</p><p>Dr Kaili Jiang (Microsoft)</p><p>Dr. Bhaskar Rana</p><p>Jessica Martinez</p><p>Valeria Rios </p><p>Alina Umerbekova</p></td>\n",
    "          <td><img src=\"../../2024/figures/logos/logo.jpg\" width=800 /></td>\n",
    "  </tr>\n",
    "</table>\n",
    "\n",
    "ASESMA 2025"
   ]
  },
  {
   "cell_type": "markdown",
   "id": "34dd5615",
   "metadata": {
    "slideshow": {
     "slide_type": "slide"
    }
   },
   "source": [
    "## Goal: COmpute optical spectra with DFTpy\n",
    "#### 1) Obtain a good initial density with LMGP (OESCF)\n",
    "#### 2) Compute the Optical Spectra (plasmons) of a Mg<sub>8</sub> from a good initial density  \n",
    "#### Challenge: Obtain the spectrum of your own cluster"
   ]
  },
  {
   "cell_type": "code",
   "execution_count": 1,
   "id": "2a4414f0",
   "metadata": {
    "slideshow": {
     "slide_type": "slide"
    }
   },
   "outputs": [],
   "source": [
    "import numpy as np\n",
    "import matplotlib.pyplot as plt"
   ]
  },
  {
   "cell_type": "code",
   "execution_count": 2,
   "id": "cc9b0b75",
   "metadata": {},
   "outputs": [],
   "source": [
    "from dftpy.grid import DirectGrid\n",
    "from dftpy.field import DirectField\n",
    "from dftpy.functional import Functional, TotalFunctional\n",
    "from dftpy.optimization import Optimization\n",
    "from dftpy.td.propagator import Propagator\n",
    "from dftpy.td.hamiltonian import Hamiltonian\n",
    "from dftpy.utils.utils import calc_rho, calc_j\n",
    "from dftpy.td.utils import initial_kick\n",
    "from dftpy.ions import Ions\n",
    "from dftpy.formats import io\n",
    "from dftpy.constants import Units\n",
    "from dftpy.td.utils import calc_spectra_mu"
   ]
  },
  {
   "cell_type": "code",
   "execution_count": 3,
   "id": "3d0a7206-95c8-4133-a0b1-98cabd70c3ef",
   "metadata": {},
   "outputs": [
    {
     "name": "stdout",
     "output_type": "stream",
     "text": [
      "--2025-06-03 21:32:32--  https://gitlab.com/pavanello-research-group/dftpy/-/raw/master/examples/DATA/Mg8.vasp\n",
      "Resolving gitlab.com (gitlab.com)... 172.65.251.78\n",
      "Connecting to gitlab.com (gitlab.com)|172.65.251.78|:443... connected.\n",
      "HTTP request sent, awaiting response... 200 OK\n",
      "Length: 839 [text/plain]\n",
      "Saving to: ‘Mg8.vasp.2’\n",
      "\n",
      "Mg8.vasp.2          100%[===================>]     839  --.-KB/s    in 0s      \n",
      "\n",
      "2025-06-03 21:32:32 (80.0 MB/s) - ‘Mg8.vasp.2’ saved [839/839]\n",
      "\n",
      "--2025-06-03 21:32:32--  https://gitlab.com/pavanello-research-group/dftpy/-/raw/master/examples/DATA/Mg_OEPP_PZ.UPF\n",
      "Resolving gitlab.com (gitlab.com)... 172.65.251.78\n",
      "Connecting to gitlab.com (gitlab.com)|172.65.251.78|:443... connected.\n",
      "HTTP request sent, awaiting response... 200 OK\n",
      "Length: 98081 (96K) [text/plain]\n",
      "Saving to: ‘Mg_OEPP_PZ.UPF.2’\n",
      "\n",
      "Mg_OEPP_PZ.UPF.2    100%[===================>]  95.78K  --.-KB/s    in 0.05s   \n",
      "\n",
      "2025-06-03 21:32:33 (2.07 MB/s) - ‘Mg_OEPP_PZ.UPF.2’ saved [98081/98081]\n",
      "\n"
     ]
    }
   ],
   "source": [
    "!wget https://gitlab.com/pavanello-research-group/dftpy/-/raw/master/examples/DATA/Mg8.vasp\n",
    "!wget https://gitlab.com/pavanello-research-group/dftpy/-/raw/master/examples/DATA/Mg_OEPP_PZ.UPF"
   ]
  },
  {
   "cell_type": "markdown",
   "id": "fe019cf0",
   "metadata": {
    "slideshow": {
     "slide_type": "slide"
    }
   },
   "source": [
    "### Read the vasp file with DFTpy"
   ]
  },
  {
   "cell_type": "code",
   "execution_count": 4,
   "id": "1cc0e6f4",
   "metadata": {
    "slideshow": {
     "slide_type": "-"
    }
   },
   "outputs": [],
   "source": [
    "ions = io.read('Mg8.vasp', format='vasp', names=['Mg'])"
   ]
  },
  {
   "cell_type": "markdown",
   "id": "1b37141d",
   "metadata": {},
   "source": [
    "### Create the PP list and the Grid\n",
    "DirectGrid is a class object that represents a grid (Cell plus discretization)"
   ]
  },
  {
   "cell_type": "code",
   "execution_count": 5,
   "id": "9bfd4f19",
   "metadata": {},
   "outputs": [],
   "source": [
    "PP_list = ['./Mg_OEPP_PZ.UPF']\n",
    "grid = DirectGrid(ions.cell, spacing = 1.1)"
   ]
  },
  {
   "cell_type": "code",
   "execution_count": 6,
   "id": "5522f442",
   "metadata": {},
   "outputs": [
    {
     "data": {
      "text/plain": [
       "array([36, 36, 32], dtype=int32)"
      ]
     },
     "execution_count": 6,
     "metadata": {},
     "output_type": "execute_result"
    }
   ],
   "source": [
    "grid.nr"
   ]
  },
  {
   "cell_type": "markdown",
   "id": "a70560ea",
   "metadata": {
    "slideshow": {
     "slide_type": "slide"
    }
   },
   "source": [
    "### Define the functionals for OF-DFT"
   ]
  },
  {
   "cell_type": "code",
   "execution_count": 7,
   "id": "bd1b5f48",
   "metadata": {},
   "outputs": [
    {
     "name": "stdout",
     "output_type": "stream",
     "text": [
      "setting key: Mg -> ./Mg_OEPP_PZ.UPF\n"
     ]
    }
   ],
   "source": [
    "xc = Functional(type='XC',name='LDA')\n",
    "hartree = Functional(type='HARTREE')\n",
    "pseudo = Functional(type='PSEUDO', grid=grid, ions=ions, PP_list=PP_list)"
   ]
  },
  {
   "cell_type": "markdown",
   "id": "c5c08f82",
   "metadata": {
    "slideshow": {
     "slide_type": "slide"
    }
   },
   "source": [
    "### Represented a field on a grid\n",
    "Write on the grid the initial electronic density"
   ]
  },
  {
   "cell_type": "code",
   "execution_count": 8,
   "id": "b3f26af8-699f-4cad-ba63-9f7d04bb68b9",
   "metadata": {},
   "outputs": [],
   "source": [
    "rho_ini = DirectField(grid=grid)\n",
    "rho_ini[:] = ions.get_ncharges()/ions.cell.volume"
   ]
  },
  {
   "cell_type": "markdown",
   "id": "ee9555af",
   "metadata": {
    "slideshow": {
     "slide_type": "slide"
    }
   },
   "source": [
    "### Write the optimization options and build the class that handles the electron density optimization"
   ]
  },
  {
   "cell_type": "code",
   "execution_count": 9,
   "id": "f0bc84f2",
   "metadata": {},
   "outputs": [],
   "source": [
    "optimization_options = {'econv' : 1e-11,'maxiter' : 100}"
   ]
  },
  {
   "cell_type": "markdown",
   "id": "c72f3065",
   "metadata": {},
   "source": [
    "#### Run the optimization of the electronic density with TF0.2vW"
   ]
  },
  {
   "cell_type": "code",
   "execution_count": 10,
   "id": "f7c5470f",
   "metadata": {
    "scrolled": true
   },
   "outputs": [
    {
     "name": "stdout",
     "output_type": "stream",
     "text": [
      "Step    Energy(a.u.)            dE              dP              Nd      Nls     Time(s)         \n",
      "0       8.951916882520E+00      8.951917E+00    2.343046E+00    1       1       2.684712E-02    \n",
      "!WARN: Change to steepest decent\n",
      "1       -5.391241844465E+00     -1.434316E+01   1.315224E+00    1       3       5.571389E-02    \n",
      "2       -6.787012645229E+00     -1.395771E+00   1.519794E-01    2       2       7.913613E-02    \n",
      "3       -7.028248145499E+00     -2.412355E-01   1.639106E-02    5       3       1.257429E-01    \n",
      "4       -7.058369908191E+00     -3.012176E-02   1.701910E-03    5       2       1.651659E-01    \n",
      "5       -7.059908530812E+00     -1.538623E-03   1.781677E-04    3       2       1.946950E-01    \n",
      "6       -7.060408861365E+00     -5.003306E-04   1.085856E-05    6       3       2.423599E-01    \n",
      "7       -7.060419731847E+00     -1.087048E-05   1.330571E-06    4       3       2.810478E-01    \n",
      "8       -7.060420451061E+00     -7.192140E-07   6.551728E-07    3       3       3.130379E-01    \n",
      "9       -7.060420769206E+00     -3.181452E-07   4.178655E-07    5       5       3.671949E-01    \n",
      "10      -7.060420817572E+00     -4.836655E-08   3.963139E-07    5       4       4.125309E-01    \n",
      "11      -7.060420841948E+00     -2.437550E-08   3.668011E-07    2       5       4.510939E-01    \n",
      "12      -7.060420847282E+00     -5.334055E-09   3.651909E-07    4       5       5.005169E-01    \n",
      "13      -7.060420853201E+00     -5.919180E-09   3.618032E-07    4       5       5.484498E-01    \n",
      "14      -7.060420855020E+00     -1.818513E-09   3.599916E-07    2       5       5.852518E-01    \n",
      "15      -7.060420857424E+00     -2.403983E-09   3.572578E-07    2       5       6.228430E-01    \n",
      "16      -7.060420858751E+00     -1.327166E-09   3.558196E-07    2       6       6.694980E-01    \n",
      "17      -7.060420859918E+00     -1.167447E-09   3.552612E-07    4       6       7.220309E-01    \n",
      "18      -7.060420860699E+00     -7.812133E-10   3.543846E-07    2       6       7.636640E-01    \n",
      "19      -7.060420861118E+00     -4.190852E-10   3.538953E-07    2       7       8.138039E-01    \n",
      "20      -7.060420861294E+00     -1.754401E-10   3.537061E-07    2       7       8.611290E-01    \n",
      "21      -7.060420861467E+00     -1.728040E-10   3.536150E-07    4       7       9.174700E-01    \n",
      "22      -7.060420861538E+00     -7.090861E-11   3.535427E-07    2       7       9.645269E-01    \n",
      "23      -7.060420861609E+00     -7.148415E-11   3.534605E-07    2       8       1.016688E+00    \n",
      "24      -7.060420861662E+00     -5.247358E-11   3.534352E-07    4       8       1.079450E+00    \n",
      "25      -7.060420861693E+00     -3.107914E-11   3.533998E-07    2       8       1.135500E+00    \n",
      "26      -7.060420861709E+00     -1.656986E-11   3.533819E-07    2       8       1.187770E+00    \n",
      "27      -7.060420861724E+00     -1.498535E-11   3.533745E-07    4       9       1.256963E+00    \n",
      "28      -7.060420861734E+00     -9.794832E-12   3.533702E-07    4       9       1.323084E+00    \n",
      "29      -7.060420861740E+00     -5.890399E-12   3.533634E-07    2       9       1.378404E+00    \n",
      "30      -7.060420861743E+00     -3.389289E-12   3.533597E-07    2       9       1.435801E+00    \n",
      "#### Density Optimization Converged ####\n",
      "Chemical potential (a.u.): -0.10246643631982068\n",
      "Chemical potential (eV)  : -2.7882537532398843\n"
     ]
    }
   ],
   "source": [
    "ke = Functional(type='KEDF',name='TFvw', y=0.2)\n",
    "totalfunctional = TotalFunctional(KEDF=ke, XC=xc, HARTREE=hartree, PSEUDO=pseudo)\n",
    "opt = Optimization(EnergyEvaluator=totalfunctional, optimization_options = optimization_options,\n",
    "        optimization_method = 'TN')\n",
    "rho = opt.optimize_rho(guess_rho=rho_ini)"
   ]
  },
  {
   "cell_type": "code",
   "execution_count": 11,
   "id": "8be1a8a7-6f0e-4301-982f-507c024e0bae",
   "metadata": {},
   "outputs": [],
   "source": [
    "kfmax=( np.max(rho) * 3 * np.pi )**(1.0/3.0)"
   ]
  },
  {
   "cell_type": "code",
   "execution_count": 12,
   "id": "24a8a90d-dca4-4fcb-ab94-e500e186efb6",
   "metadata": {},
   "outputs": [],
   "source": [
    "from dftpy.mixer.pulay import PulayMixer\n",
    "pulay=PulayMixer(mp=None)"
   ]
  },
  {
   "cell_type": "code",
   "execution_count": 13,
   "id": "264893e0-2ad4-4205-9ab0-ef848cae9633",
   "metadata": {},
   "outputs": [],
   "source": [
    "from dftpy.optimization import OESCF"
   ]
  },
  {
   "cell_type": "code",
   "execution_count": 14,
   "id": "b8dabae5-fe69-4132-baa2-2505c95a34c3",
   "metadata": {},
   "outputs": [],
   "source": [
    "vw = Functional(type='KEDF', name='vW')\n",
    "evaluator = TotalFunctional(KE=vw, XC=xc, HARTREE=hartree, PSEUDO=pseudo)\n",
    "\n",
    "kedf_emb = Functional(type='KEDF',name='LMGP', kfmax=kfmax, kfmin=1e-10, ratio=1.02)\n",
    "kedf_emb.options.update({'y':0})\n",
    "evaluator_emb = TotalFunctional(KEDF_EMB = kedf_emb)\n",
    "\n",
    "opt = Optimization(EnergyEvaluator=evaluator, optimization_options = optimization_options, optimization_method = 'CG')\n",
    "opt = OESCF(optimization=opt, evaluator_emb=evaluator_emb, guess_rho=rho, mixer=pulay)"
   ]
  },
  {
   "cell_type": "code",
   "execution_count": 15,
   "id": "4bb929c0-d779-4f8c-8e03-acbacf47f74c",
   "metadata": {
    "scrolled": true
   },
   "outputs": [
    {
     "name": "stdout",
     "output_type": "stream",
     "text": [
      "Step    Energy(a.u.)            dE              dP              Nd      Nls     Time(s)         \n",
      "0       -7.204194381864E+00     -7.204194E+00   9.995974E-01    1       1       4.762173E-03    \n",
      "1       -7.529012586465E+00     -3.248182E-01   2.821877E-01    1       2       1.687407E-02    \n",
      "2       -7.613763536066E+00     -8.475095E-02   1.327601E-01    1       2       2.830911E-02    \n",
      "3       -7.668002787571E+00     -5.423925E-02   8.003215E-02    1       2       3.952789E-02    \n",
      "4       -7.685169507877E+00     -1.716672E-02   4.264537E-02    1       2       5.141711E-02    \n",
      "5       -7.693641935166E+00     -8.472427E-03   1.840731E-02    1       3       6.816792E-02    \n",
      "6       -7.697651278215E+00     -4.009343E-03   1.091487E-02    1       3       8.474708E-02    \n",
      "#### Density Optimization Converged ####\n",
      "Chemical potential (a.u.): -0.14483034768150968\n",
      "Chemical potential (eV)  : -3.941034498804881\n",
      " OESCF--> iter=1     conv=1.600E-02 de=8.417E+00 energy=-8.417334E+00 time=9.197195E+00\n",
      "Step    Energy(a.u.)            dE              dP              Nd      Nls     Time(s)         \n",
      "0       -7.706679694440E+00     -7.706680E+00   1.089584E-01    1       1       4.732847E-03    \n",
      "1       -7.740871112931E+00     -3.419142E-02   4.702732E-02    1       2       1.675391E-02    \n",
      "2       -7.755621506473E+00     -1.475039E-02   4.326888E-02    1       2       2.795386E-02    \n",
      "3       -7.762449564236E+00     -6.828058E-03   2.284684E-02    1       3       4.448104E-02    \n",
      "4       -7.767958329352E+00     -5.508765E-03   1.054593E-02    1       3       6.142998E-02    \n",
      "5       -7.770313957931E+00     -2.355629E-03   8.717430E-03    1       2       7.337809E-02    \n",
      "6       -7.771432419606E+00     -1.118462E-03   4.406800E-03    1       2       8.467197E-02    \n",
      "7       -7.772255013133E+00     -8.225935E-04   2.791816E-03    1       2       9.627175E-02    \n",
      "8       -7.772763012989E+00     -5.079999E-04   1.302308E-03    1       3       1.132789E-01    \n",
      "9       -7.773026523324E+00     -2.635103E-04   5.155871E-04    1       2       1.242990E-01    \n",
      "10      -7.773173378900E+00     -1.468556E-04   3.457642E-04    1       2       1.352930E-01    \n",
      "11      -7.773285822737E+00     -1.124438E-04   2.079655E-04    1       2       1.463728E-01    \n",
      "12      -7.773354371925E+00     -6.854919E-05   1.990570E-04    1       2       1.580710E-01    \n",
      "13      -7.773406282485E+00     -5.191056E-05   1.243168E-04    1       3       1.736917E-01    \n",
      "#### Density Optimization Converged ####\n",
      "Chemical potential (a.u.): -0.1420446878069946\n",
      "Chemical potential (eV)  : -3.8652328326268615\n",
      " OESCF--> iter=2     conv=1.600E-04 de=9.010E-02 energy=-8.507433E+00 time=1.728793E+01\n",
      "Step    Energy(a.u.)            dE              dP              Nd      Nls     Time(s)         \n",
      "0       -7.825043073374E+00     -7.825043E+00   1.047245E-03    1       1       4.694700E-03    \n",
      "1       -7.825452634060E+00     -4.095607E-04   2.071947E-03    1       2       1.665092E-02    \n",
      "2       -7.825822329734E+00     -3.696957E-04   9.389828E-04    1       3       3.292489E-02    \n",
      "3       -7.825981205606E+00     -1.588759E-04   2.580214E-04    1       3       4.931092E-02    \n",
      "4       -7.826044612381E+00     -6.340677E-05   1.638455E-04    1       3       6.589389E-02    \n",
      "5       -7.826081885464E+00     -3.727308E-05   9.577214E-05    1       2       7.733464E-02    \n",
      "#### Density Optimization Converged ####\n",
      "Chemical potential (a.u.): -0.13597792492309788\n",
      "Chemical potential (eV)  : -3.7001478058748436\n",
      " OESCF--> iter=3     conv=1.600E-04 de=2.552E-02 energy=-8.532950E+00 time=2.517120E+01\n",
      "Step    Energy(a.u.)            dE              dP              Nd      Nls     Time(s)         \n",
      "0       -7.834647768068E+00     -7.834648E+00   4.326322E-04    1       1       4.745245E-03    \n",
      "1       -7.834765044869E+00     -1.172768E-04   1.830668E-04    1       2       1.645303E-02    \n",
      "2       -7.834796907504E+00     -3.186263E-05   7.117158E-05    1       3       3.275204E-02    \n",
      "3       -7.834816341397E+00     -1.943389E-05   6.040392E-05    1       3       4.954910E-02    \n",
      "#### Density Optimization Converged ####\n",
      "Chemical potential (a.u.): -0.13543232670117178\n",
      "Chemical potential (eV)  : -3.6853013220438045\n",
      " OESCF--> iter=4     conv=1.429E-04 de=1.393E-03 energy=-8.534343E+00 time=3.306853E+01\n",
      "Step    Energy(a.u.)            dE              dP              Nd      Nls     Time(s)         \n",
      "0       -7.835724605409E+00     -7.835725E+00   5.127968E-05    1       1       4.698753E-03    \n",
      "1       -7.835733458611E+00     -8.853202E-06   3.669920E-05    1       3       2.148294E-02    \n",
      "2       -7.835747608176E+00     -1.414957E-05   5.233242E-05    1       3       3.746510E-02    \n",
      "3       -7.835762893409E+00     -1.528523E-05   2.201318E-05    1       2       4.855394E-02    \n",
      "4       -7.835769914586E+00     -7.021178E-06   1.677660E-05    1       3       6.453085E-02    \n",
      "5       -7.835773551533E+00     -3.636947E-06   5.475208E-06    1       2       7.612991E-02    \n",
      "6       -7.835775230431E+00     -1.678899E-06   4.611716E-06    1       2       8.700490E-02    \n",
      "7       -7.835777033214E+00     -1.802783E-06   4.139964E-06    1       2       9.797812E-02    \n",
      "8       -7.835778596835E+00     -1.563620E-06   3.088533E-06    1       3       1.136019E-01    \n",
      "9       -7.835779581864E+00     -9.850296E-07   2.588853E-06    1       3       1.295528E-01    \n",
      "#### Density Optimization Converged ####\n",
      "Chemical potential (a.u.): -0.13566661763494775\n",
      "Chemical potential (eV)  : -3.691676703084792\n",
      " OESCF--> iter=5     conv=2.958E-06 de=2.840E-04 energy=-8.534059E+00 time=4.111165E+01\n",
      "Step    Energy(a.u.)            dE              dP              Nd      Nls     Time(s)         \n",
      "0       -7.836363905208E+00     -7.836364E+00   2.803144E-05    1       1       4.750252E-03    \n",
      "1       -7.836368269189E+00     -4.363981E-06   1.669403E-05    1       3       2.153516E-02    \n",
      "2       -7.836374670003E+00     -6.400814E-06   2.267130E-05    1       3       3.820920E-02    \n",
      "3       -7.836381678564E+00     -7.008561E-06   1.042192E-05    1       2       4.965711E-02    \n",
      "4       -7.836384896606E+00     -3.218041E-06   1.258093E-05    1       2       6.041908E-02    \n",
      "5       -7.836386806823E+00     -1.910217E-06   4.710905E-06    1       2       7.171202E-02    \n",
      "6       -7.836387882212E+00     -1.075389E-06   1.975303E-06    1       2       8.291721E-02    \n",
      "7       -7.836388559997E+00     -6.777846E-07   1.457295E-06    1       2       9.431720E-02    \n",
      "8       -7.836389240670E+00     -6.806735E-07   1.819299E-06    1       3       1.104321E-01    \n",
      "#### Density Optimization Converged ####\n",
      "Chemical potential (a.u.): -0.1356530687777303\n",
      "Chemical potential (eV)  : -3.691308019900859\n",
      " OESCF--> iter=6     conv=1.600E-06 de=8.331E-05 energy=-8.533976E+00 time=4.915027E+01\n",
      "Step    Energy(a.u.)            dE              dP              Nd      Nls     Time(s)         \n",
      "0       -7.836856270805E+00     -7.836856E+00   6.702740E-06    1       1       4.662991E-03    \n",
      "1       -7.836857309532E+00     -1.038727E-06   4.125054E-06    1       3       2.105689E-02    \n",
      "2       -7.836859178154E+00     -1.868622E-06   6.650560E-06    1       2       3.204679E-02    \n",
      "3       -7.836861273181E+00     -2.095027E-06   6.720522E-06    1       2       4.317784E-02    \n",
      "4       -7.836862581639E+00     -1.308458E-06   4.551900E-06    1       2       5.470586E-02    \n",
      "5       -7.836863461264E+00     -8.796253E-07   1.187472E-06    1       2       6.607389E-02    \n",
      "6       -7.836863721469E+00     -2.602045E-07   7.865669E-07    1       3       8.168602E-02    \n",
      "#### Density Optimization Converged ####\n",
      "Chemical potential (a.u.): -0.13574506284269586\n",
      "Chemical potential (eV)  : -3.693811305914587\n",
      " OESCF--> iter=7     conv=1.600E-06 de=1.824E-04 energy=-8.533793E+00 time=5.709291E+01\n",
      "Step    Energy(a.u.)            dE              dP              Nd      Nls     Time(s)         \n",
      "0       -7.837371626446E+00     -7.837372E+00   1.124266E-05    1       1       4.839897E-03    \n",
      "1       -7.837373142744E+00     -1.516298E-06   2.108231E-06    1       3       2.169704E-02    \n",
      "2       -7.837373567579E+00     -4.248350E-07   1.063128E-06    1       3       3.922200E-02    \n",
      "3       -7.837373971031E+00     -4.034523E-07   8.615992E-07    1       2       5.070376E-02    \n",
      "#### Density Optimization Converged ####\n",
      "Chemical potential (a.u.): -0.1357434597203277\n",
      "Chemical potential (eV)  : -3.693767682732983\n",
      " OESCF--> iter=8     conv=1.600E-06 de=2.040E-04 energy=-8.533589E+00 time=6.495302E+01\n",
      "Step    Energy(a.u.)            dE              dP              Nd      Nls     Time(s)         \n",
      "0       -7.837305809225E+00     -7.837306E+00   3.692225E-06    1       1       4.777193E-03    \n",
      "1       -7.837306183452E+00     -3.742270E-07   4.589089E-07    1       4       2.651215E-02    \n",
      "2       -7.837306344082E+00     -1.606297E-07   6.865915E-07    1       2       3.757811E-02    \n",
      "#### Density Optimization Converged ####\n",
      "Chemical potential (a.u.): -0.13572188720485243\n",
      "Chemical potential (eV)  : -3.6931806646868686\n",
      " OESCF--> iter=9     conv=1.600E-06 de=5.082E-05 energy=-8.533640E+00 time=7.295759E+01\n",
      "Step    Energy(a.u.)            dE              dP              Nd      Nls     Time(s)         \n",
      "0       -7.837263374120E+00     -7.837263E+00   8.170240E-07    1       1       4.666090E-03    \n",
      "1       -7.837263478934E+00     -1.048137E-07   2.728683E-07    1       3       2.276611E-02    \n",
      "2       -7.837263585927E+00     -1.069930E-07   3.982170E-07    1       2       3.410983E-02    \n",
      "#### Density Optimization Converged ####\n",
      "Chemical potential (a.u.): -0.13570509140340906\n",
      "Chemical potential (eV)  : -3.6927236276502047\n",
      " OESCF--> iter=10    conv=1.600E-06 de=2.467E-05 energy=-8.533665E+00 time=8.085129E+01\n",
      "Step    Energy(a.u.)            dE              dP              Nd      Nls     Time(s)         \n",
      "0       -7.837250268908E+00     -7.837250E+00   4.821079E-07    1       1       4.674673E-03    \n",
      "1       -7.837250333074E+00     -6.416582E-08   2.095823E-07    1       3       2.106595E-02    \n",
      "2       -7.837250461134E+00     -1.280601E-07   4.210495E-07    1       2       3.202987E-02    \n",
      "#### Density Optimization Converged ####\n",
      "Chemical potential (a.u.): -0.13570570620560965\n",
      "Chemical potential (eV)  : -3.6927403572702135\n",
      " OESCF--> iter=11    conv=1.600E-06 de=6.050E-06 energy=-8.533671E+00 time=8.873773E+01\n",
      "Step    Energy(a.u.)            dE              dP              Nd      Nls     Time(s)         \n",
      "0       -7.837255323464E+00     -7.837255E+00   5.592649E-07    1       1       4.562140E-03    \n",
      "1       -7.837255398738E+00     -7.527389E-08   2.362966E-07    1       3       2.131605E-02    \n",
      "2       -7.837255520419E+00     -1.216814E-07   4.246135E-07    1       2       3.260493E-02    \n",
      "#### Density Optimization Converged ####\n",
      "Chemical potential (a.u.): -0.13570471494873232\n",
      "Chemical potential (eV)  : -3.6927133837966752\n",
      " OESCF--> iter=12    conv=1.600E-06 de=1.801E-06 energy=-8.533669E+00 time=9.661372E+01\n",
      "Step    Energy(a.u.)            dE              dP              Nd      Nls     Time(s)         \n",
      "0       -7.837293702413E+00     -7.837294E+00   1.382849E-06    1       1       4.877090E-03    \n",
      "1       -7.837293893821E+00     -1.914085E-07   5.204676E-07    1       3       2.205610E-02    \n",
      "2       -7.837294118039E+00     -2.242173E-07   8.600062E-07    1       2       3.387785E-02    \n",
      "#### Density Optimization Converged ####\n",
      "Chemical potential (a.u.): -0.1356982627872763\n",
      "Chemical potential (eV)  : -3.6925378115406042\n",
      " OESCF--> iter=13    conv=1.600E-06 de=1.218E-05 energy=-8.533657E+00 time=1.045291E+02\n",
      "Step    Energy(a.u.)            dE              dP              Nd      Nls     Time(s)         \n",
      "0       -7.837237973552E+00     -7.837238E+00   2.140978E-06    1       1       4.740238E-03    \n",
      "1       -7.837238357886E+00     -3.843345E-07   2.730378E-07    1       3       2.118826E-02    \n",
      "2       -7.837238417842E+00     -5.995585E-08   2.062693E-07    1       3       3.675699E-02    \n",
      "#### Density Optimization Converged ####\n",
      "Chemical potential (a.u.): -0.1357045705130387\n",
      "Chemical potential (eV)  : -3.6927094535012603\n",
      " OESCF--> iter=14    conv=1.600E-06 de=1.687E-05 energy=-8.533674E+00 time=1.125026E+02\n",
      "Step    Energy(a.u.)            dE              dP              Nd      Nls     Time(s)         \n",
      "0       -7.837243515210E+00     -7.837244E+00   6.384837E-07    1       1       4.559755E-03    \n",
      "1       -7.837243621678E+00     -1.064680E-07   2.024201E-07    1       3       2.070284E-02    \n",
      "2       -7.837243671091E+00     -4.941379E-08   2.969236E-07    1       2       3.223777E-02    \n",
      "#### Density Optimization Converged ####\n",
      "Chemical potential (a.u.): -0.13570680290727322\n",
      "Chemical potential (eV)  : -3.6927702000425344\n",
      " OESCF--> iter=15    conv=1.600E-06 de=1.453E-06 energy=-8.533672E+00 time=1.204307E+02\n",
      "Step    Energy(a.u.)            dE              dP              Nd      Nls     Time(s)         \n",
      "0       -7.837251489195E+00     -7.837251E+00   7.648191E-07    1       1       4.742861E-03    \n",
      "1       -7.837251600647E+00     -1.114515E-07   2.545704E-07    1       3       2.133298E-02    \n",
      "2       -7.837251651877E+00     -5.123029E-08   2.038524E-07    1       2       3.258276E-02    \n",
      "#### Density Optimization Converged ####\n",
      "Chemical potential (a.u.): -0.1357106696562671\n",
      "Chemical potential (eV)  : -3.6928754196420663\n",
      " OESCF--> iter=16    conv=1.600E-06 de=3.240E-06 energy=-8.533669E+00 time=1.283155E+02\n",
      "Step    Energy(a.u.)            dE              dP              Nd      Nls     Time(s)         \n",
      "0       -7.837249727613E+00     -7.837250E+00   3.153384E-07    1       1       4.554987E-03    \n",
      "1       -7.837249771295E+00     -4.368251E-08   1.374310E-07    1       3       2.105093E-02    \n",
      "2       -7.837249825913E+00     -5.461738E-08   2.202211E-07    1       2       3.386307E-02    \n",
      "#### Density Optimization Converged ####\n",
      "Chemical potential (a.u.): -0.13571252626400895\n",
      "Chemical potential (eV)  : -3.692925940512026\n",
      " OESCF--> iter=17    conv=1.600E-06 de=5.729E-07 energy=-8.533670E+00 time=1.361242E+02\n",
      "Step    Energy(a.u.)            dE              dP              Nd      Nls     Time(s)         \n",
      "0       -7.837242690963E+00     -7.837243E+00   1.243030E-06    1       1       4.607916E-03    \n",
      "1       -7.837242878203E+00     -1.872399E-07   3.455951E-07    1       3       2.103186E-02    \n",
      "2       -7.837242949192E+00     -7.098889E-08   2.477187E-07    1       3       3.752494E-02    \n",
      "#### Density Optimization Converged ####\n",
      "Chemical potential (a.u.): -0.13570252954263998\n",
      "Chemical potential (eV)  : -3.6926539158678766\n",
      " OESCF--> iter=18    conv=1.600E-06 de=3.527E-06 energy=-8.533673E+00 time=1.440570E+02\n",
      "Step    Energy(a.u.)            dE              dP              Nd      Nls     Time(s)         \n",
      "0       -7.837238138475E+00     -7.837238E+00   1.490343E-06    1       1       4.560947E-03    \n",
      "1       -7.837238367446E+00     -2.289709E-07   4.314223E-07    1       3       2.046800E-02    \n",
      "2       -7.837238460333E+00     -9.288679E-08   3.349757E-07    1       3       3.634572E-02    \n",
      "#### Density Optimization Converged ####\n",
      "Chemical potential (a.u.): -0.1356971033192285\n",
      "Chemical potential (eV)  : -3.692506260807972\n",
      " OESCF--> iter=19    conv=1.600E-06 de=2.317E-06 energy=-8.533675E+00 time=1.518630E+02\n",
      "Step    Energy(a.u.)            dE              dP              Nd      Nls     Time(s)         \n",
      "0       -7.837256724782E+00     -7.837257E+00   4.265465E-07    1       1       4.608154E-03    \n",
      "1       -7.837256787468E+00     -6.268525E-08   1.446386E-07    1       3       2.103901E-02    \n",
      "2       -7.837256814126E+00     -2.665866E-08   5.899996E-08    1       3       3.720999E-02    \n",
      "#### Density Optimization Converged ####\n",
      "Chemical potential (a.u.): -0.1357211829594687\n",
      "Chemical potential (eV)  : -3.693161501193876\n",
      " OESCF--> iter=20    conv=1.600E-06 de=1.009E-05 energy=-8.533665E+00 time=1.596749E+02\n",
      "Step    Energy(a.u.)            dE              dP              Nd      Nls     Time(s)         \n",
      "0       -7.837255897664E+00     -7.837256E+00   3.930036E-07    1       1       4.644156E-03    \n",
      "1       -7.837255954889E+00     -5.722474E-08   1.339130E-07    1       3       2.144003E-02    \n",
      "2       -7.837255980666E+00     -2.577658E-08   6.276872E-08    1       3       3.751302E-02    \n",
      "#### Density Optimization Converged ####\n",
      "Chemical potential (a.u.): -0.13572046583193423\n",
      "Chemical potential (eV)  : -3.693141987159707\n",
      " OESCF--> iter=21    conv=1.600E-06 de=3.834E-07 energy=-8.533666E+00 time=1.675223E+02\n",
      "Step    Energy(a.u.)            dE              dP              Nd      Nls     Time(s)         \n",
      "0       -7.837243291025E+00     -7.837243E+00   1.068612E-06    1       1       4.799128E-03    \n",
      "1       -7.837243475717E+00     -1.846914E-07   3.853841E-07    1       3       2.138615E-02    \n",
      "2       -7.837243541973E+00     -6.625666E-08   1.921356E-07    1       3       3.692412E-02    \n",
      "#### Density Optimization Converged ####\n",
      "Chemical potential (a.u.): -0.13570624943484477\n",
      "Chemical potential (eV)  : -3.69275513929063\n",
      " OESCF--> iter=22    conv=1.600E-06 de=6.128E-06 energy=-8.533672E+00 time=1.754677E+02\n",
      "Step    Energy(a.u.)            dE              dP              Nd      Nls     Time(s)         \n",
      "0       -7.837256379073E+00     -7.837256E+00   2.258193E-07    1       1       4.624844E-03    \n",
      "1       -7.837256410051E+00     -3.097834E-08   8.123827E-08    1       3       2.084994E-02    \n",
      "2       -7.837256428207E+00     -1.815533E-08   3.289858E-08    1       2       3.165174E-02    \n",
      "#### Density Optimization Converged ####\n",
      "Chemical potential (a.u.): -0.1357246805044939\n",
      "Chemical potential (eV)  : -3.693256674241695\n",
      " OESCF--> iter=23    conv=1.600E-06 de=7.586E-06 energy=-8.533664E+00 time=1.832731E+02\n",
      "Step    Energy(a.u.)            dE              dP              Nd      Nls     Time(s)         \n",
      "0       -7.837263463785E+00     -7.837263E+00   3.823220E-07    1       1       4.696131E-03    \n",
      "1       -7.837263533707E+00     -6.992195E-08   7.405498E-08    1       3       2.149200E-02    \n",
      "2       -7.837263547582E+00     -1.387511E-08   3.004695E-08    1       3       3.806686E-02    \n",
      "#### Density Optimization Converged ####\n",
      "Chemical potential (a.u.): -0.13573219035204237\n",
      "Chemical potential (eV)  : -3.69346102760232\n",
      " OESCF--> iter=24    conv=1.600E-06 de=2.790E-06 energy=-8.533661E+00 time=1.911092E+02\n",
      "Step    Energy(a.u.)            dE              dP              Nd      Nls     Time(s)         \n",
      "0       -7.837265018260E+00     -7.837265E+00   1.729084E-07    1       1       4.702330E-03    \n",
      "1       -7.837265044590E+00     -2.633067E-08   5.179833E-08    1       3       2.096105E-02    \n",
      "2       -7.837265053810E+00     -9.219743E-09   2.649533E-08    1       2       3.240609E-02    \n",
      "#### Density Optimization Converged ####\n",
      "Chemical potential (a.u.): -0.1357340761528834\n",
      "Chemical potential (eV)  : -3.693512342856971\n",
      " OESCF--> iter=25    conv=1.600E-06 de=1.257E-06 energy=-8.533660E+00 time=1.989242E+02\n",
      "Step    Energy(a.u.)            dE              dP              Nd      Nls     Time(s)         \n",
      "0       -7.837266720337E+00     -7.837267E+00   5.746470E-08    1       1       4.550934E-03    \n",
      "1       -7.837266730603E+00     -1.026550E-08   3.694610E-08    1       2       1.632476E-02    \n",
      "2       -7.837266735463E+00     -4.860219E-09   1.574364E-08    1       2       2.733994E-02    \n",
      "#### Density Optimization Converged ####\n",
      "Chemical potential (a.u.): -0.13573490609662037\n",
      "Chemical potential (eV)  : -3.6935349267763757\n",
      " OESCF--> iter=26    conv=1.600E-06 de=2.730E-07 energy=-8.533660E+00 time=2.067567E+02\n",
      "Step    Energy(a.u.)            dE              dP              Nd      Nls     Time(s)         \n",
      "0       -7.837266518855E+00     -7.837267E+00   4.837805E-08    1       1       4.763126E-03    \n",
      "1       -7.837266527309E+00     -8.453288E-09   3.268376E-08    1       2       1.657605E-02    \n",
      "2       -7.837266531272E+00     -3.963695E-09   1.548819E-08    1       2       2.783418E-02    \n",
      "#### Density Optimization Converged ####\n",
      "Chemical potential (a.u.): -0.13573547068284963\n",
      "Chemical potential (eV)  : -3.6935502899502044\n",
      " OESCF--> iter=27    conv=1.600E-06 de=3.892E-07 energy=-8.533660E+00 time=2.146806E+02\n",
      "Step    Energy(a.u.)            dE              dP              Nd      Nls     Time(s)         \n",
      "0       -7.837266269335E+00     -7.837266E+00   3.037235E-08    1       1       4.709244E-03    \n",
      "1       -7.837266274892E+00     -5.556608E-09   1.531719E-08    1       3       2.440500E-02    \n",
      "2       -7.837266277673E+00     -2.780897E-09   8.768826E-09    1       2       3.951812E-02    \n",
      "#### Density Optimization Converged ####\n",
      "Chemical potential (a.u.): -0.13573545956289162\n",
      "Chemical potential (eV)  : -3.6935499873607345\n",
      " OESCF--> iter=28    conv=1.600E-06 de=2.454E-07 energy=-8.533660E+00 time=2.225720E+02\n",
      "Step    Energy(a.u.)            dE              dP              Nd      Nls     Time(s)         \n",
      "0       -7.837266362667E+00     -7.837266E+00   6.452568E-08    1       1       4.621029E-03    \n",
      "1       -7.837266374867E+00     -1.219981E-08   2.742254E-08    1       2       1.611376E-02    \n",
      "2       -7.837266378606E+00     -3.739054E-09   1.125426E-08    1       3       3.283191E-02    \n",
      "#### Density Optimization Converged ####\n",
      "Chemical potential (a.u.): -0.13573515524617177\n",
      "Chemical potential (eV)  : -3.6935417064809966\n",
      " OESCF--> iter=29    conv=1.600E-06 de=3.408E-07 energy=-8.533660E+00 time=2.303764E+02\n",
      "Step    Energy(a.u.)            dE              dP              Nd      Nls     Time(s)         \n",
      "0       -7.837266892630E+00     -7.837267E+00   1.222694E-07    1       1       4.623175E-03    \n",
      "1       -7.837266918170E+00     -2.554004E-08   3.277477E-08    1       2       1.664519E-02    \n",
      "2       -7.837266924445E+00     -6.275229E-09   1.620282E-08    1       3       3.319502E-02    \n",
      "#### Density Optimization Converged ####\n",
      "Chemical potential (a.u.): -0.13573579549184503\n",
      "Chemical potential (eV)  : -3.693559128453162\n",
      " OESCF--> iter=30    conv=1.600E-06 de=4.936E-07 energy=-8.533660E+00 time=2.382472E+02\n",
      "Step    Energy(a.u.)            dE              dP              Nd      Nls     Time(s)         \n",
      "0       -7.837266413052E+00     -7.837266E+00   6.264820E-08    1       1       4.590988E-03    \n",
      "1       -7.837266425932E+00     -1.287981E-08   2.132402E-08    1       2       1.608491E-02    \n",
      "2       -7.837266430017E+00     -4.084523E-09   1.108180E-08    1       3       3.216410E-02    \n",
      "#### Density Optimization Converged ####\n",
      "Chemical potential (a.u.): -0.13573541740502615\n",
      "Chemical potential (eV)  : -3.6935488401867826\n",
      " OESCF--> iter=31    conv=1.600E-06 de=9.791E-08 energy=-8.533660E+00 time=2.461138E+02\n",
      "Step    Energy(a.u.)            dE              dP              Nd      Nls     Time(s)         \n",
      "0       -7.837266349091E+00     -7.837266E+00   7.246553E-08    1       1       4.678965E-03    \n",
      "1       -7.837266364224E+00     -1.513329E-08   2.198258E-08    1       2       1.722002E-02    \n",
      "2       -7.837266368613E+00     -4.389051E-09   1.220722E-08    1       3       3.459597E-02    \n",
      "#### Density Optimization Converged ####\n",
      "Chemical potential (a.u.): -0.13573537679557954\n",
      "Chemical potential (eV)  : -3.693547735147455\n",
      " OESCF--> iter=32    conv=1.600E-06 de=2.924E-08 energy=-8.533660E+00 time=2.539945E+02\n",
      "Step    Energy(a.u.)            dE              dP              Nd      Nls     Time(s)         \n",
      "0       -7.837267479534E+00     -7.837267E+00   6.012041E-08    1       1       4.728794E-03    \n",
      "1       -7.837267490828E+00     -1.129360E-08   1.628575E-08    1       3       2.142477E-02    \n",
      "2       -7.837267493499E+00     -2.671250E-09   6.452555E-09    1       3       3.737974E-02    \n",
      "#### Density Optimization Converged ####\n",
      "Chemical potential (a.u.): -0.13573617822003178\n",
      "Chemical potential (eV)  : -3.693569543017594\n",
      " OESCF--> iter=33    conv=1.600E-06 de=5.788E-07 energy=-8.533659E+00 time=2.618622E+02\n",
      "Step    Energy(a.u.)            dE              dP              Nd      Nls     Time(s)         \n",
      "0       -7.837267138660E+00     -7.837267E+00   8.673039E-08    1       1       4.634142E-03    \n",
      "1       -7.837267155324E+00     -1.666488E-08   3.434907E-08    1       2       1.628542E-02    \n",
      "2       -7.837267160028E+00     -4.703928E-09   1.413272E-08    1       3       3.281116E-02    \n",
      "#### Density Optimization Converged ####\n",
      "Chemical potential (a.u.): -0.13573646465711964\n",
      "Chemical potential (eV)  : -3.6935773373677634\n",
      " OESCF--> iter=34    conv=1.600E-06 de=6.308E-07 energy=-8.533659E+00 time=2.696602E+02\n",
      "Step    Energy(a.u.)            dE              dP              Nd      Nls     Time(s)         \n",
      "0       -7.837268301458E+00     -7.837268E+00   4.423512E-08    1       1       4.519224E-03    \n",
      "1       -7.837268310050E+00     -8.592288E-09   2.097673E-08    1       2       1.631784E-02    \n",
      "2       -7.837268312847E+00     -2.796188E-09   7.621104E-09    1       3       4.477310E-02    \n",
      "#### Density Optimization Converged ####\n",
      "Chemical potential (a.u.): -0.13573663714884754\n",
      "Chemical potential (eV)  : -3.6935820311067573\n",
      " OESCF--> iter=35    conv=1.600E-06 de=5.844E-07 energy=-8.533659E+00 time=2.774815E+02\n",
      "Step    Energy(a.u.)            dE              dP              Nd      Nls     Time(s)         \n",
      "0       -7.837268242977E+00     -7.837268E+00   1.833596E-08    1       1       4.539013E-03    \n",
      "1       -7.837268246342E+00     -3.364548E-09   7.650721E-09    1       3       2.115393E-02    \n",
      "2       -7.837268247629E+00     -1.287393E-09   2.933962E-09    1       3       3.749919E-02    \n",
      "#### Density Optimization Converged ####\n",
      "Chemical potential (a.u.): -0.1357365822139207\n",
      "Chemical potential (eV)  : -3.6935805362512575\n",
      " OESCF--> iter=36    conv=1.600E-06 de=3.614E-08 energy=-8.533659E+00 time=2.853950E+02\n",
      "Step    Energy(a.u.)            dE              dP              Nd      Nls     Time(s)         \n",
      "0       -7.837267907226E+00     -7.837268E+00   5.053353E-08    1       1       4.688025E-03    \n",
      "1       -7.837267917215E+00     -9.988486E-09   1.787258E-08    1       2       1.644182E-02    \n",
      "2       -7.837267920138E+00     -2.923287E-09   8.474456E-09    1       3       3.303885E-02    \n",
      "#### Density Optimization Converged ####\n",
      "Chemical potential (a.u.): -0.13573668280737278\n",
      "Chemical potential (eV)  : -3.693583273538513\n",
      " OESCF--> iter=37    conv=1.600E-06 de=2.869E-07 energy=-8.533659E+00 time=2.932797E+02\n",
      "Step    Energy(a.u.)            dE              dP              Nd      Nls     Time(s)         \n",
      "0       -7.837267705909E+00     -7.837268E+00   2.612703E-08    1       1       4.859209E-03    \n",
      "1       -7.837267710865E+00     -4.955311E-09   1.125217E-08    1       2       1.659608E-02    \n",
      "2       -7.837267712193E+00     -1.327805E-09   4.037236E-09    1       3       3.308320E-02    \n",
      "#### Density Optimization Converged ####\n",
      "Chemical potential (a.u.): -0.1357367589037065\n",
      "Chemical potential (eV)  : -3.6935853442252253\n",
      " OESCF--> iter=38    conv=1.600E-06 de=2.887E-07 energy=-8.533659E+00 time=3.012210E+02\n",
      "Step    Energy(a.u.)            dE              dP              Nd      Nls     Time(s)         \n",
      "0       -7.837268927696E+00     -7.837269E+00   2.783551E-08    1       1       4.524946E-03    \n",
      "1       -7.837268933610E+00     -5.913282E-09   7.452801E-09    1       2       1.608801E-02    \n",
      "2       -7.837268935124E+00     -1.514149E-09   4.495996E-09    1       3       3.265715E-02    \n",
      "#### Density Optimization Converged ####\n",
      "Chemical potential (a.u.): -0.1357369845214308\n",
      "Chemical potential (eV)  : -3.6935914835962147\n",
      " OESCF--> iter=39    conv=1.600E-06 de=5.665E-07 energy=-8.533659E+00 time=3.090629E+02\n",
      "Step    Energy(a.u.)            dE              dP              Nd      Nls     Time(s)         \n",
      "0       -7.837268124415E+00     -7.837268E+00   1.388848E-08    1       1       4.793167E-03    \n",
      "1       -7.837268127063E+00     -2.648683E-09   6.955743E-09    1       2       1.654029E-02    \n",
      "2       -7.837268128024E+00     -9.612293E-10   2.603988E-09    1       3       3.272510E-02    \n",
      "#### Density Optimization Converged ####\n",
      "Chemical potential (a.u.): -0.1357368940243595\n",
      "Chemical potential (eV)  : -3.693589021045474\n",
      " OESCF--> iter=40    conv=1.600E-06 de=4.128E-07 energy=-8.533659E+00 time=3.169800E+02\n",
      "Step    Energy(a.u.)            dE              dP              Nd      Nls     Time(s)         \n",
      "0       -7.837268060385E+00     -7.837268E+00   3.197717E-08    1       1       4.677773E-03    \n",
      "1       -7.837268067078E+00     -6.693480E-09   9.023945E-09    1       2       1.610494E-02    \n",
      "2       -7.837268068808E+00     -1.729344E-09   4.570914E-09    1       3       3.211188E-02    \n",
      "#### Density Optimization Converged ####\n",
      "Chemical potential (a.u.): -0.1357369568826517\n",
      "Chemical potential (eV)  : -3.6935907315067276\n",
      " OESCF--> iter=41    conv=1.600E-06 de=1.426E-07 energy=-8.533659E+00 time=3.250023E+02\n",
      "Step    Energy(a.u.)            dE              dP              Nd      Nls     Time(s)         \n",
      "0       -7.837268615305E+00     -7.837269E+00   1.278319E-08    1       1       5.174875E-03    \n",
      "1       -7.837268617744E+00     -2.438554E-09   6.427628E-09    1       2       1.701188E-02    \n",
      "2       -7.837268618545E+00     -8.008847E-10   2.401398E-09    1       3       3.336787E-02    \n",
      "#### Density Optimization Converged ####\n",
      "Chemical potential (a.u.): -0.13573702772297944\n",
      "Chemical potential (eV)  : -3.6935926591702315\n",
      " OESCF--> iter=42    conv=1.600E-06 de=2.978E-07 energy=-8.533659E+00 time=3.329466E+02\n",
      "Step    Energy(a.u.)            dE              dP              Nd      Nls     Time(s)         \n",
      "0       -7.837267759841E+00     -7.837268E+00   1.596691E-08    1       1       4.535198E-03    \n",
      "1       -7.837267763088E+00     -3.247425E-09   6.510218E-09    1       2       1.600909E-02    \n",
      "2       -7.837267764099E+00     -1.010161E-09   2.568553E-09    1       3       3.228807E-02    \n",
      "#### Density Optimization Converged ####\n",
      "Chemical potential (a.u.): -0.13573687763884407\n",
      "Chemical potential (eV)  : -3.693588575172888\n",
      " OESCF--> iter=43    conv=1.600E-06 de=3.774E-07 energy=-8.533659E+00 time=3.408188E+02\n",
      "Step    Energy(a.u.)            dE              dP              Nd      Nls     Time(s)         \n",
      "0       -7.837268599602E+00     -7.837269E+00   4.065324E-08    1       1       4.638910E-03    \n",
      "1       -7.837268608219E+00     -8.616592E-09   1.038709E-08    1       2       1.627398E-02    \n",
      "2       -7.837268610474E+00     -2.255806E-09   6.444155E-09    1       3       3.356194E-02    \n",
      "#### Density Optimization Converged ####\n",
      "Chemical potential (a.u.): -0.13573714419452845\n",
      "Chemical potential (eV)  : -3.693595828522513\n",
      " OESCF--> iter=44    conv=1.600E-06 de=3.105E-07 energy=-8.533659E+00 time=3.487374E+02\n",
      "Step    Energy(a.u.)            dE              dP              Nd      Nls     Time(s)         \n",
      "0       -7.837268668314E+00     -7.837269E+00   1.103882E-08    1       1       4.611015E-03    \n",
      "1       -7.837268670467E+00     -2.153527E-09   4.961031E-09    1       2       1.628208E-02    \n",
      "2       -7.837268671181E+00     -7.137331E-10   1.890065E-09    1       3       3.239322E-02    \n",
      "#### Density Optimization Converged ####\n",
      "Chemical potential (a.u.): -0.1357371274193484\n",
      "Chemical potential (eV)  : -3.693595372046613\n",
      " OESCF--> iter=45    conv=1.600E-06 de=5.587E-09 energy=-8.533659E+00 time=3.565817E+02\n",
      "Step    Energy(a.u.)            dE              dP              Nd      Nls     Time(s)         \n",
      "0       -7.837268242394E+00     -7.837268E+00   4.031944E-08    1       1       4.711866E-03    \n",
      "1       -7.837268250883E+00     -8.489028E-09   1.134581E-08    1       2       1.643491E-02    \n",
      "2       -7.837268253149E+00     -2.265406E-09   6.263002E-09    1       3       3.238201E-02    \n",
      "#### Density Optimization Converged ####\n",
      "Chemical potential (a.u.): -0.1357372355108855\n",
      "Chemical potential (eV)  : -3.693598313367155\n",
      " OESCF--> iter=46    conv=1.600E-06 de=2.968E-07 energy=-8.533659E+00 time=3.644097E+02\n",
      "Step    Energy(a.u.)            dE              dP              Nd      Nls     Time(s)         \n",
      "0       -7.837267860733E+00     -7.837268E+00   2.345624E-08    1       1       4.549980E-03    \n",
      "1       -7.837267865456E+00     -4.722686E-09   8.313848E-09    1       2       1.590705E-02    \n",
      "2       -7.837267866902E+00     -1.446367E-09   3.917414E-09    1       3       4.210615E-02    \n",
      "#### Density Optimization Converged ####\n",
      "Chemical potential (a.u.): -0.13573715393560515\n",
      "Chemical potential (eV)  : -3.693596093590711\n",
      " OESCF--> iter=47    conv=1.600E-06 de=1.855E-07 energy=-8.533658E+00 time=3.723547E+02\n",
      "Step    Energy(a.u.)            dE              dP              Nd      Nls     Time(s)         \n",
      "0       -7.837268341737E+00     -7.837268E+00   3.446775E-08    1       1       4.746914E-03    \n",
      "1       -7.837268349152E+00     -7.414691E-09   9.621744E-09    1       2       1.614213E-02    \n",
      "2       -7.837268351066E+00     -1.914071E-09   5.260747E-09    1       3       3.303194E-02    \n",
      "#### Density Optimization Converged ####\n",
      "Chemical potential (a.u.): -0.1357372558176087\n",
      "Chemical potential (eV)  : -3.693598865941239\n",
      " OESCF--> iter=48    conv=1.600E-06 de=1.784E-07 energy=-8.533659E+00 time=3.803008E+02\n",
      "Step    Energy(a.u.)            dE              dP              Nd      Nls     Time(s)         \n",
      "0       -7.837268494064E+00     -7.837268E+00   3.854360E-08    1       1       4.775763E-03    \n",
      "1       -7.837268502254E+00     -8.189065E-09   9.805107E-09    1       2       1.647997E-02    \n",
      "2       -7.837268504298E+00     -2.044668E-09   5.512612E-09    1       3       3.336787E-02    \n",
      "#### Density Optimization Converged ####\n",
      "Chemical potential (a.u.): -0.13573720682613064\n",
      "Chemical potential (eV)  : -3.6935975328152173\n",
      " OESCF--> iter=49    conv=1.600E-06 de=1.468E-07 energy=-8.533659E+00 time=3.882775E+02\n",
      "Step    Energy(a.u.)            dE              dP              Nd      Nls     Time(s)         \n",
      "0       -7.837268368888E+00     -7.837268E+00   1.870317E-08    1       1       4.697800E-03    \n",
      "1       -7.837268372575E+00     -3.687546E-09   6.996681E-09    1       2       1.646781E-02    \n",
      "2       -7.837268373565E+00     -9.893384E-10   2.587215E-09    1       3       4.209685E-02    \n",
      "#### Density Optimization Converged ####\n",
      "Chemical potential (a.u.): -0.13573723745629618\n",
      "Chemical potential (eV)  : -3.693598366304476\n",
      " OESCF--> iter=50    conv=1.600E-06 de=1.407E-07 energy=-8.533659E+00 time=3.961678E+02\n",
      "Step    Energy(a.u.)            dE              dP              Nd      Nls     Time(s)         \n",
      "0       -7.837268782117E+00     -7.837269E+00   1.245246E-08    1       1       4.815817E-03    \n",
      "1       -7.837268784543E+00     -2.426333E-09   5.080655E-09    1       2       1.668191E-02    \n",
      "2       -7.837268785264E+00     -7.206182E-10   1.859948E-09    1       3       3.293109E-02    \n",
      "#### Density Optimization Converged ####\n",
      "Chemical potential (a.u.): -0.13573733497290996\n",
      "Chemical potential (eV)  : -3.6936010198666973\n",
      " OESCF--> iter=51    conv=1.600E-06 de=1.701E-07 energy=-8.533659E+00 time=4.039986E+02\n",
      "Step    Energy(a.u.)            dE              dP              Nd      Nls     Time(s)         \n",
      "0       -7.837268391411E+00     -7.837268E+00   1.496563E-08    1       1       4.751921E-03    \n",
      "1       -7.837268394414E+00     -3.003279E-09   5.874767E-09    1       2       1.655507E-02    \n",
      "2       -7.837268395296E+00     -8.819185E-10   2.218384E-09    1       3       3.265905E-02    \n",
      "#### Density Optimization Converged ####\n",
      "Chemical potential (a.u.): -0.1357372797477101\n",
      "Chemical potential (eV)  : -3.6935995171124656\n",
      " OESCF--> iter=52    conv=1.600E-06 de=1.962E-07 energy=-8.533659E+00 time=4.119229E+02\n",
      "Step    Energy(a.u.)            dE              dP              Nd      Nls     Time(s)         \n",
      "0       -7.837268187150E+00     -7.837268E+00   2.296807E-08    1       1       4.805088E-03    \n",
      "1       -7.837268191919E+00     -4.768797E-09   6.506892E-09    1       2       1.656699E-02    \n",
      "2       -7.837268193193E+00     -1.274685E-09   3.479047E-09    1       3       3.256917E-02    \n",
      "#### Density Optimization Converged ####\n",
      "Chemical potential (a.u.): -0.13573735785415575\n",
      "Chemical potential (eV)  : -3.693601642497109\n",
      " OESCF--> iter=53    conv=1.600E-06 de=1.655E-07 energy=-8.533658E+00 time=4.198195E+02\n",
      "Step    Energy(a.u.)            dE              dP              Nd      Nls     Time(s)         \n",
      "0       -7.837268117051E+00     -7.837268E+00   4.835084E-08    1       1       4.631042E-03    \n",
      "1       -7.837268127255E+00     -1.020437E-08   1.210546E-08    1       2       1.637912E-02    \n",
      "2       -7.837268129955E+00     -2.699608E-09   7.274573E-09    1       3       3.248215E-02    \n",
      "#### Density Optimization Converged ####\n",
      "Chemical potential (a.u.): -0.13573735760297223\n",
      "Chemical potential (eV)  : -3.6936016356620573\n",
      " OESCF--> iter=54    conv=1.600E-06 de=3.310E-09 energy=-8.533658E+00 time=4.276837E+02\n",
      "Step    Energy(a.u.)            dE              dP              Nd      Nls     Time(s)         \n",
      "0       -7.837268433913E+00     -7.837268E+00   3.580771E-08    1       1       4.716873E-03    \n",
      "1       -7.837268441472E+00     -7.558924E-09   9.866355E-09    1       2       1.627779E-02    \n",
      "2       -7.837268443409E+00     -1.937199E-09   5.040853E-09    1       3       3.983998E-02    \n",
      "#### Density Optimization Converged ####\n",
      "Chemical potential (a.u.): -0.135737416674084\n",
      "Chemical potential (eV)  : -3.6936032430688828\n",
      " OESCF--> iter=55    conv=1.600E-06 de=8.335E-08 energy=-8.533659E+00 time=4.355059E+02\n",
      "Step    Energy(a.u.)            dE              dP              Nd      Nls     Time(s)         \n",
      "0       -7.837267961799E+00     -7.837268E+00   2.806515E-08    1       1       4.763126E-03    \n",
      "1       -7.837267967396E+00     -5.596405E-09   9.047316E-09    1       2       1.641011E-02    \n",
      "2       -7.837267968897E+00     -1.500783E-09   4.028750E-09    1       3       3.261709E-02    \n",
      "#### Density Optimization Converged ####\n",
      "Chemical potential (a.u.): -0.1357373366918667\n",
      "Chemical potential (eV)  : -3.693601066641892\n",
      " OESCF--> iter=56    conv=1.600E-06 de=1.916E-07 energy=-8.533658E+00 time=4.434536E+02\n",
      "Step    Energy(a.u.)            dE              dP              Nd      Nls     Time(s)         \n",
      "0       -7.837268397251E+00     -7.837268E+00   1.022888E-08    1       1       4.438162E-03    \n",
      "1       -7.837268399188E+00     -1.936392E-09   5.061922E-09    1       2       1.643801E-02    \n",
      "2       -7.837268399861E+00     -6.728627E-10   1.740228E-09    1       3       3.274703E-02    \n",
      "#### Density Optimization Converged ####\n",
      "Chemical potential (a.u.): -0.13573738085529904\n",
      "Chemical potential (eV)  : -3.6936022683900984\n",
      " OESCF--> iter=57    conv=1.600E-06 de=2.045E-07 energy=-8.533659E+00 time=4.513901E+02\n",
      "Step    Energy(a.u.)            dE              dP              Nd      Nls     Time(s)         \n",
      "0       -7.837268397680E+00     -7.837268E+00   1.073385E-08    1       1       4.554033E-03    \n",
      "1       -7.837268399702E+00     -2.021768E-09   5.288656E-09    1       2       1.631093E-02    \n",
      "2       -7.837268400392E+00     -6.905623E-10   1.806900E-09    1       3       3.223395E-02    \n",
      "#### Density Optimization Converged ####\n",
      "Chemical potential (a.u.): -0.13573738086300324\n",
      "Chemical potential (eV)  : -3.69360226859974\n",
      " OESCF--> iter=58    conv=1.600E-06 de=1.865E-10 energy=-8.533659E+00 time=4.592615E+02\n",
      "Step    Energy(a.u.)            dE              dP              Nd      Nls     Time(s)         \n",
      "0       -7.837268469043E+00     -7.837268E+00   3.013838E-08    1       1       4.708290E-03    \n",
      "1       -7.837268475332E+00     -6.289341E-09   7.912387E-09    1       2       1.685309E-02    \n",
      "2       -7.837268476624E+00     -1.291657E-09   3.337063E-09    1       3       3.423905E-02    \n",
      "#### Density Optimization Converged ####\n",
      "Chemical potential (a.u.): -0.13573743228803917\n",
      "Chemical potential (eV)  : -3.693603667946244\n",
      " OESCF--> iter=59    conv=1.600E-06 de=2.425E-08 energy=-8.533658E+00 time=4.671186E+02\n",
      "Step    Energy(a.u.)            dE              dP              Nd      Nls     Time(s)         \n",
      "0       -7.837268666583E+00     -7.837269E+00   1.932774E-08    1       1       4.564047E-03    \n",
      "1       -7.837268670586E+00     -4.003166E-09   5.990780E-09    1       2       1.626492E-02    \n",
      "2       -7.837268671706E+00     -1.120089E-09   3.102269E-09    1       3       4.133296E-02    \n",
      "#### Density Optimization Converged ####\n",
      "Chemical potential (a.u.): -0.1357374811348982\n",
      "Chemical potential (eV)  : -3.693604997136981\n",
      " OESCF--> iter=60    conv=1.600E-06 de=8.412E-08 energy=-8.533659E+00 time=4.749291E+02\n",
      "Step    Energy(a.u.)            dE              dP              Nd      Nls     Time(s)         \n",
      "0       -7.837268668379E+00     -7.837269E+00   1.781855E-08    1       1       4.780054E-03    \n",
      "1       -7.837268672059E+00     -3.680711E-09   5.757748E-09    1       2       1.629591E-02    \n",
      "2       -7.837268673133E+00     -1.073463E-09   2.968014E-09    1       3       3.268290E-02    \n",
      "#### Density Optimization Converged ####\n",
      "Chemical potential (a.u.): -0.13573748466841787\n",
      "Chemical potential (eV)  : -3.693605093288949\n",
      " OESCF--> iter=61    conv=1.600E-06 de=2.148E-09 energy=-8.533659E+00 time=4.828597E+02\n",
      "Step    Energy(a.u.)            dE              dP              Nd      Nls     Time(s)         \n",
      "0       -7.837268508446E+00     -7.837269E+00   3.800199E-08    1       1       4.533052E-03    \n",
      "1       -7.837268516552E+00     -8.106682E-09   1.000354E-08    1       2       1.605511E-02    \n",
      "2       -7.837268518605E+00     -2.052371E-09   5.474048E-09    1       3       3.241301E-02    \n",
      "#### Density Optimization Converged ####\n",
      "Chemical potential (a.u.): -0.13573746190373154\n",
      "Chemical potential (eV)  : -3.6936044738302813\n",
      " OESCF--> iter=62    conv=1.600E-06 de=9.365E-08 energy=-8.533658E+00 time=4.907473E+02\n",
      "Step    Energy(a.u.)            dE              dP              Nd      Nls     Time(s)         \n",
      "0       -7.837268039944E+00     -7.837268E+00   3.148974E-08    1       1       4.616022E-03    \n",
      "1       -7.837268046381E+00     -6.437361E-09   8.970334E-09    1       2       1.644707E-02    \n",
      "2       -7.837268048066E+00     -1.684242E-09   4.522174E-09    1       3       3.320670E-02    \n",
      "#### Density Optimization Converged ####\n",
      "Chemical potential (a.u.): -0.13573738738879976\n",
      "Chemical potential (eV)  : -3.693602446175708\n",
      " OESCF--> iter=63    conv=1.600E-06 de=1.949E-07 energy=-8.533658E+00 time=4.985807E+02\n",
      "Step    Energy(a.u.)            dE              dP              Nd      Nls     Time(s)         \n",
      "0       -7.837268881602E+00     -7.837269E+00   9.814033E-09    1       1       4.726171E-03    \n",
      "1       -7.837268883542E+00     -1.940080E-09   4.570041E-09    1       2       1.655102E-02    \n",
      "2       -7.837268884172E+00     -6.297469E-10   1.634213E-09    1       3       3.304720E-02    \n",
      "#### Density Optimization Converged ####\n",
      "Chemical potential (a.u.): -0.1357375208762962\n",
      "Chemical potential (eV)  : -3.6936060785555034\n",
      " OESCF--> iter=64    conv=1.600E-06 de=3.813E-07 energy=-8.533659E+00 time=5.064048E+02\n",
      "Step    Energy(a.u.)            dE              dP              Nd      Nls     Time(s)         \n",
      "0       -7.837268072283E+00     -7.837268E+00   2.949529E-08    1       1       4.564762E-03    \n",
      "1       -7.837268078170E+00     -5.887166E-09   9.515592E-09    1       2       1.613784E-02    \n",
      "2       -7.837268079481E+00     -1.310742E-09   3.620278E-09    1       3       3.244901E-02    \n",
      "#### Density Optimization Converged ####\n",
      "Chemical potential (a.u.): -0.13573745456576958\n",
      "Chemical potential (eV)  : -3.693604274154166\n",
      " OESCF--> iter=65    conv=1.600E-06 de=4.235E-07 energy=-8.533658E+00 time=5.143170E+02\n",
      "Step    Energy(a.u.)            dE              dP              Nd      Nls     Time(s)         \n",
      "0       -7.837267667253E+00     -7.837268E+00   3.647417E-08    1       1       4.678965E-03    \n",
      "1       -7.837267674780E+00     -7.527504E-09   1.052051E-08    1       2       1.636195E-02    \n",
      "2       -7.837267676759E+00     -1.979039E-09   5.305894E-09    1       3       3.255892E-02    \n",
      "#### Density Optimization Converged ####\n",
      "Chemical potential (a.u.): -0.1357373790232925\n",
      "Chemical potential (eV)  : -3.6936022185386608\n",
      " OESCF--> iter=66    conv=1.600E-06 de=1.836E-07 energy=-8.533658E+00 time=5.222060E+02\n",
      "Step    Energy(a.u.)            dE              dP              Nd      Nls     Time(s)         \n",
      "0       -7.837268466070E+00     -7.837268E+00   1.134742E-08    1       1       4.606962E-03    \n",
      "1       -7.837268468279E+00     -2.208953E-09   5.226222E-09    1       2       1.657891E-02    \n",
      "2       -7.837268468979E+00     -7.008403E-10   1.751819E-09    1       3       4.261708E-02    \n",
      "#### Density Optimization Converged ####\n",
      "Chemical potential (a.u.): -0.135737506579246\n",
      "Chemical potential (eV)  : -3.693605689512951\n",
      " OESCF--> iter=67    conv=1.600E-06 de=3.798E-07 energy=-8.533658E+00 time=5.302223E+02\n",
      "Step    Energy(a.u.)            dE              dP              Nd      Nls     Time(s)         \n",
      "0       -7.837268257525E+00     -7.837268E+00   1.721146E-08    1       1       4.724026E-03    \n",
      "1       -7.837268261102E+00     -3.576428E-09   5.428671E-09    1       2       1.675296E-02    \n",
      "2       -7.837268262123E+00     -1.021807E-09   2.868438E-09    1       3       3.355002E-02    \n",
      "#### Density Optimization Converged ####\n",
      "Chemical potential (a.u.): -0.13573747918504303\n",
      "Chemical potential (eV)  : -3.6936049440787193\n",
      " OESCF--> iter=68    conv=1.600E-06 de=9.734E-08 energy=-8.533658E+00 time=5.381542E+02\n",
      "Step    Energy(a.u.)            dE              dP              Nd      Nls     Time(s)         \n",
      "0       -7.837268838852E+00     -7.837269E+00   2.302336E-08    1       1       4.702091E-03    \n",
      "1       -7.837268843739E+00     -4.887209E-09   6.888089E-09    1       2       1.631403E-02    \n",
      "2       -7.837268845029E+00     -1.290541E-09   3.550093E-09    1       3       3.252292E-02    \n",
      "#### Density Optimization Converged ####\n",
      "Chemical potential (a.u.): -0.13573756863693445\n",
      "Chemical potential (eV)  : -3.6936073781886676\n",
      " OESCF--> iter=69    conv=1.600E-06 de=2.936E-07 energy=-8.533659E+00 time=5.460573E+02\n",
      "Step    Energy(a.u.)            dE              dP              Nd      Nls     Time(s)         \n",
      "0       -7.837268075934E+00     -7.837268E+00   1.605860E-08    1       1       4.554987E-03    \n",
      "1       -7.837268079113E+00     -3.179210E-09   6.587968E-09    1       2       1.624393E-02    \n",
      "2       -7.837268080039E+00     -9.262031E-10   2.364257E-09    1       3       3.271294E-02    \n",
      "#### Density Optimization Converged ####\n",
      "Chemical potential (a.u.): -0.1357374508193728\n",
      "Chemical potential (eV)  : -3.693604172209517\n",
      " OESCF--> iter=70    conv=1.600E-06 de=3.928E-07 energy=-8.533658E+00 time=5.540100E+02\n",
      "Step    Energy(a.u.)            dE              dP              Nd      Nls     Time(s)         \n",
      "0       -7.837268266134E+00     -7.837268E+00   4.182432E-08    1       1       4.530907E-03    \n",
      "1       -7.837268274918E+00     -8.783829E-09   1.040753E-08    1       2       1.590896E-02    \n",
      "2       -7.837268277148E+00     -2.229580E-09   5.780618E-09    1       3       3.192616E-02    \n",
      "#### Density Optimization Converged ####\n",
      "Chemical potential (a.u.): -0.1357374941881332\n",
      "Chemical potential (eV)  : -3.693605352333597\n",
      " OESCF--> iter=71    conv=1.600E-06 de=9.438E-08 energy=-8.533658E+00 time=5.618355E+02\n",
      "Step    Energy(a.u.)            dE              dP              Nd      Nls     Time(s)         \n",
      "0       -7.837268579935E+00     -7.837269E+00   2.449954E-08    1       1       4.674196E-03    \n",
      "1       -7.837268584949E+00     -5.013600E-09   7.499069E-09    1       2       1.642823E-02    \n",
      "2       -7.837268586209E+00     -1.259938E-09   3.283784E-09    1       3       3.722644E-02    \n",
      "#### Density Optimization Converged ####\n",
      "Chemical potential (a.u.): -0.1357375517106745\n",
      "Chemical potential (eV)  : -3.693606917601674\n",
      " OESCF--> iter=72    conv=1.600E-06 de=8.389E-08 energy=-8.533658E+00 time=5.697867E+02\n",
      "Step    Energy(a.u.)            dE              dP              Nd      Nls     Time(s)         \n",
      "0       -7.837268934251E+00     -7.837269E+00   1.159900E-08    1       1       4.696846E-03    \n",
      "1       -7.837268936522E+00     -2.271733E-09   4.844531E-09    1       2       1.623988E-02    \n",
      "2       -7.837268937192E+00     -6.693810E-10   1.776756E-09    1       3       3.277802E-02    \n",
      "#### Density Optimization Converged ####\n",
      "Chemical potential (a.u.): -0.1357376143307079\n",
      "Chemical potential (eV)  : -3.693608621579576\n",
      " OESCF--> iter=73    conv=1.600E-06 de=1.874E-07 energy=-8.533659E+00 time=5.775869E+02\n",
      "Step    Energy(a.u.)            dE              dP              Nd      Nls     Time(s)         \n",
      "0       -7.837268936753E+00     -7.837269E+00   1.072572E-08    1       1       5.075932E-03    \n",
      "1       -7.837268938856E+00     -2.102915E-09   4.632071E-09    1       2       1.665115E-02    \n",
      "2       -7.837268939503E+00     -6.464234E-10   1.674416E-09    1       3       3.334808E-02    \n",
      "#### Density Optimization Converged ####\n",
      "Chemical potential (a.u.): -0.13573761995245154\n",
      "Chemical potential (eV)  : -3.693608774555012\n",
      " OESCF--> iter=74    conv=1.600E-06 de=3.349E-09 energy=-8.533659E+00 time=5.855569E+02\n",
      "Step    Energy(a.u.)            dE              dP              Nd      Nls     Time(s)         \n",
      "0       -7.837268493494E+00     -7.837268E+00   2.285070E-08    1       1       4.534006E-03    \n",
      "1       -7.837268498126E+00     -4.632358E-09   7.120461E-09    1       2       1.612997E-02    \n",
      "2       -7.837268499466E+00     -1.339409E-09   3.662055E-09    1       3       3.229165E-02    \n",
      "#### Density Optimization Converged ####\n",
      "Chemical potential (a.u.): -0.13573755677129898\n",
      "Chemical potential (eV)  : -3.6936070553082803\n",
      " OESCF--> iter=75    conv=1.600E-06 de=1.931E-07 energy=-8.533658E+00 time=5.935049E+02\n",
      "Step    Energy(a.u.)            dE              dP              Nd      Nls     Time(s)         \n",
      "0       -7.837269309507E+00     -7.837269E+00   2.278199E-08    1       1       4.631996E-03    \n",
      "1       -7.837269314378E+00     -4.870699E-09   6.319503E-09    1       2       1.616907E-02    \n",
      "2       -7.837269315641E+00     -1.262787E-09   3.574947E-09    1       3       3.240919E-02    \n",
      "#### Density Optimization Converged ####\n",
      "Chemical potential (a.u.): -0.13573768149235468\n",
      "Chemical potential (eV)  : -3.6936104491410724\n",
      " OESCF--> iter=76    conv=1.600E-06 de=3.897E-07 energy=-8.533659E+00 time=6.013614E+02\n",
      "Step    Energy(a.u.)            dE              dP              Nd      Nls     Time(s)         \n",
      "0       -7.837267468488E+00     -7.837267E+00   4.913443E-08    1       1       4.596949E-03    \n",
      "1       -7.837267478655E+00     -1.016618E-08   1.284530E-08    1       2       1.610112E-02    \n",
      "2       -7.837267481048E+00     -2.393431E-09   6.418066E-09    1       3       3.232622E-02    \n",
      "#### Density Optimization Converged ####\n",
      "Chemical potential (a.u.): -0.13573745634509946\n",
      "Chemical potential (eV)  : -3.693604322572198\n",
      " OESCF--> iter=77    conv=1.600E-06 de=9.064E-07 energy=-8.533658E+00 time=6.093222E+02\n",
      "Step    Energy(a.u.)            dE              dP              Nd      Nls     Time(s)         \n",
      "0       -7.837268125564E+00     -7.837268E+00   1.849951E-08    1       1       4.661083E-03    \n",
      "1       -7.837268129213E+00     -3.649248E-09   7.118377E-09    1       2       1.630306E-02    \n",
      "2       -7.837268130181E+00     -9.677485E-10   2.590907E-09    1       3       3.275704E-02    \n",
      "#### Density Optimization Converged ####\n",
      "Chemical potential (a.u.): -0.13573754690144024\n",
      "Chemical potential (eV)  : -3.693606786735744\n",
      " OESCF--> iter=78    conv=1.600E-06 de=2.897E-07 energy=-8.533658E+00 time=6.171878E+02\n",
      "Step    Energy(a.u.)            dE              dP              Nd      Nls     Time(s)         \n",
      "0       -7.837268169901E+00     -7.837268E+00   2.239199E-08    1       1       4.838228E-03    \n",
      "1       -7.837268174520E+00     -4.618972E-09   7.187736E-09    1       2       1.686406E-02    \n",
      "2       -7.837268175743E+00     -1.222993E-09   3.140706E-09    1       3       3.349614E-02    \n",
      "#### Density Optimization Converged ####\n",
      "Chemical potential (a.u.): -0.1357375554708973\n",
      "Chemical potential (eV)  : -3.693607019922548\n",
      " OESCF--> iter=79    conv=1.600E-06 de=7.884E-10 energy=-8.533658E+00 time=6.250497E+02\n",
      "Step    Energy(a.u.)            dE              dP              Nd      Nls     Time(s)         \n",
      "0       -7.837268127787E+00     -7.837268E+00   1.463780E-08    1       1       4.879713E-03    \n",
      "1       -7.837268130720E+00     -2.933252E-09   5.840842E-09    1       2       1.643491E-02    \n",
      "2       -7.837268131578E+00     -8.579590E-10   2.161296E-09    1       3       3.314376E-02    \n",
      "#### Density Optimization Converged ####\n",
      "Chemical potential (a.u.): -0.13573754748482902\n",
      "Chemical potential (eV)  : -3.6936068026105615\n",
      " OESCF--> iter=80    conv=1.600E-06 de=4.993E-10 energy=-8.533658E+00 time=6.329804E+02\n",
      "Step    Energy(a.u.)            dE              dP              Nd      Nls     Time(s)         \n",
      "0       -7.837268757894E+00     -7.837269E+00   2.161944E-08    1       1       4.537106E-03    \n",
      "1       -7.837268762377E+00     -4.482288E-09   6.073854E-09    1       2       1.704502E-02    \n",
      "2       -7.837268763559E+00     -1.182698E-09   3.262119E-09    1       3       4.207516E-02    \n",
      "#### Density Optimization Converged ####\n",
      "Chemical potential (a.u.): -0.13573764899626092\n",
      "Chemical potential (eV)  : -3.693609564877321\n",
      " OESCF--> iter=81    conv=1.600E-06 de=2.894E-07 energy=-8.533658E+00 time=6.409019E+02\n",
      "Step    Energy(a.u.)            dE              dP              Nd      Nls     Time(s)         \n",
      "0       -7.837268529531E+00     -7.837269E+00   2.703400E-08    1       1       4.695177E-03    \n",
      "1       -7.837268534962E+00     -5.431772E-09   8.177348E-09    1       2       1.662207E-02    \n",
      "2       -7.837268536407E+00     -1.444864E-09   3.915785E-09    1       3       3.337216E-02    \n",
      "#### Density Optimization Converged ####\n",
      "Chemical potential (a.u.): -0.13573762853575025\n",
      "Chemical potential (eV)  : -3.6936090081184667\n",
      " OESCF--> iter=82    conv=1.600E-06 de=1.043E-07 energy=-8.533658E+00 time=6.488399E+02\n",
      "Step    Energy(a.u.)            dE              dP              Nd      Nls     Time(s)         \n",
      "0       -7.837269352821E+00     -7.837269E+00   2.341383E-08    1       1       4.572868E-03    \n",
      "1       -7.837269357819E+00     -4.997272E-09   6.518762E-09    1       2       1.599884E-02    \n",
      "2       -7.837269359106E+00     -1.287518E-09   3.595721E-09    1       3       3.219891E-02    \n",
      "#### Density Optimization Converged ####\n",
      "Chemical potential (a.u.): -0.13573776479998506\n",
      "Chemical potential (eV)  : -3.6936127160571615\n",
      " OESCF--> iter=83    conv=1.600E-06 de=3.820E-07 energy=-8.533659E+00 time=6.567643E+02\n",
      "Step    Energy(a.u.)            dE              dP              Nd      Nls     Time(s)         \n",
      "0       -7.837268983044E+00     -7.837269E+00   1.101232E-08    1       1       4.626989E-03    \n",
      "1       -7.837268985184E+00     -2.140535E-09   4.748273E-09    1       2       1.614404E-02    \n",
      "2       -7.837268985834E+00     -6.492051E-10   1.659284E-09    1       3       3.952694E-02    \n",
      "#### Density Optimization Converged ####\n",
      "Chemical potential (a.u.): -0.13573770810820643\n",
      "Chemical potential (eV)  : -3.6936111733952885\n",
      " OESCF--> iter=84    conv=1.600E-06 de=1.998E-07 energy=-8.533659E+00 time=6.647340E+02\n",
      "Step    Energy(a.u.)            dE              dP              Nd      Nls     Time(s)         \n",
      "0       -7.837268538760E+00     -7.837269E+00   2.147111E-08    1       1       4.564047E-03    \n",
      "1       -7.837268543124E+00     -4.363248E-09   6.813158E-09    1       2       1.633000E-02    \n",
      "2       -7.837268544413E+00     -1.289553E-09   3.549963E-09    1       3       3.253889E-02    \n",
      "#### Density Optimization Converged ####\n",
      "Chemical potential (a.u.): -0.13573764346186457\n",
      "Chemical potential (eV)  : -3.693609414278725\n",
      " OESCF--> iter=85    conv=1.600E-06 de=1.921E-07 energy=-8.533658E+00 time=6.726819E+02\n",
      "Step    Energy(a.u.)            dE              dP              Nd      Nls     Time(s)         \n",
      "0       -7.837268360457E+00     -7.837268E+00   4.236620E-08    1       1       4.591227E-03    \n",
      "1       -7.837268369551E+00     -9.094286E-09   1.052320E-08    1       2       1.625800E-02    \n",
      "2       -7.837268371905E+00     -2.353197E-09   6.535176E-09    1       3       3.265715E-02    \n",
      "#### Density Optimization Converged ####\n",
      "Chemical potential (a.u.): -0.13573764044519718\n",
      "Chemical potential (eV)  : -3.6936093321910244\n",
      " OESCF--> iter=86    conv=1.600E-06 de=1.064E-07 energy=-8.533658E+00 time=6.805844E+02\n",
      "Step    Energy(a.u.)            dE              dP              Nd      Nls     Time(s)         \n",
      "0       -7.837268342808E+00     -7.837268E+00   5.245323E-08    1       1       4.658937E-03    \n",
      "1       -7.837268353933E+00     -1.112568E-08   1.231695E-08    1       2       1.634192E-02    \n",
      "2       -7.837268356553E+00     -2.619565E-09   6.409574E-09    1       3       4.282403E-02    \n",
      "#### Density Optimization Converged ####\n",
      "Chemical potential (a.u.): -0.1357376899920886\n",
      "Chemical potential (eV)  : -3.6936106804306132\n",
      " OESCF--> iter=87    conv=1.600E-06 de=3.298E-08 energy=-8.533658E+00 time=6.884502E+02\n",
      "Step    Energy(a.u.)            dE              dP              Nd      Nls     Time(s)         \n",
      "0       -7.837267813754E+00     -7.837268E+00   2.823633E-08    1       1       4.807711E-03    \n",
      "1       -7.837267819427E+00     -5.673417E-09   9.527570E-09    1       2       1.654291E-02    \n",
      "2       -7.837267820908E+00     -1.480654E-09   3.874272E-09    1       3       3.291583E-02    \n",
      "#### Density Optimization Converged ####\n",
      "Chemical potential (a.u.): -0.13573756469386858\n",
      "Chemical potential (eV)  : -3.69360727089238\n",
      " OESCF--> iter=88    conv=1.600E-06 de=2.713E-07 energy=-8.533658E+00 time=6.963449E+02\n",
      "Step    Energy(a.u.)            dE              dP              Nd      Nls     Time(s)         \n",
      "0       -7.837268561183E+00     -7.837269E+00   1.226225E-08    1       1       4.546881E-03    \n",
      "1       -7.837268563536E+00     -2.352824E-09   5.450832E-09    1       2       1.606393E-02    \n",
      "2       -7.837268564225E+00     -6.893650E-10   1.845577E-09    1       3       3.260875E-02    \n",
      "#### Density Optimization Converged ####\n",
      "Chemical potential (a.u.): -0.13573768681212914\n",
      "Chemical potential (eV)  : -3.6936105938995087\n",
      " OESCF--> iter=89    conv=1.600E-06 de=3.811E-07 energy=-8.533658E+00 time=7.042485E+02\n",
      "Step    Energy(a.u.)            dE              dP              Nd      Nls     Time(s)         \n",
      "0       -7.837268170350E+00     -7.837268E+00   1.516043E-08    1       1       4.809856E-03    \n",
      "1       -7.837268173358E+00     -3.007589E-09   6.074393E-09    1       2       1.661682E-02    \n",
      "2       -7.837268174233E+00     -8.755094E-10   2.238231E-09    1       3       3.337979E-02    \n",
      "#### Density Optimization Converged ####\n",
      "Chemical potential (a.u.): -0.13573762918301824\n",
      "Chemical potential (eV)  : -3.6936090257315257\n",
      " OESCF--> iter=90    conv=1.600E-06 de=1.955E-07 energy=-8.533658E+00 time=7.122101E+02\n",
      "Step    Energy(a.u.)            dE              dP              Nd      Nls     Time(s)         \n",
      "0       -7.837268653927E+00     -7.837269E+00   2.342211E-08    1       1       5.576849E-03    \n",
      "1       -7.837268658682E+00     -4.754845E-09   7.439504E-09    1       2       1.808095E-02    \n",
      "2       -7.837268659917E+00     -1.234881E-09   3.193615E-09    1       3       3.828096E-02    \n",
      "#### Density Optimization Converged ####\n",
      "Chemical potential (a.u.): -0.1357376943581718\n",
      "Chemical potential (eV)  : -3.6936107992377885\n",
      " OESCF--> iter=91    conv=1.600E-06 de=2.003E-07 energy=-8.533658E+00 time=7.202354E+02\n",
      "Step    Energy(a.u.)            dE              dP              Nd      Nls     Time(s)         \n",
      "0       -7.837268005581E+00     -7.837268E+00   4.622515E-08    1       1       4.652739E-03    \n",
      "1       -7.837268015115E+00     -9.534496E-09   1.207099E-08    1       2       1.642394E-02    \n",
      "2       -7.837268017631E+00     -2.516163E-09   6.417400E-09    1       3       3.225803E-02    \n",
      "#### Density Optimization Converged ####\n",
      "Chemical potential (a.u.): -0.13573761296723946\n",
      "Chemical potential (eV)  : -3.69360858447771\n",
      " OESCF--> iter=92    conv=1.600E-06 de=2.965E-07 energy=-8.533658E+00 time=7.281384E+02\n",
      "Step    Energy(a.u.)            dE              dP              Nd      Nls     Time(s)         \n",
      "0       -7.837269389808E+00     -7.837269E+00   2.322919E-08    1       1       4.578114E-03    \n",
      "1       -7.837269394803E+00     -4.994401E-09   6.304778E-09    1       2       1.595402E-02    \n",
      "2       -7.837269396087E+00     -1.283752E-09   3.568020E-09    1       3       3.241014E-02    \n",
      "#### Density Optimization Converged ####\n",
      "Chemical potential (a.u.): -0.13573783892835645\n",
      "Chemical potential (eV)  : -3.6936147331928906\n",
      " OESCF--> iter=93    conv=1.600E-06 de=6.691E-07 energy=-8.533659E+00 time=7.360184E+02\n",
      "Step    Energy(a.u.)            dE              dP              Nd      Nls     Time(s)         \n",
      "0       -7.837269020674E+00     -7.837269E+00   1.070847E-08    1       1       4.860878E-03    \n",
      "1       -7.837269022773E+00     -2.099192E-09   4.590217E-09    1       2       1.645398E-02    \n",
      "2       -7.837269023398E+00     -6.253842E-10   1.663224E-09    1       3       3.258586E-02    \n",
      "#### Density Optimization Converged ####\n",
      "Chemical potential (a.u.): -0.13573778362793207\n",
      "Chemical potential (eV)  : -3.6936132283916954\n",
      " OESCF--> iter=94    conv=1.600E-06 de=2.009E-07 energy=-8.533659E+00 time=7.439299E+02\n",
      "Step    Energy(a.u.)            dE              dP              Nd      Nls     Time(s)         \n",
      "0       -7.837269023192E+00     -7.837269E+00   9.840643E-09    1       1       4.555702E-03    \n",
      "1       -7.837269025148E+00     -1.955087E-09   4.149660E-09    1       2       1.674080E-02    \n",
      "2       -7.837269025743E+00     -5.953140E-10   1.533934E-09    1       3       3.333473E-02    \n",
      "#### Density Optimization Converged ####\n",
      "Chemical potential (a.u.): -0.13573778875614753\n",
      "Chemical potential (eV)  : -3.6936133679375462\n",
      " OESCF--> iter=95    conv=1.600E-06 de=3.229E-09 energy=-8.533658E+00 time=7.519332E+02\n",
      "Step    Energy(a.u.)            dE              dP              Nd      Nls     Time(s)         \n",
      "0       -7.837268139064E+00     -7.837268E+00   2.287251E-08    1       1       4.813910E-03    \n",
      "1       -7.837268143740E+00     -4.676533E-09   7.034254E-09    1       2       1.700306E-02    \n",
      "2       -7.837268145067E+00     -1.326420E-09   3.612449E-09    1       3       3.307509E-02    \n",
      "#### Density Optimization Converged ####\n",
      "Chemical potential (a.u.): -0.13573766644194088\n",
      "Chemical potential (eV)  : -3.6936100395984526\n",
      " OESCF--> iter=96    conv=1.600E-06 de=3.928E-07 energy=-8.533658E+00 time=7.598656E+02\n",
      "Step    Energy(a.u.)            dE              dP              Nd      Nls     Time(s)         \n",
      "0       -7.837268360554E+00     -7.837268E+00   4.310266E-08    1       1       4.720926E-03    \n",
      "1       -7.837268369721E+00     -9.166943E-09   1.062480E-08    1       2       1.640725E-02    \n",
      "2       -7.837268371900E+00     -2.179263E-09   5.748786E-09    1       3       3.225899E-02    \n",
      "#### Density Optimization Converged ####\n",
      "Chemical potential (a.u.): -0.13573772712850954\n",
      "Chemical potential (eV)  : -3.693611690964099\n",
      " OESCF--> iter=97    conv=1.600E-06 de=8.637E-08 energy=-8.533658E+00 time=7.677995E+02\n",
      "Step    Energy(a.u.)            dE              dP              Nd      Nls     Time(s)         \n",
      "0       -7.837268227415E+00     -7.837268E+00   3.973646E-08    1       1       4.603863E-03    \n",
      "1       -7.837268235870E+00     -8.455341E-09   1.070018E-08    1       2       1.608086E-02    \n",
      "2       -7.837268238005E+00     -2.134463E-09   5.600331E-09    1       3       3.201318E-02    \n",
      "#### Density Optimization Converged ####\n",
      "Chemical potential (a.u.): -0.13573771232705076\n",
      "Chemical potential (eV)  : -3.6936112881958905\n",
      " OESCF--> iter=98    conv=1.600E-06 de=1.036E-07 energy=-8.533658E+00 time=7.756431E+02\n",
      "Step    Energy(a.u.)            dE              dP              Nd      Nls     Time(s)         \n",
      "0       -7.837267759796E+00     -7.837268E+00   2.766909E-08    1       1       4.751921E-03    \n",
      "1       -7.837267765445E+00     -5.648783E-09   8.676695E-09    1       2       1.674199E-02    \n",
      "2       -7.837267767013E+00     -1.567795E-09   4.260613E-09    1       3       3.250599E-02    \n",
      "#### Density Optimization Converged ####\n",
      "Chemical potential (a.u.): -0.1357376342574079\n",
      "Chemical potential (eV)  : -3.6936091638127015\n",
      " OESCF--> iter=99    conv=1.600E-06 de=1.937E-07 energy=-8.533658E+00 time=7.835521E+02\n",
      "Step    Energy(a.u.)            dE              dP              Nd      Nls     Time(s)         \n",
      "0       -7.837268246294E+00     -7.837268E+00   2.009946E-08    1       1       4.576921E-03    \n",
      "1       -7.837268250399E+00     -4.105118E-09   6.967860E-09    1       2       1.630616E-02    \n",
      "2       -7.837268251533E+00     -1.134119E-09   2.904820E-09    1       3       3.298807E-02    \n",
      "#### Density Optimization Converged ####\n",
      "Chemical potential (a.u.): -0.13573770587281206\n",
      "Chemical potential (eV)  : -3.6936111125671096\n",
      " OESCF--> iter=100   conv=1.600E-06 de=1.934E-07 energy=-8.533658E+00 time=7.914445E+02\n",
      "!WARN: Not converged, but reached max iterations\n"
     ]
    }
   ],
   "source": [
    "rho0 = opt.optimize_rho(guess_rho=rho, econv=1e-6)"
   ]
  },
  {
   "cell_type": "code",
   "execution_count": 96,
   "id": "82887aa6-eb95-4542-9412-205ec3f6391d",
   "metadata": {},
   "outputs": [],
   "source": [
    "rho0.write(filename=\"rho_lmgp.xsf\", ions=ions)"
   ]
  },
  {
   "cell_type": "markdown",
   "id": "b4916d14",
   "metadata": {
    "slideshow": {
     "slide_type": "slide"
    }
   },
   "source": [
    "# Time dependent part\n",
    "### Remove the von Wäzecker KEDF\n",
    "Change the KE functional in the total functional to Pauli functional, the laplacian is handled by the hamiltonian\n",
    "$$\n",
    "v_p(\\mathbf{r},t) = v_{Ts}(\\mathbf{r},t) - v_{vW}(\\mathbf{r},t)\n",
    "$$\n",
    "\n",
    "##### Initialize the Time propagation from $n_{LMGP}(\\mathbf{r})$\n",
    "$$H(t) = H(t_0) + [\\tilde{H}(t)-\\tilde{H}(t_0)]$$\n",
    "$$v_B(\\mathbf{r},t) = v_B(\\mathbf{r},t_0) + [\\tilde{v}_B(\\mathbf{r},t)-\\tilde{v}_B(\\mathbf{r},t_0)]$$\n",
    "$$\n",
    "[-\\frac{1}{2}\\nabla ^2 + v_B(\\mathbf{r},t_0)]\\phi_B(\\mathbf{r},t_0) = \\mu \\phi_B(\\mathbf{r},t_0) \\rightarrow v_B(\\mathbf{r},t_0) = \\underbrace{\\frac{1}{2}\\frac{\\nabla ^2 \\phi_B(\\mathbf{r},t_0)}{\\phi_B(\\mathbf{r},t_0)}}_{-v_{vW}[n(\\mathbf{r},t_0)]} + \\mu \n",
    "$$\n",
    "$$\n",
    "v_B(\\mathbf{r},t) = -v_{vW}(\\mathbf{r},t_0) + [\\tilde{v}_s(\\mathbf{r},t)+\\tilde{v}_p(\\mathbf{r},t)-\\tilde{v}_s(\\mathbf{r},t_0)-\\tilde{v}_p(\\mathbf{r},t_0)]\n",
    "$$\n",
    "$$\n",
    "\\therefore v_B(\\mathbf{r},t) = -v_{vW}[n(\\mathbf{r},t_0)] + [\\tilde{v}_s(\\mathbf{r},t)+\\tilde{v}_p(\\mathbf{r},t)-\\tilde{v}_s[n(\\mathbf{r},t_0)]-\\tilde{v}_p[n(\\mathbf{r},t_0)]]\n",
    "$$"
   ]
  },
  {
   "cell_type": "code",
   "execution_count": 98,
   "id": "376c41d7",
   "metadata": {},
   "outputs": [],
   "source": [
    "ke = Functional(type='KEDF',name='LMGP', kfmax=kfmax, kfmin=1e-10, ratio=1.02)\n",
    "ke.options.update({'y':0})\n",
    "ke2 = Functional(type='KEDF',name='TFvW')\n",
    "ke2.options.update({'y':0})\n",
    "\n",
    "v_p = ke(rho0).potential\n",
    "v_p2 = ke2(rho0).potential\n",
    "\n",
    "v_ext = v_p - v_p2"
   ]
  },
  {
   "cell_type": "code",
   "execution_count": 99,
   "id": "997fbbf6-c876-4efa-859d-3f7b5802c099",
   "metadata": {},
   "outputs": [],
   "source": [
    "from dftpy.functional.external_potential import ExternalPotential"
   ]
  },
  {
   "cell_type": "code",
   "execution_count": 100,
   "id": "8aa45bfd-ae3c-4a13-93d3-4af18a7dd34d",
   "metadata": {},
   "outputs": [],
   "source": [
    "ext = ExternalPotential(v=v_ext)\n",
    "totalfunctional = TotalFunctional(KEDF=ke2, XC=xc, HARTREE=hartree, PSEUDO=pseudo)\n",
    "totalfunctional.UpdateFunctional(newFuncDict={'EXT': ext})"
   ]
  },
  {
   "cell_type": "markdown",
   "id": "99beedb6-8825-4c35-b69b-3eb2b07c4038",
   "metadata": {},
   "source": [
    "### Verify Ground state\n",
    "BUild the hamiltonian and diagonalize it to verify that the propagation starts with the correct initial density "
   ]
  },
  {
   "cell_type": "code",
   "execution_count": 101,
   "id": "cc6b4247-f836-4d5b-916d-c4bcb477eae6",
   "metadata": {},
   "outputs": [],
   "source": [
    "potential = totalfunctional(rho0).potential\n",
    "H = Hamiltonian(v=potential)\n",
    "eigval, psi_list = H.diagonalize(numeig=1)"
   ]
  },
  {
   "cell_type": "code",
   "execution_count": 102,
   "id": "f5bf18e5-4491-4b2a-b2eb-5d8c6a1c9448",
   "metadata": {},
   "outputs": [],
   "source": [
    "psi_lmgp = np.sqrt(rho0)"
   ]
  },
  {
   "cell_type": "code",
   "execution_count": 103,
   "id": "6d4eb6b4-8e4d-49de-a5e9-4417ca5e2808",
   "metadata": {},
   "outputs": [],
   "source": [
    "N = (psi_lmgp*psi_lmgp).integral()"
   ]
  },
  {
   "cell_type": "code",
   "execution_count": 104,
   "id": "9d3bd7cf-81ab-4635-be38-c1c3864afa97",
   "metadata": {},
   "outputs": [],
   "source": [
    "rho_h = N * (psi_list[0]*psi_list[0])"
   ]
  },
  {
   "cell_type": "code",
   "execution_count": 105,
   "id": "d8fa3324-632d-44a9-98f5-072d4b3c314d",
   "metadata": {},
   "outputs": [
    {
     "data": {
      "text/plain": [
       "<matplotlib.image.AxesImage at 0x141f10940>"
      ]
     },
     "execution_count": 105,
     "metadata": {},
     "output_type": "execute_result"
    },
    {
     "data": {
      "image/png": "[encoded data removed]",
      "text/plain": [
       "<Figure size 1000x300 with 2 Axes>"
      ]
     },
     "metadata": {},
     "output_type": "display_data"
    }
   ],
   "source": [
    "fig, axs = plt.subplots(1, 2, figsize=(10, 3))\n",
    "r = np.linspace(0,ions.cell[2][2],len(rho_h[16,16,:].ravel()))\n",
    "axs[0].plot(r, rho_h[15,15,:].ravel())\n",
    "axs[0].plot(r, rho0[15,15,:].ravel())\n",
    "axs[0].set_ylabel('n(r)')\n",
    "axs[0].set_xlabel('r (au)')\n",
    "\n",
    "axs[1].matshow(rho_h[:,:,15])"
   ]
  },
  {
   "cell_type": "markdown",
   "id": "c2f2e190-b292-457a-b651-cace08886d44",
   "metadata": {},
   "source": [
    "## Time propagation"
   ]
  },
  {
   "cell_type": "code",
   "execution_count": 106,
   "id": "3703cb88-2f59-4997-9258-b8461aadf6a7",
   "metadata": {},
   "outputs": [],
   "source": [
    "from dftpy.constants import TIME_CONV, LEN_CONV, ENERGY_CONV\n",
    "as2au = TIME_CONV['s']['au']*1e-18\n",
    "bohr = LEN_CONV['Angstrom']['Bohr']\n",
    "k = 0.01*bohr\n",
    "interval = 1.0 * as2au\n",
    "ha = ENERGY_CONV['Hartree']['eV']"
   ]
  },
  {
   "cell_type": "code",
   "execution_count": 107,
   "id": "6bc75243",
   "metadata": {},
   "outputs": [],
   "source": [
    "direction = 0 # 0, 1, 2 means x, y, z-direction, respectively"
   ]
  },
  {
   "cell_type": "markdown",
   "id": "6084d710-0166-4df8-95cd-24a4146e1389",
   "metadata": {},
   "source": [
    "## Run with Crank Nicholson propagator"
   ]
  },
  {
   "cell_type": "code",
   "execution_count": 108,
   "id": "82a47b3d",
   "metadata": {
    "slideshow": {
     "slide_type": "slide"
    }
   },
   "outputs": [],
   "source": [
    "from dftpy.optimize import Dynamics\n",
    "\n",
    "\n",
    "class Runner(Dynamics):\n",
    "\n",
    "    def __init__(self, rho0, totalfunctional, k, direction, interval, max_steps):\n",
    "        super(Runner, self).__init__()\n",
    "        self.max_steps = max_steps\n",
    "        self.totalfunctional = totalfunctional\n",
    "        self.rho0 = rho0\n",
    "        self.rho = rho0\n",
    "        self.psi = initial_kick(k, direction, np.sqrt(self.rho0))\n",
    "        self.j = calc_j(self.psi)\n",
    "        potential = self.totalfunctional(self.rho0, current=self.j, calcType=['V']).potential\n",
    "        hamiltonian = Hamiltonian(v=potential+v_ext)\n",
    "        self.prop = Propagator(hamiltonian, interval, name='crank-nicholson')\n",
    "        self.dipole = []\n",
    "        self.attach(self.calc_dipole) # this attaches the calc_dipole function to the observers list which runs after each time step.\n",
    "\n",
    "    def step(self):\n",
    "        self.psi, info = self.prop(self.psi)\n",
    "        self.rho = calc_rho(self.psi)\n",
    "        self.j = calc_j(self.psi)\n",
    "        potential = self.totalfunctional(self.rho, current=self.j, calcType=['V']).potential\n",
    "        self.prop.hamiltonian.v = potential\n",
    "        print(\"\\r\", end=\"\")\n",
    "        print(f\"Progress: [{self.nsteps+1}/{self.max_steps}]\", \"|\" * (self.nsteps*50 // self.max_steps), end=\"\", flush=True)\n",
    "\n",
    "    def calc_dipole(self):\n",
    "        delta_rho = self.rho - self.rho0\n",
    "        delta_mu = (delta_rho * delta_rho.grid.r).integral()\n",
    "        self.dipole.append(delta_mu)"
   ]
  },
  {
   "cell_type": "code",
   "execution_count": 113,
   "id": "6eb46c73",
   "metadata": {
    "slideshow": {
     "slide_type": "slide"
    }
   },
   "outputs": [
    {
     "name": "stdout",
     "output_type": "stream",
     "text": [
      "Progress: [5000/5000] |||||||||||||||||||||||||||||||||||||||||||||||||"
     ]
    },
    {
     "data": {
      "text/plain": [
       "False"
      ]
     },
     "execution_count": 113,
     "metadata": {},
     "output_type": "execute_result"
    }
   ],
   "source": [
    "max_steps = 5000\n",
    "runner = Runner(rho0, totalfunctional, k, direction, interval, max_steps)\n",
    "runner()"
   ]
  },
  {
   "cell_type": "code",
   "execution_count": 114,
   "id": "d9694650-2e43-425b-a0e9-6789d0ae7b1f",
   "metadata": {},
   "outputs": [],
   "source": [
    "t = np.linspace(0, interval * max_steps, max_steps + 1)\n",
    "mu = np.asarray(runner.dipole)"
   ]
  },
  {
   "cell_type": "markdown",
   "id": "fe87eea8",
   "metadata": {},
   "source": [
    "## Plot the dipole moment"
   ]
  },
  {
   "cell_type": "code",
   "execution_count": 115,
   "id": "d0652174-c8bd-4a99-8bfd-829bde91dcfd",
   "metadata": {},
   "outputs": [
    {
     "data": {
      "text/plain": [
       "Text(0, 0.5, 'Dipole Moment (au)')"
      ]
     },
     "execution_count": 115,
     "metadata": {},
     "output_type": "execute_result"
    },
    {
     "data": {
      "image/png": "[encoded data removed]",
      "text/plain": [
       "<Figure size 640x480 with 1 Axes>"
      ]
     },
     "metadata": {},
     "output_type": "display_data"
    }
   ],
   "source": [
    "delta_mu = mu[:,0] - mu[0,0]\n",
    "plt.plot(t, delta_mu)\n",
    "plt.xlabel('Time (au)')\n",
    "plt.ylabel('Dipole Moment (au)')"
   ]
  },
  {
   "cell_type": "markdown",
   "id": "a9bb2926",
   "metadata": {
    "slideshow": {
     "slide_type": "slide"
    }
   },
   "source": [
    "## Plot the optical spectra"
   ]
  },
  {
   "cell_type": "code",
   "execution_count": 119,
   "id": "47bcdc31-0d8a-4f02-88b0-8d5a5dfc9c48",
   "metadata": {
    "slideshow": {
     "slide_type": "fragment"
    }
   },
   "outputs": [
    {
     "name": "stdout",
     "output_type": "stream",
     "text": [
      "The history saving thread hit an unexpected error (OperationalError('attempt to write a readonly database')).History will not be written to the database.\n"
     ]
    },
    {
     "data": {
      "text/plain": [
       "(0.0, 20.0)"
      ]
     },
     "execution_count": 119,
     "metadata": {},
     "output_type": "execute_result"
    },
    {
     "data": {
      "image/png": "[encoded data removed]",
      "text/plain": [
       "<Figure size 640x480 with 1 Axes>"
      ]
     },
     "metadata": {},
     "output_type": "display_data"
    }
   ],
   "source": [
    "sigma = 0.03*(as2au**2)\n",
    "omega, spectra = calc_spectra_mu(delta_mu, interval, sigma=sigma, kick=k)\n",
    "plt.plot(omega*Units.Ha, spectra, '-')\n",
    "plt.xlabel('Frequency (eV)')\n",
    "plt.ylabel('Intensity (au)')\n",
    "plt.xlim(0, 20)"
   ]
  },
  {
   "cell_type": "markdown",
   "id": "7bcf3841",
   "metadata": {
    "slideshow": {
     "slide_type": "slide"
    }
   },
   "source": [
    "## Challenge \n",
    "\n",
    "Calculate the optical spectra of your own cluster"
   ]
  },
  {
   "cell_type": "markdown",
   "id": "f92941be-34f4-434b-b895-c0d854d6a718",
   "metadata": {},
   "source": [
    "### Add list of pseudos!!"
   ]
  },
  {
   "cell_type": "markdown",
   "id": "3381e13b",
   "metadata": {},
   "source": [
    "### Build a cluster with ASE\n"
   ]
  },
  {
   "cell_type": "code",
   "execution_count": 32,
   "id": "e4be1946",
   "metadata": {},
   "outputs": [],
   "source": [
    "from ase.cluster.cubic import FaceCenteredCubic\n",
    "\n",
    "surfaces = [(1, 0, 0), (1, 1, 0), (1, 1, 1)]\n",
    "layers = [2, 2, 2]\n",
    "lc = 3.61000\n",
    "atoms = FaceCenteredCubic('Mg', surfaces, layers, latticeconstant=lc)\n",
    "atoms.set_cell([10,10,10])\n",
    "atoms.wrap()\n",
    "atoms.center(vacuum=10.0)"
   ]
  },
  {
   "cell_type": "code",
   "execution_count": 33,
   "id": "eb400e2e",
   "metadata": {},
   "outputs": [
    {
     "data": {
      "text/plain": [
       "19"
      ]
     },
     "execution_count": 33,
     "metadata": {},
     "output_type": "execute_result"
    }
   ],
   "source": [
    "atoms.get_global_number_of_atoms()"
   ]
  },
  {
   "cell_type": "code",
   "execution_count": 34,
   "id": "c1beacc7",
   "metadata": {
    "slideshow": {
     "slide_type": "subslide"
    }
   },
   "outputs": [
    {
     "data": {
      "application/3dmoljs_load.v0": "<div id=\"3dmolviewer_1749001834761268\"  style=\"position: relative; width: 640px; height: 480px;\">\n        <p id=\"3dmolwarning_1749001834761268\" style=\"background-color:#ffcccc;color:black\">3Dmol.js failed to load for some reason.  Please check your browser console for error messages.<br></p>\n        </div>\n<script>\n\nvar loadScriptAsync = function(uri){\n  return new Promise((resolve, reject) => {\n    //this is to ignore the existence of requirejs amd\n    var savedexports, savedmodule;\n    if (typeof exports !== 'undefined') savedexports = exports;\n    else exports = {}\n    if (typeof module !== 'undefined') savedmodule = module;\n    else module = {}\n\n    var tag = document.createElement('script');\n    tag.src = uri;\n    tag.async = true;\n    tag.onload = () => {\n        exports = savedexports;\n        module = savedmodule;\n        resolve();\n    };\n  var firstScriptTag = document.getElementsByTagName('script')[0];\n  firstScriptTag.parentNode.insertBefore(tag, firstScriptTag);\n});\n};\n\nif(typeof $3Dmolpromise === 'undefined') {\n$3Dmolpromise = null;\n  $3Dmolpromise = loadScriptAsync('https://cdnjs.cloudflare.com/ajax/libs/3Dmol/2.1.0/3Dmol-min.js');\n}\n\nvar viewer_1749001834761268 = null;\nvar warn = document.getElementById(\"3dmolwarning_1749001834761268\");\nif(warn) {\n    warn.parentNode.removeChild(warn);\n}\n$3Dmolpromise.then(function() {\nviewer_1749001834761268 = $3Dmol.createViewer(document.getElementById(\"3dmolviewer_1749001834761268\"),{backgroundColor:\"white\"});\nviewer_1749001834761268.addModel(\"19\\nLattice=\\\"27.22 0.0 0.0 0.0 27.22 0.0 0.0 0.0 27.22\\\" Properties=species:S:1:pos:R:3 pbc=\\\"F F F\\\"\\nCu      11.80500000      11.80500000      13.61000000\\nCu      11.80500000      13.61000000      11.80500000\\nCu      10.00000000      13.61000000      13.61000000\\nCu      11.80500000      13.61000000      15.41500000\\nCu      11.80500000      15.41500000      13.61000000\\nCu      13.61000000      11.80500000      11.80500000\\nCu      13.61000000      10.00000000      13.61000000\\nCu      13.61000000      11.80500000      15.41500000\\nCu      15.41500000      11.80500000      13.61000000\\nCu      13.61000000      13.61000000      10.00000000\\nCu      13.61000000      15.41500000      11.80500000\\nCu      15.41500000      13.61000000      11.80500000\\nCu      13.61000000      13.61000000      13.61000000\\nCu      13.61000000      15.41500000      15.41500000\\nCu      15.41500000      13.61000000      15.41500000\\nCu      15.41500000      15.41500000      13.61000000\\nCu      13.61000000      13.61000000      17.22000000\\nCu      13.61000000      17.22000000      13.61000000\\nCu      17.22000000      13.61000000      13.61000000\\n\");\nviewer_1749001834761268.setStyle(\"sphere\");\nviewer_1749001834761268.zoomTo();\n\tviewer_1749001834761268.addUnitCell();\n\tviewer_1749001834761268.zoomTo();\nviewer_1749001834761268.render();\n});\n</script>",
      "text/html": [
       "<div id=\"3dmolviewer_1749001834761268\"  style=\"position: relative; width: 640px; height: 480px;\">\n",
       "        <p id=\"3dmolwarning_1749001834761268\" style=\"background-color:#ffcccc;color:black\">3Dmol.js failed to load for some reason.  Please check your browser console for error messages.<br></p>\n",
       "        </div>\n",
       "<script>\n",
       "\n",
       "var loadScriptAsync = function(uri){\n",
       "  return new Promise((resolve, reject) => {\n",
       "    //this is to ignore the existence of requirejs amd\n",
       "    var savedexports, savedmodule;\n",
       "    if (typeof exports !== 'undefined') savedexports = exports;\n",
       "    else exports = {}\n",
       "    if (typeof module !== 'undefined') savedmodule = module;\n",
       "    else module = {}\n",
       "\n",
       "    var tag = document.createElement('script');\n",
       "    tag.src = uri;\n",
       "    tag.async = true;\n",
       "    tag.onload = () => {\n",
       "        exports = savedexports;\n",
       "        module = savedmodule;\n",
       "        resolve();\n",
       "    };\n",
       "  var firstScriptTag = document.getElementsByTagName('script')[0];\n",
       "  firstScriptTag.parentNode.insertBefore(tag, firstScriptTag);\n",
       "});\n",
       "};\n",
       "\n",
       "if(typeof $3Dmolpromise === 'undefined') {\n",
       "$3Dmolpromise = null;\n",
       "  $3Dmolpromise = loadScriptAsync('https://cdnjs.cloudflare.com/ajax/libs/3Dmol/2.1.0/3Dmol-min.js');\n",
       "}\n",
       "\n",
       "var viewer_1749001834761268 = null;\n",
       "var warn = document.getElementById(\"3dmolwarning_1749001834761268\");\n",
       "if(warn) {\n",
       "    warn.parentNode.removeChild(warn);\n",
       "}\n",
       "$3Dmolpromise.then(function() {\n",
       "viewer_1749001834761268 = $3Dmol.createViewer(document.getElementById(\"3dmolviewer_1749001834761268\"),{backgroundColor:\"white\"});\n",
       "viewer_1749001834761268.addModel(\"19\\nLattice=\\\"27.22 0.0 0.0 0.0 27.22 0.0 0.0 0.0 27.22\\\" Properties=species:S:1:pos:R:3 pbc=\\\"F F F\\\"\\nCu      11.80500000      11.80500000      13.61000000\\nCu      11.80500000      13.61000000      11.80500000\\nCu      10.00000000      13.61000000      13.61000000\\nCu      11.80500000      13.61000000      15.41500000\\nCu      11.80500000      15.41500000      13.61000000\\nCu      13.61000000      11.80500000      11.80500000\\nCu      13.61000000      10.00000000      13.61000000\\nCu      13.61000000      11.80500000      15.41500000\\nCu      15.41500000      11.80500000      13.61000000\\nCu      13.61000000      13.61000000      10.00000000\\nCu      13.61000000      15.41500000      11.80500000\\nCu      15.41500000      13.61000000      11.80500000\\nCu      13.61000000      13.61000000      13.61000000\\nCu      13.61000000      15.41500000      15.41500000\\nCu      15.41500000      13.61000000      15.41500000\\nCu      15.41500000      15.41500000      13.61000000\\nCu      13.61000000      13.61000000      17.22000000\\nCu      13.61000000      17.22000000      13.61000000\\nCu      17.22000000      13.61000000      13.61000000\\n\");\n",
       "viewer_1749001834761268.setStyle(\"sphere\");\n",
       "viewer_1749001834761268.zoomTo();\n",
       "\tviewer_1749001834761268.addUnitCell();\n",
       "\tviewer_1749001834761268.zoomTo();\n",
       "viewer_1749001834761268.render();\n",
       "});\n",
       "</script>"
      ]
     },
     "metadata": {},
     "output_type": "display_data"
    }
   ],
   "source": [
    "import py3Dmol\n",
    "from ase.build import bulk\n",
    "from ase.io import write\n",
    "from ase.constraints import FixBondLength\n",
    "write('cluster.xyz',atoms)\n",
    "v = py3Dmol.view(data=open('./cluster.xyz','r').read(), style='sphere',linked=False)\n",
    "\n",
    "v.addUnitCell()\n",
    "v.zoomTo()\n",
    "v.show()"
   ]
  },
  {
   "cell_type": "code",
   "execution_count": null,
   "id": "a69f1d7c-837c-4019-80ae-f12bf9858c22",
   "metadata": {},
   "outputs": [],
   "source": []
  }
 ],
 "metadata": {
  "celltoolbar": "Slideshow",
  "kernelspec": {
   "display_name": "Python 3 (ipykernel)",
   "language": "python",
   "name": "python3"
  },
  "language_info": {
   "codemirror_mode": {
    "name": "ipython",
    "version": 3
   },
   "file_extension": ".py",
   "mimetype": "text/x-python",
   "name": "python",
   "nbconvert_exporter": "python",
   "pygments_lexer": "ipython3",
   "version": "3.10.15"
  }
 },
 "nbformat": 4,
 "nbformat_minor": 5
}
