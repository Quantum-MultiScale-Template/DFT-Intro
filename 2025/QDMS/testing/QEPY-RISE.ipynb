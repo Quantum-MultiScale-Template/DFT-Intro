{
 "cells": [
  {
   "cell_type": "markdown",
   "id": "59b7aaab-2d2e-492f-9245-50c032694b79",
   "metadata": {
    "slideshow": {
     "slide_type": "slide"
    }
   },
   "source": [
    "<center>\n",
    "    <h1>The (almost) all-Python QEpy software</h1>\n",
    "<center>\n",
    "<br>\n",
    "<table>\n",
    "  <tr>\n",
    "      <td><p><h1>Pavanello Research Group</h1></p><p><h2>Rutgers University-Newark</h2></p></td>\n",
    "  </tr>\n",
    "  <tr>\n",
    "    <td></td>\n",
    "  </tr>\n",
    "</table>\n",
    "\n",
    "#### Quantum MultiScale School June 18th 2024"
   ]
  },
  {
   "cell_type": "markdown",
   "id": "60b80b90-e8b7-465f-a90e-0076644734d8",
   "metadata": {
    "slideshow": {
     "slide_type": "slide"
    }
   },
   "source": [
    "# Acknowledgements\n",
    "\n",
    "<table>\n",
    "  <tr>\n",
    "      <td><p></p><p>Alina Umerbekova</p><p>Nicolas Viot</p><p>Xin Chen </p><p>Xuecheng Shao</p><p>Michele Pavanello</p><p>Valeria Rios </p><p>Jessica Martinez</p></td>\n",
    "  </tr>\n",
    "</table>\n",
    "\n",
    "Funding: NSF, DOE, MolSSI, ACS-PRF, Rutgers"
   ]
  },
  {
   "cell_type": "markdown",
   "id": "3282c1a2",
   "metadata": {
    "slideshow": {
     "slide_type": "slide"
    }
   },
   "source": [
    "<center>\n",
    "QEpy driver: Python driver class for Quantum ESPRESSO - KS-DFT in Python\n",
    "\n",
    "<br>\n",
    "<br>\n",
    "\n",
    "<center>\n",
    "    <div class=\"alert alert-success\"> GOALS:</div>\n",
    "    <div class=\"alert alert-success\">1) What are the optimal number of k-points to use for a given system?</div>\n",
    "    <div class=\"alert alert-success\">2) What are the optimal values for the kinetic energy cutof for a given system?</div>\n",
    "    <div class=\"alert alert-success\">3) What are the optimal values for the gaussian spreading for a given system?</div>\n",
    "</center>"
   ]
  },
  {
   "cell_type": "markdown",
   "id": "b37a0ab1",
   "metadata": {
    "slideshow": {
     "slide_type": "slide"
    }
   },
   "source": [
    "#### Getting started!\n",
    "\n",
    "- Git clone\n",
    "\n",
    "<br>\n",
    "<center>\n",
    "<h6>git clone https://github.com/Quantum-MultiScale-Template/DFT-Intro</h6>\n",
    "</center>\n",
    "\n",
    "\n",
    "- Go to ./DFT-Intro/2024/QEPy/testing in your tunneled Jupyter-Notebook\n",
    "\n",
    "<br>\n",
    "<center>\n",
    "<h6> ./DFT-Intro/2024/QEPy/testing/QEPY-RISE.ipynb</h6>\n",
    "</center>\n",
    "\n",
    "- Run this alongside with me! "
   ]
  },
  {
   "cell_type": "code",
   "execution_count": 1,
   "id": "760a973e-9337-467a-bb5a-07878243bbfb",
   "metadata": {
    "slideshow": {
     "slide_type": "slide"
    }
   },
   "outputs": [],
   "source": [
    "from qepy.driver import Driver\n",
    "from qepy.io import QEInput"
   ]
  },
  {
   "cell_type": "code",
   "execution_count": 2,
   "id": "f34d9caa-c0e6-4544-95c1-bc1e2d3f5a5d",
   "metadata": {
    "slideshow": {
     "slide_type": "fragment"
    }
   },
   "outputs": [],
   "source": [
    "from ase.build import bulk\n",
    "from ase.io import read,write\n",
    "from ase import Atoms\n",
    "import py3Dmol"
   ]
  },
  {
   "cell_type": "markdown",
   "id": "a3443f0f",
   "metadata": {
    "slideshow": {
     "slide_type": "fragment"
    }
   },
   "source": [
    "## Build your system"
   ]
  },
  {
   "cell_type": "code",
   "execution_count": 3,
   "id": "5049b999-6ce3-4d93-830e-de23fc55b15d",
   "metadata": {
    "slideshow": {
     "slide_type": "fragment"
    }
   },
   "outputs": [
    {
     "data": {
      "application/3dmoljs_load.v0": "<div id=\"3dmolviewer_17192407262086678\"  style=\"position: relative; width: 640px; height: 480px;\">\n        <p id=\"3dmolwarning_17192407262086678\" style=\"background-color:#ffcccc;color:black\">3Dmol.js failed to load for some reason.  Please check your browser console for error messages.<br></p>\n        </div>\n<script>\n\nvar loadScriptAsync = function(uri){\n  return new Promise((resolve, reject) => {\n    //this is to ignore the existence of requirejs amd\n    var savedexports, savedmodule;\n    if (typeof exports !== 'undefined') savedexports = exports;\n    else exports = {}\n    if (typeof module !== 'undefined') savedmodule = module;\n    else module = {}\n\n    var tag = document.createElement('script');\n    tag.src = uri;\n    tag.async = true;\n    tag.onload = () => {\n        exports = savedexports;\n        module = savedmodule;\n        resolve();\n    };\n  var firstScriptTag = document.getElementsByTagName('script')[0];\n  firstScriptTag.parentNode.insertBefore(tag, firstScriptTag);\n});\n};\n\nif(typeof $3Dmolpromise === 'undefined') {\n$3Dmolpromise = null;\n  $3Dmolpromise = loadScriptAsync('https://cdnjs.cloudflare.com/ajax/libs/3Dmol/2.1.0/3Dmol-min.js');\n}\n\nvar viewer_17192407262086678 = null;\nvar warn = document.getElementById(\"3dmolwarning_17192407262086678\");\nif(warn) {\n    warn.parentNode.removeChild(warn);\n}\n$3Dmolpromise.then(function() {\nviewer_17192407262086678 = $3Dmol.createViewer(document.getElementById(\"3dmolviewer_17192407262086678\"),{backgroundColor:\"white\"});\nviewer_17192407262086678.addModel(\"1\\nLattice=\\\"0.0 2.025 2.025 2.025 0.0 2.025 2.025 2.025 0.0\\\" Properties=species:S:1:pos:R:3 pbc=\\\"T T T\\\"\\nAl       0.00000000       0.00000000       0.00000000\\n\");\nviewer_17192407262086678.setStyle(\"sphere\");\nviewer_17192407262086678.zoomTo();\n\tviewer_17192407262086678.addUnitCell();\n\tviewer_17192407262086678.zoomTo();\nviewer_17192407262086678.render();\n});\n</script>",
      "text/html": [
       "<div id=\"3dmolviewer_17192407262086678\"  style=\"position: relative; width: 640px; height: 480px;\">\n",
       "        <p id=\"3dmolwarning_17192407262086678\" style=\"background-color:#ffcccc;color:black\">3Dmol.js failed to load for some reason.  Please check your browser console for error messages.<br></p>\n",
       "        </div>\n",
       "<script>\n",
       "\n",
       "var loadScriptAsync = function(uri){\n",
       "  return new Promise((resolve, reject) => {\n",
       "    //this is to ignore the existence of requirejs amd\n",
       "    var savedexports, savedmodule;\n",
       "    if (typeof exports !== 'undefined') savedexports = exports;\n",
       "    else exports = {}\n",
       "    if (typeof module !== 'undefined') savedmodule = module;\n",
       "    else module = {}\n",
       "\n",
       "    var tag = document.createElement('script');\n",
       "    tag.src = uri;\n",
       "    tag.async = true;\n",
       "    tag.onload = () => {\n",
       "        exports = savedexports;\n",
       "        module = savedmodule;\n",
       "        resolve();\n",
       "    };\n",
       "  var firstScriptTag = document.getElementsByTagName('script')[0];\n",
       "  firstScriptTag.parentNode.insertBefore(tag, firstScriptTag);\n",
       "});\n",
       "};\n",
       "\n",
       "if(typeof $3Dmolpromise === 'undefined') {\n",
       "$3Dmolpromise = null;\n",
       "  $3Dmolpromise = loadScriptAsync('https://cdnjs.cloudflare.com/ajax/libs/3Dmol/2.1.0/3Dmol-min.js');\n",
       "}\n",
       "\n",
       "var viewer_17192407262086678 = null;\n",
       "var warn = document.getElementById(\"3dmolwarning_17192407262086678\");\n",
       "if(warn) {\n",
       "    warn.parentNode.removeChild(warn);\n",
       "}\n",
       "$3Dmolpromise.then(function() {\n",
       "viewer_17192407262086678 = $3Dmol.createViewer(document.getElementById(\"3dmolviewer_17192407262086678\"),{backgroundColor:\"white\"});\n",
       "viewer_17192407262086678.addModel(\"1\\nLattice=\\\"0.0 2.025 2.025 2.025 0.0 2.025 2.025 2.025 0.0\\\" Properties=species:S:1:pos:R:3 pbc=\\\"T T T\\\"\\nAl       0.00000000       0.00000000       0.00000000\\n\");\n",
       "viewer_17192407262086678.setStyle(\"sphere\");\n",
       "viewer_17192407262086678.zoomTo();\n",
       "\tviewer_17192407262086678.addUnitCell();\n",
       "\tviewer_17192407262086678.zoomTo();\n",
       "viewer_17192407262086678.render();\n",
       "});\n",
       "</script>"
      ]
     },
     "metadata": {},
     "output_type": "display_data"
    }
   ],
   "source": [
    "atoms = bulk('Al', 'fcc', a=4.05)\n",
    "write('Al.xyz',atoms)\n",
    "v = py3Dmol.view(data=open('./Al.xyz','r').read(), style='sphere')\n",
    "v.addUnitCell()\n",
    "v.zoomTo()\n",
    "v.show()"
   ]
  },
  {
   "cell_type": "code",
   "execution_count": 4,
   "id": "3c3b6086",
   "metadata": {
    "slideshow": {
     "slide_type": "skip"
    }
   },
   "outputs": [],
   "source": [
    "# atoms.get_cell()"
   ]
  },
  {
   "cell_type": "markdown",
   "id": "1898a33a",
   "metadata": {
    "slideshow": {
     "slide_type": "slide"
    }
   },
   "source": [
    "## Build an 'Input' file"
   ]
  },
  {
   "cell_type": "code",
   "execution_count": 5,
   "id": "f48994f5",
   "metadata": {
    "slideshow": {
     "slide_type": "fragment"
    }
   },
   "outputs": [],
   "source": [
    "qe_options = {\n",
    "    '&control': {\n",
    "        'calculation': \"'scf'\",\n",
    "        'pseudo_dir': \"'./'\",\n",
    "        'outdir': \"tmp\",\n",
    "    },\n",
    "    '&system': {\n",
    "        'ibrav' : 0,\n",
    "        'degauss': 0.005,\n",
    "        'ecutwfc': 30,\n",
    "        'nat': 1,\n",
    "        'ntyp': 1,\n",
    "        'occupations': \"'smearing'\",\n",
    "    },\n",
    "    'atomic_positions crystal': ['Al    0.0  0.0  0.0'],\n",
    "    'atomic_species': ['Al  26.98 Al.pbe-nl-kjpaw_psl.1.0.0.UPF'],\n",
    "    'k_points automatic': ['10 10 10 1 1 1'],\n",
    "    'cell_parameters angstrom':[\n",
    "        '0.     2.025  2.025',\n",
    "        '2.025  0.     2.025',\n",
    "        '2.025  2.025  0.   '],\n",
    "}"
   ]
  },
  {
   "cell_type": "markdown",
   "id": "29734e50",
   "metadata": {
    "slideshow": {
     "slide_type": "fragment"
    }
   },
   "source": [
    "## Download the Pseupotentials"
   ]
  },
  {
   "cell_type": "code",
   "execution_count": 6,
   "id": "4ea15f2c",
   "metadata": {
    "slideshow": {
     "slide_type": "fragment"
    }
   },
   "outputs": [],
   "source": [
    "additional_files = ['http://pseudopotentials.quantum-espresso.org/upf_files/Al.pbe-nl-kjpaw_psl.1.0.0.UPF']\n",
    "from dftpy.formats import download_files\n",
    "download_files(additional_files)"
   ]
  },
  {
   "cell_type": "markdown",
   "id": "101daba3",
   "metadata": {
    "slideshow": {
     "slide_type": "slide"
    }
   },
   "source": [
    "## Varying the kinetic energy cutoff (Ry) for truncating the basis set for plane waves"
   ]
  },
  {
   "cell_type": "code",
   "execution_count": 7,
   "id": "034aea8e",
   "metadata": {
    "slideshow": {
     "slide_type": "fragment"
    }
   },
   "outputs": [
    {
     "name": "stdout",
     "output_type": "stream",
     "text": [
      "10 -39.49905005721003\n",
      "15 -39.500836712625215\n",
      "20 -39.50192013207568\n",
      "25 -39.50253060756487\n",
      "30 -39.50272673370976\n",
      "35 -39.50283024220251\n"
     ]
    }
   ],
   "source": [
    "import numpy as np\n",
    "ecutwfcs = np.arange(10, 40, 5)\n",
    "energies = []\n",
    "for ecutwfc in ecutwfcs:\n",
    "    qe_options['&system']['ecutwfc'] = ecutwfc\n",
    "    #\n",
    "    driver = Driver(qe_options=qe_options, logfile=True)\n",
    "    ene = driver.scf()\n",
    "    energies.append(ene)\n",
    "    print(ecutwfc, ene)\n",
    "    driver.stop()"
   ]
  },
  {
   "cell_type": "code",
   "execution_count": 8,
   "id": "7ac8dad3",
   "metadata": {
    "scrolled": false,
    "slideshow": {
     "slide_type": "subslide"
    }
   },
   "outputs": [
    {
     "data": {
      "text/plain": [
       "Text(0, 0.5, 'Total Energy (Ry)')"
      ]
     },
     "execution_count": 8,
     "metadata": {},
     "output_type": "execute_result"
    },
    {
     "data": {
      "image/png": "[encoded data removed]",
      "text/plain": [
       "<Figure size 640x480 with 1 Axes>"
      ]
     },
     "metadata": {},
     "output_type": "display_data"
    }
   ],
   "source": [
    "import matplotlib.pyplot as plt\n",
    "energies=np.asarray(energies)\n",
    "plt.plot(ecutwfcs, energies-energies[-1])\n",
    "plt.xlabel('Kin. Energy Cutoff (Ry)')\n",
    "plt.ylabel('Total Energy (Ry)')"
   ]
  },
  {
   "cell_type": "markdown",
   "id": "ce5fb045",
   "metadata": {
    "slideshow": {
     "slide_type": "slide"
    }
   },
   "source": [
    "# Challenge 1"
   ]
  },
  {
   "cell_type": "markdown",
   "id": "59d5a70c",
   "metadata": {
    "slideshow": {
     "slide_type": "fragment"
    }
   },
   "source": [
    "1. Plot energy vs  Kin. Energy Cutoff for bulk Al (bcc) with QEpy"
   ]
  },
  {
   "cell_type": "markdown",
   "id": "022892c4",
   "metadata": {
    "slideshow": {
     "slide_type": "slide"
    }
   },
   "source": [
    "## Varying the k-points"
   ]
  },
  {
   "cell_type": "code",
   "execution_count": 9,
   "id": "defee41f",
   "metadata": {
    "slideshow": {
     "slide_type": "fragment"
    }
   },
   "outputs": [
    {
     "name": "stdout",
     "output_type": "stream",
     "text": [
      "1 -39.24296622012197\n",
      "3 -39.46014909158279\n",
      "5 -39.49832839031548\n",
      "7 -39.50597459248445\n",
      "9 -39.50044171917424\n"
     ]
    }
   ],
   "source": [
    "# kps = np.arange(2, 12, 2)\n",
    "kps = np.arange(1, 11, 2)\n",
    "energies = []\n",
    "for kp in kps:\n",
    "#     qe_options['k_points automatic'] = [f'{kp} {kp} {kp} 1 1 1']\n",
    "    qe_options['k_points automatic'] = [f'{kp} {kp} {kp} 0 0 0']\n",
    "    #\n",
    "    driver = Driver(qe_options=qe_options, logfile=True)\n",
    "#     print(driver.get_ibz_k_points()[0:1])\n",
    "    ene = driver.scf()\n",
    "    energies.append(ene)\n",
    "    print(kp, ene)\n",
    "    driver.stop()"
   ]
  },
  {
   "cell_type": "code",
   "execution_count": 10,
   "id": "9160bb5e",
   "metadata": {
    "scrolled": false,
    "slideshow": {
     "slide_type": "subslide"
    }
   },
   "outputs": [
    {
     "data": {
      "text/plain": [
       "Text(0, 0.5, 'Total Energy (Ry)')"
      ]
     },
     "execution_count": 10,
     "metadata": {},
     "output_type": "execute_result"
    },
    {
     "data": {
      "image/png": "[encoded data removed]",
      "text/plain": [
       "<Figure size 640x480 with 1 Axes>"
      ]
     },
     "metadata": {},
     "output_type": "display_data"
    }
   ],
   "source": [
    "energies=np.asarray(energies)\n",
    "plt.plot(kps, energies-energies[-1])\n",
    "plt.xlabel('k-points ')\n",
    "plt.ylabel('Total Energy (Ry)')"
   ]
  },
  {
   "cell_type": "markdown",
   "id": "1877248b",
   "metadata": {
    "slideshow": {
     "slide_type": "slide"
    }
   },
   "source": [
    "# Challenge 2"
   ]
  },
  {
   "cell_type": "markdown",
   "id": "33bfa252",
   "metadata": {
    "slideshow": {
     "slide_type": "fragment"
    }
   },
   "source": [
    "1. Plot energy vs  number of k-points for bulk Al (bcc) with QEpy"
   ]
  },
  {
   "cell_type": "markdown",
   "id": "4d6cce56",
   "metadata": {
    "slideshow": {
     "slide_type": "slide"
    }
   },
   "source": [
    "## Varying the gaussian spreading (Ry) for smoothing the band occupancy"
   ]
  },
  {
   "cell_type": "markdown",
   "id": "45c15761",
   "metadata": {
    "slideshow": {
     "slide_type": "fragment"
    }
   },
   "source": [
    "#### Setting degauss using qe_options"
   ]
  },
  {
   "cell_type": "code",
   "execution_count": 11,
   "id": "5e6a2aa8",
   "metadata": {
    "slideshow": {
     "slide_type": "fragment"
    }
   },
   "outputs": [
    {
     "name": "stdout",
     "output_type": "stream",
     "text": [
      "degauss 0.1 -39.51616027366381 4\n",
      "degauss 0.05 -39.50488622078137 3\n",
      "degauss 0.01 -39.50062116733474 4\n",
      "degauss 0.005 -39.50044172173984 4\n",
      "degauss 0.001 -39.50031169004518 4\n",
      "CPU times: user 6.19 s, sys: 986 ms, total: 7.18 s\n",
      "Wall time: 7.4 s\n"
     ]
    }
   ],
   "source": [
    "%%time\n",
    "degs= [1E-1, 5E-2, 1E-2, 5E-3, 1E-3]\n",
    "energies = []\n",
    "for degauss in degs:\n",
    "    qe_options['&system']['degauss'] = degauss\n",
    "    #\n",
    "    driver = Driver(qe_options=qe_options, logfile=True)\n",
    "    ene = driver.scf()\n",
    "    print('degauss',degauss, ene, driver.get_scf_steps())\n",
    "    energies.append(ene)\n",
    "    driver.stop()"
   ]
  },
  {
   "cell_type": "code",
   "execution_count": 12,
   "id": "7741b1be",
   "metadata": {
    "slideshow": {
     "slide_type": "subslide"
    }
   },
   "outputs": [
    {
     "data": {
      "text/plain": [
       "Text(0, 0.5, 'Total Energy (Ry)')"
      ]
     },
     "execution_count": 12,
     "metadata": {},
     "output_type": "execute_result"
    },
    {
     "data": {
      "image/png": "[encoded data removed]",
      "text/plain": [
       "<Figure size 640x480 with 1 Axes>"
      ]
     },
     "metadata": {},
     "output_type": "display_data"
    }
   ],
   "source": [
    "energies=np.asarray(energies)\n",
    "fig, ax = plt.subplots()\n",
    "ax.plot(degs, np.abs(energies-energies[-1]))\n",
    "ax.set_xscale('log')\n",
    "ax.invert_xaxis()\n",
    "plt.xlabel('Log Gaussian Spreading (Ry)')\n",
    "plt.ylabel('Total Energy (Ry)')"
   ]
  },
  {
   "cell_type": "markdown",
   "id": "fbc8a74a",
   "metadata": {
    "slideshow": {
     "slide_type": "subslide"
    }
   },
   "source": [
    "#### Setting degauss using module of QE"
   ]
  },
  {
   "cell_type": "code",
   "execution_count": 13,
   "id": "e22f9839",
   "metadata": {
    "slideshow": {
     "slide_type": "fragment"
    }
   },
   "outputs": [],
   "source": [
    "qe_options['&system']['degauss'] = 0.1\n",
    "driver = Driver(qe_options=qe_options, logfile=True)"
   ]
  },
  {
   "cell_type": "code",
   "execution_count": 14,
   "id": "45188e35",
   "metadata": {
    "slideshow": {
     "slide_type": "fragment"
    }
   },
   "outputs": [
    {
     "name": "stdout",
     "output_type": "stream",
     "text": [
      "degauss 0.1 -39.51616027319912 4\n",
      "degauss 0.05 -39.50488750899185 1\n",
      "degauss 0.01 -39.500621177259 2\n",
      "degauss 0.005 -39.50044173301069 1\n",
      "degauss 0.001 -39.500311699260344 1\n",
      "CPU times: user 2.6 s, sys: 347 ms, total: 2.95 s\n",
      "Wall time: 3 s\n"
     ]
    }
   ],
   "source": [
    "%%time\n",
    "degs= [1E-1, 5E-2, 1E-2, 5E-3, 1E-3]\n",
    "energies2 = []\n",
    "for degauss in degs:\n",
    "    #\n",
    "    driver.qepy_pw.klist.set_degauss(degauss)\n",
    "    ene = driver.electrons()\n",
    "    print('degauss',degauss, ene, driver.get_scf_steps())\n",
    "    energies2.append(ene)"
   ]
  },
  {
   "cell_type": "code",
   "execution_count": 15,
   "id": "d4a2268d",
   "metadata": {
    "slideshow": {
     "slide_type": "subslide"
    }
   },
   "outputs": [
    {
     "data": {
      "text/plain": [
       "<matplotlib.legend.Legend at 0x145fec460520>"
      ]
     },
     "execution_count": 15,
     "metadata": {},
     "output_type": "execute_result"
    },
    {
     "data": {
      "image/png": "[encoded data removed]",
      "text/plain": [
       "<Figure size 640x480 with 1 Axes>"
      ]
     },
     "metadata": {},
     "output_type": "display_data"
    }
   ],
   "source": [
    "energies=np.asarray(energies)\n",
    "energies2=np.asarray(energies2)\n",
    "fig, ax = plt.subplots()\n",
    "ax.plot(degs, np.abs(energies-energies[-1]), label='Normal')\n",
    "ax.plot(degs, np.abs(energies2-energies2[-1]), 'r-.', label='Python')\n",
    "ax.set_xscale('log')\n",
    "ax.invert_xaxis()\n",
    "plt.xlabel('Log Gaussian Spreading (Ry)')\n",
    "plt.ylabel('Total Energy (Ry)')\n",
    "ax.legend()"
   ]
  },
  {
   "cell_type": "markdown",
   "id": "950ef5dd",
   "metadata": {
    "slideshow": {
     "slide_type": "slide"
    }
   },
   "source": [
    "# Challenge 3"
   ]
  },
  {
   "cell_type": "markdown",
   "id": "8922a89d",
   "metadata": {
    "slideshow": {
     "slide_type": "fragment"
    }
   },
   "source": [
    "1. Plot energy vs log of gaussian spreading for bulk Al (bcc) with either QEPy or calling QE modules directly."
   ]
  }
 ],
 "metadata": {
  "celltoolbar": "Slideshow",
  "kernelspec": {
   "display_name": "qms2024",
   "language": "python",
   "name": "qms2024"
  },
  "language_info": {
   "codemirror_mode": {
    "name": "ipython",
    "version": 3
   },
   "file_extension": ".py",
   "mimetype": "text/x-python",
   "name": "python",
   "nbconvert_exporter": "python",
   "pygments_lexer": "ipython3",
   "version": "3.8.6"
  }
 },
 "nbformat": 4,
 "nbformat_minor": 5
}
