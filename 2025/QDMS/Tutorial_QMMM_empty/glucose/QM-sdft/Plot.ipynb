{
 "cells": [
  {
   "cell_type": "code",
   "execution_count": 1,
   "id": "18a2b344-87ec-4be1-8aa8-056b42b96d11",
   "metadata": {},
   "outputs": [],
   "source": [
    "import numpy as np\n",
    "\n",
    "def read_xyz(filename):\n",
    "    \"\"\"Reads an XYZ trajectory file and returns a list of frames with atomic coordinates.\"\"\"\n",
    "    frames = []\n",
    "    with open(filename, 'r') as file:\n",
    "        while True:\n",
    "            try:\n",
    "                num_atoms = int(file.readline().strip())\n",
    "                file.readline()\n",
    "                frame = []\n",
    "                for _ in range(num_atoms):\n",
    "                    line = file.readline().strip().split()\n",
    "                    coords = list(map(float, line[1:4]))\n",
    "                    frame.append(coords)\n",
    "                frames.append(np.array(frame))\n",
    "            except ValueError: \n",
    "                break\n",
    "    return np.array(frames)\n",
    "\n",
    "\n",
    "def calculate_rmse_between_frames(frame1, frame2):\n",
    "    \"\"\"Calculates the RMSE between two frames for the given atom indices.\"\"\"\n",
    " \n",
    "    coords1 = frame1[0:24]\n",
    "    coords2 = frame2[0:24]\n",
    "\n",
    "    squared_diff = np.square(coords1 - coords2)\n",
    "    rmse = np.sqrt(np.mean(squared_diff))\n",
    "    return rmse\n",
    "\n",
    "def compute_total_force(filename, init=False, all_forces=False):\n",
    "    \"\"\"Compute the total magnitud of the force as the square root of the sume of all of the force components squared as QE)\n",
    "    \n",
    "    Refer to https://eamonnmurray.gitlab.io/modelling_materials/lab05/\"\"\"\n",
    "    \n",
    "    with open(filename, 'r') as file:\n",
    "        lines = file.readlines()\n",
    "    \n",
    "    if all_forces:\n",
    "        indices = [i for i, line in enumerate(lines) if \"Total forces :\" in line]\n",
    "    else:\n",
    "        if init:\n",
    "            indices = [next(i for i, line in enumerate(lines) if \"Total forces :\" in line)]\n",
    "        else:\n",
    "            indices = [max(i for i, line in enumerate(lines) if \"Total forces :\" in line)]\n",
    "\n",
    "    force_magnitudes = []\n",
    "    for start_index in indices:\n",
    "        \n",
    "        force_lines = lines[start_index + 1 : start_index + 25]\n",
    "        force_array = np.array([list(map(float, line.strip(\"[] \\n\").split())) for line in force_lines])\n",
    "        # print(force_array)\n",
    "        total_force_magnitude = np.sqrt(np.sum(force_array**2))\n",
    "        force_magnitudes.append(total_force_magnitude)\n",
    "    \n",
    "    return force_magnitudes"
   ]
  },
  {
   "cell_type": "code",
   "execution_count": 2,
   "id": "ab1f6d8d-f03a-4d36-bf9e-bc3968ce7fff",
   "metadata": {},
   "outputs": [],
   "source": [
    "from ase.io.trajectory import Trajectory\n",
    "from ase.io import read\n",
    "import matplotlib.pyplot as plt\n",
    "import matplotlib as mpl"
   ]
  },
  {
   "cell_type": "code",
   "execution_count": null,
   "id": "b354f86b-9d1f-46d1-b7af-f71efec75ed1",
   "metadata": {},
   "outputs": [],
   "source": [
    "# traj_qmmm = Trajectory(f'./rawData/glucose-large3/new_pert/pert_{per_number}/QM-qmmm/opt.traj')\n",
    "\n",
    "traj_qmqm_1 = Trajectory(f'./rawData/glucose-large3/new_pert/pert_{per_number}/QM-sdft/opt_bk.traj')\n",
    "traj_qmqm_2 = Trajectory(f'./rawData/glucose-large3/new_pert/pert_{per_number}/QM-sdft/opt.traj')[1:]\n",
    "traj_qmqm = [traj_qmqm_1,traj_qmqm_2]\n"
   ]
  },
  {
   "cell_type": "code",
   "execution_count": null,
   "id": "b13addd9-56ce-4c0a-90da-42f1d3a0c486",
   "metadata": {},
   "outputs": [],
   "source": []
  }
 ],
 "metadata": {
  "kernelspec": {
   "display_name": "prg_env",
   "language": "python",
   "name": "prg_env"
  },
  "language_info": {
   "codemirror_mode": {
    "name": "ipython",
    "version": 3
   },
   "file_extension": ".py",
   "mimetype": "text/x-python",
   "name": "python",
   "nbconvert_exporter": "python",
   "pygments_lexer": "ipython3",
   "version": "3.8.12"
  }
 },
 "nbformat": 4,
 "nbformat_minor": 5
}
