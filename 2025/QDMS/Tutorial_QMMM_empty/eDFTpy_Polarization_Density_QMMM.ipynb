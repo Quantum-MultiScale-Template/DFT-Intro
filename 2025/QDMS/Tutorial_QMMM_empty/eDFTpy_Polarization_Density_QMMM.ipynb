{
 "cells": [
  {
   "cell_type": "markdown",
   "id": "fe8c397b",
   "metadata": {},
   "source": [
    "##  Polarization Density: Water embedded in Water using sDFT/MBX"
   ]
  },
  {
   "cell_type": "code",
   "execution_count": 2,
   "id": "08d17224",
   "metadata": {},
   "outputs": [],
   "source": [
    "import os\n",
    "import numpy as np\n",
    "import glob\n",
    "from ase.io import read, write\n",
    "from ase.io.xsf import read_xsf, write_xsf\n",
    "import matplotlib.pyplot as plt\n",
    "from ipywidgets import interact, IntSlider"
   ]
  },
  {
   "cell_type": "code",
   "execution_count": 3,
   "id": "2061e926",
   "metadata": {},
   "outputs": [],
   "source": [
    "class IniFileWriter:\n",
    "    def __init__(self, data: dict, filename=None):\n",
    "        self.data = data\n",
    "        self.filename = filename\n",
    "\n",
    "    def write_edftpy(self):\n",
    "        if self.filename is None:\n",
    "            self.filename=\"mbx.ini\"\n",
    "        with open(self.filename, 'w') as f:\n",
    "            for section, values in self.data.items():\n",
    "                f.write(f\"[{section}]\\n\")\n",
    "                for key, value in values.items():\n",
    "                    f.write(f\"{key:<16} = {value}\\n\")\n",
    "                f.write(\"\\n\")\n",
    "                \n",
    "    def write_qe(self):\n",
    "        if self.filename is None:\n",
    "            self.filename=\"qe_in.in\"\n",
    "        with open(self.filename, 'w') as f:\n",
    "            for section_name, section_data in self.data.items():\n",
    "                f.write(f\"&{section_name}\\n\")\n",
    "                for key, value in section_data.items():\n",
    "                    f.write(f\"   {key:<16} = {value}\\n\")\n",
    "                f.write(\"/\\n\\n\")"
   ]
  },
  {
   "cell_type": "code",
   "execution_count": 4,
   "id": "dcaac4d1",
   "metadata": {},
   "outputs": [],
   "source": [
    "folder = './Polarization_density/QMMM'\n",
    "folder_qm = './Polarization_density/QMQM'"
   ]
  },
  {
   "cell_type": "markdown",
   "id": "5aab2552",
   "metadata": {},
   "source": [
    "### 1. Entire System"
   ]
  },
  {
   "cell_type": "markdown",
   "id": "0fefbd9e",
   "metadata": {},
   "source": [
    "### 1.1 Set-up eDFTPy Input File"
   ]
  },
  {
   "cell_type": "code",
   "execution_count": 5,
   "id": "a8f3a441",
   "metadata": {},
   "outputs": [],
   "source": [
    "system_1 = '/all/'"
   ]
  },
  {
   "cell_type": "code",
   "execution_count": 6,
   "id": "76f582e8",
   "metadata": {},
   "outputs": [],
   "source": [
    "config_data = {\n",
    "    \"JOB\": {\n",
    "        \"task\": \"Optdensity\"\n",
    "    },\n",
    "    \"PATH\": {\n",
    "        \"pp\": \"../../\",\n",
    "        \"cell\": \"./\"\n",
    "    },\n",
    "    \"PP\": {\n",
    "        \"O\": \"o_pbe_v1.2.uspp.F.UPF\",\n",
    "        \"H\": \"h_pbe_v1.4.uspp.F.UPF\"\n",
    "    },\n",
    "    \"OPT\": {\n",
    "        \"maxiter\": 50,\n",
    "        \"econv\": \"1e-10\",\n",
    "        \"olevel\": 2,\n",
    "        \"sdft\" : \"qmmm\"\n",
    "    },\n",
    "    \"GSYSTEM\": {\n",
    "        \"cell-file\": \"Bulk_0_0.xyz\",\n",
    "        \"grid-ecut\": 2700,\n",
    "        \"exc-xc\": \"pbe\"\n",
    "    },\n",
    "    \"SUB_KS\": {\n",
    "        \"calculator\": \"pwscf\",\n",
    "        \"embed\": \"KE XC\",\n",
    "        \"kpoints-grid\": \"1 1 1\",\n",
    "        \"basefile\": \"qe_in.in\",\n",
    "        \"cell-index\": \"0:3\",\n",
    "        \"nprocs\": 1,\n",
    "        \"density-output\": \".xsf\"\n",
    "    },\n",
    "    \"SUB_MM\": {\n",
    "        \"calculator\": \"mbx\",\n",
    "        \"embed\": \"KE\",\n",
    "        \"kpoints-grid\": \"1 1 1\",\n",
    "        \"basefile\": \"mbx.json\",\n",
    "        \"cell-index\":  \"3:\", \n",
    "        \"nprocs\" : 1,\n",
    "        \"density-output\": \".xsf\"\n",
    "    }\n",
    "}"
   ]
  },
  {
   "cell_type": "code",
   "execution_count": 7,
   "id": "27c96004",
   "metadata": {},
   "outputs": [],
   "source": [
    "writer = IniFileWriter(config_data, filename = folder+system_1+'mbx.ini')\n",
    "writer.write_edftpy()"
   ]
  },
  {
   "cell_type": "markdown",
   "id": "2f37e4f6",
   "metadata": {},
   "source": [
    "### 1.2 Set-up QE Input File"
   ]
  },
  {
   "cell_type": "code",
   "execution_count": 8,
   "id": "15340507",
   "metadata": {},
   "outputs": [],
   "source": [
    "qe_data = {\n",
    "    \"SYSTEM\": {\n",
    "        \"ecutwfc\": 70,\n",
    "        \"ecutrho\": 400,\n",
    "        \"nosym\": \"T\"\n",
    "    },\n",
    "}"
   ]
  },
  {
   "cell_type": "code",
   "execution_count": 9,
   "id": "23228d8f",
   "metadata": {},
   "outputs": [],
   "source": [
    "writer = IniFileWriter(qe_data, filename = folder+system_1+'qe_in.in')\n",
    "writer.write_qe()"
   ]
  },
  {
   "cell_type": "markdown",
   "id": "371a03a6",
   "metadata": {},
   "source": [
    "### 1.3 Run Density Optimization"
   ]
  },
  {
   "cell_type": "code",
   "execution_count": 11,
   "id": "9fd5a024",
   "metadata": {},
   "outputs": [],
   "source": [
    "job_dir = os.path.dirname(folder + system_1)\n",
    "filename = \"jobfile.sh\"\n",
    "filename_out = \"runlog.out\"\n",
    "if os.path.exists(folder + system_1 + filename_out):\n",
    "    None\n",
    "else:\n",
    "    os.system(f\"cd {job_dir} && sbatch {filename} > {filename_out} 2>&1 &\")"
   ]
  },
  {
   "cell_type": "markdown",
   "id": "7769671e",
   "metadata": {},
   "source": [
    "### 2. Environment "
   ]
  },
  {
   "cell_type": "markdown",
   "id": "1fd2a753-ab35-4659-b717-982ad6776eb7",
   "metadata": {},
   "source": [
    "The electronic density coming from the classical permanent charges and polarizable dipole sites is captured directly in the first calculation."
   ]
  },
  {
   "cell_type": "markdown",
   "id": "d705e61e",
   "metadata": {},
   "source": [
    "### 3. Run Single Water"
   ]
  },
  {
   "cell_type": "markdown",
   "id": "2c8403a9-c9aa-4385-adb2-b6c41ce0b0fa",
   "metadata": {},
   "source": [
    "Here the QM water is the same calculation done in QMQM Jupyter Notebook. "
   ]
  },
  {
   "cell_type": "markdown",
   "id": "2380204d",
   "metadata": {},
   "source": [
    "## 4 Get Polarization Density"
   ]
  },
  {
   "cell_type": "code",
   "execution_count": 26,
   "id": "db09f41b",
   "metadata": {},
   "outputs": [],
   "source": [
    "den_a_emb = './' + glob.glob(folder + system_1 + '*qm_1.xsf')[0][len(folder):]\n",
    "den_b_emb = './' +glob.glob(folder + system_1 + '*mm_2.xsf')[0][len(folder):]\n",
    "\n",
    "system_3 = '/swater/'\n",
    "den_a_iso = '../../' + folder_qm[2:] +glob.glob(folder_qm + system_3 + '*qm_1.xsf')[0][len(folder):]\n",
    "den_b_iso =  './' +glob.glob(folder + system_1 + 'dp_mm0.xsf')[0][len(folder):]"
   ]
  },
  {
   "cell_type": "code",
   "execution_count": 10,
   "id": "ea8172cd",
   "metadata": {},
   "outputs": [],
   "source": [
    "density_a_out = \"pol_den_a.xsf\"\n",
    "density_b_out = \"pol_den_b.xsf\"\n",
    "filename_a_out = \"pol_log_a.out\"\n",
    "filename_b_out = \"pol_log_b.out\""
   ]
  },
  {
   "cell_type": "code",
   "execution_count": 28,
   "id": "fbee2624",
   "metadata": {},
   "outputs": [
    {
     "data": {
      "text/plain": [
       "0"
      ]
     },
     "execution_count": 28,
     "metadata": {},
     "output_type": "execute_result"
    }
   ],
   "source": [
    "os.system(f\"cd {folder} && python -m edftpy --convert --subtract {den_a_emb} {den_a_iso} -o {density_a_out} > {filename_a_out} 2>&1 &\")"
   ]
  },
  {
   "cell_type": "code",
   "execution_count": 29,
   "id": "27a19d53",
   "metadata": {},
   "outputs": [
    {
     "data": {
      "text/plain": [
       "0"
      ]
     },
     "execution_count": 29,
     "metadata": {},
     "output_type": "execute_result"
    }
   ],
   "source": [
    "os.system(f\"cd {folder}&& python -m edftpy --convert --subtract {den_b_emb} {den_b_iso} -o {density_b_out} > {filename_b_out} 2>&1 &\")"
   ]
  },
  {
   "cell_type": "markdown",
   "id": "573cc158",
   "metadata": {},
   "source": [
    "# Visualization\n"
   ]
  },
  {
   "cell_type": "markdown",
   "id": "c8339a13",
   "metadata": {},
   "source": [
    "#### 1. Plot a 3D Density"
   ]
  },
  {
   "cell_type": "code",
   "execution_count": 11,
   "id": "35189b23",
   "metadata": {},
   "outputs": [],
   "source": [
    "from ase.visualize import view"
   ]
  },
  {
   "cell_type": "code",
   "execution_count": 12,
   "id": "25d65143",
   "metadata": {
    "scrolled": true
   },
   "outputs": [
    {
     "data": {
      "text/html": [
       "<html>\n",
       "    <head>\n",
       "        <title>ASE atomic visualization</title>\n",
       "        <link rel=\"stylesheet\" type=\"text/css\"             href=\"https://www.x3dom.org/release/x3dom.css\"></link>\n",
       "        <script type=\"text/javascript\"             src=\"https://www.x3dom.org/release/x3dom.js\"></script>\n",
       "    </head>\n",
       "    <body>\n",
       "        <X3D width=\"400px\"; height=\"300px\";>\n",
       "\n",
       "<!--Inserting Generated X3D Scene-->\n",
       "<scene>\n",
       "  <viewpoint position=\"0 0 24.8556\">\n",
       "    <group/>\n",
       "  </viewpoint>\n",
       "  <transform translation=\"-6.2139 -6.2139 -6.2139\">\n",
       "    <group>\n",
       "      <group>\n",
       "        <transform translation=\"0 0 0\">\n",
       "          <shape>\n",
       "            <appearance>\n",
       "              <material diffuseColor=\"0 0 0\"/>\n",
       "            </appearance>\n",
       "            <lineset vertexCount=\"5\">\n",
       "              <coordinate point=\"0 0 0 12.4278 0.0 0.0 12.4278 12.4278 0.0 0.0 12.4278 0.0 0 0 0\"/>\n",
       "            </lineset>\n",
       "          </shape>\n",
       "        </transform>\n",
       "        <transform translation=\"0.0 0.0 12.4278\">\n",
       "          <shape>\n",
       "            <appearance>\n",
       "              <material diffuseColor=\"0 0 0\"/>\n",
       "            </appearance>\n",
       "            <lineset vertexCount=\"5\">\n",
       "              <coordinate point=\"0 0 0 12.4278 0.0 0.0 12.4278 12.4278 0.0 0.0 12.4278 0.0 0 0 0\"/>\n",
       "            </lineset>\n",
       "          </shape>\n",
       "        </transform>\n",
       "        <transform translation=\"0 0 0\">\n",
       "          <shape>\n",
       "            <appearance>\n",
       "              <material diffuseColor=\"0 0 0\"/>\n",
       "            </appearance>\n",
       "            <lineset vertexCount=\"5\">\n",
       "              <coordinate point=\"0 0 0 12.4278 0.0 0.0 12.4278 0.0 12.4278 0.0 0.0 12.4278 0 0 0\"/>\n",
       "            </lineset>\n",
       "          </shape>\n",
       "        </transform>\n",
       "        <transform translation=\"0.0 12.4278 0.0\">\n",
       "          <shape>\n",
       "            <appearance>\n",
       "              <material diffuseColor=\"0 0 0\"/>\n",
       "            </appearance>\n",
       "            <lineset vertexCount=\"5\">\n",
       "              <coordinate point=\"0 0 0 12.4278 0.0 0.0 12.4278 0.0 12.4278 0.0 0.0 12.4278 0 0 0\"/>\n",
       "            </lineset>\n",
       "          </shape>\n",
       "        </transform>\n",
       "      </group>\n",
       "      <group>\n",
       "        <transform translation=\"7.321999999999998 5.658 8.629999999999999\">\n",
       "          <shape>\n",
       "            <appearance>\n",
       "              <material diffuseColor=\"1.0 0.051 0.051\"/>\n",
       "            </appearance>\n",
       "            <sphere radius=\"0.66\"/>\n",
       "          </shape>\n",
       "        </transform>\n",
       "        <transform translation=\"7.102999999999999 6.4159999999999995 8.111999999999998\">\n",
       "          <shape>\n",
       "            <appearance>\n",
       "              <material diffuseColor=\"1.0 1.0 1.0\"/>\n",
       "            </appearance>\n",
       "            <sphere radius=\"0.31\"/>\n",
       "          </shape>\n",
       "        </transform>\n",
       "        <transform translation=\"8.21 5.762999999999999 8.924000000000001\">\n",
       "          <shape>\n",
       "            <appearance>\n",
       "              <material diffuseColor=\"1.0 1.0 1.0\"/>\n",
       "            </appearance>\n",
       "            <sphere radius=\"0.31\"/>\n",
       "          </shape>\n",
       "        </transform>\n",
       "      </group>\n",
       "    </group>\n",
       "  </transform>\n",
       "</scene>\n",
       "<!--End of Inserted Scene-->\n",
       "\n",
       "        </X3D>\n",
       "    </body>\n",
       "</html>\n",
       "\n"
      ],
      "text/plain": [
       "<IPython.core.display.HTML object>"
      ]
     },
     "execution_count": 12,
     "metadata": {},
     "output_type": "execute_result"
    }
   ],
   "source": [
    "atoms = read(folder+'/'+density_a_out, format=\"xsf\")\n",
    "view(atoms, viewer='x3d')"
   ]
  },
  {
   "cell_type": "code",
   "execution_count": 13,
   "id": "0174bd63-3716-42db-aebe-358fbe0b1a48",
   "metadata": {
    "scrolled": true
   },
   "outputs": [],
   "source": [
    "density_a = []\n",
    "with open(folder+'/'+density_a_out,\"r\") as f:\n",
    "    density_a.append(read_xsf(f,read_data=True)[0])"
   ]
  },
  {
   "cell_type": "code",
   "execution_count": 14,
   "id": "cde45602-3574-48c1-9259-a50a7a26c4df",
   "metadata": {},
   "outputs": [],
   "source": [
    "density_b = []\n",
    "with open(folder+'/'+density_b_out,\"r\") as f:\n",
    "    density_b.append(read_xsf(f,read_data=True)[0])"
   ]
  },
  {
   "cell_type": "markdown",
   "id": "f03e8f79",
   "metadata": {},
   "source": [
    "#### Plot a 2D slice (middle along z-axis)"
   ]
  },
  {
   "cell_type": "code",
   "execution_count": 15,
   "id": "95dba404",
   "metadata": {},
   "outputs": [],
   "source": [
    "data = density_a[0]\n",
    "# data = density_b[0]\n",
    "nz = data.shape[2] \n",
    "\n",
    "origin = atoms.get_cell().origin if hasattr(atoms.get_cell(), \"origin\") else np.zeros(3)\n",
    "ngrid = data.shape \n",
    "frac_coords = atoms.get_scaled_positions()\n",
    "grid_indices = (frac_coords * ngrid).astype(int)"
   ]
  },
  {
   "cell_type": "code",
   "execution_count": 16,
   "id": "ecbcc133",
   "metadata": {},
   "outputs": [
    {
     "data": {
      "image/png": "[encoded data removed]",
      "text/plain": [
       "<Figure size 600x500 with 2 Axes>"
      ]
     },
     "metadata": {},
     "output_type": "display_data"
    },
    {
     "data": {
      "application/vnd.jupyter.widget-view+json": {
       "model_id": "2d8bc8185871490596937b838261f05d",
       "version_major": 2,
       "version_minor": 0
      },
      "text/plain": [
       "interactive(children=(IntSlider(value=70, description='index', max=108, min=35, step=5), Dropdown(description=…"
      ]
     },
     "metadata": {},
     "output_type": "display_data"
    }
   ],
   "source": [
    "@interact(\n",
    "    index=IntSlider(min=35, max=nz-1, step=5, value=70),\n",
    "    axis=['z', 'y', 'x']\n",
    ")\n",
    "\n",
    "def plot_slice(index=nz//2, axis=['z','y','x']):\n",
    "    plt.figure(figsize=(6, 5))\n",
    "    \n",
    "    if axis == 'z':\n",
    "        slice_data = data[:, :, index]\n",
    "        atom_x, atom_y = grid_indices[:, 0], grid_indices[:, 1]\n",
    "    elif axis == 'y':\n",
    "        slice_data = data[:, index, :]\n",
    "        atom_x, atom_y = grid_indices[:, 0], grid_indices[:, 2]\n",
    "    else:  # axis == 'x'\n",
    "        slice_data = data[index, :, :]\n",
    "        atom_x, atom_y = grid_indices[:, 1], grid_indices[:, 2]\n",
    "        \n",
    "    threshold = 1e-4\n",
    "    filtered_data = slice_data.copy()\n",
    "    filtered_data[np.abs(filtered_data) < threshold] = 0 \n",
    "   \n",
    "    im = plt.imshow(filtered_data, origin='lower', cmap='viridis', vmin=-0.001, vmax=0.001)\n",
    "    plt.colorbar(im, label='Density')\n",
    "    plt.scatter(atom_y[0],atom_x[0], color='red', s=260, edgecolor='black')\n",
    "    plt.scatter(atom_y[1],atom_x[1], color='white', s=160, edgecolor='black')\n",
    "    plt.scatter(atom_y[2],atom_x[2], color='white', s=160, edgecolor='black')\n",
    "    plt.title(f\"Polarization Density (Slice {axis} {index})\")\n",
    "    plt.show()"
   ]
  },
  {
   "cell_type": "code",
   "execution_count": null,
   "id": "94ebe784-ca1e-40d4-96dd-7190bab1448a",
   "metadata": {},
   "outputs": [],
   "source": []
  }
 ],
 "metadata": {
  "kernelspec": {
   "display_name": "prg_env",
   "language": "python",
   "name": "prg_env"
  },
  "language_info": {
   "codemirror_mode": {
    "name": "ipython",
    "version": 3
   },
   "file_extension": ".py",
   "mimetype": "text/x-python",
   "name": "python",
   "nbconvert_exporter": "python",
   "pygments_lexer": "ipython3",
   "version": "3.8.12"
  }
 },
 "nbformat": 4,
 "nbformat_minor": 5
}
