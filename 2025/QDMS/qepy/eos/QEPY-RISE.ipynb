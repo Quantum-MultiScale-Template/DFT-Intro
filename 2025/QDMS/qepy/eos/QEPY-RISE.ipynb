{
 "cells": [
  {
   "cell_type": "markdown",
   "id": "59b7aaab-2d2e-492f-9245-50c032694b79",
   "metadata": {
    "slideshow": {
     "slide_type": "slide"
    }
   },
   "source": [
    "<center>\n",
    "    <h1>The (almost) all-Python QEpy software</h1>\n",
    "<center>\n",
    "<br>\n",
    "<table>\n",
    "  <tr>\n",
    "      <td><p><h1>Pavanello Research Group</h1></p><p><h2>Rutgers University-Newark</h2></p></td>\n",
    "  </tr>\n",
    "  <tr>\n",
    "    <td></td>\n",
    "  </tr>\n",
    "</table>\n",
    "\n",
    "#### Quantum MultiScale School June 18th 2024"
   ]
  },
  {
   "cell_type": "markdown",
   "id": "60b80b90-e8b7-465f-a90e-0076644734d8",
   "metadata": {
    "slideshow": {
     "slide_type": "slide"
    }
   },
   "source": [
    "# Acknowledgements\n",
    "\n",
    "<table>\n",
    "  <tr>\n",
    "      <td><p></p><p>Alina Umerbekova</p><p>Nicolas Viot</p><p>Xin Chen </p><p>Xuecheng Shao</p><p>Michele Pavanello</p><p>Valeria Rios </p><p>Jessica Martinez</p></td>\n",
    "  </tr>\n",
    "</table>\n",
    "\n",
    "Funding: NSF, DOE, MolSSI, ACS-PRF, Rutgers"
   ]
  },
  {
   "cell_type": "markdown",
   "id": "6462b56e-aae2-40a3-adff-4648b580842f",
   "metadata": {
    "slideshow": {
     "slide_type": "slide"
    }
   },
   "source": [
    "<center>\n",
    "QEpy driver: Python driver class for Quantum ESPRESSO - KS-DFT in Python\n",
    "\n",
    "<br>\n",
    "<br>\n",
    "\n",
    "<center>\n",
    "    <div class=\"alert alert-success\"> GOALS:</div>\n",
    "    <div class=\"alert alert-success\">1) Get Energy, Volume and bulk modulus by solving the Equation of states (using ASE 'Murnaghan' algorithm) for Aluminum FCC</div>\n",
    "</center>"
   ]
  },
  {
   "cell_type": "markdown",
   "id": "1e68977f",
   "metadata": {
    "slideshow": {
     "slide_type": "fragment"
    }
   },
   "source": [
    "#### Getting started!\n",
    "\n",
    "- Go to QEPy/eos in your tunneled Jupyter-Notebook\n",
    "\n",
    "<br>\n",
    "<center>\n",
    "<h6>./QEPy/eos/QEPY-RISE.ipynb</h6>\n",
    "</center>\n",
    "\n",
    "- Run this alongside with me! "
   ]
  },
  {
   "cell_type": "code",
   "execution_count": 1,
   "id": "760a973e-9337-467a-bb5a-07878243bbfb",
   "metadata": {
    "slideshow": {
     "slide_type": "slide"
    }
   },
   "outputs": [],
   "source": [
    "import numpy as np\n",
    "from ase.build import bulk\n",
    "from ase.io import read,write\n",
    "from ase.io.trajectory import Trajectory\n",
    "import py3Dmol\n",
    "from qepy.calculator import QEpyCalculator"
   ]
  },
  {
   "cell_type": "markdown",
   "id": "0ead8a07",
   "metadata": {
    "slideshow": {
     "slide_type": "fragment"
    }
   },
   "source": [
    "## Build your system"
   ]
  },
  {
   "cell_type": "code",
   "execution_count": 2,
   "id": "5049b999-6ce3-4d93-830e-de23fc55b15d",
   "metadata": {
    "slideshow": {
     "slide_type": "fragment"
    }
   },
   "outputs": [
    {
     "data": {
      "application/3dmoljs_load.v0": "<div id=\"3dmolviewer_17525352856933103\"  style=\"position: relative; width: 640px; height: 480px;\">\n        <p id=\"3dmolwarning_17525352856933103\" style=\"background-color:#ffcccc;color:black\">3Dmol.js failed to load for some reason.  Please check your browser console for error messages.<br></p>\n        </div>\n<script>\n\nvar loadScriptAsync = function(uri){\n  return new Promise((resolve, reject) => {\n    //this is to ignore the existence of requirejs amd\n    var savedexports, savedmodule;\n    if (typeof exports !== 'undefined') savedexports = exports;\n    else exports = {}\n    if (typeof module !== 'undefined') savedmodule = module;\n    else module = {}\n\n    var tag = document.createElement('script');\n    tag.src = uri;\n    tag.async = true;\n    tag.onload = () => {\n        exports = savedexports;\n        module = savedmodule;\n        resolve();\n    };\n  var firstScriptTag = document.getElementsByTagName('script')[0];\n  firstScriptTag.parentNode.insertBefore(tag, firstScriptTag);\n});\n};\n\nif(typeof $3Dmolpromise === 'undefined') {\n$3Dmolpromise = null;\n  $3Dmolpromise = loadScriptAsync('https://cdn.jsdelivr.net/npm/3dmol@2.5.1/build/3Dmol-min.js');\n}\n\nvar viewer_17525352856933103 = null;\nvar warn = document.getElementById(\"3dmolwarning_17525352856933103\");\nif(warn) {\n    warn.parentNode.removeChild(warn);\n}\n$3Dmolpromise.then(function() {\nviewer_17525352856933103 = $3Dmol.createViewer(document.getElementById(\"3dmolviewer_17525352856933103\"),{backgroundColor:\"white\"});\nviewer_17525352856933103.addModel(\"1\\nLattice=\\\"0.0 2.025 2.025 2.025 0.0 2.025 2.025 2.025 0.0\\\" Properties=species:S:1:pos:R:3 pbc=\\\"T T T\\\"\\nAl       0.00000000       0.00000000       0.00000000\\n\",undefined,undefined);\nviewer_17525352856933103.setStyle(\"sphere\");\nviewer_17525352856933103.zoomTo();\n\tviewer_17525352856933103.addUnitCell();\n\tviewer_17525352856933103.zoomTo();\nviewer_17525352856933103.render();\n});\n</script>",
      "text/html": [
       "<div id=\"3dmolviewer_17525352856933103\"  style=\"position: relative; width: 640px; height: 480px;\">\n",
       "        <p id=\"3dmolwarning_17525352856933103\" style=\"background-color:#ffcccc;color:black\">3Dmol.js failed to load for some reason.  Please check your browser console for error messages.<br></p>\n",
       "        </div>\n",
       "<script>\n",
       "\n",
       "var loadScriptAsync = function(uri){\n",
       "  return new Promise((resolve, reject) => {\n",
       "    //this is to ignore the existence of requirejs amd\n",
       "    var savedexports, savedmodule;\n",
       "    if (typeof exports !== 'undefined') savedexports = exports;\n",
       "    else exports = {}\n",
       "    if (typeof module !== 'undefined') savedmodule = module;\n",
       "    else module = {}\n",
       "\n",
       "    var tag = document.createElement('script');\n",
       "    tag.src = uri;\n",
       "    tag.async = true;\n",
       "    tag.onload = () => {\n",
       "        exports = savedexports;\n",
       "        module = savedmodule;\n",
       "        resolve();\n",
       "    };\n",
       "  var firstScriptTag = document.getElementsByTagName('script')[0];\n",
       "  firstScriptTag.parentNode.insertBefore(tag, firstScriptTag);\n",
       "});\n",
       "};\n",
       "\n",
       "if(typeof $3Dmolpromise === 'undefined') {\n",
       "$3Dmolpromise = null;\n",
       "  $3Dmolpromise = loadScriptAsync('https://cdn.jsdelivr.net/npm/3dmol@2.5.1/build/3Dmol-min.js');\n",
       "}\n",
       "\n",
       "var viewer_17525352856933103 = null;\n",
       "var warn = document.getElementById(\"3dmolwarning_17525352856933103\");\n",
       "if(warn) {\n",
       "    warn.parentNode.removeChild(warn);\n",
       "}\n",
       "$3Dmolpromise.then(function() {\n",
       "viewer_17525352856933103 = $3Dmol.createViewer(document.getElementById(\"3dmolviewer_17525352856933103\"),{backgroundColor:\"white\"});\n",
       "viewer_17525352856933103.addModel(\"1\\nLattice=\\\"0.0 2.025 2.025 2.025 0.0 2.025 2.025 2.025 0.0\\\" Properties=species:S:1:pos:R:3 pbc=\\\"T T T\\\"\\nAl       0.00000000       0.00000000       0.00000000\\n\",undefined,undefined);\n",
       "viewer_17525352856933103.setStyle(\"sphere\");\n",
       "viewer_17525352856933103.zoomTo();\n",
       "\tviewer_17525352856933103.addUnitCell();\n",
       "\tviewer_17525352856933103.zoomTo();\n",
       "viewer_17525352856933103.render();\n",
       "});\n",
       "</script>"
      ]
     },
     "metadata": {},
     "output_type": "display_data"
    }
   ],
   "source": [
    "al = bulk('Al', 'fcc', a=4.05)\n",
    "write('Al.xyz',al)\n",
    "v = py3Dmol.view(data=open('./Al.xyz','r').read(), style='sphere')\n",
    "v.addUnitCell()\n",
    "v.zoomTo()\n",
    "v.show()"
   ]
  },
  {
   "cell_type": "markdown",
   "id": "1898a33a",
   "metadata": {
    "slideshow": {
     "slide_type": "slide"
    }
   },
   "source": [
    "## Build an 'Input' file"
   ]
  },
  {
   "cell_type": "code",
   "execution_count": 3,
   "id": "f48994f5",
   "metadata": {
    "slideshow": {
     "slide_type": "fragment"
    }
   },
   "outputs": [],
   "source": [
    "qe_options = {\n",
    "    '&control': {\n",
    "        'calculation': \"'scf'\",\n",
    "        'pseudo_dir': \"'./'\",\n",
    "        'outdir': \"tmp\",\n",
    "    },\n",
    "    '&system': {\n",
    "        'ibrav' : 0,\n",
    "        'degauss': 0.005,\n",
    "        'ecutwfc': 30,\n",
    "        'nat': 1,\n",
    "        'ntyp': 1,\n",
    "        'occupations': \"'smearing'\",\n",
    "    },\n",
    "    'atomic_positions crystal': ['Al    0.0  0.0  0.0'],\n",
    "    'atomic_species': ['Al  26.98 Al.pbe-nl-kjpaw_psl.1.0.0.UPF'],\n",
    "    'k_points automatic': ['10 10 10 1 1 1'],\n",
    "    'cell_parameters angstrom':[\n",
    "        '0.     2.025  2.025',\n",
    "        '2.025  0.     2.025',\n",
    "        '2.025  2.025  0.   '],\n",
    "}"
   ]
  },
  {
   "cell_type": "markdown",
   "id": "3f26f67f",
   "metadata": {
    "slideshow": {
     "slide_type": "fragment"
    }
   },
   "source": [
    "## Download the Pseupotentials"
   ]
  },
  {
   "cell_type": "code",
   "execution_count": 4,
   "id": "72c15762",
   "metadata": {
    "slideshow": {
     "slide_type": "fragment"
    }
   },
   "outputs": [],
   "source": [
    "additional_files = ['http://pseudopotentials.quantum-espresso.org/upf_files/Al.pbe-nl-kjpaw_psl.1.0.0.UPF']\n",
    "from dftpy.formats import download_files\n",
    "download_files(additional_files)"
   ]
  },
  {
   "cell_type": "markdown",
   "id": "2ce8ac47",
   "metadata": {
    "slideshow": {
     "slide_type": "slide"
    }
   },
   "source": [
    "## Vary the size of the unit Cell\n",
    "\n",
    "### Asign the calculator to Al ase atoms Class"
   ]
  },
  {
   "cell_type": "code",
   "execution_count": 5,
   "id": "ec694c4c",
   "metadata": {
    "slideshow": {
     "slide_type": "fragment"
    }
   },
   "outputs": [],
   "source": [
    "# every step will write a new input file, and re-run QE\n",
    "al.calc = QEpyCalculator(qe_options=qe_options, logfile=True, extrapolation=False)"
   ]
  },
  {
   "cell_type": "code",
   "execution_count": 6,
   "id": "0cc827c6",
   "metadata": {
    "slideshow": {
     "slide_type": "fragment"
    }
   },
   "outputs": [
    {
     "name": "stdout",
     "output_type": "stream",
     "text": [
      "CPU times: user 21 s, sys: 2.84 s, total: 23.9 s\n",
      "Wall time: 28.1 s\n"
     ]
    }
   ],
   "source": [
    "%%time\n",
    "traj = Trajectory('tmp.traj', 'w')\n",
    "cell = al.get_cell()\n",
    "volumes = []\n",
    "energies = []\n",
    "for x in np.linspace(0.9, 1.1, 6):\n",
    "    al.set_cell(cell * x, scale_atoms=True)\n",
    "    vol = al.get_volume()\n",
    "    ene = al.get_potential_energy()\n",
    "    volumes.append(vol)\n",
    "    energies.append(ene)\n",
    "    traj.write(al)"
   ]
  },
  {
   "cell_type": "code",
   "execution_count": 7,
   "id": "49fbb2a8",
   "metadata": {
    "slideshow": {
     "slide_type": "subslide"
    }
   },
   "outputs": [
    {
     "data": {
      "text/plain": [
       "'sj: E: -537.463 eV, V: 16.470 Å$^3$, B: 76.990 GPa'"
      ]
     },
     "execution_count": 7,
     "metadata": {},
     "output_type": "execute_result"
    },
    {
     "data": {
      "image/png": "[encoded data removed]",
      "text/plain": [
       "<Figure size 640x480 with 1 Axes>"
      ]
     },
     "metadata": {},
     "output_type": "display_data"
    }
   ],
   "source": [
    "from ase.units import kJ\n",
    "from ase.eos import EquationOfState\n",
    "eos = EquationOfState(volumes, energies)\n",
    "v0, e0, B = eos.fit() #\n",
    "eos.plot('tmp.eos.png').title.get_text()"
   ]
  },
  {
   "cell_type": "markdown",
   "id": "3309798e",
   "metadata": {
    "slideshow": {
     "slide_type": "slide"
    }
   },
   "source": [
    "# Challenge"
   ]
  },
  {
   "cell_type": "markdown",
   "id": "f9a8ffdc",
   "metadata": {
    "slideshow": {
     "slide_type": "fragment"
    }
   },
   "source": [
    "1. Plot energy vs volume for for Silicon (Diamond, cubic cell, a,b,c = 0.543 nm) or your own system with QEPy."
   ]
  },
  {
   "cell_type": "markdown",
   "id": "101daba3",
   "metadata": {
    "slideshow": {
     "slide_type": "slide"
    }
   },
   "source": [
    "## Vary the size of the unit cell trick!"
   ]
  },
  {
   "cell_type": "code",
   "execution_count": 8,
   "id": "06a0fca6",
   "metadata": {
    "slideshow": {
     "slide_type": "fragment"
    }
   },
   "outputs": [],
   "source": [
    "al = bulk('Al', 'fcc', a=4.05)\n",
    "qe_options['&control']['calculation'] = \"vc-relax\"\n",
    "al.calc=QEpyCalculator(qe_options=qe_options, logfile=True)"
   ]
  },
  {
   "cell_type": "code",
   "execution_count": 9,
   "id": "034aea8e",
   "metadata": {
    "slideshow": {
     "slide_type": "fragment"
    }
   },
   "outputs": [
    {
     "name": "stdout",
     "output_type": "stream",
     "text": [
      "CPU times: user 13.9 s, sys: 1.76 s, total: 15.7 s\n",
      "Wall time: 15.1 s\n"
     ]
    }
   ],
   "source": [
    "%%time\n",
    "traj = Trajectory('tmp.traj', 'w')\n",
    "cell = al.get_cell()\n",
    "volumes = []\n",
    "energies = []\n",
    "for x in np.linspace(0.9, 1.1, 6):\n",
    "    al.set_cell(cell * x, scale_atoms=True)\n",
    "    vol = al.get_volume()\n",
    "    ene = al.get_potential_energy()\n",
    "    volumes.append(vol)\n",
    "    energies.append(ene)\n",
    "    traj.write(al)"
   ]
  },
  {
   "cell_type": "code",
   "execution_count": 10,
   "id": "7ac8dad3",
   "metadata": {
    "slideshow": {
     "slide_type": "subslide"
    }
   },
   "outputs": [
    {
     "data": {
      "text/plain": [
       "'sj: E: -537.459 eV, V: 16.452 Å$^3$, B: 77.195 GPa'"
      ]
     },
     "execution_count": 10,
     "metadata": {},
     "output_type": "execute_result"
    },
    {
     "data": {
      "image/png": "[encoded data removed]",
      "text/plain": [
       "<Figure size 640x480 with 1 Axes>"
      ]
     },
     "metadata": {},
     "output_type": "display_data"
    }
   ],
   "source": [
    "eos = EquationOfState(volumes, energies)\n",
    "v0, e0, B = eos.fit()\n",
    "eos.plot('tmp.eos.png').title.get_text()"
   ]
  },
  {
   "cell_type": "code",
   "execution_count": null,
   "id": "69d649c6-1701-4bcd-a6ab-d274043e0d82",
   "metadata": {},
   "outputs": [],
   "source": []
  }
 ],
 "metadata": {
  "celltoolbar": "Slideshow",
  "kernelspec": {
   "display_name": "qepy",
   "language": "python",
   "name": "qepy"
  },
  "language_info": {
   "codemirror_mode": {
    "name": "ipython",
    "version": 3
   },
   "file_extension": ".py",
   "mimetype": "text/x-python",
   "name": "python",
   "nbconvert_exporter": "python",
   "pygments_lexer": "ipython3",
   "version": "3.8.12"
  }
 },
 "nbformat": 4,
 "nbformat_minor": 5
}
