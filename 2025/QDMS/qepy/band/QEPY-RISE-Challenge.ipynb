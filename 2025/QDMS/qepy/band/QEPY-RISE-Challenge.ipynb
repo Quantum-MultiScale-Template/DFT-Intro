{
 "cells": [
  {
   "cell_type": "code",
   "execution_count": null,
   "id": "760a973e-9337-467a-bb5a-07878243bbfb",
   "metadata": {
    "slideshow": {
     "slide_type": "slide"
    }
   },
   "outputs": [],
   "source": [
    "import numpy as np\n",
    "import matplotlib.pyplot as plt\n",
    "from qepy.calculator import QEpyCalculator\n",
    "from qepy.io import QEInput"
   ]
  },
  {
   "cell_type": "code",
   "execution_count": null,
   "id": "f928d9af",
   "metadata": {
    "slideshow": {
     "slide_type": "fragment"
    }
   },
   "outputs": [],
   "source": [
    "from ase.io.trajectory import Trajectory\n",
    "from ase.lattice.hexagonal import Graphene\n",
    "from ase import Atoms\n",
    "from ase.io import read,write\n",
    "import py3Dmol"
   ]
  },
  {
   "cell_type": "markdown",
   "id": "fe50bb9e",
   "metadata": {
    "slideshow": {
     "slide_type": "slide"
    }
   },
   "source": [
    "# Challenge solution"
   ]
  },
  {
   "cell_type": "code",
   "execution_count": null,
   "id": "e63a1ace",
   "metadata": {
    "slideshow": {
     "slide_type": "fragment"
    }
   },
   "outputs": [],
   "source": [
    "from ase.build import bulk\n",
    "atoms = bulk('Si','diamond',a=5.43)\n",
    "write('si.xyz',atoms)\n",
    "v = py3Dmol.view(data=open('./si.xyz','r').read(), style='sphere')\n",
    "v.addUnitCell()\n",
    "v.zoomTo()\n",
    "v.show()"
   ]
  },
  {
   "cell_type": "code",
   "execution_count": null,
   "id": "7da6e63d",
   "metadata": {
    "slideshow": {
     "slide_type": "slide"
    }
   },
   "outputs": [],
   "source": [
    "qe_options = {\n",
    "    '&control': {\n",
    "        'calculation': \"'scf'\",\n",
    "        'prefix': \"'tmp'\",\n",
    "        'pseudo_dir': \"'./'\"},\n",
    "    '&system': {\n",
    "        'ibrav' : 0,\n",
    "        'ecutwfc': 20,\n",
    "        'ecutrho': 200},\n",
    "    '&electrons': {\n",
    "        'conv_thr' : 1.0e-8},\n",
    "     'atomic_species': ['Si 28.0855 Si.pbe-n-rrkjus_psl.1.0.0.UPF'],\n",
    "     'k_points automatic': [' 9 9 9 0 0 0'],\n",
    "}"
   ]
  },
  {
   "cell_type": "code",
   "execution_count": null,
   "id": "5abf18ec",
   "metadata": {
    "scrolled": true,
    "slideshow": {
     "slide_type": "fragment"
    }
   },
   "outputs": [],
   "source": [
    "additional_files = ['https://pseudopotentials.quantum-espresso.org/upf_files/Si.pbe-n-rrkjus_psl.1.0.0.UPF']\n",
    "from dftpy.formats import download_files\n",
    "download_files(additional_files)"
   ]
  },
  {
   "cell_type": "code",
   "execution_count": null,
   "id": "716b79fd",
   "metadata": {
    "slideshow": {
     "slide_type": "fragment"
    }
   },
   "outputs": [],
   "source": [
    "calc = QEpyCalculator(qe_options=qe_options, logfile='tmp.out')\n",
    "atoms.calc=calc"
   ]
  },
  {
   "cell_type": "code",
   "execution_count": null,
   "id": "dda82400",
   "metadata": {
    "slideshow": {
     "slide_type": "fragment"
    }
   },
   "outputs": [],
   "source": [
    "energy = atoms.get_potential_energy()\n",
    "efermi = calc.get_fermi_level()\n",
    "print(efermi)"
   ]
  },
  {
   "cell_type": "code",
   "execution_count": null,
   "id": "db97db53",
   "metadata": {
    "slideshow": {
     "slide_type": "slide"
    }
   },
   "outputs": [],
   "source": [
    "qe_options['k_points automatic']= ['12 12 12 0 0 0']\n",
    "energies, dos =  atoms.calc.get_dos(qe_options, width=0.6)"
   ]
  },
  {
   "cell_type": "code",
   "execution_count": null,
   "id": "3d068aff",
   "metadata": {
    "slideshow": {
     "slide_type": "fragment"
    }
   },
   "outputs": [],
   "source": [
    "emin = -12.0\n",
    "emax = 9.0\n",
    "plt.plot(energies, dos)\n",
    "plt.xlim(emin, emax)\n",
    "plt.axvline(x=0, ls='--')\n",
    "plt.xlabel('Energy (Ry)')\n",
    "plt.ylabel('DOS')"
   ]
  },
  {
   "cell_type": "code",
   "execution_count": null,
   "id": "66e6ccea",
   "metadata": {
    "slideshow": {
     "slide_type": "slide"
    }
   },
   "outputs": [],
   "source": [
    "lat = atoms.cell.get_bravais_lattice()\n",
    "lat.plot_bz(show=True)\n",
    "print(lat.description())"
   ]
  },
  {
   "cell_type": "code",
   "execution_count": null,
   "id": "0f4b8da3",
   "metadata": {
    "slideshow": {
     "slide_type": "subslide"
    }
   },
   "outputs": [],
   "source": [
    "path = atoms.cell.bandpath('GXWKG',npoints=60)"
   ]
  },
  {
   "cell_type": "code",
   "execution_count": null,
   "id": "0905e317",
   "metadata": {
    "slideshow": {
     "slide_type": "fragment"
    }
   },
   "outputs": [],
   "source": [
    "qe_options['&system']['nbnd']=12\n",
    "band = atoms.calc.get_band_structure(qe_options, kpts=path, reference=efermi) "
   ]
  },
  {
   "cell_type": "code",
   "execution_count": null,
   "id": "8c915262",
   "metadata": {
    "slideshow": {
     "slide_type": "fragment"
    }
   },
   "outputs": [],
   "source": [
    "bp=band.plot()\n",
    "bp.set_ylim(-12,16)"
   ]
  },
  {
   "cell_type": "code",
   "execution_count": null,
   "id": "fcd4354f",
   "metadata": {
    "slideshow": {
     "slide_type": "slide"
    }
   },
   "outputs": [],
   "source": [
    "import matplotlib.pyplot as plt\n",
    "fig = plt.figure()\n",
    "ax = fig.add_axes([.12, .07, .67, .85])\n",
    "\n",
    "emin = -12.0\n",
    "emax = 12\n",
    "\n",
    "bands = band.subtract_reference()\n",
    "bands.plot(ax=ax, emin=emin, emax=emax)\n",
    "\n",
    "dosax = fig.add_axes([.8, .07, .17, .85])\n",
    "dosax.plot(dos, energies)\n",
    "\n",
    "dosax.set_ylim(emin, emax)\n",
    "dosax.set_xlim(0, None)\n",
    "dosax.set_yticks([])\n",
    "dosax.set_xticks([])\n",
    "dosax.set_xlabel(\"DOS\", fontsize=18);"
   ]
  }
 ],
 "metadata": {
  "celltoolbar": "Slideshow",
  "kernelspec": {
   "display_name": "Python 3 (ipykernel)",
   "language": "python",
   "name": "python3"
  },
  "language_info": {
   "codemirror_mode": {
    "name": "ipython",
    "version": 3
   },
   "file_extension": ".py",
   "mimetype": "text/x-python",
   "name": "python",
   "nbconvert_exporter": "python",
   "pygments_lexer": "ipython3",
   "version": "3.8.12"
  }
 },
 "nbformat": 4,
 "nbformat_minor": 5
}
