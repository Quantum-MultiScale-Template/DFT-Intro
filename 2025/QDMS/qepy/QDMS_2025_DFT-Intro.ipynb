{
 "cells": [
  {
   "cell_type": "code",
   "execution_count": null,
   "id": "a25812b2-a4a9-46a7-b8a0-612311efa560",
   "metadata": {
    "slideshow": {
     "slide_type": "skip"
    }
   },
   "outputs": [],
   "source": []
  },
  {
   "cell_type": "code",
   "execution_count": 1,
   "id": "bb7cb1c6",
   "metadata": {
    "hide_input": false,
    "slideshow": {
     "slide_type": "skip"
    }
   },
   "outputs": [],
   "source": [
    "#hidden cell to be executed BEFORE the presentation\n",
    "import warnings\n",
    "warnings.filterwarnings('ignore')\n",
    "import numpy as np\n",
    "import dftpy\n",
    "from dftpy.ions import Ions\n",
    "from dftpy.field import DirectField\n",
    "from dftpy.grid import DirectGrid\n",
    "from dftpy.functional import LocalPseudo, Functional, TotalFunctional\n",
    "from dftpy.formats import io\n",
    "from dftpy.math_utils import ecut2nr\n",
    "from dftpy.time_data import TimeData\n",
    "from dftpy.optimization import Optimization\n",
    "from dftpy.mpi import sprint\n",
    "from IPython.lib.display import YouTubeVideo\n",
    "from IPython.display import IFrame\n",
    "from ase.visualize import view\n",
    "PP_list = {'Al': 'Al_lda.oe01.recpot'}\n",
    "#import fortecubeview"
   ]
  },
  {
   "cell_type": "markdown",
   "id": "7d9a999c",
   "metadata": {
    "slideshow": {
     "slide_type": "slide"
    }
   },
   "source": [
    "<div id=\"bg-slide\">\n",
    "    <center>\n",
    "    <h1>Introduction to DFT and QEpy</h1>\n",
    "<center>\n",
    "<br>\n",
    "<table>\n",
    "  <tr>\n",
    "      <td><p><h1>Rutgers Team</h1></p><p><h2>(Bhaskar, Jessica, Valeria)</h2></p></td> \n",
    "      <td><img src=\"../figures/logos/run.png\" width=300 height=300 /></td>\n",
    "  </tr>\n",
    "  <tr>\n",
    "    <td></td>\n",
    "  </tr>\n",
    "</table>\n",
    "<br>\n",
    "<center>https://github.com/Quantum-MultiScale-Template/DFT-Intro/2025/QDMS/qepy/QDMS_2025_DFT-Intro.ipynb</center>\n",
    "\n",
    "<br>\n",
    "\n",
    "<center><h3> QDMS 2025 -- UCSD -- July 17, 2025</h3></center>\n",
    "</div>\n"
   ]
  },
  {
   "cell_type": "markdown",
   "id": "3de9da82",
   "metadata": {
    "slideshow": {
     "slide_type": "slide"
    }
   },
   "source": [
    "# Goals of this lecture + hands-on session\n",
    "- Reasons for considering DFT\n",
    "- Basics of the theory behind DFT and Kohn-Sham DFT\n",
    "- KS equations\n",
    "- Basis sets: plane waves, Gaussian-type orbitals\n",
    "- Pseudopotentials (local part)\n",
    "- Sample of KS-DFT simulations"
   ]
  },
  {
   "cell_type": "markdown",
   "id": "52e3a2f0",
   "metadata": {
    "slideshow": {
     "slide_type": "slide"
    }
   },
   "source": [
    "# The Real World\n",
    "<table>\n",
    "    <tr>\n",
    "      <td><h3>Photocatalyst</h3></td>\n",
    "        <td><h3>Catalytic nanoparticles</h3></td>\n",
    "  </tr>\n",
    "  <tr>\n",
    "      <td><img src=\"../figures/science/photocatalyst.png\" height=500 /></td>\n",
    "      <td><img src=\"../figures/science/catalyst.png\" height=500 /></td>\n",
    "  </tr>\n",
    "    <tr>\n",
    "        <td>Chem. Comm., 43, 6551 (2009)</td>\n",
    "        <td>PCCP, 21, 15080 (2019)</td>\n",
    "    </tr>\n",
    "</table>   "
   ]
  },
  {
   "cell_type": "markdown",
   "id": "408a1497",
   "metadata": {
    "slideshow": {
     "slide_type": "slide"
    }
   },
   "source": [
    "# Available electronic structure methods\n",
    "<br>\n",
    "<center>\n",
    "    <img src=\"../figures/science/electronic_structure.png\" width=1600 />\n",
    "</center>"
   ]
  },
  {
   "cell_type": "markdown",
   "id": "bf6b7114",
   "metadata": {
    "slideshow": {
     "slide_type": "slide"
    }
   },
   "source": [
    "# The Hohenberg and Kohn theorems\n",
    "<br>\n",
    "<br>\n",
    "$$\n",
    "\\Psi_0 \\leftrightarrow n(r) \\leftrightarrow v_{eN}(r)\n",
    "$$\n",
    "\n",
    "Therefore $n(r)$, $v_{eN}(r)$ or $\\Psi_0$ hold the same information. "
   ]
  },
  {
   "cell_type": "markdown",
   "id": "35ef460c",
   "metadata": {
    "slideshow": {
     "slide_type": "fragment"
    }
   },
   "source": [
    "In particular:\n",
    "\n",
    "$$\n",
    "E \\equiv E[\\Psi_0] \\equiv E[v_{eN}] \\equiv E[n]\n",
    "$$\n",
    "\n",
    "DFT exploits the latter as follows:\n",
    "\n",
    "$$\n",
    "E[n] = T_s[n] + E_{H}[n]+E_{xc}[n]+E_{eN}[n]+E_{NN}\n",
    "$$"
   ]
  },
  {
   "cell_type": "markdown",
   "id": "838215ee",
   "metadata": {
    "slideshow": {
     "slide_type": "fragment"
    }
   },
   "source": [
    "The *famous* KS equations are:\n",
    "\n",
    "$$\n",
    "\\big[ -\\frac{1}{2}\\nabla^2 + v_s(r) \\big] \\phi_k(r) = \\varepsilon_k \\phi_k(r) ~~\\text{with}~~\n",
    "v_s(r) = \\frac{\\delta (E_H+E_{xc})}{\\delta n(r)}+v_{eN}(r)\n",
    "$$"
   ]
  },
  {
   "cell_type": "markdown",
   "id": "1c793576",
   "metadata": {
    "slideshow": {
     "slide_type": "skip"
    }
   },
   "source": [
    "<br>\n",
    "<br>\n",
    "<br>\n",
    "<center>\n",
    "<span style=\"font-size:45pt;\"><i>               n(r)</i></span>\n",
    "</center>\n",
    "<br>\n",
    "<br>\n",
    "<br>\n",
    "<center>...the density determines everything...</center>"
   ]
  },
  {
   "cell_type": "markdown",
   "id": "87ebafa5-85b8-4265-b809-d73b0868e2b8",
   "metadata": {
    "slideshow": {
     "slide_type": "slide"
    }
   },
   "source": [
    "# The Self-Consistent Field Method"
   ]
  },
  {
   "cell_type": "markdown",
   "id": "ea7f8a43-e327-4e11-aef9-68a24d674e83",
   "metadata": {
    "slideshow": {
     "slide_type": "fragment"
    }
   },
   "source": [
    "The KS equations $-\\frac{1}{2}\\nabla^2 \\phi_i(r) + v_s(r)\\phi_i(r) = \\varepsilon_i\\phi_i(r)$ feature $v_s(r)$ which depends on the density:\n",
    "<br>\n",
    "<br>\n",
    "$$\n",
    "v_s[n](r) = \\frac{\\delta E_{H}[n]}{\\delta n(r)} + \\frac{\\delta E_{xc}[n]}{\\delta n(r)} + v_{eN}(r)\n",
    "$$"
   ]
  },
  {
   "cell_type": "markdown",
   "id": "99c8fedf-f37d-44dc-9008-965e8bd19860",
   "metadata": {
    "slideshow": {
     "slide_type": "fragment"
    }
   },
   "source": [
    "But the density depends on the KS orbitals, $\\{\\phi_i(r)\\}$:\n",
    "<br>\n",
    "<br>\n",
    "$$\n",
    "n(r) = \\sum_i n_i |\\phi_i(r)|^2\\,\\, n_i \\text{ are the occupation numbers.}\n",
    "$$"
   ]
  },
  {
   "cell_type": "markdown",
   "id": "8c3b544c-1dcb-4899-ad3e-c362a9fb5277",
   "metadata": {
    "slideshow": {
     "slide_type": "fragment"
    }
   },
   "source": [
    "<center>\n",
    "<div class=\"alert alert-danger\">Can the problem be solved?</div>\n",
    "</center>"
   ]
  },
  {
   "cell_type": "markdown",
   "id": "3965bf66-9f44-42e2-9b43-f238f322461b",
   "metadata": {
    "slideshow": {
     "slide_type": "slide"
    }
   },
   "source": [
    "<center>\n",
    "<img src=\"../figures/science/SCF_scheme.png\" width=1200 \\>\n",
    "</center>"
   ]
  },
  {
   "cell_type": "markdown",
   "id": "4af8a221-667f-4123-a7b4-e7f99c179078",
   "metadata": {
    "slideshow": {
     "slide_type": "fragment"
    }
   },
   "source": [
    "<center>\n",
    "<div class=\"alert alert-success\">Most times it converges :)</div>\n",
    "</center>"
   ]
  },
  {
   "cell_type": "markdown",
   "id": "ab647718",
   "metadata": {
    "slideshow": {
     "slide_type": "slide"
    }
   },
   "source": [
    "# DFT functionals"
   ]
  },
  {
   "cell_type": "markdown",
   "id": "395ae579",
   "metadata": {
    "slideshow": {
     "slide_type": "fragment"
    }
   },
   "source": [
    "<b>Pure functionals</b>, dependent on $n(r)$, $|\\nabla n(r)|$, $\\nabla^2 n(r)$ and or $\\tau_{s}(r) = \\frac{1}{2}\\sum_i n_i |\\nabla\\phi_i(r)|^2$:\n",
    "- LDA\n",
    "- GGA (PBE)\n",
    "- meta-GGA (SCAN)"
   ]
  },
  {
   "cell_type": "markdown",
   "id": "0f0d0c6d",
   "metadata": {
    "slideshow": {
     "slide_type": "fragment"
    }
   },
   "source": [
    "<b>Hybrid functionals</b>, dependent on pure functionals and on HF exchange, $E_x^{HF}[\\{\\phi\\}]$.\n",
    "- PBE0\n",
    "- B3LYP\n",
    "- HSE"
   ]
  },
  {
   "cell_type": "markdown",
   "id": "71cd46c9",
   "metadata": {
    "slideshow": {
     "slide_type": "slide"
    }
   },
   "source": [
    "# Basis sets (discretization)\n",
    "\n",
    "To be able to run simulations, we need to discretize the space in which the KS wavefunctions / densities live. We will consider plane waves (PW) and Gaussian-type orbitals (GTOs). The general idea is the following:\n",
    "$$\n",
    "\\phi_k(r) = \\sum_\\mu^M C_\\mu^k \\chi_\\mu(r) \\text{, where } \\chi_\\mu \\text{ are basis functions}\n",
    "$$"
   ]
  },
  {
   "cell_type": "markdown",
   "id": "de127b5d",
   "metadata": {
    "slideshow": {
     "slide_type": "fragment"
    }
   },
   "source": [
    "<table border=\"1\" style=\"width:100%; text-align:center;\">\n",
    "    <tr>\n",
    "        <th></th>\n",
    "        <th style=\"text-align:center;border-right: 2px solid red;padding: 40px;\">GTOs</th>\n",
    "        <th style=\"text-align:center;\">PW</th>\n",
    "    </tr>\n",
    "    <tr>\n",
    "        <th style=\"text-align:center;padding: 40px;\">Definition</th>\n",
    "        <td style=\"text-align:center; border-right: 2px solid red;\">\n",
    "            \\( \\chi_\\mu(r) = x^{i_\\mu}y^{j_\\mu}z^{k_\\mu} e^{-\\frac{|r-R_\\mu|^2}{2\\sigma_\\mu^2}} \\)\n",
    "        </td>\n",
    "        <td style=\"text-align:center;\">\n",
    "            \\( \\chi_\\mu(r) = \\frac{1}{\\sqrt{\\Omega}} e^{i G_\\mu \\cdot r},\\,\\,G_\\mu = \\left(\\frac{2\\pi\\, i_\\mu}{a},\\frac{2\\pi\\, j_\\mu}{b},\\frac{2\\pi\\, k_\\mu}{c}\\right)\\)\n",
    "        </td>\n",
    "    </tr>\n",
    "    <tr>\n",
    "        <th style=\"text-align:center;padding: 40px;\">Location</th>\n",
    "        <td style=\"text-align:center;border-right: 2px solid red;\">\n",
    "            \\( R_\\mu \\in \\text{centers of atoms}\\)\n",
    "        </td>\n",
    "        <td style=\"text-align:center;\">\n",
    "            Spread out throughout the simulation cell\n",
    "        </td>\n",
    "    </tr>\n",
    "    <tr>\n",
    "        <th style=\"text-align:center;padding: 40px;\">Number of functions</th>\n",
    "        <td style=\"text-align:center;border-right: 2px solid red;\">\n",
    "            \\( \\simeq 10 \\) per atom\n",
    "        </td>\n",
    "        <td style=\"text-align:center;\">\n",
    "            \\( \\propto \\Omega = a \\cdot b \\cdot c \\), generally \\( 10^4 \\) to \\( 10^6 \\)\n",
    "        </td>\n",
    "    </tr>\n",
    "    <tr>\n",
    "        <th style=\"text-align:center;padding: 40px;\">Handling eN potential</th>\n",
    "        <td style=\"text-align:center;border-right: 2px solid red;\">\n",
    "            <center><img src=\"../figures/science/fullpot.png\" alt=\"GTOs image\" width=400 ></center>\n",
    "        </td>\n",
    "        <td style=\"text-align:center;\">\n",
    "            <center><img src=\"../figures/science/pseudopot.png\" alt=\"PW image\" width=400 ></center>\n",
    "        </td>\n",
    "    </tr>\n",
    "</table>\n"
   ]
  },
  {
   "cell_type": "markdown",
   "id": "fd5ef81e",
   "metadata": {
    "slideshow": {
     "slide_type": "slide"
    }
   },
   "source": [
    "# Pseudo potentials cannot incorporate core electrons"
   ]
  },
  {
   "cell_type": "markdown",
   "id": "e609a3e7",
   "metadata": {
    "slideshow": {
     "slide_type": "fragment"
    }
   },
   "source": [
    "<table border=\"1\" style=\"width:100%; text-align:center;\">\n",
    "    <tr>\n",
    "        <th><center><img src=\"../figures/science/Electron-Configuration.jpg\" alt=\"econf\" width=400 ></center></th>\n",
    "        <th><center><img src=\"../figures/science/pseudo_core.png\" alt=\"econf\" width=400 ></center></th>\n",
    "    </tr>\n",
    "</table>\n",
    "\n",
    "\n",
    "\n",
    "\n"
   ]
  },
  {
   "cell_type": "markdown",
   "id": "55067843",
   "metadata": {
    "slideshow": {
     "slide_type": "slide"
    }
   },
   "source": [
    "# Pseudopotential"
   ]
  },
  {
   "cell_type": "code",
   "execution_count": null,
   "id": "94f95191",
   "metadata": {
    "scrolled": true,
    "slideshow": {
     "slide_type": "fragment"
    }
   },
   "outputs": [],
   "source": [
    "!wget https://pseudopotentials.quantum-espresso.org/upf_files/C.pbe-n-rrkjus_psl.1.0.0.UPF\n",
    "!cat C.pbe-n-rrkjus_psl.1.0.0.UPF"
   ]
  },
  {
   "cell_type": "markdown",
   "id": "8ab3549d",
   "metadata": {
    "slideshow": {
     "slide_type": "slide"
    }
   },
   "source": [
    "# Bloch theorem and k-point sampling"
   ]
  },
  {
   "cell_type": "markdown",
   "id": "60dc28ab",
   "metadata": {
    "slideshow": {
     "slide_type": "fragment"
    }
   },
   "source": [
    "1) Solids have periodic potentials:\n",
    "$$\n",
    "v_{eN}(r+n\\hat a) = v_{eN}(r),\\,\\, \\text{where } \\hat a \\text{ is a lattice vector.}\n",
    "$$"
   ]
  },
  {
   "cell_type": "markdown",
   "id": "d892c1de",
   "metadata": {
    "slideshow": {
     "slide_type": "fragment"
    }
   },
   "source": [
    "<center><img src=\"../figures/science/periodic_pot.png\" width=1300 /></center>"
   ]
  },
  {
   "cell_type": "markdown",
   "id": "70ab3c43",
   "metadata": {
    "slideshow": {
     "slide_type": "fragment"
    }
   },
   "source": [
    "2) Bloch theorem states that the group of translations comes with 3 quantum numbers $\\vec k = (k_a, k_b, k_c)$ representing translations along the 3 lattice vectors. The wavefunctions will be labelled by $k$ (dropped $\\vec k$ for a lighter notation):\n",
    "$$\n",
    "\\phi_i \\to \\phi_{ik} = e^{ik\\cdot r} u_{ik}(r), \\,\\, k\\in \\text{First Brillouin Zone (FBZ)}\n",
    "$$\n"
   ]
  },
  {
   "cell_type": "markdown",
   "id": "0c80c6bf",
   "metadata": {
    "slideshow": {
     "slide_type": "slide"
    }
   },
   "source": [
    "# Setting up QEpy and QE's input file for KS-DFT"
   ]
  },
  {
   "cell_type": "code",
   "execution_count": 3,
   "id": "432ec200",
   "metadata": {
    "slideshow": {
     "slide_type": "fragment"
    }
   },
   "outputs": [],
   "source": [
    "from qepy.driver import Driver\n",
    "from qepy.io import QEInput"
   ]
  },
  {
   "cell_type": "code",
   "execution_count": 4,
   "id": "922915e0",
   "metadata": {
    "slideshow": {
     "slide_type": "fragment"
    }
   },
   "outputs": [
    {
     "data": {
      "text/html": [
       "\n",
       "        <iframe\n",
       "            width=\"1250\"\n",
       "            height=\"600\"\n",
       "            src=\"https://www.quantum-espresso.org/Doc/INPUT_PW.html\"\n",
       "            frameborder=\"0\"\n",
       "            allowfullscreen\n",
       "            \n",
       "        ></iframe>\n",
       "        "
      ],
      "text/plain": [
       "<IPython.lib.display.IFrame at 0x155505b19c10>"
      ]
     },
     "execution_count": 4,
     "metadata": {},
     "output_type": "execute_result"
    }
   ],
   "source": [
    "IFrame(src=\"https://www.quantum-espresso.org/Doc/INPUT_PW.html\",width=1250, height=600)"
   ]
  },
  {
   "cell_type": "markdown",
   "id": "f913beaf",
   "metadata": {
    "slideshow": {
     "slide_type": "slide"
    }
   },
   "source": [
    "### QEpy's input file is a dictionary containing QE's input keywords"
   ]
  },
  {
   "cell_type": "code",
   "execution_count": 5,
   "id": "4569226b",
   "metadata": {
    "slideshow": {
     "slide_type": "fragment"
    }
   },
   "outputs": [],
   "source": [
    "from dftpy.formats import download_files\n",
    "additional_files = {'Al.pbe-nl-kjpaw_psl.1.0.0.UPF' : 'https://pseudopotentials.quantum-espresso.org/upf_files/Al.pbe-nl-kjpaw_psl.1.0.0.UPF'}\n",
    "download_files(additional_files)"
   ]
  },
  {
   "cell_type": "code",
   "execution_count": 6,
   "id": "884cceea",
   "metadata": {
    "slideshow": {
     "slide_type": "fragment"
    }
   },
   "outputs": [],
   "source": [
    "qe_options = {\n",
    "    '&control': {\n",
    "        'calculation': \"'scf'\",\n",
    "        'pseudo_dir': \"'./'\",\n",
    "    },\n",
    "    '&system': {\n",
    "        'ibrav' : 0,\n",
    "        'degauss': 0.005,\n",
    "        'ecutwfc': 30,\n",
    "        'occupations': \"'smearing'\"\n",
    "    },\n",
    "    'atomic_species': ['Al  26.98 Al.pbe-nl-kjpaw_psl.1.0.0.UPF'],\n",
    "    'k_points gamma': [],\n",
    "}"
   ]
  },
  {
   "cell_type": "code",
   "execution_count": 23,
   "id": "4ced8f55",
   "metadata": {
    "slideshow": {
     "slide_type": "fragment"
    }
   },
   "outputs": [],
   "source": [
    "#!cat Al.pbe-nl-kjpaw_psl.1.0.0.UPF"
   ]
  },
  {
   "cell_type": "code",
   "execution_count": 7,
   "id": "58e1f57b",
   "metadata": {
    "slideshow": {
     "slide_type": "fragment"
    }
   },
   "outputs": [],
   "source": [
    "options = {\n",
    "    '&electrons': {\n",
    "        'mixing_beta': 0.5},\n",
    "    'cell_parameters angstrom':[\n",
    "        '0.     2.025  2.025',\n",
    "        '2.025  0.     2.025',\n",
    "        '2.025  2.025  0.   '],\n",
    "    'atomic_positions crystal': ['Al    0.0  0.0  0.0'],\n",
    "    'k_points automatic': ['6 6 6 1 1 1'],\n",
    "}"
   ]
  },
  {
   "cell_type": "markdown",
   "id": "b33008c3",
   "metadata": {
    "slideshow": {
     "slide_type": "slide"
    }
   },
   "source": [
    "# SCF Convergence"
   ]
  },
  {
   "cell_type": "markdown",
   "id": "62241caf",
   "metadata": {
    "slideshow": {
     "slide_type": "fragment"
    }
   },
   "source": [
    "## $\\bullet$ smearing?\n",
    "## $\\bullet$ mixing_beta?\n",
    "## $\\bullet$ k-points?"
   ]
  },
  {
   "cell_type": "markdown",
   "id": "148ab3e7",
   "metadata": {
    "slideshow": {
     "slide_type": "fragment"
    }
   },
   "source": [
    "Let's first run QEpy and solve the SCF for our simple Al system:"
   ]
  },
  {
   "cell_type": "code",
   "execution_count": 8,
   "id": "c328a7f3",
   "metadata": {
    "slideshow": {
     "slide_type": "fragment"
    }
   },
   "outputs": [],
   "source": [
    "qe_options = QEInput.update_options(options, qe_options=qe_options)"
   ]
  },
  {
   "cell_type": "code",
   "execution_count": 9,
   "id": "dd7a9c40",
   "metadata": {
    "slideshow": {
     "slide_type": "fragment"
    }
   },
   "outputs": [
    {
     "name": "stdout",
     "output_type": "stream",
     "text": [
      "2.04 s ± 0 ns per loop (mean ± std. dev. of 1 run, 1 loop each)\n"
     ]
    }
   ],
   "source": [
    "driver = Driver(qe_options=qe_options, logfile=True)\n",
    "%timeit -n1 -r1 driver.scf() "
   ]
  },
  {
   "cell_type": "markdown",
   "id": "0187e746",
   "metadata": {
    "slideshow": {
     "slide_type": "slide"
    }
   },
   "source": [
    "# Smearing"
   ]
  },
  {
   "cell_type": "markdown",
   "id": "4c7c10d4",
   "metadata": {
    "slideshow": {
     "slide_type": "fragment"
    }
   },
   "source": [
    "$$\n",
    "n(r) = \\sum_i n_i |\\phi_i(r)|^2,\\qquad \\{n_i\\} \\text{ are the occupation numbers.}\n",
    "$$"
   ]
  },
  {
   "cell_type": "markdown",
   "id": "a8890cef",
   "metadata": {
    "slideshow": {
     "slide_type": "fragment"
    }
   },
   "source": [
    "Consider the electronic DOS of Aluminum:\n",
    "\n",
    "<center><img src=\"../figures/science/DOS_example.png\" width=1000 /></center>"
   ]
  },
  {
   "cell_type": "markdown",
   "id": "ed54b524",
   "metadata": {
    "slideshow": {
     "slide_type": "fragment"
    }
   },
   "source": [
    "<center>\n",
    "<div class=\"alert alert-danger\">Not possible to use integer occupations. The SCF would never converge!</div>\n",
    "</center>"
   ]
  },
  {
   "cell_type": "markdown",
   "id": "16767177",
   "metadata": {
    "slideshow": {
     "slide_type": "slide"
    }
   },
   "source": [
    "# Types of smearing"
   ]
  },
  {
   "cell_type": "markdown",
   "id": "bfdb498b",
   "metadata": {
    "slideshow": {
     "slide_type": "fragment"
    }
   },
   "source": [
    "<b>Gaussian</b>: $$n_i = \\frac{1}{2}\\text{Erfc}\\left[\\frac{|\\varepsilon_i-\\mu|}{\\text{degauss}}\\right]$$"
   ]
  },
  {
   "cell_type": "markdown",
   "id": "b66db024",
   "metadata": {
    "slideshow": {
     "slide_type": "fragment"
    }
   },
   "source": [
    "<b>Fermi-Dirac</b>: $$n_i = \\left[ e^{\\frac{|\\varepsilon_i-\\mu|}{\\text{degauss}}}+1\\right]^{-1}$$"
   ]
  },
  {
   "cell_type": "markdown",
   "id": "68476422",
   "metadata": {
    "slideshow": {
     "slide_type": "fragment"
    }
   },
   "source": [
    "<b>Others</b>: To be used in specific situations (semicondictors, or others), see [m-p](https://journals.aps.org/prb/abstract/10.1103/PhysRevB.40.3616) and [m-v](https://journals.aps.org/prl/abstract/10.1103/PhysRevLett.82.3296)."
   ]
  },
  {
   "cell_type": "markdown",
   "id": "1e40d9b6",
   "metadata": {
    "slideshow": {
     "slide_type": "slide"
    }
   },
   "source": [
    "# Density mixing"
   ]
  },
  {
   "cell_type": "markdown",
   "id": "1915ad52",
   "metadata": {
    "slideshow": {
     "slide_type": "fragment"
    }
   },
   "source": [
    "Broyden, Pulay (DIIS), ..., are SCF convergence accelerators. They all share the same logic:"
   ]
  },
  {
   "cell_type": "markdown",
   "id": "8bb98e8a",
   "metadata": {
    "slideshow": {
     "slide_type": "fragment"
    }
   },
   "source": [
    "1) Consider a trial of densities $\\{ n_i(r) \\}$ which are outputs of the $i$-th SCF cycle."
   ]
  },
  {
   "cell_type": "markdown",
   "id": "aec0ab91",
   "metadata": {
    "slideshow": {
     "slide_type": "fragment"
    }
   },
   "source": [
    "2) The converged (SCF) density is given as linear combination of the trials, $n = \\sum_i c_i n_i$."
   ]
  },
  {
   "cell_type": "markdown",
   "id": "8fd04f29",
   "metadata": {
    "slideshow": {
     "slide_type": "fragment"
    }
   },
   "source": [
    "3) The \"best\" coefficients at each SCF step are found minimizing the error vector with respect to the coefficients. The error in QE is given by $R = \\sum_i c_i R_i$ which is given in terms of the density residue, $\\delta n_i = n_i - n_{i-1}$, as $R_i = \\int \\frac{\\delta n_i(r)\\delta n_i(r')}{|r-r'|}drdr'$."
   ]
  },
  {
   "cell_type": "markdown",
   "id": "fcaaf54e",
   "metadata": {
    "slideshow": {
     "slide_type": "fragment"
    }
   },
   "source": [
    "4) A new density is generated with the new coefficients and the trial vectors to be reinserted in the SCF loop."
   ]
  },
  {
   "cell_type": "markdown",
   "id": "cc5fb725",
   "metadata": {
    "slideshow": {
     "slide_type": "slide"
    }
   },
   "source": [
    "# Example with QEpy"
   ]
  },
  {
   "cell_type": "markdown",
   "id": "809408f3",
   "metadata": {
    "slideshow": {
     "slide_type": "fragment"
    }
   },
   "source": [
    "Let's run QEpy with default QE's Broyden mixing:"
   ]
  },
  {
   "cell_type": "code",
   "execution_count": 11,
   "id": "8e6c388d",
   "metadata": {
    "slideshow": {
     "slide_type": "fragment"
    }
   },
   "outputs": [
    {
     "name": "stdout",
     "output_type": "stream",
     "text": [
      "Iter:  0  - Conv:  0.0014366084520385561\n",
      "Iter:  1  - Conv:  6.798902354116732e-05\n",
      "Iter:  2  - Conv:  5.766546336460826e-07\n"
     ]
    },
    {
     "data": {
      "text/plain": [
       "-39.501958966487685"
      ]
     },
     "execution_count": 11,
     "metadata": {},
     "output_type": "execute_result"
    }
   ],
   "source": [
    "driver=Driver(qe_options=qe_options, iterative = True, logfile='tmp.out') \n",
    "for i in range(60):\n",
    "    driver.diagonalize()\n",
    "    driver.mix()\n",
    "    converged = driver.check_convergence()\n",
    "    print ('Iter: ',i,' - Conv: ', driver.get_scf_error())\n",
    "    if converged : break\n",
    "driver.calc_energy()"
   ]
  },
  {
   "cell_type": "markdown",
   "id": "241b0fd1",
   "metadata": {
    "slideshow": {
     "slide_type": "fragment"
    }
   },
   "source": [
    "<center>\n",
    "    <div class=\"alert alert-success\">Remember: 3 iterations.</div>\n",
    "</center>"
   ]
  },
  {
   "cell_type": "markdown",
   "id": "00024802",
   "metadata": {
    "slideshow": {
     "slide_type": "slide"
    }
   },
   "source": [
    "Let's run QEpy with a simple linear mixing, $n \\to \\alpha \\, n_\\text{prev} + (1- \\alpha) \\, n$"
   ]
  },
  {
   "cell_type": "code",
   "execution_count": 12,
   "id": "9ff18515",
   "metadata": {
    "slideshow": {
     "slide_type": "fragment"
    }
   },
   "outputs": [
    {
     "name": "stdout",
     "output_type": "stream",
     "text": [
      "Iter:  0  - Conv:  0.0028501966183629075 dN: 0.2996635794844198\n",
      "Iter:  1  - Conv:  0.00019844441773826955 dN: 0.08055563624276127\n",
      "Iter:  2  - Conv:  1.2528837689876972e-05 dN: 0.02145203906195234\n",
      "Iter:  3  - Conv:  9.438404776540801e-07 dN: 0.006068315220637983\n",
      "Iter:  4  - Conv:  7.162966840434261e-08 dN: 0.0017917262380760593\n",
      "Iter:  5  - Conv:  5.07536092952215e-09 dN: 0.0004872146569315403\n"
     ]
    },
    {
     "data": {
      "text/plain": [
       "-39.501959115709354"
      ]
     },
     "execution_count": 12,
     "metadata": {},
     "output_type": "execute_result"
    }
   ],
   "source": [
    "from dftpy.functional import Hartree \n",
    "driver=Driver(qe_options=qe_options, iterative = True, logfile='tmp.1.out') \n",
    "rho = driver.get_density().copy()\n",
    "alpha = 0.7\n",
    "for i in range(20):\n",
    "    driver.diagonalize()\n",
    "    #\n",
    "    rho_new = driver.get_density().copy()\n",
    "    drho = driver.data2field(rho_new-rho)\n",
    "    error = Hartree.compute(drho).energy\n",
    "    nc = np.abs(drho).sum()*driver.get_volume()/drho.size\n",
    "    print ('Iter: ',i,' - Conv: ', error, 'dN:', nc)\n",
    "    if error < 1e-8:\n",
    "        driver.end_scf()\n",
    "        break\n",
    "    #\n",
    "    rho = (1-alpha)*rho + alpha * rho_new\n",
    "    driver.set_density(rho)\n",
    "driver.calc_energy()"
   ]
  },
  {
   "cell_type": "markdown",
   "id": "e28e28f7",
   "metadata": {
    "slideshow": {
     "slide_type": "fragment"
    }
   },
   "source": [
    "<center>\n",
    "    <div class=\"alert alert-danger\">5 iterations...</div>\n",
    "</center>"
   ]
  },
  {
   "cell_type": "markdown",
   "id": "069da779",
   "metadata": {
    "slideshow": {
     "slide_type": "fragment"
    }
   },
   "source": [
    "<center>\n",
    "    <div class=\"alert alert-success\">Density mixing <b>does</b> improve convergence.</div>\n",
    "</center>"
   ]
  },
  {
   "cell_type": "markdown",
   "id": "2365544d",
   "metadata": {
    "slideshow": {
     "slide_type": "slide"
    }
   },
   "source": [
    "# K-point sampling example with QEpy"
   ]
  },
  {
   "cell_type": "markdown",
   "id": "7ef43ded",
   "metadata": {
    "slideshow": {
     "slide_type": "skip"
    }
   },
   "source": [
    "1) First, let's see how many orbitals (bands) we have."
   ]
  },
  {
   "cell_type": "code",
   "execution_count": 13,
   "id": "c65da599",
   "metadata": {
    "slideshow": {
     "slide_type": "skip"
    }
   },
   "outputs": [
    {
     "name": "stdout",
     "output_type": "stream",
     "text": [
      "Number of orbitals (bands) considered by QE: 6\n"
     ]
    }
   ],
   "source": [
    "print(f\"Number of orbitals (bands) considered by QE: {driver.get_number_of_bands()}\") "
   ]
  },
  {
   "cell_type": "markdown",
   "id": "464c4a18",
   "metadata": {
    "slideshow": {
     "slide_type": "skip"
    }
   },
   "source": [
    "2) Let's take a look at the irreducible k-points considered by QE."
   ]
  },
  {
   "cell_type": "code",
   "execution_count": 14,
   "id": "94b90472",
   "metadata": {
    "slideshow": {
     "slide_type": "skip"
    }
   },
   "outputs": [
    {
     "data": {
      "text/plain": [
       "array([[ 0.08333333,  0.08333333,  0.08333333],\n",
       "       [ 0.08333333,  0.08333333,  0.25      ],\n",
       "       [ 0.08333333,  0.08333333,  0.41666667],\n",
       "       [ 0.08333333,  0.08333333, -0.41666667],\n",
       "       [ 0.08333333,  0.08333333, -0.25      ],\n",
       "       [ 0.08333333,  0.08333333, -0.08333333],\n",
       "       [ 0.08333333,  0.25      ,  0.25      ],\n",
       "       [ 0.08333333,  0.25      ,  0.41666667],\n",
       "       [ 0.08333333,  0.25      , -0.41666667],\n",
       "       [ 0.08333333,  0.25      , -0.25      ],\n",
       "       [ 0.08333333,  0.25      , -0.08333333],\n",
       "       [ 0.08333333,  0.41666667,  0.41666667],\n",
       "       [ 0.08333333,  0.41666667, -0.41666667],\n",
       "       [ 0.08333333,  0.41666667, -0.25      ],\n",
       "       [ 0.08333333,  0.41666667, -0.08333333],\n",
       "       [ 0.08333333, -0.41666667, -0.41666667],\n",
       "       [ 0.08333333, -0.41666667, -0.25      ],\n",
       "       [ 0.08333333, -0.25      , -0.25      ],\n",
       "       [ 0.25      ,  0.25      ,  0.25      ],\n",
       "       [ 0.25      ,  0.25      ,  0.41666667],\n",
       "       [ 0.25      ,  0.25      , -0.41666667],\n",
       "       [ 0.25      ,  0.25      , -0.25      ],\n",
       "       [ 0.25      ,  0.41666667,  0.41666667],\n",
       "       [ 0.25      ,  0.41666667, -0.41666667],\n",
       "       [ 0.25      ,  0.41666667, -0.25      ],\n",
       "       [ 0.25      , -0.41666667, -0.41666667],\n",
       "       [ 0.41666667,  0.41666667,  0.41666667],\n",
       "       [ 0.41666667,  0.41666667, -0.41666667]])"
      ]
     },
     "execution_count": 14,
     "metadata": {},
     "output_type": "execute_result"
    }
   ],
   "source": [
    "driver.get_ibz_k_points()"
   ]
  },
  {
   "cell_type": "markdown",
   "id": "ff15ba80",
   "metadata": {
    "slideshow": {
     "slide_type": "skip"
    }
   },
   "source": []
  }
 ],
 "metadata": {
  "celltoolbar": "Slideshow",
  "hide_input": false,
  "kernelspec": {
   "display_name": "qepy_env",
   "language": "python",
   "name": "qepy_env"
  },
  "language_info": {
   "codemirror_mode": {
    "name": "ipython",
    "version": 3
   },
   "file_extension": ".py",
   "mimetype": "text/x-python",
   "name": "python",
   "nbconvert_exporter": "python",
   "pygments_lexer": "ipython3",
   "version": "3.8.12"
  },
  "rise": {
   "enable_chalkboard": true,
   "theme": "sky"
  }
 },
 "nbformat": 4,
 "nbformat_minor": 5
}
