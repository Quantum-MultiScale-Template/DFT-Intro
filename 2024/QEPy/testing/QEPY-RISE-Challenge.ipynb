{
 "cells": [
  {
   "cell_type": "code",
   "execution_count": null,
   "id": "760a973e-9337-467a-bb5a-07878243bbfb",
   "metadata": {
    "slideshow": {
     "slide_type": "slide"
    }
   },
   "outputs": [],
   "source": [
    "from qepy.driver import Driver\n",
    "from qepy.io import QEInput\n",
    "import numpy as np"
   ]
  },
  {
   "cell_type": "code",
   "execution_count": null,
   "id": "f34d9caa-c0e6-4544-95c1-bc1e2d3f5a5d",
   "metadata": {
    "slideshow": {
     "slide_type": "fragment"
    }
   },
   "outputs": [],
   "source": [
    "from ase.build import bulk\n",
    "from ase.io import read,write\n",
    "from ase import Atoms\n",
    "import py3Dmol\n",
    "import matplotlib.pyplot as plt"
   ]
  },
  {
   "cell_type": "markdown",
   "id": "ed4e6475",
   "metadata": {
    "slideshow": {
     "slide_type": "slide"
    }
   },
   "source": [
    "# Challenge solution"
   ]
  },
  {
   "cell_type": "code",
   "execution_count": null,
   "id": "6a4cfb2e",
   "metadata": {
    "slideshow": {
     "slide_type": "fragment"
    }
   },
   "outputs": [],
   "source": [
    "atoms = bulk('Al', 'bcc', a=4.05)\n",
    "write('Al.xyz',atoms)\n",
    "v = py3Dmol.view(data=open('./Al.xyz','r').read(), style='sphere')\n",
    "v.addUnitCell()\n",
    "v.zoomTo()\n",
    "v.show()"
   ]
  },
  {
   "cell_type": "code",
   "execution_count": null,
   "id": "7de4bb1d",
   "metadata": {
    "slideshow": {
     "slide_type": "skip"
    }
   },
   "outputs": [],
   "source": [
    "# atoms.get_cell()"
   ]
  },
  {
   "cell_type": "code",
   "execution_count": null,
   "id": "e9bdaaa7",
   "metadata": {
    "slideshow": {
     "slide_type": "slide"
    }
   },
   "outputs": [],
   "source": [
    "qe_options = {\n",
    "    '&control': {\n",
    "        'calculation': \"'scf'\",\n",
    "        'pseudo_dir': \"'./'\",\n",
    "        'outdir': \"tmp\",\n",
    "    },\n",
    "    '&system': {\n",
    "        'ibrav' : 0,\n",
    "        'degauss': 0.005,\n",
    "        'ecutwfc': 40,\n",
    "        'nat': 1,\n",
    "        'ntyp': 1,\n",
    "        'occupations': \"'smearing'\",\n",
    "    },\n",
    "    'atomic_positions crystal': ['Al    0.0  0.0  0.0'],\n",
    "    'atomic_species': ['Al  26.98 Al.pbe-nl-kjpaw_psl.1.0.0.UPF'],\n",
    "    'k_points automatic': ['10 10 10 1 1 1'],\n",
    "    'cell_parameters angstrom':[\n",
    "        '-2.025     2.025  2.025',\n",
    "        '2.025  -2.025     2.025',\n",
    "        '2.025  2.025  -2.025   '],\n",
    "}"
   ]
  },
  {
   "cell_type": "code",
   "execution_count": null,
   "id": "f0ebef3a",
   "metadata": {
    "slideshow": {
     "slide_type": "fragment"
    }
   },
   "outputs": [],
   "source": [
    "ecutwfcs = np.arange(15, 40, 5)\n",
    "energies_cut = []\n",
    "for ecutwfc in ecutwfcs:\n",
    "    qe_options['&system']['ecutwfc'] = ecutwfc\n",
    "    #\n",
    "    driver = Driver(qe_options=qe_options, logfile=True)\n",
    "    ene = driver.scf()\n",
    "    energies_cut.append(ene)\n",
    "    print(ecutwfc, ene)\n",
    "    driver.stop()"
   ]
  },
  {
   "cell_type": "code",
   "execution_count": null,
   "id": "bbe4f82b",
   "metadata": {
    "slideshow": {
     "slide_type": "subslide"
    }
   },
   "outputs": [],
   "source": [
    "kps = np.arange(2, 12, 2)\n",
    "energies_k = []\n",
    "for kp in kps:\n",
    "    qe_options['k_points automatic'] = [f'{kp} {kp} {kp} 1 1 1']\n",
    "    #\n",
    "    driver = Driver(qe_options=qe_options, logfile=True)\n",
    "    ene = driver.scf()\n",
    "    energies_k.append(ene)\n",
    "    print(kp, ene)\n",
    "    driver.stop()"
   ]
  },
  {
   "cell_type": "code",
   "execution_count": null,
   "id": "4dbc7884",
   "metadata": {
    "slideshow": {
     "slide_type": "subslide"
    }
   },
   "outputs": [],
   "source": [
    "%%time\n",
    "degs= [1E-1, 5E-2, 1E-2, 5E-3, 1E-3]\n",
    "energies_d = []\n",
    "for degauss in degs:\n",
    "    qe_options['&system']['degauss'] = degauss\n",
    "    #\n",
    "    driver = Driver(qe_options=qe_options, logfile=True)\n",
    "    ene = driver.electrons()\n",
    "    print('degauss',degauss, ene, driver.get_scf_steps())\n",
    "    energies_d.append(ene)\n",
    "    driver.stop()"
   ]
  },
  {
   "cell_type": "code",
   "execution_count": null,
   "id": "cbdba8a5",
   "metadata": {
    "slideshow": {
     "slide_type": "slide"
    }
   },
   "outputs": [],
   "source": [
    "energies1=np.asarray(energies_d)\n",
    "energies2=np.asarray(energies_k)\n",
    "energies3=np.asarray(energies_cut)"
   ]
  },
  {
   "cell_type": "code",
   "execution_count": null,
   "id": "0ea7fcf7",
   "metadata": {
    "slideshow": {
     "slide_type": "fragment"
    }
   },
   "outputs": [],
   "source": [
    "fig, ax = plt.subplots()\n",
    "\n",
    "ax.plot(degs, np.abs(energies1-energies1[-1]), 'r-.', label='degauss')\n",
    "\n",
    "ax.set_xscale('log')\n",
    "ax.invert_xaxis()\n",
    "plt.xlabel('Log Gaussian Spreading (Ry)')\n",
    "plt.ylabel('Total Energy (Ry)')\n",
    "ax.legend()"
   ]
  },
  {
   "cell_type": "code",
   "execution_count": null,
   "id": "819b882d",
   "metadata": {
    "slideshow": {
     "slide_type": "subslide"
    }
   },
   "outputs": [],
   "source": [
    "plt.plot(kps, energies2-energies2[-1])\n",
    "plt.xlabel('k-points ')\n",
    "plt.ylabel('Total Energy (Ry)')"
   ]
  },
  {
   "cell_type": "code",
   "execution_count": null,
   "id": "be934022",
   "metadata": {
    "slideshow": {
     "slide_type": "subslide"
    }
   },
   "outputs": [],
   "source": [
    "plt.plot(ecutwfcs, energies3-energies3[-1])\n",
    "plt.xlabel('Kin. Energy Cutoff (Ry)')\n",
    "plt.ylabel('Total Energy (Ry)')"
   ]
  }
 ],
 "metadata": {
  "celltoolbar": "Slideshow",
  "kernelspec": {
   "display_name": "qms2024",
   "language": "python",
   "name": "qms2024"
  },
  "language_info": {
   "codemirror_mode": {
    "name": "ipython",
    "version": 3
   },
   "file_extension": ".py",
   "mimetype": "text/x-python",
   "name": "python",
   "nbconvert_exporter": "python",
   "pygments_lexer": "ipython3",
   "version": "3.8.6"
  }
 },
 "nbformat": 4,
 "nbformat_minor": 5
}
