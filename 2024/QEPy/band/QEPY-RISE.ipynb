{
 "cells": [
  {
   "cell_type": "markdown",
   "id": "59b7aaab-2d2e-492f-9245-50c032694b79",
   "metadata": {
    "slideshow": {
     "slide_type": "slide"
    }
   },
   "source": [
    "<center>\n",
    "    <h1>The (almost) all-Python QEpy software</h1>\n",
    "<center>\n",
    "<br>\n",
    "<table>\n",
    "  <tr>\n",
    "      <td><p><h1>Pavanello Research Group</h1></p><p><h2>Rutgers University-Newark</h2></p></td>\n",
    "  </tr>\n",
    "  <tr>\n",
    "    <td></td>\n",
    "  </tr>\n",
    "</table>\n",
    "\n",
    "#### Quantum MultiScale School June 18th 2024"
   ]
  },
  {
   "cell_type": "markdown",
   "id": "60b80b90-e8b7-465f-a90e-0076644734d8",
   "metadata": {
    "slideshow": {
     "slide_type": "slide"
    }
   },
   "source": [
    "# Acknowledgements\n",
    "\n",
    "<table>\n",
    "  <tr>\n",
    "      <td><p></p><p>Alina Umerbekova</p><p>Nicolas Viot</p><p>Xin Chen </p><p>Xuecheng Shao</p><p>Michele Pavanello</p><p>Valeria Rios </p><p>Jessica Martinez</p></td>\n",
    "  </tr>\n",
    "</table>\n",
    "\n",
    "Funding: NSF, DOE, MolSSI, ACS-PRF, Rutgers"
   ]
  },
  {
   "cell_type": "markdown",
   "id": "6462b56e-aae2-40a3-adff-4648b580842f",
   "metadata": {
    "slideshow": {
     "slide_type": "slide"
    }
   },
   "source": [
    "<center>\n",
    "QEpy driver: Python driver class for Quantum ESPRESSO - KS-DFT in Python\n",
    "\n",
    "<br>\n",
    "<br>\n",
    "\n",
    "<center>\n",
    "    <div class=\"alert alert-success\"> GOALS:</div>\n",
    "    <div class=\"alert alert-success\">1) Get Density of state and band structure of Graphene</div>\n",
    "</center>"
   ]
  },
  {
   "cell_type": "markdown",
   "id": "b32b8c13",
   "metadata": {
    "slideshow": {
     "slide_type": "fragment"
    }
   },
   "source": [
    "#### Getting started!\n",
    "\n",
    "- Go to QEPy/eos in your tunneled Jupyter-Notebook\n",
    "\n",
    "<br>\n",
    "<center>\n",
    "<h6> ./QEPy/band/QEPY-RISE.ipynb</h6>\n",
    "</center>\n",
    "\n",
    "- Run this alongside with me! "
   ]
  },
  {
   "cell_type": "code",
   "execution_count": 2,
   "id": "760a973e-9337-467a-bb5a-07878243bbfb",
   "metadata": {
    "scrolled": true,
    "slideshow": {
     "slide_type": "slide"
    }
   },
   "outputs": [
    {
     "ename": "AttributeError",
     "evalue": "Please provide a library name",
     "output_type": "error",
     "traceback": [
      "\u001b[0;31m---------------------------------------------------------------------------\u001b[0m",
      "\u001b[0;31mAttributeError\u001b[0m                            Traceback (most recent call last)",
      "Cell \u001b[0;32mIn[2], line 3\u001b[0m\n\u001b[1;32m      1\u001b[0m \u001b[38;5;28;01mimport\u001b[39;00m \u001b[38;5;21;01mnumpy\u001b[39;00m \u001b[38;5;28;01mas\u001b[39;00m \u001b[38;5;21;01mnp\u001b[39;00m\n\u001b[1;32m      2\u001b[0m \u001b[38;5;28;01mimport\u001b[39;00m \u001b[38;5;21;01mmatplotlib\u001b[39;00m\u001b[38;5;21;01m.\u001b[39;00m\u001b[38;5;21;01mpyplot\u001b[39;00m \u001b[38;5;28;01mas\u001b[39;00m \u001b[38;5;21;01mplt\u001b[39;00m\n\u001b[0;32m----> 3\u001b[0m \u001b[38;5;28;01mfrom\u001b[39;00m \u001b[38;5;21;01mqepy\u001b[39;00m\u001b[38;5;21;01m.\u001b[39;00m\u001b[38;5;21;01mcalculator\u001b[39;00m \u001b[38;5;28;01mimport\u001b[39;00m QEpyCalculator\n\u001b[1;32m      4\u001b[0m \u001b[38;5;28;01mfrom\u001b[39;00m \u001b[38;5;21;01mqepy\u001b[39;00m\u001b[38;5;21;01m.\u001b[39;00m\u001b[38;5;21;01mio\u001b[39;00m \u001b[38;5;28;01mimport\u001b[39;00m QEInput\n",
      "File \u001b[0;32m/ocean/projects/che240027p/shared/software/Team_RU/qms2024/lib/python3.8/site-packages/qepy/__init__.py:14\u001b[0m\n\u001b[1;32m     12\u001b[0m \u001b[38;5;28;01mif\u001b[39;00m mpilib : load_library(mpilib)\n\u001b[1;32m     13\u001b[0m \u001b[38;5;66;03m# fix mkl only if mkl library was linked\u001b[39;00m\n\u001b[0;32m---> 14\u001b[0m \u001b[38;5;28;01mif\u001b[39;00m \u001b[38;5;124m'\u001b[39m\u001b[38;5;124mmkl_\u001b[39m\u001b[38;5;124m'\u001b[39m \u001b[38;5;129;01min\u001b[39;00m CONFIG\u001b[38;5;241m.\u001b[39mget(\u001b[38;5;124m'\u001b[39m\u001b[38;5;124mQE\u001b[39m\u001b[38;5;124m'\u001b[39m, {})\u001b[38;5;241m.\u001b[39mget(\u001b[38;5;124m'\u001b[39m\u001b[38;5;124mlink\u001b[39m\u001b[38;5;124m'\u001b[39m, \u001b[38;5;124m'\u001b[39m\u001b[38;5;124m'\u001b[39m): \u001b[43mload_library\u001b[49m\u001b[43m(\u001b[49m\u001b[38;5;124;43m'\u001b[39;49m\u001b[38;5;124;43mmkl_rt\u001b[39;49m\u001b[38;5;124;43m'\u001b[39;49m\u001b[43m)\u001b[49m\n\u001b[1;32m     16\u001b[0m path \u001b[38;5;241m=\u001b[39m Path(\u001b[38;5;18m__file__\u001b[39m)\u001b[38;5;241m.\u001b[39mresolve()\u001b[38;5;241m.\u001b[39mparent\u001b[38;5;241m/\u001b[39m\u001b[38;5;124m'\u001b[39m\u001b[38;5;124mqepylibs\u001b[39m\u001b[38;5;124m'\u001b[39m\n\u001b[1;32m     17\u001b[0m sys\u001b[38;5;241m.\u001b[39mpath\u001b[38;5;241m.\u001b[39minsert(\u001b[38;5;241m0\u001b[39m, \u001b[38;5;28mstr\u001b[39m(path))\n",
      "File \u001b[0;32m/ocean/projects/che240027p/shared/software/Team_RU/qms2024/lib/python3.8/site-packages/qepy/core.py:20\u001b[0m, in \u001b[0;36mload_library\u001b[0;34m(lib, name)\u001b[0m\n\u001b[1;32m     18\u001b[0m \u001b[38;5;28;01mif\u001b[39;00m lib \u001b[38;5;129;01mand\u001b[39;00m \u001b[38;5;124m'\u001b[39m\u001b[38;5;124m.\u001b[39m\u001b[38;5;124m'\u001b[39m \u001b[38;5;129;01mnot\u001b[39;00m \u001b[38;5;129;01min\u001b[39;00m lib: name \u001b[38;5;241m=\u001b[39m lib\n\u001b[1;32m     19\u001b[0m \u001b[38;5;28;01mif\u001b[39;00m name \u001b[38;5;129;01mis\u001b[39;00m \u001b[38;5;129;01mnot\u001b[39;00m \u001b[38;5;28;01mNone\u001b[39;00m: lib \u001b[38;5;241m=\u001b[39m find_library(name)\n\u001b[0;32m---> 20\u001b[0m \u001b[38;5;28;01mif\u001b[39;00m lib \u001b[38;5;129;01mis\u001b[39;00m \u001b[38;5;28;01mNone\u001b[39;00m: \u001b[38;5;28;01mraise\u001b[39;00m \u001b[38;5;167;01mAttributeError\u001b[39;00m(\u001b[38;5;124m\"\u001b[39m\u001b[38;5;124mPlease provide a library name\u001b[39m\u001b[38;5;124m\"\u001b[39m)\n\u001b[1;32m     21\u001b[0m \u001b[38;5;28;01mtry\u001b[39;00m:\n\u001b[1;32m     22\u001b[0m     cdll \u001b[38;5;241m=\u001b[39m CDLL(lib, RTLD_LOCAL \u001b[38;5;241m|\u001b[39m RTLD_GLOBAL)\n",
      "\u001b[0;31mAttributeError\u001b[0m: Please provide a library name"
     ]
    }
   ],
   "source": [
    "import numpy as np\n",
    "import matplotlib.pyplot as plt\n",
    "from qepy.calculator import QEpyCalculator\n",
    "from qepy.io import QEInput"
   ]
  },
  {
   "cell_type": "code",
   "execution_count": null,
   "id": "f928d9af",
   "metadata": {
    "slideshow": {
     "slide_type": "fragment"
    }
   },
   "outputs": [],
   "source": [
    "from ase.io.trajectory import Trajectory\n",
    "from ase.lattice.hexagonal import Graphene\n",
    "from ase import Atoms\n",
    "from ase.io import read,write\n",
    "import py3Dmol"
   ]
  },
  {
   "cell_type": "markdown",
   "id": "4a1d9004",
   "metadata": {
    "slideshow": {
     "slide_type": "slide"
    }
   },
   "source": [
    "## Build your system"
   ]
  },
  {
   "cell_type": "code",
   "execution_count": null,
   "id": "5049b999-6ce3-4d93-830e-de23fc55b15d",
   "metadata": {
    "slideshow": {
     "slide_type": "fragment"
    }
   },
   "outputs": [],
   "source": [
    "atoms = Atoms(Graphene('C', latticeconstant={'a':2.46, 'c': 7}))\n",
    "write('Graphene.xyz',atoms)\n",
    "v = py3Dmol.view(data=open('./Graphene.xyz','r').read(), style='sphere')\n",
    "v.addUnitCell()\n",
    "v.zoomTo()\n",
    "v.show()"
   ]
  },
  {
   "cell_type": "markdown",
   "id": "1898a33a",
   "metadata": {
    "slideshow": {
     "slide_type": "slide"
    }
   },
   "source": [
    "## Build an 'Input' file"
   ]
  },
  {
   "cell_type": "code",
   "execution_count": null,
   "id": "f48994f5",
   "metadata": {
    "slideshow": {
     "slide_type": "fragment"
    }
   },
   "outputs": [],
   "source": [
    "qe_options = {\n",
    "    '&control': {\n",
    "        'calculation': \"'scf'\",\n",
    "        'prefix': \"'tmp'\",\n",
    "        'pseudo_dir': \"'./'\"},\n",
    "    '&system': {\n",
    "        'ibrav' : 0,\n",
    "        'ecutwfc': 20,\n",
    "        'ecutrho': 200},\n",
    "    '&electrons': {\n",
    "        'conv_thr' : 1.0e-8},\n",
    "     'atomic_species': ['C 12.0107 C.pbe-rrkjus.UPF'],\n",
    "     'k_points automatic': [' 9 9 1 0 0 0'],\n",
    "}"
   ]
  },
  {
   "cell_type": "markdown",
   "id": "0f9acd9b",
   "metadata": {
    "slideshow": {
     "slide_type": "slide"
    }
   },
   "source": [
    "## Download the Pseupotentials"
   ]
  },
  {
   "cell_type": "code",
   "execution_count": null,
   "id": "f7cd3974",
   "metadata": {
    "slideshow": {
     "slide_type": "fragment"
    }
   },
   "outputs": [],
   "source": [
    "additional_files = ['https://pseudopotentials.quantum-espresso.org/upf_files/C.pbe-rrkjus.UPF']\n",
    "from dftpy.formats import download_files\n",
    "download_files(additional_files)"
   ]
  },
  {
   "cell_type": "markdown",
   "id": "f66bf175",
   "metadata": {
    "slideshow": {
     "slide_type": "fragment"
    }
   },
   "source": [
    "## Generate the calculator\n",
    "##### Atom positions are update automatically by the calculator"
   ]
  },
  {
   "cell_type": "code",
   "execution_count": null,
   "id": "a51357c5",
   "metadata": {
    "slideshow": {
     "slide_type": "fragment"
    }
   },
   "outputs": [],
   "source": [
    "calc = QEpyCalculator(qe_options=qe_options, logfile='tmp.out')\n",
    "atoms.calc=calc"
   ]
  },
  {
   "cell_type": "markdown",
   "id": "101daba3",
   "metadata": {
    "slideshow": {
     "slide_type": "fragment"
    }
   },
   "source": [
    "## Run a ground state calculation"
   ]
  },
  {
   "cell_type": "code",
   "execution_count": null,
   "id": "034aea8e",
   "metadata": {
    "slideshow": {
     "slide_type": "fragment"
    }
   },
   "outputs": [],
   "source": [
    "energy = atoms.get_potential_energy()\n",
    "efermi = calc.get_fermi_level() #Ry\n",
    "print(efermi)"
   ]
  },
  {
   "cell_type": "markdown",
   "id": "1cc6b61c",
   "metadata": {
    "slideshow": {
     "slide_type": "slide"
    }
   },
   "source": [
    "## DOS with a fine K-points"
   ]
  },
  {
   "cell_type": "code",
   "execution_count": null,
   "id": "7ac8dad3",
   "metadata": {
    "scrolled": false,
    "slideshow": {
     "slide_type": "fragment"
    }
   },
   "outputs": [],
   "source": [
    "qe_options['k_points automatic']= ['12 12 1 0 0 0']\n",
    "energies, dos =  atoms.calc.get_dos(qe_options, width=0.6)"
   ]
  },
  {
   "cell_type": "code",
   "execution_count": null,
   "id": "c6668385",
   "metadata": {
    "slideshow": {
     "slide_type": "fragment"
    }
   },
   "outputs": [],
   "source": [
    "emin = -16.0\n",
    "emax = 8.0\n",
    "plt.plot(energies, dos)\n",
    "plt.xlim(emin, emax)\n",
    "plt.axvline(x=0, ls='--')\n",
    "plt.xlabel('Energy (Ry)')\n",
    "plt.ylabel('DOS')"
   ]
  },
  {
   "cell_type": "markdown",
   "id": "022892c4",
   "metadata": {
    "slideshow": {
     "slide_type": "slide"
    }
   },
   "source": [
    "## Band structure with ASE bandpath"
   ]
  },
  {
   "cell_type": "code",
   "execution_count": null,
   "id": "defee41f",
   "metadata": {
    "slideshow": {
     "slide_type": "fragment"
    }
   },
   "outputs": [],
   "source": [
    "lat = atoms.cell.get_bravais_lattice()\n",
    "lat.plot_bz(show=True)\n",
    "print(lat.description())"
   ]
  },
  {
   "cell_type": "code",
   "execution_count": null,
   "id": "10abd768",
   "metadata": {
    "slideshow": {
     "slide_type": "fragment"
    }
   },
   "outputs": [],
   "source": [
    "path = atoms.cell.bandpath('GKMG',npoints=61)"
   ]
  },
  {
   "cell_type": "code",
   "execution_count": null,
   "id": "0bc192a6",
   "metadata": {
    "scrolled": true,
    "slideshow": {
     "slide_type": "skip"
    }
   },
   "outputs": [],
   "source": [
    "for kp in np.arange(atoms.calc.driver.get_number_of_k_points()):\n",
    "    '''Irreducible k-points'''\n",
    "    print(kp,atoms.calc.driver.get_occupation_numbers(kpt=kp))"
   ]
  },
  {
   "cell_type": "code",
   "execution_count": null,
   "id": "0e00a353",
   "metadata": {
    "slideshow": {
     "slide_type": "subslide"
    }
   },
   "outputs": [],
   "source": [
    "qe_options['&system']['nbnd']=6\n",
    "band = atoms.calc.get_band_structure(qe_options, kpts=path, reference=efermi)"
   ]
  },
  {
   "cell_type": "code",
   "execution_count": null,
   "id": "7baab34d",
   "metadata": {
    "slideshow": {
     "slide_type": "fragment"
    }
   },
   "outputs": [],
   "source": [
    "bp=band.plot()\n",
    "bp.set_ylim(-16,8)"
   ]
  },
  {
   "cell_type": "markdown",
   "id": "9f093473",
   "metadata": {
    "slideshow": {
     "slide_type": "slide"
    }
   },
   "source": [
    "## Plotting both Band structure and DOS "
   ]
  },
  {
   "cell_type": "code",
   "execution_count": null,
   "id": "4ccf6008",
   "metadata": {
    "slideshow": {
     "slide_type": "fragment"
    }
   },
   "outputs": [],
   "source": [
    "import matplotlib.pyplot as plt\n",
    "fig = plt.figure()\n",
    "ax = fig.add_axes([.12, .07, .67, .85])\n",
    "\n",
    "emin = -16.0\n",
    "emax = 8.0\n",
    "\n",
    "bands = band.subtract_reference()\n",
    "bands.plot(ax=ax, emin=emin, emax=emax)\n",
    "\n",
    "dosax = fig.add_axes([.8, .07, .17, .85])\n",
    "dosax.plot(dos, energies)\n",
    "\n",
    "dosax.set_ylim(emin, emax)\n",
    "dosax.set_xlim(0, None)\n",
    "dosax.set_yticks([])\n",
    "dosax.set_xticks([])\n",
    "dosax.set_xlabel(\"DOS\", fontsize=18);"
   ]
  },
  {
   "cell_type": "markdown",
   "id": "065f85c8",
   "metadata": {
    "slideshow": {
     "slide_type": "slide"
    }
   },
   "source": [
    "# Challenge"
   ]
  },
  {
   "cell_type": "markdown",
   "id": "2a8b1bae",
   "metadata": {
    "slideshow": {
     "slide_type": "fragment"
    }
   },
   "source": [
    "1. Obtain the Band structure and DOS for Silicon (Diamond, cubic cell, a,b,c = 0.543 nm) or your own system with QEPy."
   ]
  }
 ],
 "metadata": {
  "celltoolbar": "Slideshow",
  "kernelspec": {
   "display_name": "qms2024",
   "language": "python",
   "name": "qms2024"
  },
  "language_info": {
   "codemirror_mode": {
    "name": "ipython",
    "version": 3
   },
   "file_extension": ".py",
   "mimetype": "text/x-python",
   "name": "python",
   "nbconvert_exporter": "python",
   "pygments_lexer": "ipython3",
   "version": "3.8.6"
  }
 },
 "nbformat": 4,
 "nbformat_minor": 5
}
