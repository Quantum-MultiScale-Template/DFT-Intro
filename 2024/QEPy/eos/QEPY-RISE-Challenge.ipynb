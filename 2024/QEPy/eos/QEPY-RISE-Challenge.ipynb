{
 "cells": [
  {
   "cell_type": "code",
   "execution_count": null,
   "id": "760a973e-9337-467a-bb5a-07878243bbfb",
   "metadata": {
    "slideshow": {
     "slide_type": "slide"
    }
   },
   "outputs": [],
   "source": [
    "import numpy as np\n",
    "from ase.build import bulk\n",
    "from ase.io import read,write\n",
    "from ase.io.trajectory import Trajectory\n",
    "import py3Dmol\n",
    "from qepy.calculator import QEpyCalculator\n",
    "from qepy.io import QEInput"
   ]
  },
  {
   "cell_type": "code",
   "execution_count": null,
   "id": "49fbb2a8",
   "metadata": {
    "scrolled": false,
    "slideshow": {
     "slide_type": "subslide"
    }
   },
   "outputs": [],
   "source": [
    "from ase.units import kJ\n",
    "from ase.eos import EquationOfState"
   ]
  },
  {
   "cell_type": "code",
   "execution_count": null,
   "id": "8e5c74c8",
   "metadata": {
    "slideshow": {
     "slide_type": "slide"
    }
   },
   "outputs": [],
   "source": [
    "qe_options = {\n",
    "    '&control': {\n",
    "        'calculation': \"'scf'\",\n",
    "        'pseudo_dir': \"'./'\",\n",
    "        'outdir': \"tmp\",\n",
    "    },\n",
    "    '&system': {\n",
    "        'ibrav' : 0,\n",
    "        'degauss': 0.005,\n",
    "        'ecutwfc': 30,\n",
    "        'nat': 1,\n",
    "        'ntyp': 1,\n",
    "        'occupations': \"'smearing'\",\n",
    "    },\n",
    "    'atomic_positions crystal': ['Al    0.0  0.0  0.0'],\n",
    "    'atomic_species': ['Al  26.98 Al.pbe-nl-kjpaw_psl.1.0.0.UPF'],\n",
    "    'k_points automatic': ['10 10 10 1 1 1'],\n",
    "    'cell_parameters angstrom':[\n",
    "        '0.     2.025  2.025',\n",
    "        '2.025  0.     2.025',\n",
    "        '2.025  2.025  0.   '],\n",
    "}"
   ]
  },
  {
   "cell_type": "code",
   "execution_count": null,
   "id": "f7506a7b",
   "metadata": {
    "slideshow": {
     "slide_type": "slide"
    }
   },
   "outputs": [],
   "source": [
    "atoms = bulk('Al', 'bcc', a=4.05)\n",
    "write('Al.xyz',atoms)\n",
    "v = py3Dmol.view(data=open('./Al.xyz','r').read(), style='sphere')\n",
    "v.addUnitCell()\n",
    "v.zoomTo()\n",
    "v.show()"
   ]
  },
  {
   "cell_type": "code",
   "execution_count": null,
   "id": "424fe238",
   "metadata": {
    "slideshow": {
     "slide_type": "fragment"
    }
   },
   "outputs": [],
   "source": [
    "qe_options = QEInput().update_atoms(atoms, qe_options = qe_options,  extrapolation=False)\n",
    "QEInput().write_qe_input(\"file.in\", qe_options=qe_options)"
   ]
  },
  {
   "cell_type": "code",
   "execution_count": null,
   "id": "4a0d6e8e",
   "metadata": {
    "scrolled": true,
    "slideshow": {
     "slide_type": "skip"
    }
   },
   "outputs": [],
   "source": [
    "!cat \"file.in\""
   ]
  },
  {
   "cell_type": "code",
   "execution_count": null,
   "id": "5af8ebdb",
   "metadata": {
    "slideshow": {
     "slide_type": "fragment"
    }
   },
   "outputs": [],
   "source": [
    "atoms.calc = QEpyCalculator(qe_options=qe_options, logfile=True, extrapolation=False)"
   ]
  },
  {
   "cell_type": "code",
   "execution_count": null,
   "id": "e0c5a22b",
   "metadata": {
    "slideshow": {
     "slide_type": "slide"
    }
   },
   "outputs": [],
   "source": [
    "%%time\n",
    "traj = Trajectory('tmp.traj', 'w')\n",
    "cell = atoms.get_cell()\n",
    "volumes = []\n",
    "energies = []\n",
    "\n",
    "for x in np.linspace(0.72, 0.90, 8):\n",
    "    atoms.set_cell(cell * x, scale_atoms=True)\n",
    "    vol = atoms.get_volume()\n",
    "    ene = atoms.get_potential_energy()\n",
    "    volumes.append(vol)\n",
    "    energies.append(ene)\n",
    "    traj.write(atoms)"
   ]
  },
  {
   "cell_type": "code",
   "execution_count": null,
   "id": "4a42eca3",
   "metadata": {
    "slideshow": {
     "slide_type": "fragment"
    }
   },
   "outputs": [],
   "source": [
    "from ase.units import kJ\n",
    "from ase.eos import EquationOfState\n",
    "eos = EquationOfState(np.array(volumes), np.array(energies))\n",
    "v0, e0, B = eos.fit()\n",
    "eos.plot('tmp.eos.png').title.get_text()"
   ]
  }
 ],
 "metadata": {
  "celltoolbar": "Slideshow",
  "kernelspec": {
   "display_name": "qms2024",
   "language": "python",
   "name": "qms2024"
  },
  "language_info": {
   "codemirror_mode": {
    "name": "ipython",
    "version": 3
   },
   "file_extension": ".py",
   "mimetype": "text/x-python",
   "name": "python",
   "nbconvert_exporter": "python",
   "pygments_lexer": "ipython3",
   "version": "3.8.6"
  }
 },
 "nbformat": 4,
 "nbformat_minor": 5
}
