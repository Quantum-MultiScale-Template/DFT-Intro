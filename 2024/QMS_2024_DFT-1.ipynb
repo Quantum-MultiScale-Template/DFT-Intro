{
 "cells": [
  {
   "cell_type": "code",
   "execution_count": null,
   "id": "bb7cb1c6",
   "metadata": {
    "hide_input": false,
    "slideshow": {
     "slide_type": "skip"
    }
   },
   "outputs": [],
   "source": [
    "#hidden cell to be executed BEFORE the presentation\n",
    "import warnings\n",
    "warnings.filterwarnings('ignore')\n",
    "import numpy as np\n",
    "import dftpy\n",
    "from dftpy.ions import Ions\n",
    "from dftpy.field import DirectField\n",
    "from dftpy.grid import DirectGrid\n",
    "from dftpy.functional import LocalPseudo, Functional, TotalFunctional\n",
    "from dftpy.formats import io\n",
    "from dftpy.math_utils import ecut2nr\n",
    "from dftpy.time_data import TimeData\n",
    "from dftpy.optimization import Optimization\n",
    "from dftpy.mpi import sprint\n",
    "from IPython.lib.display import YouTubeVideo\n",
    "from IPython.display import IFrame\n",
    "from ase.visualize import view\n",
    "PP_list = {'Al': 'Al_lda.oe01.recpot'}\n",
    "#import fortecubeview"
   ]
  },
  {
   "cell_type": "markdown",
   "id": "7d9a999c",
   "metadata": {
    "slideshow": {
     "slide_type": "slide"
    }
   },
   "source": [
    "<center>\n",
    "    <h1>Introduction to DFT</h1>\n",
    "    <h3> Kohn-Sham and orbital-free</h3>\n",
    "<center>\n",
    "<br>\n",
    "<table>\n",
    "  <tr>\n",
    "      <td><p><h1>Team Rutgers</h1></p><p><h2>Rutgers University-Newark</h2></p></td>\n",
    "      <td><img src=\"figures/logos/run.png\" width=300 height=300 /></td>\n",
    "  </tr>\n",
    "  <tr>\n",
    "    <td></td>\n",
    "    <td> http://prg.rutgers.edu</td>\n",
    "  </tr>\n",
    "</table>\n",
    "<br>\n",
    "<h3>Retrieve this presentation at:</h3>\n",
    "<br>\n",
    "<center>/ocean/projects/che240027p/shared/day1/slides/QMS_2024_DFT-1.ipynb</center>\n",
    "\n",
    "<br>\n",
    "<br>\n",
    "\n",
    "#### Quantum Multiscale School -- Boise, Idaho -- June 24-28, 2024\n"
   ]
  },
  {
   "cell_type": "markdown",
   "id": "3de9da82",
   "metadata": {
    "slideshow": {
     "slide_type": "slide"
    }
   },
   "source": [
    "# Goals of this lecture + hands-on session\n",
    "- Reasons for considering DFT\n",
    "- Basics of the theory behind DFT, Orbital-Free DFT and Kohn-Sham DFT\n",
    "- KS equations\n",
    "- Basis sets: plane waves, Gaussian-type orbitals\n",
    "- Pseudopotentials (local part)\n",
    "- Sample of OF-DFT and KS-DFT simulations"
   ]
  },
  {
   "cell_type": "markdown",
   "id": "52e3a2f0",
   "metadata": {
    "slideshow": {
     "slide_type": "slide"
    }
   },
   "source": [
    "# The Real World\n",
    "<table>\n",
    "    <tr>\n",
    "      <td><h3>Photocatalyst</h3></td>\n",
    "        <td><h3>Catalytic nanoparticles</h3></td>\n",
    "  </tr>\n",
    "  <tr>\n",
    "      <td><img src=\"figures/science/photocatalyst.png\" height=500 /></td>\n",
    "      <td><img src=\"figures/science/catalyst.png\" height=500 /></td>\n",
    "  </tr>\n",
    "    <tr>\n",
    "        <td>Chem. Comm., 43, 6551 (2009)</td>\n",
    "        <td>PCCP, 21, 15080 (2019)</td>\n",
    "    </tr>\n",
    "</table>   "
   ]
  },
  {
   "cell_type": "markdown",
   "id": "408a1497",
   "metadata": {
    "slideshow": {
     "slide_type": "slide"
    }
   },
   "source": [
    "# Available electronic structure methods\n",
    "<br>\n",
    "<center>\n",
    "    <img src=\"figures/science/electronic_structure.png\" width=1600 />\n",
    "</center>"
   ]
  },
  {
   "cell_type": "markdown",
   "id": "0b46c4be",
   "metadata": {
    "slideshow": {
     "slide_type": "slide"
    }
   },
   "source": [
    "# Challenge 1 (5 minutes!)\n",
    "\n",
    "[Let's check your QM/DFT knowledge.](https://rutgers.ca1.qualtrics.com/jfe/form/SV_dbuLoAqBETcyZts) \n",
    "- Write the molecular Hamiltonian identifying the main contributions.\n",
    "- Write the electron-nuclear attraction potential using $r_i$ and $R_\\alpha$ for the electron and nuclear coordinates, respectively.\n",
    "- Write the Kohn-Sham DFT energy density functional and the associated noninteracting kinetic energy.\n",
    "\n",
    "<center>\n",
    "    <img src=\"figures/random/qr_poll1.png\" width=350 />\n",
    "</center>\n"
   ]
  },
  {
   "cell_type": "markdown",
   "id": "bf6b7114",
   "metadata": {
    "slideshow": {
     "slide_type": "slide"
    }
   },
   "source": [
    "# The Hohenberg and Kohn theorems\n",
    "<br>\n",
    "<br>\n",
    "$$\n",
    "\\Psi_0 \\leftrightarrow n(r) \\leftrightarrow v_{eN}(r)\n",
    "$$\n",
    "\n",
    "Therefore $n(r)$, $v_{eN}(r)$ or $\\Psi_0$ hold the same information. "
   ]
  },
  {
   "cell_type": "markdown",
   "id": "35ef460c",
   "metadata": {
    "slideshow": {
     "slide_type": "fragment"
    }
   },
   "source": [
    "In particular:\n",
    "\n",
    "$$\n",
    "E \\equiv E[\\Psi_0] \\equiv E[v_{eN}] \\equiv E[n]\n",
    "$$\n",
    "\n",
    "DFT exploits the latter as follows:\n",
    "\n",
    "$$\n",
    "E[n] = T[n] + E_{ee}[n]+E_{eN}[n]+E_{NN}\n",
    "$$"
   ]
  },
  {
   "cell_type": "markdown",
   "id": "1c793576",
   "metadata": {
    "slideshow": {
     "slide_type": "slide"
    }
   },
   "source": [
    "<br>\n",
    "<br>\n",
    "<br>\n",
    "<center>\n",
    "<span style=\"font-size:45pt;\"><i>               n(r)</i></span>\n",
    "</center>\n",
    "<br>\n",
    "<br>\n",
    "<br>\n",
    "<center>...the density determines everything...</center>"
   ]
  },
  {
   "cell_type": "markdown",
   "id": "2d179e2a",
   "metadata": {
    "slideshow": {
     "slide_type": "slide"
    }
   },
   "source": [
    "# DFT: a theory of maps\n",
    "<br>\n",
    "<br>\n",
    "<center>\n",
    "    <img src=\"figures/science/maps.png\" width=800 />\n",
    "</center>"
   ]
  },
  {
   "cell_type": "markdown",
   "id": "65972812",
   "metadata": {
    "slideshow": {
     "slide_type": "subslide"
    }
   },
   "source": [
    "# DFT: a theory of maps\n",
    "<br>\n",
    "<center>\n",
    "    <img src=\"figures/science/maps2.png\" width=1200 />\n",
    "</center>"
   ]
  },
  {
   "cell_type": "markdown",
   "id": "ea6d66db",
   "metadata": {
    "slideshow": {
     "slide_type": "slide"
    }
   },
   "source": [
    "# DFT energy functionals for the 2 useful fictitious systems"
   ]
  },
  {
   "cell_type": "markdown",
   "id": "9a447b1f",
   "metadata": {
    "slideshow": {
     "slide_type": "fragment"
    }
   },
   "source": [
    "### Single-particle or \"Kohn-Sham\" DFT\n",
    "\n",
    "$$\n",
    "E[n] = T_s[n] + E_{H}[n] + E_{xc}[n] + \\int v_{eN}[n](r) n(r) dr  + E_{NN}\n",
    "$$\n",
    "\n",
    "where the density $n(r) = \\sum_i |\\phi_i(r)|^2$. And the single-particle kinetic energy is\n",
    "\n",
    "$$\n",
    "T_{s}[n] \\equiv T_s[\\{\\phi_i\\}]=  -\\frac{1}{2}\\sum_i n_i \\langle \\phi_i | \\nabla^2 | \\phi_i\\rangle = -\\frac{1}{2}\\sum_i n_i \\int \\phi_i^*(r) \\nabla^2 \\phi_i(r) dr\n",
    "$$\n",
    "\n",
    "Mind: $T_s \\neq T$.\n",
    "\n"
   ]
  },
  {
   "cell_type": "markdown",
   "id": "e16f978b",
   "metadata": {
    "slideshow": {
     "slide_type": "fragment"
    }
   },
   "source": [
    "The e-e repulsion and the total kinetic energy are related to $T_s$ and $E_{xc}$ as follows:\n",
    "\n",
    "$$\n",
    "E_H[n]=\\frac{1}{2}\\int \\frac{n(r)n(r')}{|r-r'|}drdr'\n",
    "$$\n",
    "\n",
    "$$\n",
    "E_{xc} = \\text{Approximated!} \\to T[n] + E_{ee}[n] = T_s[n] + E_H[n] + E_{xc}[n]\n",
    "$$"
   ]
  },
  {
   "cell_type": "markdown",
   "id": "b44c6e3e",
   "metadata": {
    "slideshow": {
     "slide_type": "slide"
    }
   },
   "source": [
    "# DFT energy functionals for the 2 useful fictitious systems"
   ]
  },
  {
   "cell_type": "markdown",
   "id": "e4039c68",
   "metadata": {
    "slideshow": {
     "slide_type": "fragment"
    }
   },
   "source": [
    "### Orbital-free DFT\n",
    "\n",
    "$$\n",
    "E[n] = T_{B}[n] + T_P[n] + E_{H}[n] + E_{xc}[n] + \\int v_{eN}[n](r) n(r) dr  + E_{NN}\n",
    "$$\n",
    "\n",
    "where\n",
    "\n",
    "$$\n",
    "T_{B}[n] = T_{vW}[n] = -\\frac{1}{2}\\int \\phi^*(r) \\nabla^2 \\phi(r) dr\n",
    "$$\n",
    "\n",
    "where: $\\phi(r)=\\sqrt{n(r)}$, and \n",
    "\n",
    "$$\n",
    "T_P[n] = T_{s}[n] - T_{vW}[n]\n",
    "$$"
   ]
  },
  {
   "cell_type": "markdown",
   "id": "4c9f64a8",
   "metadata": {
    "slideshow": {
     "slide_type": "slide"
    }
   },
   "source": [
    "# Solving for the electronic structure"
   ]
  },
  {
   "cell_type": "markdown",
   "id": "a49a2a33",
   "metadata": {
    "slideshow": {
     "slide_type": "fragment"
    }
   },
   "source": [
    "### KS equations for KS and OF-DFT"
   ]
  },
  {
   "cell_type": "markdown",
   "id": "c0be0c68",
   "metadata": {
    "slideshow": {
     "slide_type": "fragment"
    }
   },
   "source": [
    "Define an appropriate Lagrangian:\n",
    "$$\n",
    "\\mathcal{L}_{KS}[\\{\\phi_i\\}] = E[\\{\\phi_i\\}] - \\sum_{ij} \\varepsilon_{ij}\\left(\\langle \\phi_j|\\phi_i \\rangle - \\delta_{ij}\\right), \\qquad \\text{for KS-DFT}\n",
    "$$"
   ]
  },
  {
   "cell_type": "markdown",
   "id": "8d9695dd",
   "metadata": {
    "slideshow": {
     "slide_type": "fragment"
    }
   },
   "source": [
    "Define an appropriate Lagrangian:\n",
    "$$\n",
    "\\mathcal{L}_{OF}[n] = E[n] -  \\mu \\left( \\int n(r)dr - N\\right), \\qquad \\text{for OF-DFT}\n",
    "$$"
   ]
  },
  {
   "cell_type": "markdown",
   "id": "b5eace1e",
   "metadata": {
    "slideshow": {
     "slide_type": "subslide"
    }
   },
   "source": [
    "### Let's minimize the Lagrangians to find the ground state KS orbitals and density"
   ]
  },
  {
   "cell_type": "markdown",
   "id": "46225f01",
   "metadata": {
    "slideshow": {
     "slide_type": "fragment"
    }
   },
   "source": [
    "For KS-DFT, imposing $\\frac{\\delta \\mathcal{L}_{KS}[\\{\\phi_i\\}]}{\\delta \\langle \\phi_j|}=0$ or just $\\frac{\\delta \\mathcal{L}_{KS}[\\{\\phi_i\\}]}{\\delta \\phi_j^*(r)}=0$, and choosing the so-called <i>canonical</i> orbitals (i.e., $\\varepsilon_{ij}=\\varepsilon_{i}\\delta_{ij}$),"
   ]
  },
  {
   "cell_type": "markdown",
   "id": "74c33580",
   "metadata": {
    "slideshow": {
     "slide_type": "fragment"
    }
   },
   "source": [
    "For OF-DFT, imposing $\\frac{\\delta \\mathcal{L}_{OF}[n]}{\\delta \\langle \\phi|}=0$ or just $\\frac{\\delta \\mathcal{L}_{OF}[n]}{\\delta \\phi^*(r)}=0$, where $\\phi(r) = \\sqrt{n(r)}$,"
   ]
  },
  {
   "cell_type": "markdown",
   "id": "c9d51434",
   "metadata": {
    "slideshow": {
     "slide_type": "fragment"
    }
   },
   "source": [
    "we reach the so-called <span style=\"color: red;\">Kohn-Sham equations</span>:\n",
    "\n",
    "$$\n",
    "-\\frac{1}{2}\\nabla^2 \\phi_i(r) + v_s[n](r)\\phi_i(r) = \\varepsilon_i\\phi_i(r), \\qquad \\text{for KS-DFT}\n",
    "$$\n",
    "\n",
    "$$\n",
    "-\\frac{1}{2}\\nabla^2 \\phi(r) + v_B[n](r)\\phi(r) = \\mu\\phi(r), \\qquad \\text{for OF-DFT}\n",
    "$$\n"
   ]
  },
  {
   "cell_type": "markdown",
   "id": "55e5ec41",
   "metadata": {
    "slideshow": {
     "slide_type": "slide"
    }
   },
   "source": [
    "# Challenge 2 (10 minutes!)\n",
    "[Link to the poll](https://rutgers.ca1.qualtrics.com/jfe/form/SV_6LIHtaXrwnoe6LY)"
   ]
  },
  {
   "cell_type": "markdown",
   "id": "07261202",
   "metadata": {
    "slideshow": {
     "slide_type": "fragment"
    }
   },
   "source": [
    "Considering the chain rule of functional differentiation (analogous to regular differentiation where $n(r)$ is treated as the variable and $\\phi^*$ and $\\phi$ are independent variables):\n",
    "\n",
    "$$\n",
    "\\frac{\\delta F[n]}{\\delta \\phi_j^*(r)} = \\int \\frac{\\delta F[n]}{\\delta n(r')}\\frac{\\delta n(r')}{\\delta \\phi_j^*(r)}dr' = \\frac{\\delta F[n]}{\\delta n(r)} \\phi_j(r).\n",
    "$$"
   ]
  },
  {
   "cell_type": "markdown",
   "id": "14809189",
   "metadata": {
    "slideshow": {
     "slide_type": "fragment"
    }
   },
   "source": [
    "\n",
    "1) Derive the KS equations and show that the KS potential is given by:\n",
    "\n",
    "$$\n",
    "v_s[n](r) = \\frac{\\delta E_{H}[n]}{\\delta n(r)} + \\frac{\\delta E_{xc}[n]}{\\delta n(r)} + v_{eN}(r)\n",
    "$$"
   ]
  },
  {
   "cell_type": "markdown",
   "id": "884c9058",
   "metadata": {
    "slideshow": {
     "slide_type": "fragment"
    }
   },
   "source": [
    "\n",
    "2) <span style=\"color: red;\">OPTIONAL</span>: Show that the KS potential of OF-DFT is:\n",
    "\n",
    "$$\n",
    "v_B[n](r) = \\underbrace{\\frac{\\delta T_{s}[n]}{\\delta n(r)} - \\frac{\\delta T_{vW}[n]}{\\delta n(r)}}_{\\frac{\\delta T_P[n]}{\\delta n(r)}} + \\frac{\\delta E_{H}[n]}{\\delta n(r)} + \\frac{\\delta E_{xc}[n]}{\\delta n(r)} + v_{eN}(r)\n",
    "$$\n",
    "reaching the KS equation: $-\\frac{1}{2}\\nabla^2 \\sqrt{n(r)} + v_B[n](r)\\sqrt{n(r)} = \\mu\\sqrt{n(r)}$. Where $\\mu$ has the same meaning of $\\varepsilon_i$ for the KS case."
   ]
  },
  {
   "cell_type": "markdown",
   "id": "80d8a1a3",
   "metadata": {
    "slideshow": {
     "slide_type": "slide"
    }
   },
   "source": [
    "# Solvers\n",
    "<br>\n",
    "<br>\n",
    "<table border=\"1\" style=\"width:100%; text-align:center;\">\n",
    "    <tr>\n",
    "        <th></th>\n",
    "        <th style=\"text-align:center;border-right: 2px solid red;padding: 40px;\">OF-DFT</th>\n",
    "        <th style=\"text-align:center;\">KS-DFT</th>\n",
    "    </tr>\n",
    "    <tr>\n",
    "        <th style=\"text-align:center;padding: 40px;\">Direct Minimization</th>\n",
    "        <td style=\"text-align:center; border-right: 2px solid red; \">\n",
    "            \\( n_0(\\mathbf{r})=\\arg\\underset{n}\\min\\big\\{ \\mathcal{L}_{OF}[n]\\big\\} \\)\n",
    "        </td>\n",
    "        <td style=\"text-align:center;\">\n",
    "            \\( \\{\\phi_i^0\\} = \\arg\\underset{\\{\\phi_i\\}}\\min\\big\\{ \\mathcal{L}_{KS}[\\{\\phi_i\\}]\\big\\} \\)\n",
    "        </td>\n",
    "    </tr>\n",
    "    <tr>\n",
    "        <th style=\"text-align:center;padding: 40px;\">SCF</th>\n",
    "        <td style=\"text-align:center;border-right: 2px solid red; \">\n",
    "            \\( -\\frac{1}{2}\\nabla^2 \\sqrt{n(r)} + v_B(r)\\sqrt{n(r)} = \\mu\\sqrt{n(r)}\\)\n",
    "        </td>\n",
    "        <td style=\"text-align:center;\">\n",
    "            \\( -\\frac{1}{2}\\nabla^2 \\phi_i(r) + v_s(r)\\phi_i(r) = \\varepsilon_i\\phi_i(r)\\)\n",
    "        </td>\n",
    "    </tr>\n",
    "</table>\n"
   ]
  },
  {
   "cell_type": "markdown",
   "id": "e79636b0",
   "metadata": {
    "slideshow": {
     "slide_type": "slide"
    }
   },
   "source": [
    "# Solvers\n",
    "<br>\n",
    "<br>\n",
    "<table border=\"1\" style=\"width:100%; text-align:center;\">\n",
    "    <tr>\n",
    "        <th></th>\n",
    "        <th style=\"text-align:center;border-right: 2px solid red;padding: 40px;\">OF-DFT</th>\n",
    "        <th style=\"text-align:center;\">KS-DFT</th>\n",
    "    </tr>\n",
    "    <tr>\n",
    "        <th style=\"text-align:center;padding: 40px;\">Direct Minimization</th>\n",
    "        <td style=\"text-align:center; border-right: 2px solid red; background-color: lightgreen;\">\n",
    "            \\( n_0(\\mathbf{r})=\\arg\\underset{n}\\min\\big\\{ \\mathcal{L}_{OF}[n]\\big\\} \\)\n",
    "        </td>\n",
    "        <td style=\"text-align:center;\">\n",
    "            \\( \\{\\phi_i^0\\} = \\arg\\underset{\\{\\phi_i\\}}\\min\\big\\{ \\mathcal{L}_{KS}[\\{\\phi_i\\}]\\big\\} \\)\n",
    "        </td>\n",
    "    </tr>\n",
    "    <tr>\n",
    "        <th style=\"text-align:center;padding: 40px;\">SCF</th>\n",
    "        <td style=\"text-align:center;border-right: 2px solid red; \">\n",
    "            \\( -\\frac{1}{2}\\nabla^2 \\sqrt{n(r)} + v_B(r)\\sqrt{n(r)} = \\mu\\sqrt{n(r)}\\)\n",
    "        </td>\n",
    "        <td style=\"text-align:center;background-color: lightgreen;\">\n",
    "            \\( -\\frac{1}{2}\\nabla^2 \\phi_i(r) + v_s(r)\\phi_i(r) = \\varepsilon_i\\phi_i(r)\\)\n",
    "        </td>\n",
    "    </tr>\n",
    "</table>\n"
   ]
  },
  {
   "cell_type": "markdown",
   "id": "71cd46c9",
   "metadata": {
    "slideshow": {
     "slide_type": "slide"
    }
   },
   "source": [
    "# Basis sets (discretization)\n",
    "\n",
    "To be able to run simulations, we need to discretize the space in which the KS and OF wavefunctions / densities live. We will consider plane waves (PW) and Gaussian-type orbitals (GTOs). The general idea is the following:\n",
    "$$\n",
    "\\phi_i(r) = \\sum_\\mu^M c_\\mu \\chi_\\mu(r) \\text{, where } \\chi_\\mu \\text{ are basis functions}\n",
    "$$"
   ]
  },
  {
   "cell_type": "markdown",
   "id": "de127b5d",
   "metadata": {
    "slideshow": {
     "slide_type": "fragment"
    }
   },
   "source": [
    "<table border=\"1\" style=\"width:100%; text-align:center;\">\n",
    "    <tr>\n",
    "        <th></th>\n",
    "        <th style=\"text-align:center;border-right: 2px solid red;padding: 40px;\">GTOs</th>\n",
    "        <th style=\"text-align:center;\">PW</th>\n",
    "    </tr>\n",
    "    <tr>\n",
    "        <th style=\"text-align:center;padding: 40px;\">Definition</th>\n",
    "        <td style=\"text-align:center; border-right: 2px solid red;\">\n",
    "            \\( \\chi_\\mu(r) = x^{i_\\mu}y^{j_\\mu}z^{k_\\mu} e^{-\\frac{|r-R_\\mu|^2}{2\\sigma_\\mu^2}} \\)\n",
    "        </td>\n",
    "        <td style=\"text-align:center;\">\n",
    "            \\( \\chi_\\mu(r) = \\frac{1}{\\sqrt{\\Omega}} e^{i G_\\mu \\cdot r},\\,\\,G_\\mu = \\left(\\frac{2\\pi\\, i_\\mu}{a},\\frac{2\\pi\\, j_\\mu}{b},\\frac{2\\pi\\, k_\\mu}{c}\\right)\\)\n",
    "        </td>\n",
    "    </tr>\n",
    "    <tr>\n",
    "        <th style=\"text-align:center;padding: 40px;\">Location</th>\n",
    "        <td style=\"text-align:center;border-right: 2px solid red;\">\n",
    "            \\( R_\\mu \\in \\text{centers of atoms}\\)\n",
    "        </td>\n",
    "        <td style=\"text-align:center;\">\n",
    "            Spread out throughout the simulation cell\n",
    "        </td>\n",
    "    </tr>\n",
    "    <tr>\n",
    "        <th style=\"text-align:center;padding: 40px;\">Number of functions</th>\n",
    "        <td style=\"text-align:center;border-right: 2px solid red;\">\n",
    "            \\( \\simeq 10 \\) per atom\n",
    "        </td>\n",
    "        <td style=\"text-align:center;\">\n",
    "            \\( \\propto \\Omega = a \\cdot b \\cdot c \\), generally \\( 10^4 \\) to \\( 10^6 \\)\n",
    "        </td>\n",
    "    </tr>\n",
    "    <tr>\n",
    "        <th style=\"text-align:center;padding: 40px;\">Handling eN potential</th>\n",
    "        <td style=\"text-align:center;border-right: 2px solid red;\">\n",
    "            <center><img src=\"./figures/science/fullpot.png\" alt=\"GTOs image\" width=400 ></center>\n",
    "        </td>\n",
    "        <td style=\"text-align:center;\">\n",
    "            <center><img src=\"./figures/science/pseudopot.png\" alt=\"PW image\" width=400 ></center>\n",
    "        </td>\n",
    "    </tr>\n",
    "</table>\n"
   ]
  },
  {
   "cell_type": "markdown",
   "id": "fd5ef81e",
   "metadata": {
    "slideshow": {
     "slide_type": "slide"
    }
   },
   "source": [
    "# Pseudo potentials cannot incorporate core electrons"
   ]
  },
  {
   "cell_type": "markdown",
   "id": "e609a3e7",
   "metadata": {
    "slideshow": {
     "slide_type": "fragment"
    }
   },
   "source": [
    "<table border=\"1\" style=\"width:100%; text-align:center;\">\n",
    "    <tr>\n",
    "        <th><center><img src=\"./figures/science/Electron-Configuration.jpg\" alt=\"econf\" width=400 ></center></th>\n",
    "        <th><center><img src=\"./figures/science/pseudo_core.png\" alt=\"econf\" width=400 ></center></th>\n",
    "    </tr>\n",
    "</table>\n",
    "\n",
    "\n",
    "\n",
    "\n"
   ]
  },
  {
   "cell_type": "markdown",
   "id": "55067843",
   "metadata": {
    "slideshow": {
     "slide_type": "slide"
    }
   },
   "source": [
    "# Challenge 3 (3 minutes!)\n",
    "\n",
    "1) Download a pseudopotential from your favorite library\n",
    "2) Determine the electronic configuration of the ion"
   ]
  },
  {
   "cell_type": "code",
   "execution_count": null,
   "id": "94f95191",
   "metadata": {
    "slideshow": {
     "slide_type": "fragment"
    }
   },
   "outputs": [],
   "source": [
    "additional_files = {'C.pbe-n-rrkjus_psl.1.0.0.UPF' : 'https://pseudopotentials.quantum-espresso.org/upf_files/C.pbe-n-rrkjus_psl.1.0.0.UPF'}\n",
    "from dftpy.formats import download_files\n",
    "download_files(additional_files)\n",
    "!cat C.pbe-n-rrkjus_psl.1.0.0.UPF"
   ]
  },
  {
   "cell_type": "markdown",
   "id": "74a24adf",
   "metadata": {
    "slideshow": {
     "slide_type": "slide"
    }
   },
   "source": [
    "# Let's start easy: OF-DFT simulations with DFTpy"
   ]
  },
  {
   "cell_type": "markdown",
   "id": "e2fe9d3b",
   "metadata": {
    "slideshow": {
     "slide_type": "fragment"
    }
   },
   "source": [
    "### First generate a model system: bulk Al (cubic cell)"
   ]
  },
  {
   "cell_type": "code",
   "execution_count": null,
   "id": "c96b8edc",
   "metadata": {
    "scrolled": true,
    "slideshow": {
     "slide_type": "fragment"
    }
   },
   "outputs": [],
   "source": [
    "from ase.build import bulk\n",
    "atoms = bulk('Al', 'fcc', a=4.05, cubic=True)\n",
    "ions = Ions.from_ase(atoms)\n",
    "view(ions, viewer='ngl')"
   ]
  },
  {
   "cell_type": "markdown",
   "id": "5e41b563",
   "metadata": {
    "slideshow": {
     "slide_type": "subslide"
    }
   },
   "source": [
    "### Then run a OF-DFT simulation with `DFTpy`"
   ]
  },
  {
   "cell_type": "code",
   "execution_count": null,
   "id": "c5558268",
   "metadata": {
    "slideshow": {
     "slide_type": "fragment"
    }
   },
   "outputs": [],
   "source": [
    "additional_files = {'al.lda.recpot' : 'https://raw.githubusercontent.com/EACcodes/local-pseudopotentials/master/BLPS/LDA/reci/al.lda.recpot'}\n",
    "download_files(additional_files)"
   ]
  },
  {
   "cell_type": "code",
   "execution_count": null,
   "id": "465163af",
   "metadata": {
    "slideshow": {
     "slide_type": "fragment"
    }
   },
   "outputs": [],
   "source": [
    "grid = DirectGrid(ecut=20.0, lattice=ions.cell) #ecut 20 Ha = 40 Ry\n",
    "PSEUDO = LocalPseudo(grid = grid, ions=ions, PP_list={'Al': 'al.lda.recpot'})\n",
    "rho_ini = DirectField(grid=grid)\n",
    "rho_ini[:] = ions.get_ncharges()/ions.cell.volume\n",
    "HARTREE = Functional(type='HARTREE')\n",
    "XC = Functional(type='XC',name='LDA')"
   ]
  },
  {
   "cell_type": "markdown",
   "id": "1a050544",
   "metadata": {
    "slideshow": {
     "slide_type": "fragment"
    }
   },
   "source": [
    "#### DFTpy uses plane waves (PW)\n",
    "<center><img src=\"./figures/science/PW_explained.png\" alt=\"PW\" width=700 ></center>"
   ]
  },
  {
   "cell_type": "markdown",
   "id": "7214b7b5",
   "metadata": {
    "slideshow": {
     "slide_type": "subslide"
    }
   },
   "source": [
    "### For OF-DFT only: select a kinetic energy functional"
   ]
  },
  {
   "cell_type": "markdown",
   "id": "6a6baab3",
   "metadata": {
    "slideshow": {
     "slide_type": "fragment"
    }
   },
   "source": [
    "- $T_s[n]$ also called KEDF. In this example we use Thomas Fermi + von Weizsacker:\n",
    "$$T_s[n] = \\int C_{TF} n^{5/3}(\\mathbf{r}) + \\frac{\\nabla n^{1/2}(\\mathbf{r})\\cdot \\nabla n^{1/2}(\\mathbf{r})}{2} d\\mathbf{r}$$"
   ]
  },
  {
   "cell_type": "code",
   "execution_count": null,
   "id": "7ddf262a",
   "metadata": {
    "slideshow": {
     "slide_type": "fragment"
    }
   },
   "outputs": [],
   "source": [
    "KE = Functional(type='KEDF',name='x_TF_y_vW')"
   ]
  },
  {
   "cell_type": "markdown",
   "id": "415500a6",
   "metadata": {
    "slideshow": {
     "slide_type": "slide"
    }
   },
   "source": [
    "### Define \"total energy\" and minimize $E[n]$"
   ]
  },
  {
   "cell_type": "code",
   "execution_count": null,
   "id": "f144c0f8",
   "metadata": {
    "slideshow": {
     "slide_type": "fragment"
    }
   },
   "outputs": [],
   "source": [
    "evaluator = TotalFunctional(KE=KE, XC=XC, HARTREE=HARTREE, PSEUDO=PSEUDO)\n",
    "optimization_options = {'econv' : 1e-6*ions.nat}\n",
    "opt = Optimization(EnergyEvaluator=evaluator, optimization_options = optimization_options,\n",
    "        optimization_method = 'TN')\n",
    "%timeit -n1 -r1 rho = opt.optimize_rho(guess_rho=rho_ini)"
   ]
  },
  {
   "cell_type": "markdown",
   "id": "f822281b",
   "metadata": {
    "slideshow": {
     "slide_type": "slide"
    }
   },
   "source": [
    "<div class=\"alert alert-block alert-success\"><center><b>Opportunities:</b> Can manipulate rho as you wish - many functionalities are available in DFTpy</center></div>"
   ]
  },
  {
   "cell_type": "code",
   "execution_count": null,
   "id": "c0421ca2",
   "metadata": {
    "slideshow": {
     "slide_type": "fragment"
    }
   },
   "outputs": [],
   "source": [
    "from dftpy.constants import environ\n",
    "environ['LOGLEVEL'] = 3  # turn off the output\n",
    "rho = opt.optimize_rho(guess_rho=rho_ini)\n",
    "rho.write('rho.cube',ions=ions)\n",
    "!ls -l | grep rho.cube"
   ]
  },
  {
   "cell_type": "code",
   "execution_count": null,
   "id": "92257b04",
   "metadata": {
    "slideshow": {
     "slide_type": "fragment"
    }
   },
   "outputs": [],
   "source": [
    "import matplotlib.pyplot as plt\n",
    "plt.plot(rho[0,10,:],label=\"rho\")\n",
    "plt.plot(XC(rho).potential[0,10,:],label=\"xc\")\n",
    "plt.legend()\n",
    "plt.title('OF-DFT electron density');"
   ]
  },
  {
   "cell_type": "markdown",
   "id": "63b3b5dc",
   "metadata": {
    "slideshow": {
     "slide_type": "fragment"
    }
   },
   "source": [
    "...let's try to re-run it with a different $T_s[n]$ but same $E_{xc}[n]$."
   ]
  },
  {
   "cell_type": "markdown",
   "id": "f9662280",
   "metadata": {
    "slideshow": {
     "slide_type": "slide"
    }
   },
   "source": [
    "### Options for $T_s[n]$ and $E_{xc}$: (semi)local and nonlocal functionals\n",
    "<br>\n",
    "<center>\n",
    "    <img src=\"figures/science/local_nonlocal.png\" width=1600 />\n",
    "</center>\n",
    "\n",
    " - For $T_S$: Check out this <a href=\"\">Chem. Rev. (2023)</a> summarizing all that is known about $T_s$ approximations\n",
    " - For $E_{xc}$: Check out John Perdew's ideas leading to <a href=\"https://journals.aps.org/prb/abstract/10.1103/PhysRevB.23.5048\">LDA</a>, <a href=\"https://journals.aps.org/prl/abstract/10.1103/PhysRevLett.77.3865\">GGA</a> and <a href=\"https://www.annualreviews.org/content/journals/10.1146/annurev-physchem-062422-013259\">meta-GGA</a>\n"
   ]
  },
  {
   "cell_type": "markdown",
   "id": "758f54fc",
   "metadata": {
    "slideshow": {
     "slide_type": "slide"
    }
   },
   "source": [
    "### Re-run of OF-DFT with nonlocal $T_s[n]$"
   ]
  },
  {
   "cell_type": "code",
   "execution_count": null,
   "id": "77621e64",
   "metadata": {
    "slideshow": {
     "slide_type": "fragment"
    }
   },
   "outputs": [],
   "source": [
    "KE = Functional(type='KEDF',name='WT')\n",
    "evaluator = TotalFunctional(KE=KE, XC=XC, HARTREE=HARTREE, PSEUDO=PSEUDO)\n",
    "optimization_options = {'econv' : 1e-5*ions.nat}\n",
    "opt = Optimization(EnergyEvaluator=evaluator, optimization_options = optimization_options,\n",
    "        optimization_method = 'TN')\n",
    "%timeit -n1 -r1 rho = opt.optimize_rho(guess_rho=rho_ini)"
   ]
  },
  {
   "cell_type": "markdown",
   "id": "519153dd",
   "metadata": {
    "slideshow": {
     "slide_type": "fragment"
    }
   },
   "source": [
    "<center><div class=\"alert alert-block alert-danger\">\n",
    "    Nonlocal $T_s[n]$ are somewhat slower than semilocal functionals\n",
    "</div> \n",
    "    </center>"
   ]
  },
  {
   "cell_type": "markdown",
   "id": "f323cdc7",
   "metadata": {
    "slideshow": {
     "slide_type": "slide"
    }
   },
   "source": [
    "# How does OF-DFT compare with KS-DFT?\n",
    "\n",
    "<h4 style=\"text-align: center;\">We will run a Quantum ESPRESSO calculation of the same system using QEpy</h4>"
   ]
  },
  {
   "cell_type": "code",
   "execution_count": null,
   "id": "e9b4a061",
   "metadata": {
    "slideshow": {
     "slide_type": "fragment"
    }
   },
   "outputs": [],
   "source": [
    "from qepy.driver import Driver\n",
    "from qepy.io import QEInput"
   ]
  },
  {
   "cell_type": "markdown",
   "id": "ded9fe08",
   "metadata": {
    "slideshow": {
     "slide_type": "slide"
    }
   },
   "source": [
    "### QEpy's input file is a dictionary"
   ]
  },
  {
   "cell_type": "code",
   "execution_count": null,
   "id": "11a26389",
   "metadata": {
    "slideshow": {
     "slide_type": "fragment"
    }
   },
   "outputs": [],
   "source": [
    "qe_options = {\n",
    "    '&control': {\n",
    "        'calculation': \"'scf'\",\n",
    "        'pseudo_dir': \"'./'\",\n",
    "    },\n",
    "    '&system': {\n",
    "        'ibrav' : 0,\n",
    "        'degauss': 0.005,\n",
    "        'ecutwfc': 30,\n",
    "        'occupations': \"'smearing'\"\n",
    "    },\n",
    "    'atomic_species': ['Al  26.98 Al.pbe-nl-kjpaw_psl.1.0.0.UPF'],\n",
    "    'k_points gamma': [],\n",
    "}"
   ]
  },
  {
   "cell_type": "code",
   "execution_count": null,
   "id": "1f5e590b",
   "metadata": {
    "slideshow": {
     "slide_type": "fragment"
    }
   },
   "outputs": [],
   "source": [
    "additional_files = {'Al.pbe-nl-kjpaw_psl.1.0.0.UPF' : 'http://pseudopotentials.quantum-espresso.org/upf_files/Al.pbe-nl-kjpaw_psl.1.0.0.UPF'}\n",
    "download_files(additional_files)"
   ]
  },
  {
   "cell_type": "code",
   "execution_count": null,
   "id": "8b3aec83",
   "metadata": {
    "slideshow": {
     "slide_type": "fragment"
    }
   },
   "outputs": [],
   "source": [
    "options = {\n",
    "    '&electrons': {\n",
    "        'mixing_beta': 0.5},\n",
    "    'cell_parameters angstrom':[\n",
    "        '0.     2.025  2.025',\n",
    "        '2.025  0.     2.025',\n",
    "        '2.025  2.025  0.   '],\n",
    "    'atomic_positions crystal': ['Al    0.0  0.0  0.0'],\n",
    "    'k_points automatic': ['4 4 4 1 1 1'],\n",
    "}"
   ]
  },
  {
   "cell_type": "markdown",
   "id": "02b58d6b",
   "metadata": {
    "slideshow": {
     "slide_type": "slide"
    }
   },
   "source": [
    "### Initialize QEpy"
   ]
  },
  {
   "cell_type": "code",
   "execution_count": null,
   "id": "7d9a7388",
   "metadata": {
    "slideshow": {
     "slide_type": "fragment"
    }
   },
   "outputs": [],
   "source": [
    "qe_options = QEInput.update_options(options, qe_options=qe_options)"
   ]
  },
  {
   "cell_type": "code",
   "execution_count": null,
   "id": "17a58986",
   "metadata": {
    "slideshow": {
     "slide_type": "fragment"
    }
   },
   "outputs": [],
   "source": [
    "driver = Driver(qe_options=qe_options, logfile=True)\n",
    "%timeit -n1 -r1 driver.scf() "
   ]
  },
  {
   "cell_type": "code",
   "execution_count": null,
   "id": "20e4aee4",
   "metadata": {
    "slideshow": {
     "slide_type": "fragment"
    }
   },
   "outputs": [],
   "source": [
    "driver.get_scf_error()"
   ]
  },
  {
   "cell_type": "code",
   "execution_count": null,
   "id": "f7497f3d",
   "metadata": {
    "slideshow": {
     "slide_type": "fragment"
    }
   },
   "outputs": [],
   "source": [
    "driver.stop()"
   ]
  },
  {
   "cell_type": "markdown",
   "id": "b530df9f",
   "metadata": {
    "slideshow": {
     "slide_type": "fragment"
    }
   },
   "source": [
    "<center><div class=\"alert alert-block alert-danger\">\n",
    "    KS-DFT is <b>much</b> slower than nonlocal OF-DFT for this small system.\n",
    "</div></center>"
   ]
  },
  {
   "cell_type": "markdown",
   "id": "e2adcd6c",
   "metadata": {
    "slideshow": {
     "slide_type": "slide"
    }
   },
   "source": [
    "# What can OF-DFT do?\n",
    "\n",
    "<center>\n",
    "    <p style=\"font-size:100%; text-align:center;\">Shao, Mi & Pavanello, Phys. Rev. B <b>104</b>, 045118 (2021)</p>\n",
    "    <br>\n",
    "    <img src=\"figures/science/ofdft_surfaces.png\" width=1800 />\n",
    "    <div class=\"alert alert-block alert-success\">Excellent results for difficult semiconductors and metals!</div>\n",
    "    <div class=\"alert alert-block alert-success\">Check out Mi et al. Chem. Rev. (2023) for more details.</div>\n",
    "</center>"
   ]
  },
  {
   "cell_type": "markdown",
   "id": "d992e5c2",
   "metadata": {
    "slideshow": {
     "slide_type": "slide"
    }
   },
   "source": [
    "# What else can OF-DFT do?\n",
    "<br>\n",
    "<center>\n",
    "    <p style=\"font-size:100%; text-align:center;\"> J. Phys. Chem. Lett. <b>12</b>, 4134 (2021) &#x25C6; WIREs: Comp. Mol. Sci. <b>11</b>, e1482 (2021)</p>\n",
    "    <br>\n",
    "    <img src=\"figures/science/ofdft_showoff.png\" width=1600 />\n",
    "    <div class=\"alert alert-block alert-danger\">No molecules, no chemical reactions.</div>\n",
    "</center>"
   ]
  },
  {
   "cell_type": "markdown",
   "id": "b7b356be",
   "metadata": {
    "slideshow": {
     "slide_type": "slide"
    }
   },
   "source": [
    "# The end!\n",
    "\n",
    "See you later for the DFTpy hands-on session.\n",
    " - Dynamics of liquid metals\n",
    " - Any dynamics and relaxation you'd like to set up\n",
    " - play around with densities (plot, manipulate,...)"
   ]
  }
 ],
 "metadata": {
  "celltoolbar": "Slideshow",
  "hide_input": false,
  "kernelspec": {
   "display_name": "Python 3 (ipykernel)",
   "language": "python",
   "name": "python3"
  },
  "language_info": {
   "codemirror_mode": {
    "name": "ipython",
    "version": 3
   },
   "file_extension": ".py",
   "mimetype": "text/x-python",
   "name": "python",
   "nbconvert_exporter": "python",
   "pygments_lexer": "ipython3",
   "version": "3.10.13"
  },
  "rise": {
   "enable_chalkboard": true,
   "theme": "sky"
  }
 },
 "nbformat": 4,
 "nbformat_minor": 5
}
