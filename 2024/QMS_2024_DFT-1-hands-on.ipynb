{
 "cells": [
  {
   "cell_type": "markdown",
   "id": "bc18699d",
   "metadata": {},
   "source": [
    "# Intro to DFT - Hands-on session\n",
    "\n",
    "\n",
    "## To make this work:\n",
    "\n",
    "1) Set up jupyter notebook tunelling to Bridges2\n",
    "1) Alternatively `pip install dftpy` on your computer\n",
    "2) Install VESTA on your computer \n",
    "<i>https://jp-minerals.org/vesta/en/download.html</i>\n",
    "\n",
    "\n",
    "## To do:\n",
    "\n",
    "1) Add a \"markdown\" cell below each code cell\n",
    "2) write a description of what the cell does\n",
    "3) Play around with it as we go through it!"
   ]
  },
  {
   "cell_type": "code",
   "execution_count": null,
   "id": "e7c728a0-2fbf-4eb0-8ba8-f80d49043a59",
   "metadata": {
    "execution": {
     "iopub.execute_input": "2024-06-11T18:34:13.403728Z",
     "iopub.status.busy": "2024-06-11T18:34:13.403320Z",
     "iopub.status.idle": "2024-06-11T18:34:13.629321Z",
     "shell.execute_reply": "2024-06-11T18:34:13.628692Z",
     "shell.execute_reply.started": "2024-06-11T18:34:13.403687Z"
    }
   },
   "outputs": [],
   "source": [
    "import os\n",
    "import numpy as np\n",
    "from dftpy.mpi import pmi, sprint, mp"
   ]
  },
  {
   "cell_type": "code",
   "execution_count": null,
   "id": "8c4cb0d2-1260-4bf4-b55b-18374e5f6259",
   "metadata": {
    "execution": {
     "iopub.execute_input": "2024-06-11T18:34:13.630577Z",
     "iopub.status.busy": "2024-06-11T18:34:13.630252Z",
     "iopub.status.idle": "2024-06-11T18:34:13.633380Z",
     "shell.execute_reply": "2024-06-11T18:34:13.632735Z",
     "shell.execute_reply.started": "2024-06-11T18:34:13.630556Z"
    }
   },
   "outputs": [],
   "source": [
    "# from mpi4py import MPI\n",
    "# mp.comm = MPI.COMM_WORLD"
   ]
  },
  {
   "cell_type": "code",
   "execution_count": null,
   "id": "e9eddb17-0e16-4fbe-9173-b675fbdff670",
   "metadata": {
    "execution": {
     "iopub.execute_input": "2024-06-11T18:34:13.635149Z",
     "iopub.status.busy": "2024-06-11T18:34:13.634879Z",
     "iopub.status.idle": "2024-06-11T18:34:13.899511Z",
     "shell.execute_reply": "2024-06-11T18:34:13.898796Z",
     "shell.execute_reply.started": "2024-06-11T18:34:13.635118Z"
    }
   },
   "outputs": [],
   "source": [
    "from ase.lattice.cubic import FaceCenteredCubic\n",
    "from ase.md.langevin import Langevin\n",
    "from ase.md.velocitydistribution import MaxwellBoltzmannDistribution\n",
    "from ase.md import MDLogger\n",
    "from ase.io.trajectory import Trajectory\n",
    "from ase import units\n",
    "from dftpy.config.config import DefaultOption, OptionFormat, PrintConf\n",
    "from dftpy.api.api4ase import DFTpyCalculator\n",
    "from dftpy.optimization import Optimization\n",
    "from dftpy.functional import Functional, TotalFunctional\n",
    "from dftpy.grid import DirectGrid\n",
    "from dftpy.field import DirectField\n",
    "from dftpy.ions import Ions"
   ]
  },
  {
   "cell_type": "code",
   "execution_count": null,
   "id": "68e815bd-127b-4b74-aa35-c4c3c7885670",
   "metadata": {
    "execution": {
     "iopub.execute_input": "2024-06-11T18:34:13.905992Z",
     "iopub.status.busy": "2024-06-11T18:34:13.905731Z",
     "iopub.status.idle": "2024-06-11T18:34:14.051385Z",
     "shell.execute_reply": "2024-06-11T18:34:14.050686Z",
     "shell.execute_reply.started": "2024-06-11T18:34:13.905974Z"
    }
   },
   "outputs": [],
   "source": [
    "additional_files = {\n",
    "    'al.lda.recpot' : 'https://raw.githubusercontent.com/EACcodes/local-pseudopotentials/master/BLPS/LDA/reci/al.lda.recpot'\n",
    "}\n",
    "from dftpy.formats import download_files\n",
    "download_files(additional_files)"
   ]
  },
  {
   "cell_type": "code",
   "execution_count": null,
   "id": "d3bb47e5-8085-47e8-a5c4-d12313a5e0f7",
   "metadata": {
    "execution": {
     "iopub.execute_input": "2024-06-11T18:17:32.314692Z",
     "iopub.status.busy": "2024-06-11T18:17:32.314357Z",
     "iopub.status.idle": "2024-06-11T18:17:32.328965Z",
     "shell.execute_reply": "2024-06-11T18:17:32.327882Z",
     "shell.execute_reply.started": "2024-06-11T18:17:32.314670Z"
    }
   },
   "outputs": [],
   "source": [
    "size = 3 # nxnxn supercell\n",
    "atoms = FaceCenteredCubic(latticeconstant=4.05, symbol=\"Al\", size=(size, size, size), pbc=True)\n",
    "len(atoms)"
   ]
  },
  {
   "cell_type": "code",
   "execution_count": null,
   "id": "82a2cdbb",
   "metadata": {},
   "outputs": [],
   "source": [
    "ions = Ions.from_ase(atoms)\n",
    "PP_list = {'Al': 'al.lda.recpot'}\n",
    "grid = DirectGrid(ecut=20, lattice=ions.cell, mp=mp, full=False)\n",
    "rho = DirectField(grid=grid)"
   ]
  },
  {
   "cell_type": "code",
   "execution_count": null,
   "id": "abe43e77",
   "metadata": {},
   "outputs": [],
   "source": [
    "PSEUDO = Functional(type='PSEUDO', grid=grid, ions=ions, PP_list=PP_list)"
   ]
  },
  {
   "cell_type": "code",
   "execution_count": null,
   "id": "fc3478a7",
   "metadata": {},
   "outputs": [],
   "source": [
    "KE = Functional(type='KEDF', name='WT')"
   ]
  },
  {
   "cell_type": "code",
   "execution_count": null,
   "id": "750f1161",
   "metadata": {},
   "outputs": [],
   "source": [
    "XC = Functional(type='XC', name='LDA')"
   ]
  },
  {
   "cell_type": "code",
   "execution_count": null,
   "id": "a71b15e8",
   "metadata": {},
   "outputs": [],
   "source": [
    "HARTREE = Functional(type='HARTREE')"
   ]
  },
  {
   "cell_type": "code",
   "execution_count": null,
   "id": "42d930c8",
   "metadata": {},
   "outputs": [],
   "source": [
    "rho[:] = ions.get_ncharges() / ions.cell.volume"
   ]
  },
  {
   "cell_type": "code",
   "execution_count": null,
   "id": "08825cbd",
   "metadata": {
    "execution": {
     "iopub.execute_input": "2024-06-11T18:17:32.331201Z",
     "iopub.status.busy": "2024-06-11T18:17:32.330430Z",
     "iopub.status.idle": "2024-06-11T18:17:32.404224Z",
     "shell.execute_reply": "2024-06-11T18:17:32.403333Z",
     "shell.execute_reply.started": "2024-06-11T18:17:32.331167Z"
    }
   },
   "outputs": [],
   "source": [
    "funcDict = {'KE' :KE, 'XC' :XC, 'HARTREE' :HARTREE, 'PSEUDO' :PSEUDO}\n",
    "EnergyEvaluator = TotalFunctional(**funcDict)"
   ]
  },
  {
   "cell_type": "code",
   "execution_count": null,
   "id": "bc0d93d3",
   "metadata": {},
   "outputs": [],
   "source": [
    "optimizer = Optimization(EnergyEvaluator=EnergyEvaluator, optimization_method='TN')"
   ]
  },
  {
   "cell_type": "code",
   "execution_count": null,
   "id": "9c60ac44",
   "metadata": {},
   "outputs": [],
   "source": [
    "rho = optimizer(guess_rho=rho)"
   ]
  },
  {
   "cell_type": "markdown",
   "id": "9771cb23",
   "metadata": {},
   "source": [
    "# Let's play with the `DirectField` object of `DFTpy`"
   ]
  },
  {
   "cell_type": "code",
   "execution_count": null,
   "id": "84f00b72",
   "metadata": {},
   "outputs": [],
   "source": [
    "rho.write(\"rho.xsf\",ions=ions)"
   ]
  },
  {
   "cell_type": "code",
   "execution_count": null,
   "id": "f1d45748",
   "metadata": {},
   "outputs": [],
   "source": [
    "rho.grid.r.shape"
   ]
  },
  {
   "cell_type": "code",
   "execution_count": null,
   "id": "b822b941",
   "metadata": {},
   "outputs": [],
   "source": [
    "import matplotlib.pyplot as plt\n",
    "plt.plot(rho.grid.r[2,0,0,:],rho[0,0,:])"
   ]
  },
  {
   "cell_type": "code",
   "execution_count": null,
   "id": "2c15c696",
   "metadata": {},
   "outputs": [],
   "source": [
    "laplacian = rho.laplacian()"
   ]
  },
  {
   "cell_type": "code",
   "execution_count": null,
   "id": "5642bf0d",
   "metadata": {},
   "outputs": [],
   "source": [
    "import matplotlib.pyplot as plt\n",
    "plt.plot(rho.grid.r[2,0,0,:],laplacian[0,0,:])"
   ]
  },
  {
   "cell_type": "code",
   "execution_count": null,
   "id": "202e7536",
   "metadata": {},
   "outputs": [],
   "source": [
    "laplacian.write(\"lap.xsf\",ions=ions)"
   ]
  },
  {
   "cell_type": "code",
   "execution_count": null,
   "id": "dc5add72",
   "metadata": {},
   "outputs": [],
   "source": [
    "pot_xc = XC(rho).potential"
   ]
  },
  {
   "cell_type": "code",
   "execution_count": null,
   "id": "b7755a60",
   "metadata": {},
   "outputs": [],
   "source": [
    "import matplotlib.pyplot as plt\n",
    "plt.plot(rho.grid.r[2,0,0,:],pot_xc[0,0,:])"
   ]
  },
  {
   "cell_type": "code",
   "execution_count": null,
   "id": "1938e196",
   "metadata": {},
   "outputs": [],
   "source": [
    "pot_xc.write(\"xc.xsf\",ions=ions)"
   ]
  },
  {
   "cell_type": "code",
   "execution_count": null,
   "id": "5be57009",
   "metadata": {},
   "outputs": [],
   "source": [
    "import matplotlib.pyplot as plt\n",
    "plt.plot(rho.grid.r[2,0,0,:],rho[0,0,:],label=r\"$n(z)$\")\n",
    "plt.plot(rho.grid.r[2,0,0,:],laplacian[0,0,:],label=r\"$\\nabla^2 n(z)$\")\n",
    "#plt.plot(rho.grid.r[2,0,0,:],pot_xc[0,0,:]+0.3,label=r\"$v_{xc}(z)+0.3$\")\n",
    "#plt.plot(rho.grid.r[2,0,0,:],HARTREE(rho).potential[0,0,:],label=r\"$v_H(z)$\")\n",
    "plt.legend()"
   ]
  },
  {
   "cell_type": "markdown",
   "id": "47197727",
   "metadata": {},
   "source": [
    "### To do something a bit more involved.... compute the Hartree potential using Fourier transforms"
   ]
  },
  {
   "cell_type": "markdown",
   "id": "082ac407",
   "metadata": {},
   "source": [
    "$$\n",
    "v_H(r) = \\int \\frac{n(r')}{|r-r'|}dr'\n",
    "$$\n",
    "\n",
    "But the above is hard to do as it would require $N^2$ operations. \n",
    "\n",
    "Instead, we solve it in reciprocal space recognizing that the Fourier transform ($\\mathcal{F}$) of a convolution is the product of Fourier transforms\n",
    "\n",
    "$$\n",
    "\\mathcal{F}[v_H(r)]= \\tilde{v}_H(G) = \\mathcal{F}[n]\\,\\,\\mathcal{F}\\left[\\frac{1}{|r-r'|}\\right] = \\tilde{n}(G) \\frac{4\\pi}{|G|^2}\n",
    "$$\n",
    "\n",
    "then\n",
    "\n",
    "$$\n",
    "v_H(r)= \\mathcal{F}^{-1}[\\tilde{v}_H(G)]\n",
    "$$"
   ]
  },
  {
   "cell_type": "code",
   "execution_count": null,
   "id": "910c96e6",
   "metadata": {},
   "outputs": [],
   "source": [
    "tilde_rho = rho.fft()"
   ]
  },
  {
   "cell_type": "code",
   "execution_count": null,
   "id": "53e00247",
   "metadata": {},
   "outputs": [],
   "source": [
    "g2 = grid.get_reciprocal().gg"
   ]
  },
  {
   "cell_type": "code",
   "execution_count": null,
   "id": "d45fef97",
   "metadata": {},
   "outputs": [],
   "source": [
    "g2[0,0,0]=1.0 # needed to avoid G=0 singularity - the source of many complications in PBCs"
   ]
  },
  {
   "cell_type": "code",
   "execution_count": null,
   "id": "1180329f",
   "metadata": {},
   "outputs": [],
   "source": [
    "tilde_v_H = tilde_rho * 4 * np.pi / g2"
   ]
  },
  {
   "cell_type": "code",
   "execution_count": null,
   "id": "5daf2adb",
   "metadata": {},
   "outputs": [],
   "source": [
    "tilde_v_H[0,0,0]=0.0 # needed to avoid G=0 singularity - the source of many complications in PBCs"
   ]
  },
  {
   "cell_type": "code",
   "execution_count": null,
   "id": "ff538601",
   "metadata": {},
   "outputs": [],
   "source": [
    "v_H = tilde_v_H.ifft(force_real=True)"
   ]
  },
  {
   "cell_type": "code",
   "execution_count": null,
   "id": "be54d839",
   "metadata": {},
   "outputs": [],
   "source": [
    "plt.plot(rho.grid.r[2,0,0,:],HARTREE(rho).potential[0,0,:],label=r\"$v_H(z)$\")\n",
    "plt.scatter(rho.grid.r[2,0,0,:],v_H[0,0,:],label=r\"Our own $v_H(z)$\")\n",
    "plt.legend()"
   ]
  },
  {
   "cell_type": "markdown",
   "id": "e495640a",
   "metadata": {},
   "source": [
    "# Let's play with the `DirectGrid` object of `DFTpy`"
   ]
  },
  {
   "cell_type": "code",
   "execution_count": null,
   "id": "c54434f7",
   "metadata": {},
   "outputs": [],
   "source": [
    "grid = rho.grid"
   ]
  },
  {
   "cell_type": "code",
   "execution_count": null,
   "id": "2bf30bc8",
   "metadata": {},
   "outputs": [],
   "source": [
    "grid"
   ]
  },
  {
   "cell_type": "code",
   "execution_count": null,
   "id": "a0c9c250",
   "metadata": {},
   "outputs": [],
   "source": [
    "grid.cell"
   ]
  },
  {
   "cell_type": "code",
   "execution_count": null,
   "id": "d63ef4d2",
   "metadata": {},
   "outputs": [],
   "source": [
    "grid.cell[:]"
   ]
  },
  {
   "cell_type": "code",
   "execution_count": null,
   "id": "0ab57265",
   "metadata": {},
   "outputs": [],
   "source": [
    "grid.nr"
   ]
  },
  {
   "cell_type": "code",
   "execution_count": null,
   "id": "891bca30",
   "metadata": {},
   "outputs": [],
   "source": [
    "grid.ecut"
   ]
  },
  {
   "cell_type": "code",
   "execution_count": null,
   "id": "e18613f0",
   "metadata": {},
   "outputs": [],
   "source": [
    "rgrid = grid.get_reciprocal()"
   ]
  },
  {
   "cell_type": "code",
   "execution_count": null,
   "id": "829af808",
   "metadata": {},
   "outputs": [],
   "source": [
    "rgrid.cell[:]"
   ]
  },
  {
   "cell_type": "markdown",
   "id": "901ab1a0",
   "metadata": {},
   "source": [
    "# Now, let's run a dynamics!"
   ]
  },
  {
   "cell_type": "code",
   "execution_count": null,
   "id": "1a0d3bcf",
   "metadata": {},
   "outputs": [],
   "source": [
    "calc = DFTpyCalculator(optimizer = optimizer, evaluator = EnergyEvaluator, rho = rho)"
   ]
  },
  {
   "cell_type": "code",
   "execution_count": null,
   "id": "c195c93c-b74c-412a-8738-2308db884a7d",
   "metadata": {
    "execution": {
     "iopub.execute_input": "2024-06-11T18:17:32.405603Z",
     "iopub.status.busy": "2024-06-11T18:17:32.405321Z",
     "iopub.status.idle": "2024-06-11T18:17:32.410278Z",
     "shell.execute_reply": "2024-06-11T18:17:32.409208Z",
     "shell.execute_reply.started": "2024-06-11T18:17:32.405582Z"
    }
   },
   "outputs": [],
   "source": [
    "# You could \"avoid\" code and simply specify an input file:\n",
    "# conf = DefaultOption()\n",
    "# conf[\"PP\"][\"Al\"] = \"al.lda.recpot\"\n",
    "# conf[\"OPT\"][\"method\"] = \"TN\"\n",
    "# conf[\"KEDF\"][\"kedf\"] = \"WT\"\n",
    "# conf[\"JOB\"][\"calctype\"] = \"Energy Force\"\n",
    "# conf[\"OUTPUT\"][\"time\"] = False\n",
    "# conf = OptionFormat(conf)\n",
    "# calc = DFTpyCalculator(config=conf, mp = mp)"
   ]
  },
  {
   "cell_type": "code",
   "execution_count": null,
   "id": "b8197b9d-c556-4641-be15-9af4eea6a0e9",
   "metadata": {
    "execution": {
     "iopub.execute_input": "2024-06-11T18:17:32.411902Z",
     "iopub.status.busy": "2024-06-11T18:17:32.411510Z",
     "iopub.status.idle": "2024-06-11T18:17:32.420224Z",
     "shell.execute_reply": "2024-06-11T18:17:32.418667Z",
     "shell.execute_reply.started": "2024-06-11T18:17:32.411870Z"
    }
   },
   "outputs": [],
   "source": [
    "atoms.set_calculator(calc)"
   ]
  },
  {
   "cell_type": "code",
   "execution_count": null,
   "id": "d3f043c4-aff2-459f-ab0c-ab3fd25a99df",
   "metadata": {
    "execution": {
     "iopub.execute_input": "2024-06-11T18:17:32.422528Z",
     "iopub.status.busy": "2024-06-11T18:17:32.422145Z",
     "iopub.status.idle": "2024-06-11T18:17:32.428397Z",
     "shell.execute_reply": "2024-06-11T18:17:32.427413Z",
     "shell.execute_reply.started": "2024-06-11T18:17:32.422500Z"
    }
   },
   "outputs": [],
   "source": [
    "T = 1023 # Kelvin\n",
    "np.random.seed(8888)\n",
    "MaxwellBoltzmannDistribution(atoms, temperature_K = T, force_temp=True)"
   ]
  },
  {
   "cell_type": "code",
   "execution_count": null,
   "id": "f77a0560",
   "metadata": {},
   "outputs": [],
   "source": [
    "dyn = Langevin(atoms, 2 * units.fs, temperature_K = T, friction = 0.1, trajectory='md.traj')"
   ]
  },
  {
   "cell_type": "code",
   "execution_count": null,
   "id": "c9a58c5f-aca7-42ec-bbca-b1258c3638e2",
   "metadata": {
    "execution": {
     "iopub.execute_input": "2024-06-11T18:17:32.429724Z",
     "iopub.status.busy": "2024-06-11T18:17:32.429410Z",
     "iopub.status.idle": "2024-06-11T18:17:32.435577Z",
     "shell.execute_reply": "2024-06-11T18:17:32.434277Z",
     "shell.execute_reply.started": "2024-06-11T18:17:32.429697Z"
    }
   },
   "outputs": [],
   "source": [
    "dyn.attach(MDLogger(dyn, atoms, '-', peratom=True), interval=1)"
   ]
  },
  {
   "cell_type": "code",
   "execution_count": null,
   "id": "faa60be0-b42a-4081-a5f6-ff3265eeba6d",
   "metadata": {
    "execution": {
     "iopub.execute_input": "2024-06-11T18:17:34.753963Z",
     "iopub.status.busy": "2024-06-11T18:17:34.753714Z",
     "iopub.status.idle": "2024-06-11T18:17:34.756737Z",
     "shell.execute_reply": "2024-06-11T18:17:34.756368Z",
     "shell.execute_reply.started": "2024-06-11T18:17:34.753912Z"
    }
   },
   "outputs": [],
   "source": [
    "from dftpy.constants import environ\n",
    "environ['LOGLEVEL'] = 3  # turn off the output"
   ]
  },
  {
   "cell_type": "code",
   "execution_count": null,
   "id": "32827d4a-17e0-407a-b5e2-b3a10d8c51e6",
   "metadata": {
    "execution": {
     "iopub.execute_input": "2024-06-11T18:17:34.757496Z",
     "iopub.status.busy": "2024-06-11T18:17:34.757302Z",
     "iopub.status.idle": "2024-06-11T18:17:54.286418Z",
     "shell.execute_reply": "2024-06-11T18:17:54.285568Z",
     "shell.execute_reply.started": "2024-06-11T18:17:34.757482Z"
    }
   },
   "outputs": [],
   "source": [
    "dyn.run(10)"
   ]
  },
  {
   "cell_type": "markdown",
   "id": "31965024",
   "metadata": {},
   "source": [
    "# Let's compute the RDF"
   ]
  },
  {
   "cell_type": "code",
   "execution_count": null,
   "id": "709a2ab5-be5f-4f0f-911a-893fb74e46c0",
   "metadata": {
    "execution": {
     "iopub.execute_input": "2024-06-11T18:17:54.287953Z",
     "iopub.status.busy": "2024-06-11T18:17:54.287685Z",
     "iopub.status.idle": "2024-06-11T18:17:55.005536Z",
     "shell.execute_reply": "2024-06-11T18:17:55.004390Z",
     "shell.execute_reply.started": "2024-06-11T18:17:54.287932Z"
    }
   },
   "outputs": [],
   "source": [
    "from ase.geometry.analysis import Analysis\n",
    "analysis = Analysis(list(Trajectory('md.traj')))\n",
    "rdf = analysis.get_rdf(rmax=atoms.cell.lengths().min()*0.5, nbins=100, return_dists=True)\n",
    "rdf = np.asarray(rdf).mean(axis=0)"
   ]
  },
  {
   "cell_type": "code",
   "execution_count": null,
   "id": "cbad929f",
   "metadata": {},
   "outputs": [],
   "source": [
    "np.save(\"Al_rdf\",rdf)"
   ]
  },
  {
   "cell_type": "code",
   "execution_count": null,
   "id": "d69bd788-eece-4c22-bc08-33ed47ec74e6",
   "metadata": {
    "execution": {
     "iopub.execute_input": "2024-06-11T18:17:55.007321Z",
     "iopub.status.busy": "2024-06-11T18:17:55.006656Z",
     "iopub.status.idle": "2024-06-11T18:17:55.664828Z",
     "shell.execute_reply": "2024-06-11T18:17:55.664057Z",
     "shell.execute_reply.started": "2024-06-11T18:17:55.007280Z"
    }
   },
   "outputs": [],
   "source": [
    "import matplotlib.pyplot as plt\n",
    "plt.plot(rdf[1], rdf[0])\n",
    "plt.xlim(1,6)"
   ]
  },
  {
   "cell_type": "markdown",
   "id": "359c64ed",
   "metadata": {},
   "source": [
    "# Want to get something comparable to experiments? \n",
    "\n",
    "1) export this notebook as python code (.py)\n",
    "2) uncomment the second cell to be able to run in parallel (notebook can't yet):\n",
    "```\n",
    "# from mpi4py import MPI \n",
    "# mp.comm = MPI.COMM_WORLD\n",
    "```\n",
    "3) increase the number of dynamics steps to at least 3000\n",
    "4) Submit to the cludster!"
   ]
  },
  {
   "cell_type": "code",
   "execution_count": null,
   "id": "f47d8db6",
   "metadata": {},
   "outputs": [],
   "source": []
  }
 ],
 "metadata": {
  "hide_input": false,
  "kernelspec": {
   "display_name": "Python 3 (ipykernel)",
   "language": "python",
   "name": "python3"
  },
  "language_info": {
   "codemirror_mode": {
    "name": "ipython",
    "version": 3
   },
   "file_extension": ".py",
   "mimetype": "text/x-python",
   "name": "python",
   "nbconvert_exporter": "python",
   "pygments_lexer": "ipython3",
   "version": "3.10.13"
  }
 },
 "nbformat": 4,
 "nbformat_minor": 5
}
