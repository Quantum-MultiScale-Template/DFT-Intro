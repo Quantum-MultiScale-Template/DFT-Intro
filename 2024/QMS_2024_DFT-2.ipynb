{
 "cells": [
  {
   "cell_type": "code",
   "execution_count": null,
   "id": "bb7cb1c6",
   "metadata": {
    "hide_input": false,
    "slideshow": {
     "slide_type": "skip"
    }
   },
   "outputs": [],
   "source": [
    "#hidden cell to be executed BEFORE the presentation\n",
    "import warnings\n",
    "warnings.filterwarnings('ignore')\n",
    "import numpy as np\n",
    "import dftpy\n",
    "from dftpy.ions import Ions\n",
    "from dftpy.field import DirectField\n",
    "from dftpy.grid import DirectGrid\n",
    "from dftpy.functional import LocalPseudo, Functional, TotalFunctional\n",
    "from dftpy.formats import io\n",
    "from dftpy.math_utils import ecut2nr\n",
    "from dftpy.time_data import TimeData\n",
    "from dftpy.optimization import Optimization\n",
    "from dftpy.mpi import sprint\n",
    "from IPython.lib.display import YouTubeVideo\n",
    "from IPython.display import IFrame\n",
    "from ase.visualize import view\n",
    "PP_list = {'Al': 'Al_lda.oe01.recpot'}\n",
    "#import fortecubeview"
   ]
  },
  {
   "cell_type": "markdown",
   "id": "7d9a999c",
   "metadata": {
    "slideshow": {
     "slide_type": "slide"
    }
   },
   "source": [
    "<center>\n",
    "    <h1>KS DFT, nonlocal PPs and simulations with the QE-powered <b>QEpy</b></h1>\n",
    "<center>\n",
    "<br>\n",
    "<table>\n",
    "  <tr>\n",
    "      <td><p><h1>Team Rutgers</h1></p><p><h2>Rutgers University-Newark</h2></p></td>\n",
    "      <td><img src=\"figures/logos/run.png\" width=300 height=300 /></td>\n",
    "  </tr>\n",
    "  <tr>\n",
    "    <td></td>\n",
    "    <td> http://prg.rutgers.edu</td>\n",
    "  </tr>\n",
    "</table>\n",
    "<br>\n",
    "<br>\n",
    "<br>\n",
    "\n",
    "#### Quantum Multiscale School -- Boise, Idaho -- June 24-28, 2024\n"
   ]
  },
  {
   "cell_type": "markdown",
   "id": "1437baf0",
   "metadata": {
    "slideshow": {
     "slide_type": "slide"
    }
   },
   "source": [
    "# Goals of this lecture + hands-on session\n",
    "- More in depth analysis of KS-DFT\n",
    "- Nonlocal part of pseudopotentials\n",
    "- The Self-consistent Field method\n",
    "    - Handling occupations (smearing)\n",
    "    - Handling density mixing (convergence accelerators)\n",
    "- Account of periodicity (Bloch theorem)\n",
    "    - Handling k-point sampling"
   ]
  },
  {
   "cell_type": "markdown",
   "id": "e79636b0",
   "metadata": {
    "slideshow": {
     "slide_type": "slide"
    }
   },
   "source": [
    "# Solvers\n",
    "<br>\n",
    "<br>\n",
    "<table border=\"1\" style=\"width:100%; text-align:center;\">\n",
    "    <tr>\n",
    "        <th></th>\n",
    "        <th style=\"text-align:center;border-right: 2px solid red;padding: 40px;\">OF-DFT</th>\n",
    "        <th style=\"text-align:center;\">KS-DFT</th>\n",
    "    </tr>\n",
    "    <tr>\n",
    "        <th style=\"text-align:center;padding: 40px;\">Direct Minimization</th>\n",
    "        <td style=\"text-align:center; border-right: 2px solid red; background-color: lightgreen;\">\n",
    "            \\( n_0(\\mathbf{r})=\\arg\\underset{n}\\min\\big\\{ \\mathcal{L}_{OF}[n]\\big\\} \\)\n",
    "        </td>\n",
    "        <td style=\"text-align:center;\">\n",
    "            \\( \\{\\phi_i^0\\} = \\arg\\underset{\\{\\phi_i\\}}\\min\\big\\{ \\mathcal{L}_{KS}[\\{\\phi_i\\}]\\big\\} \\)\n",
    "        </td>\n",
    "    </tr>\n",
    "    <tr>\n",
    "        <th style=\"text-align:center;padding: 40px;\">SCF</th>\n",
    "        <td style=\"text-align:center;border-right: 2px solid red; \">\n",
    "            \\( -\\frac{1}{2}\\nabla^2 \\sqrt{n(r)} + v_B(r)\\sqrt{n(r)} = \\mu\\sqrt{n(r)}\\)\n",
    "        </td>\n",
    "        <td style=\"text-align:center;background-color: lightgreen;\">\n",
    "            \\( -\\frac{1}{2}\\nabla^2 \\phi_i(r) + v_s(r)\\phi_i(r) = \\varepsilon_i\\phi_i(r)\\)\n",
    "        </td>\n",
    "    </tr>\n",
    "</table>\n"
   ]
  },
  {
   "cell_type": "markdown",
   "id": "71cd46c9",
   "metadata": {
    "slideshow": {
     "slide_type": "slide"
    }
   },
   "source": [
    "# Basis sets (discretization)\n",
    "\n",
    "To be able to run simulations, we need to discretize the space in which the KS and OF wavefunctions / densities live. We will consider plane waves (PW) and Gaussian-type orbitals (GTOs). The general idea is the following:\n",
    "$$\n",
    "\\phi_i(r) = \\sum_\\mu^M c_\\mu \\chi_\\mu(r) \\text{, where } \\chi_\\mu \\text{ are basis functions}\n",
    "$$"
   ]
  },
  {
   "cell_type": "markdown",
   "id": "de127b5d",
   "metadata": {
    "slideshow": {
     "slide_type": "fragment"
    }
   },
   "source": [
    "<table border=\"1\" style=\"width:100%; text-align:center;\">\n",
    "    <tr>\n",
    "        <th></th>\n",
    "        <th style=\"text-align:center;border-right: 2px solid red;padding: 40px;\">GTOs</th>\n",
    "        <th style=\"text-align:center;\">PW</th>\n",
    "    </tr>\n",
    "    <tr>\n",
    "        <th style=\"text-align:center;padding: 40px;\">Definition</th>\n",
    "        <td style=\"text-align:center; border-right: 2px solid red;\">\n",
    "            \\( \\chi_\\mu(r) = x^{i_\\mu}y^{j_\\mu}z^{k_\\mu} e^{-\\frac{|r-R_\\mu|^2}{2\\sigma_\\mu^2}} \\)\n",
    "        </td>\n",
    "        <td style=\"text-align:center;\">\n",
    "            \\( \\chi_\\mu(r) = \\frac{1}{\\sqrt{\\Omega}} e^{i G_\\mu \\cdot r},\\,\\,G_\\mu = \\left(\\frac{2\\pi\\, i_\\mu}{a},\\frac{2\\pi\\, j_\\mu}{b},\\frac{2\\pi\\, k_\\mu}{c}\\right)\\)\n",
    "        </td>\n",
    "    </tr>\n",
    "    <tr>\n",
    "        <th style=\"text-align:center;padding: 40px;\">Location</th>\n",
    "        <td style=\"text-align:center;border-right: 2px solid red;\">\n",
    "            \\( R_\\mu \\in \\text{centers of atoms}\\)\n",
    "        </td>\n",
    "        <td style=\"text-align:center;\">\n",
    "            Spread out throughout the simulation cell\n",
    "        </td>\n",
    "    </tr>\n",
    "    <tr>\n",
    "        <th style=\"text-align:center;padding: 40px;\">Number of functions</th>\n",
    "        <td style=\"text-align:center;border-right: 2px solid red;\">\n",
    "            \\( \\simeq 10 \\) per atom\n",
    "        </td>\n",
    "        <td style=\"text-align:center;\">\n",
    "            \\( \\propto \\Omega = a \\cdot b \\cdot c \\), generally \\( 10^4 \\) to \\( 10^6 \\)\n",
    "        </td>\n",
    "    </tr>\n",
    "    <tr>\n",
    "        <th style=\"text-align:center;padding: 40px;\">Handling eN potential</th>\n",
    "        <td style=\"text-align:center;border-right: 2px solid red;\">\n",
    "            <center><img src=\"./figures/science/fullpot.png\" alt=\"GTOs image\" width=400 ></center>\n",
    "        </td>\n",
    "        <td style=\"text-align:center;\">\n",
    "            <center><img src=\"./figures/science/pseudopot.png\" alt=\"PW image\" width=400 ></center>\n",
    "        </td>\n",
    "    </tr>\n",
    "</table>\n"
   ]
  },
  {
   "cell_type": "markdown",
   "id": "d558281f",
   "metadata": {
    "slideshow": {
     "slide_type": "slide"
    }
   },
   "source": [
    "# Valence and Core orbitals\n",
    "<br>\n",
    "<br>\n",
    "<center><img src=\"./figures/science/pseudo_core.png\" alt=\"econf\" width=800 >"
   ]
  },
  {
   "cell_type": "markdown",
   "id": "8342a275",
   "metadata": {
    "slideshow": {
     "slide_type": "slide"
    }
   },
   "source": [
    "<h1> Local and <span style=\"color: red;\">nonlocal</span> parts of the pseudo potential</h1>"
   ]
  },
  {
   "cell_type": "markdown",
   "id": "a67d08ff",
   "metadata": {
    "slideshow": {
     "slide_type": "fragment"
    }
   },
   "source": [
    "<h2>What is the non-local pseudo-potential?</h2>"
   ]
  },
  {
   "cell_type": "markdown",
   "id": "1e732d96",
   "metadata": {
    "slideshow": {
     "slide_type": "fragment"
    }
   },
   "source": [
    "- NL-PPs make sure valence orbitals are orthogonal to core orbitals\n",
    "- NL-PPs are present in all KS-DFT PPs\n",
    "- OF-DFT cannot use NL-PPs <span style=\"color: red;\">because there are no orbitals!</span>"
   ]
  },
  {
   "cell_type": "markdown",
   "id": "fd24259c",
   "metadata": {
    "slideshow": {
     "slide_type": "fragment"
    }
   },
   "source": [
    "The idea is: apply Gram-Schmidt orthogonalization to the set of valence, $|\\phi\\rangle$, and core, $|\\text{core}\\rangle$, electrons:\n",
    "$$\n",
    "|\\phi\\rangle \\to |\\phi\\rangle - |\\text{core}\\rangle\\langle\\text{core}|\\phi\\rangle = \\bigg[ 1 - |\\text{core}\\rangle\\langle\\text{core}| \\bigg] |\\phi\\rangle \n",
    "$$"
   ]
  },
  {
   "cell_type": "markdown",
   "id": "6706f9de",
   "metadata": {
    "slideshow": {
     "slide_type": "fragment"
    }
   },
   "source": [
    "<center>\n",
    "<div class=\"alert alert-warning\">$\\hat{P}_{nl}=\\bigg[ 1 - |\\text{core}\\rangle\\langle\\text{core}| \\bigg]$ is the <b>non-local pseudopotential</b></div>\n",
    "</center>"
   ]
  },
  {
   "cell_type": "markdown",
   "id": "8fdc98ed",
   "metadata": {
    "slideshow": {
     "slide_type": "fragment"
    }
   },
   "source": [
    "<center>\n",
    "    <div class=\"alert alert-success\">$$v_{eN}(r) \\to v_{PP}^{loc}(r) + \\hat v_{PP}^{non-loc}$$</div>\n",
    "</center>"
   ]
  },
  {
   "cell_type": "markdown",
   "id": "13158e9c",
   "metadata": {
    "slideshow": {
     "slide_type": "slide"
    }
   },
   "source": [
    "# The Self-Consistent Field Method"
   ]
  },
  {
   "cell_type": "markdown",
   "id": "eba15cfa",
   "metadata": {
    "slideshow": {
     "slide_type": "fragment"
    }
   },
   "source": [
    "The KS equations $-\\frac{1}{2}\\nabla^2 \\phi_i(r) + v_s(r)\\phi_i(r) = \\varepsilon_i\\phi_i(r)$ feature $v_s(r)$ which depends on the density:\n",
    "<br>\n",
    "<br>\n",
    "$$\n",
    "v_s[n](r) = \\frac{\\delta E_{H}[n]}{\\delta n(r)} + \\frac{\\delta E_{xc}[n]}{\\delta n(r)} + v_{eN}(r)\n",
    "$$"
   ]
  },
  {
   "cell_type": "markdown",
   "id": "9c2f3760",
   "metadata": {
    "slideshow": {
     "slide_type": "fragment"
    }
   },
   "source": [
    "But the density depends on the KS orbitals, $\\{\\phi_i(r)\\}$:\n",
    "<br>\n",
    "<br>\n",
    "$$\n",
    "n(r) = \\sum_i n_i |\\phi_i(r)|^2\\,\\, n_i \\text{ are the occupation numbers.}\n",
    "$$"
   ]
  },
  {
   "cell_type": "markdown",
   "id": "bf473b04",
   "metadata": {
    "slideshow": {
     "slide_type": "subslide"
    }
   },
   "source": [
    "<center>\n",
    "<div class=\"alert alert-danger\">Can the problem be solved?</div>\n",
    "</center>"
   ]
  },
  {
   "cell_type": "markdown",
   "id": "4be6a882",
   "metadata": {
    "slideshow": {
     "slide_type": "fragment"
    }
   },
   "source": [
    "<center>\n",
    "<img src=\"./figures/science/SCF_scheme.png\" width=1200 \\>\n",
    "</center>"
   ]
  },
  {
   "cell_type": "markdown",
   "id": "914f101b",
   "metadata": {
    "slideshow": {
     "slide_type": "fragment"
    }
   },
   "source": [
    "<center>\n",
    "<div class=\"alert alert-success\">Most times it converges :)</div>\n",
    "</center>"
   ]
  },
  {
   "cell_type": "markdown",
   "id": "0c80c6bf",
   "metadata": {
    "slideshow": {
     "slide_type": "slide"
    }
   },
   "source": [
    "# Setting up QEpy and QE's input file for KS-DFT"
   ]
  },
  {
   "cell_type": "code",
   "execution_count": null,
   "id": "432ec200",
   "metadata": {
    "slideshow": {
     "slide_type": "fragment"
    }
   },
   "outputs": [],
   "source": [
    "from qepy.driver import Driver\n",
    "from qepy.io import QEInput"
   ]
  },
  {
   "cell_type": "code",
   "execution_count": null,
   "id": "922915e0",
   "metadata": {
    "slideshow": {
     "slide_type": "fragment"
    }
   },
   "outputs": [],
   "source": [
    "IFrame(src=\"https://www.quantum-espresso.org/Doc/INPUT_PW.html\",width=1250, height=600)"
   ]
  },
  {
   "cell_type": "markdown",
   "id": "f913beaf",
   "metadata": {
    "slideshow": {
     "slide_type": "slide"
    }
   },
   "source": [
    "### QEpy's input file is a dictionary containing QE's input keywords"
   ]
  },
  {
   "cell_type": "code",
   "execution_count": null,
   "id": "4569226b",
   "metadata": {
    "slideshow": {
     "slide_type": "fragment"
    }
   },
   "outputs": [],
   "source": [
    "from dftpy.formats import download_files\n",
    "additional_files = {'Al.pbe-nl-kjpaw_psl.1.0.0.UPF' : 'https://pseudopotentials.quantum-espresso.org/upf_files/Al.pbe-nl-kjpaw_psl.1.0.0.UPF'}\n",
    "download_files(additional_files)"
   ]
  },
  {
   "cell_type": "code",
   "execution_count": null,
   "id": "884cceea",
   "metadata": {
    "slideshow": {
     "slide_type": "fragment"
    }
   },
   "outputs": [],
   "source": [
    "qe_options = {\n",
    "    '&control': {\n",
    "        'calculation': \"'scf'\",\n",
    "        'pseudo_dir': \"'./'\",\n",
    "    },\n",
    "    '&system': {\n",
    "        'ibrav' : 0,\n",
    "        'degauss': 0.005,\n",
    "        'ecutwfc': 30,\n",
    "        'occupations': \"'smearing'\"\n",
    "    },\n",
    "    'atomic_species': ['Al  26.98 Al.pbe-nl-kjpaw_psl.1.0.0.UPF'],\n",
    "    'k_points gamma': [],\n",
    "}"
   ]
  },
  {
   "cell_type": "code",
   "execution_count": null,
   "id": "4ced8f55",
   "metadata": {
    "slideshow": {
     "slide_type": "fragment"
    }
   },
   "outputs": [],
   "source": [
    "#!cat Al.pbe-nl-kjpaw_psl.1.0.0.UPF"
   ]
  },
  {
   "cell_type": "code",
   "execution_count": null,
   "id": "58e1f57b",
   "metadata": {
    "slideshow": {
     "slide_type": "fragment"
    }
   },
   "outputs": [],
   "source": [
    "options = {\n",
    "    '&electrons': {\n",
    "        'mixing_beta': 0.5},\n",
    "    'cell_parameters angstrom':[\n",
    "        '0.     2.025  2.025',\n",
    "        '2.025  0.     2.025',\n",
    "        '2.025  2.025  0.   '],\n",
    "    'atomic_positions crystal': ['Al    0.0  0.0  0.0'],\n",
    "    'k_points automatic': ['6 6 6 1 1 1'],\n",
    "}"
   ]
  },
  {
   "cell_type": "markdown",
   "id": "b33008c3",
   "metadata": {
    "slideshow": {
     "slide_type": "slide"
    }
   },
   "source": [
    "# Wait... what?"
   ]
  },
  {
   "cell_type": "markdown",
   "id": "62241caf",
   "metadata": {
    "slideshow": {
     "slide_type": "fragment"
    }
   },
   "source": [
    "## $\\bullet$ smearing?\n",
    "## $\\bullet$ mixing_beta?\n",
    "## $\\bullet$ k-points?\n",
    "## $\\bullet$ DFT functionals?"
   ]
  },
  {
   "cell_type": "markdown",
   "id": "148ab3e7",
   "metadata": {
    "slideshow": {
     "slide_type": "fragment"
    }
   },
   "source": [
    "Let's first run QEpy and solve the SCF for our simple Al system:"
   ]
  },
  {
   "cell_type": "code",
   "execution_count": null,
   "id": "c328a7f3",
   "metadata": {
    "slideshow": {
     "slide_type": "fragment"
    }
   },
   "outputs": [],
   "source": [
    "qe_options = QEInput.update_options(options, qe_options=qe_options)"
   ]
  },
  {
   "cell_type": "code",
   "execution_count": null,
   "id": "dd7a9c40",
   "metadata": {
    "slideshow": {
     "slide_type": "fragment"
    }
   },
   "outputs": [],
   "source": [
    "driver = Driver(qe_options=qe_options, logfile=True)\n",
    "%timeit -n1 -r1 driver.scf() "
   ]
  },
  {
   "cell_type": "markdown",
   "id": "0187e746",
   "metadata": {
    "slideshow": {
     "slide_type": "slide"
    }
   },
   "source": [
    "# Smearing"
   ]
  },
  {
   "cell_type": "markdown",
   "id": "4c7c10d4",
   "metadata": {
    "slideshow": {
     "slide_type": "fragment"
    }
   },
   "source": [
    "$$\n",
    "n(r) = \\sum_i n_i |\\phi_i(r)|^2,\\qquad \\{n_i\\} \\text{ are the occupation numbers.}\n",
    "$$"
   ]
  },
  {
   "cell_type": "markdown",
   "id": "a8890cef",
   "metadata": {
    "slideshow": {
     "slide_type": "fragment"
    }
   },
   "source": [
    "Consider the electronic DOS of Aluminum:\n",
    "\n",
    "<center><img src=\"figures/science/DOS_example.png\" width=1000 /></center>"
   ]
  },
  {
   "cell_type": "markdown",
   "id": "ed54b524",
   "metadata": {
    "slideshow": {
     "slide_type": "fragment"
    }
   },
   "source": [
    "<center>\n",
    "<div class=\"alert alert-danger\">Not possible to use integer occupations. The SCF would never converge!</div>\n",
    "</center>"
   ]
  },
  {
   "cell_type": "markdown",
   "id": "16767177",
   "metadata": {
    "slideshow": {
     "slide_type": "slide"
    }
   },
   "source": [
    "# Types of smearing"
   ]
  },
  {
   "cell_type": "markdown",
   "id": "bfdb498b",
   "metadata": {
    "slideshow": {
     "slide_type": "fragment"
    }
   },
   "source": [
    "<b>Gaussian</b>: $$n_i = \\frac{1}{2}\\text{Erfc}\\left[\\frac{|\\varepsilon_i-\\mu|}{\\text{degauss}}\\right]$$"
   ]
  },
  {
   "cell_type": "markdown",
   "id": "b66db024",
   "metadata": {
    "slideshow": {
     "slide_type": "fragment"
    }
   },
   "source": [
    "<b>Fermi-Dirac</b>: $$n_i = \\left[ e^{\\frac{|\\varepsilon_i-\\mu|}{\\text{degauss}}}+1\\right]^{-1}$$"
   ]
  },
  {
   "cell_type": "markdown",
   "id": "68476422",
   "metadata": {
    "slideshow": {
     "slide_type": "fragment"
    }
   },
   "source": [
    "<b>Others</b>: To be used in specific situations (semicondictors, or others), see [m-p](https://journals.aps.org/prb/abstract/10.1103/PhysRevB.40.3616) and [m-v](https://journals.aps.org/prl/abstract/10.1103/PhysRevLett.82.3296)."
   ]
  },
  {
   "cell_type": "markdown",
   "id": "1e40d9b6",
   "metadata": {
    "slideshow": {
     "slide_type": "slide"
    }
   },
   "source": [
    "# Density mixing"
   ]
  },
  {
   "cell_type": "markdown",
   "id": "1915ad52",
   "metadata": {
    "slideshow": {
     "slide_type": "fragment"
    }
   },
   "source": [
    "Broyden, Pulay (DIIS), ..., are SCF convergence accelerators. They all share the same logic:"
   ]
  },
  {
   "cell_type": "markdown",
   "id": "8bb98e8a",
   "metadata": {
    "slideshow": {
     "slide_type": "fragment"
    }
   },
   "source": [
    "1) Consider a trial of densities $\\{ n_i(r) \\}$ which are outputs of the $i$-th SCF cycle."
   ]
  },
  {
   "cell_type": "markdown",
   "id": "aec0ab91",
   "metadata": {
    "slideshow": {
     "slide_type": "fragment"
    }
   },
   "source": [
    "2) The converged (SCF) density is given as linear combination of the trials, $n = \\sum_i c_i n_i$."
   ]
  },
  {
   "cell_type": "markdown",
   "id": "8fd04f29",
   "metadata": {
    "slideshow": {
     "slide_type": "fragment"
    }
   },
   "source": [
    "3) The \"best\" coefficients at each SCF step are found minimizing the error vector with respect to the coefficients. The error in QE is given by $R = \\sum_i c_i R_i$ which is given in terms of the density residue, $\\delta n_i = n_i - n_{i-1}$, as $R_i = \\int \\frac{\\delta n_i(r)\\delta n_i(r')}{|r-r'|}drdr'$."
   ]
  },
  {
   "cell_type": "markdown",
   "id": "fcaaf54e",
   "metadata": {
    "slideshow": {
     "slide_type": "fragment"
    }
   },
   "source": [
    "4) A new density is generated with the new coefficients and the trial vectors to be reinserted in the SCF loop."
   ]
  },
  {
   "cell_type": "markdown",
   "id": "cc5fb725",
   "metadata": {
    "slideshow": {
     "slide_type": "subslide"
    }
   },
   "source": [
    "# Example with QEpy"
   ]
  },
  {
   "cell_type": "markdown",
   "id": "809408f3",
   "metadata": {
    "slideshow": {
     "slide_type": "fragment"
    }
   },
   "source": [
    "Let's run QEpy with default QE's Broyden mixing:"
   ]
  },
  {
   "cell_type": "code",
   "execution_count": null,
   "id": "8e6c388d",
   "metadata": {
    "slideshow": {
     "slide_type": "fragment"
    }
   },
   "outputs": [],
   "source": [
    "driver=Driver(qe_options=qe_options, iterative = True, logfile='tmp.out') \n",
    "for i in range(60):\n",
    "    driver.diagonalize()\n",
    "    driver.mix()\n",
    "    converged = driver.check_convergence()\n",
    "    print ('Iter: ',i,' - Conv: ', driver.get_scf_error())\n",
    "    if converged : break\n",
    "driver.calc_energy()"
   ]
  },
  {
   "cell_type": "markdown",
   "id": "241b0fd1",
   "metadata": {
    "slideshow": {
     "slide_type": "fragment"
    }
   },
   "source": [
    "<center>\n",
    "    <div class=\"alert alert-success\">Remember: 3 iterations.</div>\n",
    "</center>"
   ]
  },
  {
   "cell_type": "markdown",
   "id": "00024802",
   "metadata": {
    "slideshow": {
     "slide_type": "subslide"
    }
   },
   "source": [
    "Let's run QEpy with a simple linear mixing, $n \\to \\alpha \\, n_\\text{prev} + (1- \\alpha) \\, n$"
   ]
  },
  {
   "cell_type": "code",
   "execution_count": null,
   "id": "9ff18515",
   "metadata": {
    "slideshow": {
     "slide_type": "subslide"
    }
   },
   "outputs": [],
   "source": [
    "from dftpy.functional import Hartree \n",
    "driver=Driver(qe_options=qe_options, iterative = True, logfile='tmp.1.out') \n",
    "rho = driver.get_density().copy()\n",
    "alpha = 0.7\n",
    "for i in range(20):\n",
    "    driver.diagonalize()\n",
    "    #\n",
    "    rho_new = driver.get_density().copy()\n",
    "    drho = driver.data2field(rho_new-rho)\n",
    "    error = Hartree.compute(drho).energy\n",
    "    nc = np.abs(drho).sum()*driver.get_volume()/drho.size\n",
    "    print ('Iter: ',i,' - Conv: ', error, 'dN:', nc)\n",
    "    if error < 1e-8:\n",
    "        driver.end_scf()\n",
    "        break\n",
    "    #\n",
    "    rho = (1-alpha)*rho + alpha * rho_new\n",
    "    driver.set_density(rho)\n",
    "driver.calc_energy()"
   ]
  },
  {
   "cell_type": "markdown",
   "id": "e28e28f7",
   "metadata": {
    "slideshow": {
     "slide_type": "fragment"
    }
   },
   "source": [
    "<center>\n",
    "    <div class=\"alert alert-danger\">5 iterations...</div>\n",
    "</center>"
   ]
  },
  {
   "cell_type": "markdown",
   "id": "069da779",
   "metadata": {
    "slideshow": {
     "slide_type": "fragment"
    }
   },
   "source": [
    "<center>\n",
    "    <div class=\"alert alert-success\">Density mixing <b>does</b> improve convergence.</div>\n",
    "</center>"
   ]
  },
  {
   "cell_type": "markdown",
   "id": "8ab3549d",
   "metadata": {
    "slideshow": {
     "slide_type": "slide"
    }
   },
   "source": [
    "# Bloch theorem and k-point sampling"
   ]
  },
  {
   "cell_type": "markdown",
   "id": "60dc28ab",
   "metadata": {
    "slideshow": {
     "slide_type": "fragment"
    }
   },
   "source": [
    "1) Solids have periodic potentials:\n",
    "$$\n",
    "v_{eN}(r+n\\hat a) = v_{eN}(r),\\,\\, \\text{where } \\hat a \\text{ is a lattice vector.}\n",
    "$$"
   ]
  },
  {
   "cell_type": "markdown",
   "id": "d892c1de",
   "metadata": {
    "slideshow": {
     "slide_type": "fragment"
    }
   },
   "source": [
    "<center><img src=\"figures/science/periodic_pot.png\" width=1300 /></center>"
   ]
  },
  {
   "cell_type": "markdown",
   "id": "70ab3c43",
   "metadata": {
    "slideshow": {
     "slide_type": "fragment"
    }
   },
   "source": [
    "2) Bloch theorem states that the group of translations comes with 3 quantum numbers $\\vec k = (k_a, k_b, k_c)$ representing translations along the 3 lattice vectors. The wavefunctions will be labelled by $k$ (dropped $\\vec k$ for a lighter notation):\n",
    "$$\n",
    "\\phi_i \\to \\phi_{ik} = e^{ik\\cdot r} u_{ik}(r), \\,\\, k\\in \\text{First Brillouin Zone (FBZ)}\n",
    "$$\n",
    "\n",
    "FBZ: the set of $k$ vectors generating a phase $e^{ik\\cdot r}$ that is periodic by no less than a full cell length ($k_{a/b/c} \\leq 0.5$)."
   ]
  },
  {
   "cell_type": "markdown",
   "id": "2365544d",
   "metadata": {
    "slideshow": {
     "slide_type": "slide"
    }
   },
   "source": [
    "# K-point sampling example with QEpy"
   ]
  },
  {
   "cell_type": "markdown",
   "id": "7ef43ded",
   "metadata": {
    "slideshow": {
     "slide_type": "fragment"
    }
   },
   "source": [
    "1) First, let's see how many orbitals (bands) we have."
   ]
  },
  {
   "cell_type": "code",
   "execution_count": null,
   "id": "c65da599",
   "metadata": {
    "slideshow": {
     "slide_type": "fragment"
    }
   },
   "outputs": [],
   "source": [
    "print(f\"Number of orbitals (bands) considered by QE: {driver.get_number_of_bands()}\") "
   ]
  },
  {
   "cell_type": "markdown",
   "id": "464c4a18",
   "metadata": {
    "slideshow": {
     "slide_type": "fragment"
    }
   },
   "source": [
    "2) Let's take a look at the irreducible k-points considered by QE."
   ]
  },
  {
   "cell_type": "code",
   "execution_count": null,
   "id": "94b90472",
   "metadata": {
    "slideshow": {
     "slide_type": "fragment"
    }
   },
   "outputs": [],
   "source": [
    "driver.get_ibz_k_points()"
   ]
  },
  {
   "cell_type": "markdown",
   "id": "f533e0a7",
   "metadata": {
    "slideshow": {
     "slide_type": "fragment"
    }
   },
   "source": [
    "3) Check that the total number of electrons is the sum of all occupations (times the k-point weight) over all k-points and all bands:"
   ]
  },
  {
   "cell_type": "code",
   "execution_count": null,
   "id": "ee35a788",
   "metadata": {
    "slideshow": {
     "slide_type": "fragment"
    }
   },
   "outputs": [],
   "source": [
    "N=[]\n",
    "for i in range(driver.get_number_of_k_points()):\n",
    "    N.append(driver.get_occupation_numbers(kpt=i).sum())\n",
    "N=np.asarray(N)\n",
    "N.sum()"
   ]
  },
  {
   "cell_type": "markdown",
   "id": "ab647718",
   "metadata": {
    "slideshow": {
     "slide_type": "slide"
    }
   },
   "source": [
    "# DFT functionals"
   ]
  },
  {
   "cell_type": "markdown",
   "id": "395ae579",
   "metadata": {
    "slideshow": {
     "slide_type": "fragment"
    }
   },
   "source": [
    "<b>Pure functionals</b>, dependent on $n(r)$, $|\\nabla n(r)|$, $\\nabla^2 n(r)$ and or $\\tau_{s}(r) = \\frac{1}{2}\\sum_i n_i |\\nabla\\phi_i(r)|^2$:\n",
    "- LDA\n",
    "- PBE (GGA)\n",
    "- SCAN (meta-GGA)"
   ]
  },
  {
   "cell_type": "markdown",
   "id": "0f0d0c6d",
   "metadata": {
    "slideshow": {
     "slide_type": "fragment"
    }
   },
   "source": [
    "<b>Hybrid functionals</b>, dependent on pure functionals and on HF exchange, $E_x^{HF}[\\{\\phi\\}]$.\n",
    "- PBE0\n",
    "- B3LYP\n",
    "- HSE"
   ]
  },
  {
   "cell_type": "markdown",
   "id": "ff15ba80",
   "metadata": {
    "slideshow": {
     "slide_type": "fragment"
    }
   },
   "source": [
    "<b>Hubbard functionals</b> which are inspired by GW and will be discussed later (Iurii Timorov).\n",
    "- GGA+U, GGA+U+V"
   ]
  },
  {
   "cell_type": "markdown",
   "id": "190b99ab",
   "metadata": {
    "slideshow": {
     "slide_type": "slide"
    }
   },
   "source": [
    "# The self-interaction error in DFT"
   ]
  },
  {
   "cell_type": "markdown",
   "id": "e075e72d",
   "metadata": {
    "slideshow": {
     "slide_type": "fragment"
    }
   },
   "source": [
    "There are constraints that are hard to satisfy, chiefly among them:"
   ]
  },
  {
   "cell_type": "markdown",
   "id": "0dd0029d",
   "metadata": {
    "slideshow": {
     "slide_type": "fragment"
    }
   },
   "source": [
    "- An electron should not interact with itself!"
   ]
  },
  {
   "cell_type": "markdown",
   "id": "54279c91",
   "metadata": {
    "slideshow": {
     "slide_type": "fragment"
    }
   },
   "source": [
    "- $E_x[n] = - E_{H}[n]$ for 1 and 2 electron systems. Not for any other system.\n",
    "    - LDA and PBE don't even try to satisfy this constraint\n",
    "    - SCAN does by comparing $\\tau_s(r)$ with $\\tau_{vW}(r)$, but it needs to interpolate. The interpolation is tricky."
   ]
  },
  {
   "cell_type": "markdown",
   "id": "d0d8f672",
   "metadata": {
    "slideshow": {
     "slide_type": "fragment"
    }
   },
   "source": [
    "- You will often see the following picture from <a href=\"https://www.science.org/doi/abs/10.1126/science.1158722\">this paper</a> which fully describes this issue"
   ]
  },
  {
   "cell_type": "markdown",
   "id": "c84b78ce",
   "metadata": {
    "slideshow": {
     "slide_type": "fragment"
    }
   },
   "source": [
    "<center><img src=\"./figures/science/SIE.png\" width = 1000 /></center>"
   ]
  },
  {
   "cell_type": "markdown",
   "id": "ceb95b4b",
   "metadata": {
    "slideshow": {
     "slide_type": "slide"
    }
   },
   "source": [
    "# Ready for some hands-on work?"
   ]
  },
  {
   "cell_type": "markdown",
   "id": "e2e903ff",
   "metadata": {
    "slideshow": {
     "slide_type": "fragment"
    }
   },
   "source": [
    "- KS-DFT with QEpy and QE\n",
    "- Band structures and DOS\n",
    "- Equation of state: equilibrium volume and energy, bulk modulus\n",
    "- Convergence tests (PW cutoff, k-point sampling, smearing parameters)"
   ]
  }
 ],
 "metadata": {
  "celltoolbar": "Slideshow",
  "hide_input": false,
  "kernelspec": {
   "display_name": "Python 3 (ipykernel)",
   "language": "python",
   "name": "python3"
  },
  "language_info": {
   "codemirror_mode": {
    "name": "ipython",
    "version": 3
   },
   "file_extension": ".py",
   "mimetype": "text/x-python",
   "name": "python",
   "nbconvert_exporter": "python",
   "pygments_lexer": "ipython3",
   "version": "3.10.13"
  },
  "rise": {
   "enable_chalkboard": true,
   "theme": "sky"
  }
 },
 "nbformat": 4,
 "nbformat_minor": 5
}
