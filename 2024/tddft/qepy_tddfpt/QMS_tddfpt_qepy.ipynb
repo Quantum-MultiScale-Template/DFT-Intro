{
 "cells": [
  {
   "cell_type": "markdown",
   "id": "facac4e5-a946-473e-ad9b-d83940ea442d",
   "metadata": {
    "slideshow": {
     "slide_type": "slide"
    }
   },
   "source": [
    "<center>\n",
    "    <h3> Time Dependent Density Functional Perturbation Theory with QEpy</h3>\n",
    "    <h3>Tutorial</h3>\n",
    "</center>\n",
    "<table>\n",
    "  <tr>\n",
    "      <td><p><h4>Rutgers University-Newark</h4></p><p>Dr Xuecheng Shao</p><p>Dr Kaili Jiang (Microsoft)</p><p>Dr. Xin Chen</p><p>Jessica Martinez</p><p>Valeria Rios </p><p>Alina Umerbekova</p><p>Nicholas Viot</p></td>\n",
    "          <td><img src=\"../figures/logos/logo.jpg\" width=800 /></td>\n",
    "  </tr>\n",
    "</table>\n",
    "\n",
    "Funding: NSF, DOE, MolSSI, ACS-PRF, Rutgers"
   ]
  },
  {
   "cell_type": "markdown",
   "id": "a23e5536",
   "metadata": {
    "slideshow": {
     "slide_type": "slide"
    }
   },
   "source": [
    "## Goal\n",
    "#### Obtain the Absorption Spectra of Methane implementing turbo davidson\n",
    "To run this tutorial we need to import QEpy and some of its modules"
   ]
  },
  {
   "cell_type": "code",
   "execution_count": null,
   "id": "4e42dd3d-72a3-4ec3-aae9-0fe7f0f2bc31",
   "metadata": {},
   "outputs": [],
   "source": [
    "import qepy\n",
    "from qepy.driver import Driver\n",
    "from qepy.io import QEInput"
   ]
  },
  {
   "cell_type": "markdown",
   "id": "229b30f9",
   "metadata": {},
   "source": [
    "## Generate the QE options to run a scf calculation"
   ]
  },
  {
   "cell_type": "code",
   "execution_count": null,
   "id": "7e1404d5-b326-4aae-a2e4-2558a3e9f851",
   "metadata": {},
   "outputs": [],
   "source": [
    "scf_options = {\n",
    "    '&control': {'calculation': \"'scf'\",\n",
    "                 'prefix': \"'CH4'\",\n",
    "                 'restart_mode': \"'from_scratch'\",\n",
    "                 'outdir': \"'tmp'\",\n",
    "                 'pseudo_dir' : \"'./'\",\n",
    "                },\n",
    "    '&system': {'celldm(1)': 20,\n",
    "                'ecutwfc': 25,\n",
    "                'ibrav': 1,\n",
    "                'nat': 5,\n",
    "                'nbnd': 20,\n",
    "                'ntyp': 2},\n",
    "    '&electrons': {'conv_thr': 1.0E-10},\n",
    "    'atomic_positions {angstrom}': ['C   0.000000000   0.000000000   0.000000000',\n",
    "                                    'H   0.642814093   0.642814093   0.642814093',\n",
    "                                    'H  -0.642814093  -0.642814093   0.642814093',\n",
    "                                    'H   0.642814093  -0.642814093  -0.642814093',\n",
    "                                    'H  -0.642814093   0.642814093  -0.642814093'],\n",
    "    'atomic_species': ['H  1.008  H.pz-vbc.UPF', 'C 12.011  C.pz-vbc.UPF'],\n",
    "    'k_points {gamma}': [],\n",
    "}"
   ]
  },
  {
   "cell_type": "markdown",
   "id": "47597140",
   "metadata": {
    "slideshow": {
     "slide_type": "subslide"
    }
   },
   "source": [
    "## Generate the QE options for the TDDFPT calculation"
   ]
  },
  {
   "cell_type": "code",
   "execution_count": null,
   "id": "0fe881ba-e67e-4323-a965-49153afa5803",
   "metadata": {},
   "outputs": [],
   "source": [
    "tddfpt_options = {\n",
    "    '&lr_input': {'outdir': \"'tmp'\",\n",
    "                  'prefix': \"'CH4'\",\n",
    "                  'restart': False,\n",
    "                 },\n",
    "    '&lr_dav': {'num_basis_max': 80,\n",
    "                'num_eign': 10,\n",
    "                'num_init': 20,\n",
    "                'p_nbnd_occ': 4,\n",
    "                'p_nbnd_virt': 15,\n",
    "                'reference': 0.5,\n",
    "                'residue_conv_thr': 1.0E-4,\n",
    "                'start': 0.0,\n",
    "                'finish': 1.5,\n",
    "                'broadening': 0.005,\n",
    "                'step': 2.0E-4 ,\n",
    "               },\n",
    "}"
   ]
  },
  {
   "cell_type": "markdown",
   "id": "edfde4e3",
   "metadata": {
    "slideshow": {
     "slide_type": "slide"
    }
   },
   "source": [
    " Write the options to input files for comparison with traditional command way"
   ]
  },
  {
   "cell_type": "code",
   "execution_count": null,
   "id": "825910fe-f50c-4842-b9eb-d660a6068efe",
   "metadata": {
    "slideshow": {
     "slide_type": "-"
    }
   },
   "outputs": [],
   "source": [
    "scf_in = 'CH4.scf.in'\n",
    "tddfpt_in= 'CH4.tddfpt.in'\n",
    "QEInput().write_qe_input(scf_in, qe_options=scf_options, prog='pw')\n",
    "QEInput().write_qe_input(tddfpt_in, qe_options=tddfpt_options, prog='davidson')"
   ]
  },
  {
   "cell_type": "code",
   "execution_count": null,
   "id": "975411a2",
   "metadata": {
    "scrolled": true
   },
   "outputs": [],
   "source": [
    "!cat CH4.scf.in"
   ]
  },
  {
   "cell_type": "markdown",
   "id": "e14f30cd",
   "metadata": {
    "slideshow": {
     "slide_type": "slide"
    }
   },
   "source": [
    "Download the PP with DFTpy"
   ]
  },
  {
   "cell_type": "code",
   "execution_count": null,
   "id": "bd6aa333-0e57-4207-9630-74f9f4f4ec00",
   "metadata": {},
   "outputs": [],
   "source": [
    "additional_files = {\n",
    "    'H.pz-vbc.UPF' : 'https://pseudopotentials.quantum-espresso.org/upf_files/H.pz-vbc.UPF',\n",
    "    'C.pz-vbc.UPF' : 'https://pseudopotentials.quantum-espresso.org/upf_files/C.pz-vbc.UPF',\n",
    "}\n",
    "from dftpy.formats import download_files\n",
    "download_files(additional_files)"
   ]
  },
  {
   "cell_type": "markdown",
   "id": "e5c75fce",
   "metadata": {
    "slideshow": {
     "slide_type": "slide"
    }
   },
   "source": [
    "Initialize the Driver class with the scf QE options"
   ]
  },
  {
   "cell_type": "code",
   "execution_count": null,
   "id": "97a59982-227a-4457-a2b0-e149305f1086",
   "metadata": {
    "slideshow": {
     "slide_type": "fragment"
    }
   },
   "outputs": [],
   "source": [
    "driver = Driver(scf_in, task='scf', logfile='tmp.scf.out')"
   ]
  },
  {
   "cell_type": "markdown",
   "id": "8869b5f3",
   "metadata": {
    "slideshow": {
     "slide_type": "fragment"
    }
   },
   "source": [
    "Run a scf calculation"
   ]
  },
  {
   "cell_type": "code",
   "execution_count": null,
   "id": "267438ef",
   "metadata": {
    "slideshow": {
     "slide_type": "-"
    }
   },
   "outputs": [],
   "source": [
    "driver.scf()"
   ]
  },
  {
   "cell_type": "markdown",
   "id": "852c951f",
   "metadata": {
    "slideshow": {
     "slide_type": "fragment"
    }
   },
   "source": [
    "We need to save the wave function for the TDDFT calculation"
   ]
  },
  {
   "cell_type": "code",
   "execution_count": null,
   "id": "f2bb58f3",
   "metadata": {
    "slideshow": {
     "slide_type": "-"
    }
   },
   "outputs": [],
   "source": [
    "driver.save()"
   ]
  },
  {
   "cell_type": "markdown",
   "id": "cbd0aa75",
   "metadata": {
    "slideshow": {
     "slide_type": "fragment"
    }
   },
   "source": [
    "Initialize the Driver class with the tddfpt QE options to calculate the absorption spectra with truboDavidson"
   ]
  },
  {
   "cell_type": "code",
   "execution_count": null,
   "id": "0f8e308f",
   "metadata": {
    "slideshow": {
     "slide_type": "-"
    }
   },
   "outputs": [],
   "source": [
    "driver = Driver(tddfpt_in, task='tddfpt_davidson', logfile='tmp.tddfpt.out')"
   ]
  },
  {
   "cell_type": "code",
   "execution_count": null,
   "id": "b5132948",
   "metadata": {
    "slideshow": {
     "slide_type": "-"
    }
   },
   "outputs": [],
   "source": [
    "driver.scf()"
   ]
  },
  {
   "cell_type": "code",
   "execution_count": null,
   "id": "59682cec",
   "metadata": {},
   "outputs": [],
   "source": [
    "driver.stop()"
   ]
  },
  {
   "cell_type": "markdown",
   "id": "62499299",
   "metadata": {
    "slideshow": {
     "slide_type": "slide"
    }
   },
   "source": [
    "# Now we can plot the absorption spectra "
   ]
  },
  {
   "cell_type": "code",
   "execution_count": null,
   "id": "4099c14e",
   "metadata": {
    "slideshow": {
     "slide_type": "-"
    }
   },
   "outputs": [],
   "source": [
    "import numpy as np\n",
    "import matplotlib.pyplot as plt"
   ]
  },
  {
   "cell_type": "code",
   "execution_count": null,
   "id": "5db60ee7",
   "metadata": {
    "slideshow": {
     "slide_type": "-"
    }
   },
   "outputs": [],
   "source": [
    "data = np.loadtxt('CH4.plot.dat')"
   ]
  },
  {
   "cell_type": "code",
   "execution_count": null,
   "id": "1306c8de",
   "metadata": {
    "slideshow": {
     "slide_type": "-"
    }
   },
   "outputs": [],
   "source": [
    "plt.plot(data[:,0], data[:,1])\n",
    "plt.xlabel(r'$\\omega$ (eV)')\n",
    "plt.ylabel(r'Intensity (arb. units)')"
   ]
  },
  {
   "cell_type": "markdown",
   "id": "4c9a9fcc",
   "metadata": {
    "slideshow": {
     "slide_type": "slide"
    }
   },
   "source": [
    "# Challenge"
   ]
  },
  {
   "cell_type": "markdown",
   "id": "926eec18",
   "metadata": {
    "slideshow": {
     "slide_type": "fragment"
    }
   },
   "source": [
    "<b>Compute the Absorption spectra of Ethylene C2H4</b>\n",
    "\n",
    "Important aspect\n",
    "\n",
    "Create another folder\n",
    "\n",
    "Hint use ASE to build the molecule\n",
    "<b>get the scaled positions</b> of the molecule to build the scf_options"
   ]
  }
 ],
 "metadata": {
  "celltoolbar": "Slideshow",
  "kernelspec": {
   "display_name": "qms2024",
   "language": "python",
   "name": "qms2024"
  },
  "language_info": {
   "codemirror_mode": {
    "name": "ipython",
    "version": 3
   },
   "file_extension": ".py",
   "mimetype": "text/x-python",
   "name": "python",
   "nbconvert_exporter": "python",
   "pygments_lexer": "ipython3",
   "version": "3.8.6"
  }
 },
 "nbformat": 4,
 "nbformat_minor": 5
}
