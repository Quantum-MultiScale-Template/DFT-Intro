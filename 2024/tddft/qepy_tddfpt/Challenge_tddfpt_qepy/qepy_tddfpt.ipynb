{
 "cells": [
  {
   "cell_type": "markdown",
   "id": "4c9a9fcc",
   "metadata": {},
   "source": [
    "# Challenge"
   ]
  },
  {
   "cell_type": "markdown",
   "id": "7a24c87e",
   "metadata": {},
   "source": [
    "Compute the Absorption spectra of Ethylene C2H4"
   ]
  },
  {
   "cell_type": "markdown",
   "id": "926eec18",
   "metadata": {},
   "source": [
    "Hint use ASE to build the molecule"
   ]
  },
  {
   "cell_type": "code",
   "execution_count": 1,
   "id": "cca843f7",
   "metadata": {},
   "outputs": [],
   "source": [
    "import qepy\n",
    "from qepy.driver import Driver\n",
    "from qepy.io import QEInput"
   ]
  },
  {
   "cell_type": "code",
   "execution_count": 2,
   "id": "d7ce5e15",
   "metadata": {},
   "outputs": [],
   "source": [
    "additional_files = {\n",
    "    'C.pz-vbc.UPF' : 'https://pseudopotentials.quantum-espresso.org/upf_files/C.pz-vbc.UPF',\n",
    "    'H.pz-vbc.UPF' : 'https://pseudopotentials.quantum-espresso.org/upf_files/H.pz-vbc.UPF',\n",
    "}\n",
    "from dftpy.formats import download_files\n",
    "download_files(additional_files)"
   ]
  },
  {
   "cell_type": "code",
   "execution_count": 3,
   "id": "1c0bc734",
   "metadata": {},
   "outputs": [],
   "source": [
    "from ase.build import molecule\n",
    "ethane = molecule('C2H4')"
   ]
  },
  {
   "cell_type": "code",
   "execution_count": 4,
   "id": "34aad330",
   "metadata": {},
   "outputs": [
    {
     "data": {
      "text/plain": [
       "array([[ 0.      ,  0.      ,  0.66748 ],\n",
       "       [ 0.      ,  0.      , -0.66748 ],\n",
       "       [ 0.      ,  0.922832,  1.237695],\n",
       "       [ 0.      , -0.922832,  1.237695],\n",
       "       [ 0.      ,  0.922832, -1.237695],\n",
       "       [ 0.      , -0.922832, -1.237695]])"
      ]
     },
     "execution_count": 4,
     "metadata": {},
     "output_type": "execute_result"
    }
   ],
   "source": [
    "ethane.get_scaled_positions()"
   ]
  },
  {
   "cell_type": "code",
   "execution_count": null,
   "id": "90c1cab0",
   "metadata": {},
   "outputs": [],
   "source": [
    "\n",
    "                'smearing': \"'marzari-vanderbilt'\""
   ]
  },
  {
   "cell_type": "code",
   "execution_count": 5,
   "id": "3fc847f5",
   "metadata": {},
   "outputs": [],
   "source": [
    "scf_options = {\n",
    "    '&control': {'calculation': \"'scf'\",\n",
    "                 'prefix': \"'C2H4'\",\n",
    "                 'restart_mode': \"'from_scratch'\",\n",
    "                 'outdir': \"'tmp'\",\n",
    "                 'pseudo_dir' : \"'./'\",\n",
    "                },\n",
    "    '&system': {'celldm(1)': 30,\n",
    "                'ecutwfc': 25,\n",
    "                'ibrav': 1,\n",
    "                'nat': 4,\n",
    "                'nbnd': 20,\n",
    "                'ntyp': 2,},\n",
    "    '&electrons': {'conv_thr': 1.0E-10},\n",
    "    'atomic_positions {angstrom}': [  ' C 0.        0.        0.66748' ,\n",
    "                                      ' C 0.        0.       -0.66748' ,\n",
    "                                      ' H 0.        0.922832  1.237695',\n",
    "                                      ' H 0.       -0.922832  1.237695',\n",
    "                                      ' H 0.        0.922832 -1.237695',\n",
    "                                      ' H 0.       -0.922832 -1.237695'],\n",
    "    'atomic_species': ['C    12.00000  C.pz-vbc.UPF', 'H     1.00000  H.pz-vbc.UPF'],\n",
    "    'k_points {gamma}': [],\n",
    "}"
   ]
  },
  {
   "cell_type": "code",
   "execution_count": 6,
   "id": "e2d1892f",
   "metadata": {},
   "outputs": [],
   "source": [
    "tddfpt_options = {\n",
    "    '&lr_input': {'outdir': \"'tmp'\",\n",
    "                  'prefix': \"'C2H4'\",\n",
    "                  'restart': False,\n",
    "                 },\n",
    "    '&lr_dav': {'broadening': 0.005,\n",
    "                'finish': 1.5,\n",
    "                'num_basis_max': 80,\n",
    "                'num_eign': 10,\n",
    "                'num_init': 20,\n",
    "                'p_nbnd_occ': 4,\n",
    "                'p_nbnd_virt': 15,\n",
    "                'poor_of_ram': False,\n",
    "                'poor_of_ram2': False,\n",
    "                'reference': 0.5,\n",
    "                'residue_conv_thr': 1.0E-4,\n",
    "                'start': 0.0,\n",
    "                'step': 2.0E-4,\n",
    "               },\n",
    "}"
   ]
  },
  {
   "cell_type": "code",
   "execution_count": 7,
   "id": "d2139573",
   "metadata": {},
   "outputs": [],
   "source": [
    "scf_in = 'C2H4.scf.in'\n",
    "tddfpt_in= 'C2H4.tddfpt.in'\n",
    "QEInput().write_qe_input(scf_in, qe_options=scf_options, prog='pw')\n",
    "QEInput().write_qe_input(tddfpt_in, qe_options=tddfpt_options, prog='davidson')"
   ]
  },
  {
   "cell_type": "code",
   "execution_count": 8,
   "id": "0541db09",
   "metadata": {},
   "outputs": [],
   "source": [
    "driver = Driver(scf_in, task='scf', logfile='tmp.scf.out')"
   ]
  },
  {
   "cell_type": "code",
   "execution_count": 9,
   "id": "46d24dc3",
   "metadata": {},
   "outputs": [
    {
     "data": {
      "text/plain": [
       "-24.296131694393857"
      ]
     },
     "execution_count": 9,
     "metadata": {},
     "output_type": "execute_result"
    }
   ],
   "source": [
    "driver.scf()"
   ]
  },
  {
   "cell_type": "code",
   "execution_count": 10,
   "id": "e3092ba3",
   "metadata": {},
   "outputs": [],
   "source": [
    "driver.save()"
   ]
  },
  {
   "cell_type": "code",
   "execution_count": 11,
   "id": "339dc9b5",
   "metadata": {},
   "outputs": [],
   "source": [
    "driver = Driver(tddfpt_in, task='tddfpt_davidson', logfile='tmp.tddfpt.out')"
   ]
  },
  {
   "cell_type": "code",
   "execution_count": 12,
   "id": "8e869840",
   "metadata": {},
   "outputs": [
    {
     "data": {
      "text/plain": [
       "0.0"
      ]
     },
     "execution_count": 12,
     "metadata": {},
     "output_type": "execute_result"
    }
   ],
   "source": [
    "driver.scf()"
   ]
  },
  {
   "cell_type": "code",
   "execution_count": 15,
   "id": "2a33de16",
   "metadata": {},
   "outputs": [
    {
     "data": {
      "text/plain": [
       "Text(0, 0.5, 'Intensity (arb. units)')"
      ]
     },
     "execution_count": 15,
     "metadata": {},
     "output_type": "execute_result"
    },
    {
     "data": {
      "image/png": "[encoded data removed]",
      "text/plain": [
       "<Figure size 640x480 with 1 Axes>"
      ]
     },
     "metadata": {},
     "output_type": "display_data"
    }
   ],
   "source": [
    "import numpy as np\n",
    "import matplotlib.pyplot as plt\n",
    "data = np.loadtxt('C2H4.plot.dat')\n",
    "plt.plot(data[:,0], data[:,1])\n",
    "plt.xlabel(r'$\\omega$ (eV)')\n",
    "plt.ylabel(r'Intensity (arb. units)')"
   ]
  }
 ],
 "metadata": {
  "celltoolbar": "Slideshow",
  "kernelspec": {
   "display_name": "qms2024",
   "language": "python",
   "name": "qms2024"
  },
  "language_info": {
   "codemirror_mode": {
    "name": "ipython",
    "version": 3
   },
   "file_extension": ".py",
   "mimetype": "text/x-python",
   "name": "python",
   "nbconvert_exporter": "python",
   "pygments_lexer": "ipython3",
   "version": "3.8.6"
  }
 },
 "nbformat": 4,
 "nbformat_minor": 5
}
