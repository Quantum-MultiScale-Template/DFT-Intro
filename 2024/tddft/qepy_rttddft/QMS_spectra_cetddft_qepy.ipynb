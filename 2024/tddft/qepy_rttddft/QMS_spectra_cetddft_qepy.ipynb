{
 "cells": [
  {
   "cell_type": "markdown",
   "id": "5a77d88d",
   "metadata": {
    "slideshow": {
     "slide_type": "slide"
    }
   },
   "source": [
    "<center>\n",
    "    <h2> Real Time Dependent Density Functional Theory with QEpy</h2>\n",
    "</center>\n",
    "<table>\n",
    "  <tr>\n",
    "      <td><p><h3>Rutgers University-Newark</h3></p><p>Dr Xuecheng Shao</p><p>Dr Kaili Jiang (Microsoft)</p><p>Dr. Xin Chen</p><p>Jessica Martinez</p><p>Valeria Rios </p><p>Alina Umerbekova</p><p>Nicholas Viot</p></td>\n",
    "          <td><img src=\"../figures/PRG_2024.png\" width=800 /></td>\n",
    "  </tr>\n",
    "</table>\n",
    "\n",
    "Quantum Multiscale School June 2024"
   ]
  },
  {
   "cell_type": "markdown",
   "id": "64165250",
   "metadata": {
    "slideshow": {
     "slide_type": "subslide"
    }
   },
   "source": [
    "You can fin this RISE presentation in \"\""
   ]
  },
  {
   "cell_type": "code",
   "execution_count": null,
   "id": "e24af3e8",
   "metadata": {
    "slideshow": {
     "slide_type": "slide"
    }
   },
   "outputs": [],
   "source": [
    "import numpy as np\n",
    "import matplotlib.pyplot as plt"
   ]
  },
  {
   "cell_type": "markdown",
   "id": "55edef50",
   "metadata": {},
   "source": [
    "Import <b>calc_spectra_mu</b> from DFTpy (damping function and FFT)"
   ]
  },
  {
   "cell_type": "code",
   "execution_count": null,
   "id": "d23f9999",
   "metadata": {},
   "outputs": [],
   "source": [
    "from dftpy.td.utils import calc_spectra_mu"
   ]
  },
  {
   "cell_type": "markdown",
   "id": "78420b46",
   "metadata": {
    "slideshow": {
     "slide_type": "fragment"
    }
   },
   "source": [
    "Set up important constants"
   ]
  },
  {
   "cell_type": "code",
   "execution_count": null,
   "id": "1d7d0182",
   "metadata": {
    "slideshow": {
     "slide_type": "-"
    }
   },
   "outputs": [],
   "source": [
    "import qepy\n",
    "from qepy.qepy_modules import constants\n",
    "au_sec = constants.get_au_sec()\n",
    "as2au = 1.0E-18 / au_sec\n",
    "bohr = constants.get_angstrom_au()\n",
    "ha = constants.get_autoev()"
   ]
  },
  {
   "cell_type": "markdown",
   "id": "d48f7bee",
   "metadata": {
    "slideshow": {
     "slide_type": "slide"
    }
   },
   "source": [
    "Define the direction and the strength of the kick and read the output from the TDDFT calculation"
   ]
  },
  {
   "cell_type": "code",
   "execution_count": null,
   "id": "f4161d30",
   "metadata": {},
   "outputs": [],
   "source": [
    "direction = 0 # 0, 1, 2 means x, y, z-direction, respectively\n",
    "k = 0.01*bohr # kick_strength in a.u.\n",
    "interval = 2.0 * as2au\n",
    "output = 'tmp.tddft.out'\n",
    "# output = 'C6H6.tddft.out'"
   ]
  },
  {
   "cell_type": "code",
   "execution_count": null,
   "id": "26a463a2",
   "metadata": {
    "slideshow": {
     "slide_type": "fragment"
    }
   },
   "outputs": [],
   "source": [
    "mu = []\n",
    "with open(output, 'r') as fh:\n",
    "    for line in fh:\n",
    "        if line[:4]=='DIP ':\n",
    "            mu.append(list(map(float, line.split()[-3:])))\n",
    "mu = np.asarray(mu)"
   ]
  },
  {
   "cell_type": "code",
   "execution_count": null,
   "id": "9dd462fe",
   "metadata": {
    "slideshow": {
     "slide_type": "subslide"
    }
   },
   "outputs": [],
   "source": [
    "max_steps = len(mu)-1\n",
    "t = np.linspace(0, interval * max_steps, max_steps + 1)\n",
    "delta_mu = mu[:,0] - mu[0,0]\n",
    "plt.plot(t, delta_mu)\n",
    "plt.xlabel('Time (au)')\n",
    "plt.ylabel('Dipole Moment (au)')"
   ]
  },
  {
   "cell_type": "code",
   "execution_count": null,
   "id": "7d8203d8",
   "metadata": {
    "slideshow": {
     "slide_type": "subslide"
    }
   },
   "outputs": [],
   "source": [
    "omega, spectra = calc_spectra_mu(delta_mu, interval, kick=k, emax=2, sigma=0.02*(as2au**2))\n",
    "plt.plot(omega*ha, spectra, '-')\n",
    "plt.xlabel('Frequency (eV)')\n",
    "plt.ylabel('Intensity (au)')\n",
    "plt.xlim(0, 40)"
   ]
  },
  {
   "cell_type": "markdown",
   "id": "594fdb60",
   "metadata": {
    "slideshow": {
     "slide_type": "slide"
    }
   },
   "source": [
    "# Challenge\n",
    "\n",
    "<b>Compute the optical spectra of Ethylene C2H4</b>"
   ]
  }
 ],
 "metadata": {
  "celltoolbar": "Slideshow",
  "kernelspec": {
   "display_name": "qms2024",
   "language": "python",
   "name": "qms2024"
  },
  "language_info": {
   "codemirror_mode": {
    "name": "ipython",
    "version": 3
   },
   "file_extension": ".py",
   "mimetype": "text/x-python",
   "name": "python",
   "nbconvert_exporter": "python",
   "pygments_lexer": "ipython3",
   "version": "3.8.6"
  }
 },
 "nbformat": 4,
 "nbformat_minor": 5
}
