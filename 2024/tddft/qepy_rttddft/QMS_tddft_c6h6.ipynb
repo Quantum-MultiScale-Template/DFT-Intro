{
 "cells": [
  {
   "cell_type": "markdown",
   "id": "5f3723cc",
   "metadata": {
    "slideshow": {
     "slide_type": "slide"
    }
   },
   "source": [
    "<center>\n",
    "    <h2> Time Dependent Density Functional Theory with QEpy</h2>\n",
    "    <h2>Tutorial</h2>\n",
    "</center>\n",
    "<table>\n",
    "  <tr>\n",
    "      <td><p><h3>Rutgers University-Newark</h3></p><p>Dr Xuecheng Shao</p><p>Dr Kaili Jiang (Microsoft)</p><p>Dr. Xin Chen</p><p>Jessica Martinez</p><p>Valeria Rios </p><p>Alina Umerbekova</p><p>Nicholas Viot</p></td>\n",
    "          <td><img src=\"../figures/logos/logo.jpg\" width=800 /></td>\n",
    "  </tr>\n",
    "</table>\n",
    "\n",
    "Quantum Multiscale School June 2024"
   ]
  },
  {
   "cell_type": "markdown",
   "id": "be928f1c",
   "metadata": {
    "slideshow": {
     "slide_type": "slide"
    }
   },
   "source": [
    "## Goal\n",
    "#### Obtain the Optical Spectra of Bezene using QEpy\n"
   ]
  },
  {
   "cell_type": "markdown",
   "id": "8f0dd2f6",
   "metadata": {
    "slideshow": {
     "slide_type": "slide"
    }
   },
   "source": [
    "To run this tutorial we need to import QEpy and some of its modules"
   ]
  },
  {
   "cell_type": "code",
   "execution_count": null,
   "id": "6688b1f3",
   "metadata": {
    "slideshow": {
     "slide_type": "slide"
    }
   },
   "outputs": [],
   "source": [
    "import qepy\n",
    "from qepy.driver import Driver\n",
    "from qepy.io import QEInput"
   ]
  },
  {
   "cell_type": "markdown",
   "id": "f3ab9e3b",
   "metadata": {},
   "source": [
    "Download PP"
   ]
  },
  {
   "cell_type": "code",
   "execution_count": null,
   "id": "a1947fda",
   "metadata": {},
   "outputs": [],
   "source": [
    "additional_files = {\n",
    "    'H.pz-vbc.UPF' : 'https://pseudopotentials.quantum-espresso.org/upf_files/H.pz-vbc.UPF',\n",
    "    'C.pz-vbc.UPF' : 'https://pseudopotentials.quantum-espresso.org/upf_files/C.pz-vbc.UPF',\n",
    "}\n",
    "from dftpy.formats import download_files\n",
    "download_files(additional_files)"
   ]
  },
  {
   "cell_type": "markdown",
   "id": "ed3333c1",
   "metadata": {
    "slideshow": {
     "slide_type": "slide"
    }
   },
   "source": [
    "Generate the qe_options for the SCF calculation"
   ]
  },
  {
   "cell_type": "code",
   "execution_count": null,
   "id": "7c4c714f",
   "metadata": {},
   "outputs": [],
   "source": [
    "scf_options = {\n",
    "    '&control': {'calculation': \"'scf'\",\n",
    "                 'outdir': \"'tmp'\",\n",
    "                 'prefix': \"'c6h6'\",\n",
    "                 'pseudo_dir': \"'./'\",\n",
    "                 'restart_mode': \"'from_scratch'\",\n",
    "                 'tprnfor': True,\n",
    "                 'tstress': False},\n",
    "    '&electrons': {'conv_thr': 1e-10,\n",
    "                   'diagonalization': \"'david'\"},\n",
    "    '&system': {'celldm(1)': 24.45306579840016,\n",
    "                'celldm(2)': 1.0,\n",
    "                'celldm(3)': 0.8,\n",
    "                'ecutwfc': 20,\n",
    "                'ibrav': 8,\n",
    "                'nat': 12,\n",
    "                'nosym': True,\n",
    "                'ntyp': 2},\n",
    "    'atomic_positions angstrom': ['H   3.97999999999988   5.00000000000000   3.50000000000000',\n",
    "                                  'C   5.07999999999987   5.00000000000000   3.50000000000000',\n",
    "                                  'C   5.77500000000000   6.20377531126040   3.50000000000000',\n",
    "                                  'H   5.22500000000007   7.15640325542330   3.50000000000000',\n",
    "                                  'C   5.77500000000000   3.79622468873960   3.50000000000000',\n",
    "                                  'H   5.22500000000007   2.84359674457670   3.50000000000000',\n",
    "                                  'C   7.16500000000000   6.20377531126040   3.50000000000000',\n",
    "                                  'H   7.71499999999993   7.15640325542330   3.50000000000000',\n",
    "                                  'C   7.16500000000000   3.79622468873960   3.50000000000000',\n",
    "                                  'H   7.71499999999993   2.84359674457670   3.50000000000000',\n",
    "                                  'C   7.86000000000013   5.00000000000000   3.50000000000000',\n",
    "                                  'H   8.96000000000012   5.00000000000000   3.50000000000000'],\n",
    "    'atomic_species': ['C    12.00000  C.pz-vbc.UPF', 'H     1.00000  H.pz-vbc.UPF'],\n",
    "    'k_points automatic': ['1 1 1    0 0 0'],\n",
    "}"
   ]
  },
  {
   "cell_type": "markdown",
   "id": "c8589616",
   "metadata": {
    "slideshow": {
     "slide_type": "slide"
    }
   },
   "source": [
    "Generate the qe_options for the TDDFT calculation"
   ]
  },
  {
   "cell_type": "code",
   "execution_count": null,
   "id": "0f454721",
   "metadata": {},
   "outputs": [],
   "source": [
    "tddft_options = {\n",
    "    '&inputtddft': {'dt': 2.0,\n",
    "                    'e_direction': 1,\n",
    "                    'job': \"'optical'\",\n",
    "                    'l_tddft_restart': False,\n",
    "                    'nstep': 5000,\n",
    "                    'prefix': \"'c6h6'\",\n",
    "                    'tmp_dir': \"'tmp/'\"},\n",
    "}"
   ]
  },
  {
   "cell_type": "markdown",
   "id": "de589f3c",
   "metadata": {
    "slideshow": {
     "slide_type": "slide"
    }
   },
   "source": [
    "Write the input files"
   ]
  },
  {
   "cell_type": "code",
   "execution_count": null,
   "id": "f4561962",
   "metadata": {
    "slideshow": {
     "slide_type": "fragment"
    }
   },
   "outputs": [],
   "source": [
    "# Write the options to input files for comparison with traditional command way\n",
    "scf_in = 'C6H6.scf.in'\n",
    "tddfpt_in= 'C6H6.tddft.in'\n",
    "QEInput().write_qe_input(scf_in, qe_options=scf_options, prog='pw')\n",
    "QEInput().write_qe_input(tddfpt_in, qe_options=tddft_options, prog='cetddft')"
   ]
  },
  {
   "cell_type": "code",
   "execution_count": null,
   "id": "1bcda809",
   "metadata": {
    "slideshow": {
     "slide_type": "fragment"
    }
   },
   "outputs": [],
   "source": [
    "driver = Driver(scf_in, task='scf', logfile='tmp.scf.out')"
   ]
  },
  {
   "cell_type": "code",
   "execution_count": null,
   "id": "8049848f",
   "metadata": {
    "slideshow": {
     "slide_type": "fragment"
    }
   },
   "outputs": [],
   "source": [
    "driver.scf()"
   ]
  },
  {
   "cell_type": "code",
   "execution_count": null,
   "id": "75599b90",
   "metadata": {
    "slideshow": {
     "slide_type": "fragment"
    }
   },
   "outputs": [],
   "source": [
    "driver.save()"
   ]
  },
  {
   "cell_type": "markdown",
   "id": "007d8949",
   "metadata": {
    "slideshow": {
     "slide_type": "slide"
    }
   },
   "source": [
    "Create a driver that computes the time evolution of the system to obtain the optical spectra"
   ]
  },
  {
   "cell_type": "code",
   "execution_count": null,
   "id": "43bc5e7a",
   "metadata": {
    "slideshow": {
     "slide_type": "-"
    }
   },
   "outputs": [],
   "source": [
    "driver = Driver(tddfpt_in, task='optical', logfile='tmp.tddft.out', iterative=True)"
   ]
  },
  {
   "cell_type": "markdown",
   "id": "f7b44a2a",
   "metadata": {
    "slideshow": {
     "slide_type": "fragment"
    }
   },
   "source": [
    "Perform a TDDFT calculation with 100 steps (Runner)"
   ]
  },
  {
   "cell_type": "code",
   "execution_count": null,
   "id": "ee67ea24",
   "metadata": {},
   "outputs": [],
   "source": [
    "max_steps = 100\n",
    "for istep in range(max_steps):\n",
    "    driver.diagonalize() # driver.propagate()\n",
    "    print(\"\\r\", end=\"\")\n",
    "    print(f\"Progress: [{istep+1}/{max_steps}]\", \"|\" * (istep*50 // max_steps), end=\"\", flush=True)"
   ]
  },
  {
   "cell_type": "markdown",
   "id": "fd0e9e4e",
   "metadata": {
    "slideshow": {
     "slide_type": "fragment"
    }
   },
   "source": [
    "Perform a TDDFT calculation with 500 steps (Runner)"
   ]
  },
  {
   "cell_type": "code",
   "execution_count": null,
   "id": "9be0e765",
   "metadata": {},
   "outputs": [],
   "source": [
    "max_steps = 500\n",
    "for istep in range(max_steps):\n",
    "    driver.diagonalize()\n",
    "    print(\"\\r\", end=\"\")\n",
    "    print(f\"Progress: [{istep+1}/{max_steps}]\", \"|\" * (istep*50 // max_steps), end=\"\", flush=True)"
   ]
  },
  {
   "cell_type": "code",
   "execution_count": null,
   "id": "54436632",
   "metadata": {},
   "outputs": [],
   "source": [
    "import numpy as np\n",
    "import matplotlib.pyplot as plt"
   ]
  },
  {
   "cell_type": "markdown",
   "id": "db5d3351",
   "metadata": {
    "slideshow": {
     "slide_type": "slide"
    }
   },
   "source": [
    "Import <b>calc_spectra_mu</b> from DFTpy (damping function and FFT)"
   ]
  },
  {
   "cell_type": "code",
   "execution_count": null,
   "id": "ab07fad3",
   "metadata": {},
   "outputs": [],
   "source": [
    "from dftpy.td.utils import calc_spectra_mu"
   ]
  },
  {
   "cell_type": "markdown",
   "id": "1d2c4392",
   "metadata": {
    "slideshow": {
     "slide_type": "fragment"
    }
   },
   "source": [
    "Set up important constants"
   ]
  },
  {
   "cell_type": "code",
   "execution_count": null,
   "id": "ac0df2cc",
   "metadata": {},
   "outputs": [],
   "source": [
    "import qepy\n",
    "from qepy.qepy_modules import constants\n",
    "au_sec = constants.get_au_sec()\n",
    "as2au = 1.0E-18 / au_sec\n",
    "bohr = constants.get_angstrom_au()\n",
    "ha = constants.get_autoev()"
   ]
  },
  {
   "cell_type": "markdown",
   "id": "21d0c87f",
   "metadata": {
    "slideshow": {
     "slide_type": "fragment"
    }
   },
   "source": [
    "Define the direction and the strength of the kick and read the output from the TDDFT calculation"
   ]
  },
  {
   "cell_type": "code",
   "execution_count": null,
   "id": "617b38fc",
   "metadata": {},
   "outputs": [],
   "source": [
    "direction = 0 # 0, 1, 2 means x, y, z-direction, respectively\n",
    "k = 0.01*bohr # kick_strength in a.u.\n",
    "interval = 2.0 * as2au\n",
    "output = 'tmp.tddft.out'\n",
    "# output = 'C6H6.tddft.out'"
   ]
  },
  {
   "cell_type": "code",
   "execution_count": null,
   "id": "e245cb31",
   "metadata": {},
   "outputs": [],
   "source": [
    "mu = []\n",
    "with open(output, 'r') as fh:\n",
    "    for line in fh:\n",
    "        if line[:4]=='DIP ':\n",
    "            mu.append(list(map(float, line.split()[-3:])))\n",
    "mu = np.asarray(mu)"
   ]
  },
  {
   "cell_type": "code",
   "execution_count": null,
   "id": "c931df5f",
   "metadata": {
    "slideshow": {
     "slide_type": "slide"
    }
   },
   "outputs": [],
   "source": [
    "max_steps = len(mu)-1\n",
    "t = np.linspace(0, interval * max_steps, max_steps + 1)\n",
    "delta_mu = mu[:,0] - mu[0,0]\n",
    "plt.plot(t, delta_mu)\n",
    "plt.xlabel('Time (au)')\n",
    "plt.ylabel('Dipole Moment (au)')"
   ]
  },
  {
   "cell_type": "code",
   "execution_count": null,
   "id": "125baad8",
   "metadata": {
    "slideshow": {
     "slide_type": "subslide"
    }
   },
   "outputs": [],
   "source": [
    "omega, spectra = calc_spectra_mu(delta_mu, interval, kick=k, emax=2, sigma=0.02*(as2au**2))\n",
    "plt.plot(omega*ha, spectra, '-')\n",
    "plt.xlabel('Frequency (eV)')\n",
    "plt.ylabel('Intensity (au)')\n",
    "plt.xlim(0, 40)"
   ]
  },
  {
   "cell_type": "markdown",
   "id": "1fe5fa63",
   "metadata": {
    "slideshow": {
     "slide_type": "slide"
    }
   },
   "source": [
    "# Challenge\n",
    "\n",
    "<b>Compute the optical spectra of Ethylene C2H4</b>\n",
    "\n",
    "Important aspect\n",
    "\n",
    "Create another folder\n",
    "\n",
    "Hint use ASE to build the molecule get the scaled positions of the molecule to build the scf_options"
   ]
  }
 ],
 "metadata": {
  "celltoolbar": "Slideshow",
  "kernelspec": {
   "display_name": "qms2024",
   "language": "python",
   "name": "qms2024"
  },
  "language_info": {
   "codemirror_mode": {
    "name": "ipython",
    "version": 3
   },
   "file_extension": ".py",
   "mimetype": "text/x-python",
   "name": "python",
   "nbconvert_exporter": "python",
   "pygments_lexer": "ipython3",
   "version": "3.8.6"
  }
 },
 "nbformat": 4,
 "nbformat_minor": 5
}
